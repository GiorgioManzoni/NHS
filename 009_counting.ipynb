{
 "cells": [
  {
   "cell_type": "code",
   "execution_count": 83,
   "metadata": {},
   "outputs": [],
   "source": [
    "import sys\n",
    "#sys.modules.pop('CLASS_BABY')\n",
    "#sys.modules.pop('CLASS_SAMPLE')\n",
    "\n",
    "from CLASS_BABY import *\n",
    "from CLASS_SAMPLE import *\n",
    "\n",
    "import scipy.stats as ss\n",
    "\n",
    "#bigger fonts\n",
    "import matplotlib\n",
    "matplotlib.rc('xtick', labelsize=15) \n",
    "matplotlib.rc('ytick', labelsize=15)\n",
    "matplotlib.rcParams.update({'font.size': 20})"
   ]
  },
  {
   "cell_type": "code",
   "execution_count": 3,
   "metadata": {},
   "outputs": [],
   "source": [
    "b = baby('FMC003')"
   ]
  },
  {
   "cell_type": "code",
   "execution_count": 4,
   "metadata": {},
   "outputs": [],
   "source": [
    "# Not specified types are strings\n",
    "#T = pd.read_csv('../TOST_data/average_properties.txt',\n",
    "#            sep='\\t',index_col=0,na_values=-99,\n",
    "#            dtype={'WEIGHT_GRAMS': float,\n",
    "#                   'GEST_AGE_DAYS':float,\n",
    "#                   'DELTA_SEC_MEASURE':float,\n",
    "#                   'MED_SPO2':float,\n",
    "#                   'MED_PI':float,\n",
    "#                   'MED_PR':float,\n",
    "#                   'BRADY_SEC_PR':float,\n",
    "#                   'BRADY_RATIO_PR':float,\n",
    "#                   'BRADY_RATIO_PR_m10':float,\n",
    "#                   'BRADY_RATIO_PR_m20':float,\n",
    "#                   'BRADY_RATIO_PR_m30':float,\n",
    "#                   'BRADY_RATIO_PR_m40':float,\n",
    "#                   'BRADY_SEC_SPO2':float,\n",
    "#                   'BRADY_RATIO_SPO2':float,\n",
    "#                   'BRADY_SEC_PR_DYN':float,\n",
    "#                   'BRADY_RATIO_PR_DYN':float})\n",
    "T = pd.read_csv('../TOST_data/average_properties.txt',sep='\\t',index_col=0,na_values=-99)"
   ]
  },
  {
   "cell_type": "code",
   "execution_count": 5,
   "metadata": {},
   "outputs": [
    {
     "data": {
      "text/plain": [
       "array(['BABY_IDS', 'GENDER', 'WEIGHT_GRAMS', 'GEST_AGE_DAYS', 'DELIVERY',\n",
       "       'BIRTH_DATE', 'FILE', 'DELTA_SEC_MEASURE', 'MED_SPO2', 'MED_PR',\n",
       "       'MED_PI', 'MEAN_SPO2', 'MEAN_PR', 'MEAN_PI', 'STD_SPO2', 'STD_PR',\n",
       "       'STD_PI', 'PHN', 'WRIST', 'FOOT', 'BRADY_SEC_PR', 'BRADY_RATIO_PR',\n",
       "       'BRADY_RATIO_PR_m10', 'BRADY_RATIO_PR_m20', 'BRADY_RATIO_PR_m30',\n",
       "       'BRADY_RATIO_PR_m40', 'BRADY_SEC_SPO2', 'BRADY_RATIO_SPO2',\n",
       "       'BRADY_SEC_PR_DYN', 'BRADY_RATIO_PR_DYN', 'BRADY_NUM_PER_HOUR_PR',\n",
       "       'BRADY_NUM_PER_HOUR_PR_m10', 'BRADY_NUM_PER_HOUR_PR_m20',\n",
       "       'BRADY_NUM_PER_HOUR_PR_m30', 'BRADY_NUM_PER_HOUR_PR_m40',\n",
       "       'BRADY_NUM_PER_HOUR_PR_dyn', 'BRADY_NUM_PER_HOUR_PR_anytime',\n",
       "       'BRADY_NUM_PER_HOUR_PR_m10_anytime',\n",
       "       'BRADY_NUM_PER_HOUR_PR_m20_anytime',\n",
       "       'BRADY_NUM_PER_HOUR_PR_m30_anytime',\n",
       "       'BRADY_NUM_PER_HOUR_PR_m40_anytime',\n",
       "       'BRADY_NUM_PER_HOUR_PR_dyn_anytime', 'BRADY_DURATION_MEDIAN_PR',\n",
       "       'BRADY_DURATION_MEDIAN_PR_m10', 'BRADY_DURATION_MEDIAN_PR_m20',\n",
       "       'BRADY_DURATION_MEDIAN_PR_m30', 'BRADY_DURATION_MEDIAN_PR_m40',\n",
       "       'BRADY_DURATION_MEDIAN_PR_dyn'], dtype=object)"
      ]
     },
     "execution_count": 5,
     "metadata": {},
     "output_type": "execute_result"
    }
   ],
   "source": [
    "T.columns.values"
   ]
  },
  {
   "cell_type": "code",
   "execution_count": 6,
   "metadata": {},
   "outputs": [],
   "source": [
    "single=(T['WRIST']==True)&(T['PHN']==False)"
   ]
  },
  {
   "cell_type": "code",
   "execution_count": 7,
   "metadata": {},
   "outputs": [],
   "source": [
    "v1 = (np.unique(T[single]['BABY_IDS']))"
   ]
  },
  {
   "cell_type": "code",
   "execution_count": 8,
   "metadata": {},
   "outputs": [],
   "source": [
    "v2 = (np.unique(T['BABY_IDS']))"
   ]
  },
  {
   "cell_type": "code",
   "execution_count": 9,
   "metadata": {},
   "outputs": [
    {
     "name": "stdout",
     "output_type": "stream",
     "text": [
      "252\n",
      "268\n"
     ]
    }
   ],
   "source": [
    "print(len(v1))\n",
    "print(len(v2))\n",
    "\n",
    "# if the two following numbers are different,\n",
    "# it means that selecting wrist and no phn is\n",
    "# not enough to have the number of entries equal\n",
    "# to the number of babies"
   ]
  },
  {
   "cell_type": "code",
   "execution_count": 10,
   "metadata": {},
   "outputs": [],
   "source": [
    "#for name in v1:\n",
    "#    print(name)"
   ]
  },
  {
   "cell_type": "code",
   "execution_count": 11,
   "metadata": {},
   "outputs": [
    {
     "data": {
      "text/html": [
       "<div>\n",
       "<style scoped>\n",
       "    .dataframe tbody tr th:only-of-type {\n",
       "        vertical-align: middle;\n",
       "    }\n",
       "\n",
       "    .dataframe tbody tr th {\n",
       "        vertical-align: top;\n",
       "    }\n",
       "\n",
       "    .dataframe thead th {\n",
       "        text-align: right;\n",
       "    }\n",
       "</style>\n",
       "<table border=\"1\" class=\"dataframe\">\n",
       "  <thead>\n",
       "    <tr style=\"text-align: right;\">\n",
       "      <th></th>\n",
       "      <th>BABY_IDS</th>\n",
       "      <th>GENDER</th>\n",
       "      <th>WEIGHT_GRAMS</th>\n",
       "      <th>GEST_AGE_DAYS</th>\n",
       "      <th>DELIVERY</th>\n",
       "      <th>BIRTH_DATE</th>\n",
       "      <th>FILE</th>\n",
       "      <th>DELTA_SEC_MEASURE</th>\n",
       "      <th>MED_SPO2</th>\n",
       "      <th>MED_PR</th>\n",
       "      <th>...</th>\n",
       "      <th>BRADY_NUM_PER_HOUR_PR_m20_anytime</th>\n",
       "      <th>BRADY_NUM_PER_HOUR_PR_m30_anytime</th>\n",
       "      <th>BRADY_NUM_PER_HOUR_PR_m40_anytime</th>\n",
       "      <th>BRADY_NUM_PER_HOUR_PR_dyn_anytime</th>\n",
       "      <th>BRADY_DURATION_MEDIAN_PR</th>\n",
       "      <th>BRADY_DURATION_MEDIAN_PR_m10</th>\n",
       "      <th>BRADY_DURATION_MEDIAN_PR_m20</th>\n",
       "      <th>BRADY_DURATION_MEDIAN_PR_m30</th>\n",
       "      <th>BRADY_DURATION_MEDIAN_PR_m40</th>\n",
       "      <th>BRADY_DURATION_MEDIAN_PR_dyn</th>\n",
       "    </tr>\n",
       "  </thead>\n",
       "  <tbody>\n",
       "    <tr>\n",
       "      <th>111</th>\n",
       "      <td>PLC006</td>\n",
       "      <td>Male</td>\n",
       "      <td>4205.0</td>\n",
       "      <td>285.0</td>\n",
       "      <td>Csection</td>\n",
       "      <td>2014-03-19 16:13:00</td>\n",
       "      <td>/home/giorgio/Desktop/NHS/TOST_data/TOST PLC D...</td>\n",
       "      <td>69044.0</td>\n",
       "      <td>97.0</td>\n",
       "      <td>111.0</td>\n",
       "      <td>...</td>\n",
       "      <td>15.154994</td>\n",
       "      <td>0.688863</td>\n",
       "      <td>0.688863</td>\n",
       "      <td>0.000000</td>\n",
       "      <td>48.0</td>\n",
       "      <td>44.0</td>\n",
       "      <td>35.0</td>\n",
       "      <td>20.0</td>\n",
       "      <td>NaN</td>\n",
       "      <td>NaN</td>\n",
       "    </tr>\n",
       "    <tr>\n",
       "      <th>113</th>\n",
       "      <td>PLC006</td>\n",
       "      <td>Male</td>\n",
       "      <td>4205.0</td>\n",
       "      <td>285.0</td>\n",
       "      <td>Csection</td>\n",
       "      <td>2014-03-19 16:13:00</td>\n",
       "      <td>/home/giorgio/Desktop/NHS/TOST_data/TOST PLC D...</td>\n",
       "      <td>156043.0</td>\n",
       "      <td>96.0</td>\n",
       "      <td>119.0</td>\n",
       "      <td>...</td>\n",
       "      <td>7.164971</td>\n",
       "      <td>3.980540</td>\n",
       "      <td>4.776648</td>\n",
       "      <td>4.776648</td>\n",
       "      <td>34.0</td>\n",
       "      <td>39.0</td>\n",
       "      <td>28.0</td>\n",
       "      <td>40.0</td>\n",
       "      <td>34.0</td>\n",
       "      <td>34.0</td>\n",
       "    </tr>\n",
       "  </tbody>\n",
       "</table>\n",
       "<p>2 rows × 48 columns</p>\n",
       "</div>"
      ],
      "text/plain": [
       "    BABY_IDS GENDER  WEIGHT_GRAMS  GEST_AGE_DAYS  DELIVERY  \\\n",
       "111   PLC006   Male        4205.0          285.0  Csection   \n",
       "113   PLC006   Male        4205.0          285.0  Csection   \n",
       "\n",
       "              BIRTH_DATE                                               FILE  \\\n",
       "111  2014-03-19 16:13:00  /home/giorgio/Desktop/NHS/TOST_data/TOST PLC D...   \n",
       "113  2014-03-19 16:13:00  /home/giorgio/Desktop/NHS/TOST_data/TOST PLC D...   \n",
       "\n",
       "     DELTA_SEC_MEASURE  MED_SPO2  MED_PR  ...  \\\n",
       "111            69044.0      97.0   111.0  ...   \n",
       "113           156043.0      96.0   119.0  ...   \n",
       "\n",
       "     BRADY_NUM_PER_HOUR_PR_m20_anytime  BRADY_NUM_PER_HOUR_PR_m30_anytime  \\\n",
       "111                          15.154994                           0.688863   \n",
       "113                           7.164971                           3.980540   \n",
       "\n",
       "     BRADY_NUM_PER_HOUR_PR_m40_anytime  BRADY_NUM_PER_HOUR_PR_dyn_anytime  \\\n",
       "111                           0.688863                           0.000000   \n",
       "113                           4.776648                           4.776648   \n",
       "\n",
       "     BRADY_DURATION_MEDIAN_PR  BRADY_DURATION_MEDIAN_PR_m10  \\\n",
       "111                      48.0                          44.0   \n",
       "113                      34.0                          39.0   \n",
       "\n",
       "     BRADY_DURATION_MEDIAN_PR_m20  BRADY_DURATION_MEDIAN_PR_m30  \\\n",
       "111                          35.0                          20.0   \n",
       "113                          28.0                          40.0   \n",
       "\n",
       "     BRADY_DURATION_MEDIAN_PR_m40  BRADY_DURATION_MEDIAN_PR_dyn  \n",
       "111                           NaN                           NaN  \n",
       "113                          34.0                          34.0  \n",
       "\n",
       "[2 rows x 48 columns]"
      ]
     },
     "execution_count": 11,
     "metadata": {},
     "output_type": "execute_result"
    }
   ],
   "source": [
    "#This baby has two measurements in the hospital\n",
    "T[(T['BABY_IDS']=='PLC006')& single ]"
   ]
  },
  {
   "cell_type": "code",
   "execution_count": 12,
   "metadata": {},
   "outputs": [
    {
     "name": "stdout",
     "output_type": "stream",
     "text": [
      "TOT NUMBER OF BABIES:  268\n"
     ]
    }
   ],
   "source": [
    "total = len(np.unique(T['BABY_IDS']))\n",
    "print('TOT NUMBER OF BABIES: ',total)\n",
    "\n",
    "def unique_id(table,tot=total):\n",
    "    '''input: table with the selection on the category you want to count\n",
    "       output: the number of baby from that table and the fraction \n",
    "       of the total number of babies'''\n",
    "    # take the same baby id just once (as we want to count babies)\n",
    "    n = len(np.unique(table['BABY_IDS']))\n",
    "    return n, n/float(tot)"
   ]
  },
  {
   "cell_type": "code",
   "execution_count": 13,
   "metadata": {},
   "outputs": [
    {
     "name": "stdout",
     "output_type": "stream",
     "text": [
      "Number of PHN measurements (more than one per baby):  192\n",
      "Number of babies that have been to PHN: # = 96; frac = 0.358\n"
     ]
    }
   ],
   "source": [
    "#BABIES THAT HAS BEEN TO NHS\n",
    "phn = T[(T['PHN']==True)]\n",
    "print('Number of PHN measurements (more than one per baby): ',len(phn))\n",
    "print('Number of babies that have been to PHN: # = %s; frac = %.3f'%unique_id(phn))"
   ]
  },
  {
   "cell_type": "code",
   "execution_count": 14,
   "metadata": {},
   "outputs": [
    {
     "name": "stdout",
     "output_type": "stream",
     "text": [
      "Number of babies with at least a measurement from the hospital: # = 267; frac = 0.996\n"
     ]
    }
   ],
   "source": [
    "# NUMBER OF BABIES WITH MEASUREMENTS IN THE HOSPITAL\n",
    "\n",
    "# remember that no phn only means that there is at least a measuerement that is not fom the phn\n",
    "# so in this case it means that only one baby has no measurements from the hospital but only from the PHN\n",
    "# for a more intuitive flag check in the class baby the property baby.has_been_phn.\n",
    "no_phn = T[(T['PHN']==False)]\n",
    "len(no_phn)\n",
    "print('Number of babies with at least a measurement from the hospital: # = %s; frac = %.3f'%unique_id(no_phn))"
   ]
  },
  {
   "cell_type": "code",
   "execution_count": 15,
   "metadata": {},
   "outputs": [
    {
     "name": "stdout",
     "output_type": "stream",
     "text": [
      "FMC054 : NO MEASUREMENTS IN THE HOSPITAL (ONLY IN PHN)\n"
     ]
    }
   ],
   "source": [
    "# This guy has no measurements in the hospital\n",
    "for h in np.unique(T['BABY_IDS']):\n",
    "    if h not in np.array(no_phn['BABY_IDS']):\n",
    "        print(h,\": NO MEASUREMENTS IN THE HOSPITAL (ONLY IN PHN)\")"
   ]
  },
  {
   "cell_type": "markdown",
   "metadata": {},
   "source": [
    "I am pretty confident that the measurements for FMC054 has been labeled as PHN even if they are not. For example in the name of the file there is \"Day3\" but the age of the baby at those measurements is just about 19 hours. See below.\n",
    "\n",
    "Actually Prakash thinks that this is actually a measurement from PHN but for some reason the measurements from the hospital have been lost."
   ]
  },
  {
   "cell_type": "code",
   "execution_count": 16,
   "metadata": {},
   "outputs": [],
   "source": [
    "FMC054 = baby('FMC054')"
   ]
  },
  {
   "cell_type": "code",
   "execution_count": 17,
   "metadata": {},
   "outputs": [
    {
     "data": {
      "text/plain": [
       "['/home/giorgio/Desktop/NHS/TOST_data/TOST FMC Data Groomed/G_FMC_PHN_054/G_PHN_FMC054_Day3_Rt Foot.csv',\n",
       " '/home/giorgio/Desktop/NHS/TOST_data/TOST FMC Data Groomed/G_FMC_PHN_054/G_PHN_FMC054_Day3_Rt Wrist.csv']"
      ]
     },
     "execution_count": 17,
     "metadata": {},
     "output_type": "execute_result"
    }
   ],
   "source": [
    "FMC054.files"
   ]
  },
  {
   "cell_type": "code",
   "execution_count": 18,
   "metadata": {},
   "outputs": [
    {
     "name": "stdout",
     "output_type": "stream",
     "text": [
      "Age of FMC054 at first measurement: 18.94 hours\n"
     ]
    }
   ],
   "source": [
    "print('Age of FMC054 at first measurement: %.2f hours'%(FMC054.measurements_delta_sec_since_birth[0]/60./60.))"
   ]
  },
  {
   "cell_type": "code",
   "execution_count": null,
   "metadata": {},
   "outputs": [],
   "source": []
  },
  {
   "cell_type": "code",
   "execution_count": 19,
   "metadata": {},
   "outputs": [
    {
     "name": "stdout",
     "output_type": "stream",
     "text": [
      "Number of girls: # = 123; frac = 0.459\n",
      "Number of boys: # = 145; frac = 0.541\n"
     ]
    }
   ],
   "source": [
    "# NUMBER OF GIRLS\n",
    "female = T[T['GENDER']=='Female']\n",
    "male = T[T['GENDER']=='Male']\n",
    "print('Number of girls: # = %s; frac = %.3f'%unique_id(female))\n",
    "print('Number of boys: # = %s; frac = %.3f'%unique_id(male))"
   ]
  },
  {
   "cell_type": "code",
   "execution_count": null,
   "metadata": {},
   "outputs": [],
   "source": []
  },
  {
   "cell_type": "code",
   "execution_count": 20,
   "metadata": {},
   "outputs": [
    {
     "name": "stdout",
     "output_type": "stream",
     "text": [
      "Number of C-Section: # = 76; frac = 0.284\n",
      "Number of vaginal: # = 161; frac = 0.601\n",
      "Number of vaginal assisted: # = 31; frac = 0.116\n"
     ]
    }
   ],
   "source": [
    "# NUMBER OF C-SECTION (DELIVERY)\n",
    "csection = T[T['DELIVERY']=='Csection']\n",
    "vaginal = T[T['DELIVERY']=='vaginal']\n",
    "vaginal_ass = T[T['DELIVERY']=='vaginal assisted']\n",
    "print('Number of C-Section: # = %s; frac = %.3f'%unique_id(csection))\n",
    "print('Number of vaginal: # = %s; frac = %.3f'%unique_id(vaginal))\n",
    "print('Number of vaginal assisted: # = %s; frac = %.3f'%unique_id(vaginal_ass))"
   ]
  },
  {
   "cell_type": "code",
   "execution_count": 21,
   "metadata": {},
   "outputs": [
    {
     "data": {
      "text/plain": [
       "array(['vaginal', 'Csection', 'vaginal assisted'], dtype=object)"
      ]
     },
     "execution_count": 21,
     "metadata": {},
     "output_type": "execute_result"
    }
   ],
   "source": [
    "T['DELIVERY'].unique()"
   ]
  },
  {
   "cell_type": "code",
   "execution_count": null,
   "metadata": {},
   "outputs": [],
   "source": []
  },
  {
   "cell_type": "code",
   "execution_count": 22,
   "metadata": {},
   "outputs": [
    {
     "data": {
      "text/plain": [
       "0      16.222222\n",
       "1      16.249722\n",
       "2      42.303889\n",
       "3      42.281111\n",
       "4      18.281389\n",
       "         ...    \n",
       "759    17.235278\n",
       "760    18.878611\n",
       "761    18.882222\n",
       "762    14.285278\n",
       "763    14.291944\n",
       "Name: DELTA_SEC_MEASURE, Length: 764, dtype: float64"
      ]
     },
     "execution_count": 22,
     "metadata": {},
     "output_type": "execute_result"
    }
   ],
   "source": [
    "T['DELTA_SEC_MEASURE']/60./60."
   ]
  },
  {
   "cell_type": "code",
   "execution_count": null,
   "metadata": {},
   "outputs": [],
   "source": []
  },
  {
   "cell_type": "code",
   "execution_count": 23,
   "metadata": {},
   "outputs": [
    {
     "name": "stdout",
     "output_type": "stream",
     "text": [
      "numbers =  (139, 0.5186567164179104)\n",
      "mean =  124.87062866610492\n",
      "std =  10.649876638636153\n"
     ]
    }
   ],
   "source": [
    "# WRIST AND LESS THAN 39 (NO PHN)\n",
    "gest_age_less_39_wrist = T[(T['GEST_AGE_DAYS']/7.<40) & (T['WRIST']==True) & (T['PHN']==False)]\n",
    "print('numbers = ',unique_id(gest_age_less_39_wrist))\n",
    "print('mean = ',gest_age_less_39_wrist['MEAN_PR'].mean())\n",
    "print('std = ',gest_age_less_39_wrist['MEAN_PR'].std())"
   ]
  },
  {
   "cell_type": "code",
   "execution_count": null,
   "metadata": {},
   "outputs": [],
   "source": []
  },
  {
   "cell_type": "code",
   "execution_count": null,
   "metadata": {},
   "outputs": [],
   "source": []
  },
  {
   "cell_type": "code",
   "execution_count": 24,
   "metadata": {},
   "outputs": [
    {
     "name": "stdout",
     "output_type": "stream",
     "text": [
      "numbers =  (113, 0.4216417910447761)\n",
      "mean =  120.6581956996073\n",
      "std =  10.44437762319983\n",
      "mean diff =  4.212432966497616\n",
      "p-value =  0.0011144252630545049\n"
     ]
    }
   ],
   "source": [
    "# WRIST AND GREATER EQUAL THAN 39 (NO PHN)\n",
    "gest_age_more_39_wrist = T[(T['GEST_AGE_DAYS']/7.>=40) & (T['WRIST']==True) & (T['PHN']==False)]\n",
    "unique_id(gest_age_more_39_wrist)\n",
    "print('numbers = ',unique_id(gest_age_more_39_wrist))\n",
    "print('mean = ',gest_age_more_39_wrist['MEAN_PR'].mean())\n",
    "print('std = ',gest_age_more_39_wrist['MEAN_PR'].std())\n",
    "print('mean diff = ',np.absolute(gest_age_less_39_wrist['MEAN_PR'].mean()-gest_age_more_39_wrist['MEAN_PR'].mean()))\n",
    "_, p = ss.ttest_ind(gest_age_less_39_wrist['MEAN_PR'], gest_age_more_39_wrist['MEAN_PR'])\n",
    "print('p-value = ',p)"
   ]
  },
  {
   "cell_type": "markdown",
   "metadata": {},
   "source": [
    "# Function to print the statistics of the two samples"
   ]
  },
  {
   "cell_type": "code",
   "execution_count": 25,
   "metadata": {},
   "outputs": [],
   "source": [
    "# let's create a function to print this properties \n",
    "# once given the table already reduced with the desired selection\n",
    "def print_stats(t1,t2,prop='MEAN_PR'):\n",
    "    print('#######################')\n",
    "    print('#### prop = %s'%prop,'###')\n",
    "    print('##### TABLE 1 #########')\n",
    "    print('numbers #=%s frac=%.2f '%unique_id(t1))\n",
    "    print('mean = %.2f'%t1[prop].mean())\n",
    "    print('std = %.2f'%t1[prop].std())\n",
    "    \n",
    "    print('##### TABLE 2 #########')\n",
    "    print('numbers #=%s frac=%.2f '%unique_id(t2))\n",
    "    print('mean = %.2f'%t2[prop].mean())\n",
    "    print('std = %.2f'%t2[prop].std())\n",
    "    \n",
    "    print('####### stats #########')\n",
    "    print('mean diff = %.2f'%np.absolute(t1[prop].mean()-t2[prop].mean()))\n",
    "    _, p = ss.ttest_ind(t1[prop],t2[prop])\n",
    "    print('p-value = %.7f'%p)\n",
    "    print('#######################')\n",
    "    tot = unique_id(t1)[0]+unique_id(t2)[0]\n",
    "    print('tot number of babies = %s (frac=%.2f)'%(tot,tot/268))    \n",
    "    print('#######################')\n",
    "    \n"
   ]
  },
  {
   "cell_type": "markdown",
   "metadata": {},
   "source": [
    "# Gestational age (wrist)"
   ]
  },
  {
   "cell_type": "code",
   "execution_count": 26,
   "metadata": {},
   "outputs": [
    {
     "name": "stdout",
     "output_type": "stream",
     "text": [
      "#######################\n",
      "#### prop = MEAN_PR ###\n",
      "##### TABLE 1 #########\n",
      "numbers #=139 frac=0.52 \n",
      "mean = 124.87\n",
      "std = 10.65\n",
      "##### TABLE 2 #########\n",
      "numbers #=113 frac=0.42 \n",
      "mean = 120.66\n",
      "std = 10.44\n",
      "####### stats #########\n",
      "mean diff = 4.21\n",
      "p-value = 0.0011144\n",
      "#######################\n",
      "tot number of babies = 252 (frac=0.94)\n",
      "#######################\n",
      " \n",
      "#######################\n",
      "#### prop = MEAN_SPO2 ###\n",
      "##### TABLE 1 #########\n",
      "numbers #=139 frac=0.52 \n",
      "mean = 95.66\n",
      "std = 2.41\n",
      "##### TABLE 2 #########\n",
      "numbers #=113 frac=0.42 \n",
      "mean = 94.24\n",
      "std = 2.31\n",
      "####### stats #########\n",
      "mean diff = 1.42\n",
      "p-value = 0.0000012\n",
      "#######################\n",
      "tot number of babies = 252 (frac=0.94)\n",
      "#######################\n"
     ]
    }
   ],
   "source": [
    "table_1 = T[(T['GEST_AGE_DAYS']/7.<40) & (T['WRIST']==True) & (T['PHN']==False)]\n",
    "table_2 = T[(T['GEST_AGE_DAYS']/7.>=40) & (T['WRIST']==True) & (T['PHN']==False)]\n",
    "print_stats(table_1,table_2,prop='MEAN_PR')\n",
    "print(' ')\n",
    "print_stats(table_1,table_2,prop='MEAN_SPO2')"
   ]
  },
  {
   "cell_type": "markdown",
   "metadata": {},
   "source": [
    "# Gestational age (foot)"
   ]
  },
  {
   "cell_type": "code",
   "execution_count": 27,
   "metadata": {},
   "outputs": [
    {
     "name": "stdout",
     "output_type": "stream",
     "text": [
      "#######################\n",
      "#### prop = MEAN_PR ###\n",
      "##### TABLE 1 #########\n",
      "numbers #=146 frac=0.54 \n",
      "mean = 124.65\n",
      "std = 13.02\n",
      "##### TABLE 2 #########\n",
      "numbers #=117 frac=0.44 \n",
      "mean = 121.32\n",
      "std = 11.95\n",
      "####### stats #########\n",
      "mean diff = 3.33\n",
      "p-value = 0.0259801\n",
      "#######################\n",
      "tot number of babies = 263 (frac=0.98)\n",
      "#######################\n",
      " \n",
      "#######################\n",
      "#### prop = MEAN_SPO2 ###\n",
      "##### TABLE 1 #########\n",
      "numbers #=146 frac=0.54 \n",
      "mean = 96.81\n",
      "std = 2.84\n",
      "##### TABLE 2 #########\n",
      "numbers #=117 frac=0.44 \n",
      "mean = 96.08\n",
      "std = 3.13\n",
      "####### stats #########\n",
      "mean diff = 0.73\n",
      "p-value = 0.0393376\n",
      "#######################\n",
      "tot number of babies = 263 (frac=0.98)\n",
      "#######################\n"
     ]
    }
   ],
   "source": [
    "table_1 = T[(T['GEST_AGE_DAYS']/7.<40) & (T['FOOT']==True) & (T['PHN']==False)]\n",
    "table_2 = T[(T['GEST_AGE_DAYS']/7.>=40) & (T['FOOT']==True) & (T['PHN']==False)]\n",
    "print_stats(table_1,table_2,prop='MEAN_PR')\n",
    "print(' ')\n",
    "print_stats(table_1,table_2,prop='MEAN_SPO2')"
   ]
  },
  {
   "cell_type": "markdown",
   "metadata": {},
   "source": [
    "# Type of delivery (wrist)"
   ]
  },
  {
   "cell_type": "code",
   "execution_count": 28,
   "metadata": {},
   "outputs": [
    {
     "name": "stdout",
     "output_type": "stream",
     "text": [
      "#######################\n",
      "#### prop = MEAN_PR ###\n",
      "##### TABLE 1 #########\n",
      "numbers #=179 frac=0.67 \n",
      "mean = 122.56\n",
      "std = 10.73\n",
      "##### TABLE 2 #########\n",
      "numbers #=73 frac=0.27 \n",
      "mean = 124.03\n",
      "std = 10.78\n",
      "####### stats #########\n",
      "mean diff = 1.47\n",
      "p-value = 0.2770935\n",
      "#######################\n",
      "tot number of babies = 252 (frac=0.94)\n",
      "#######################\n",
      " \n",
      "#######################\n",
      "#### prop = MEAN_SPO2 ###\n",
      "##### TABLE 1 #########\n",
      "numbers #=179 frac=0.67 \n",
      "mean = 94.92\n",
      "std = 2.46\n",
      "##### TABLE 2 #########\n",
      "numbers #=73 frac=0.27 \n",
      "mean = 95.32\n",
      "std = 2.45\n",
      "####### stats #########\n",
      "mean diff = 0.41\n",
      "p-value = 0.1884572\n",
      "#######################\n",
      "tot number of babies = 252 (frac=0.94)\n",
      "#######################\n"
     ]
    }
   ],
   "source": [
    "table_1 = T[((T['DELIVERY']=='vaginal')|(T['DELIVERY']=='vaginal assisted')) & (T['WRIST']==True) & (T['PHN']==False)]\n",
    "table_2 = T[(T['DELIVERY']=='Csection') & (T['WRIST']==True) & (T['PHN']==False)]\n",
    "print_stats(table_1,table_2,prop='MEAN_PR')\n",
    "print(' ')\n",
    "print_stats(table_1,table_2,prop='MEAN_SPO2')\n"
   ]
  },
  {
   "cell_type": "markdown",
   "metadata": {},
   "source": [
    "# Type of delivery (foot)"
   ]
  },
  {
   "cell_type": "code",
   "execution_count": 29,
   "metadata": {},
   "outputs": [
    {
     "name": "stdout",
     "output_type": "stream",
     "text": [
      "#######################\n",
      "#### prop = MEAN_PR ###\n",
      "##### TABLE 1 #########\n",
      "numbers #=187 frac=0.70 \n",
      "mean = 122.25\n",
      "std = 12.07\n",
      "##### TABLE 2 #########\n",
      "numbers #=76 frac=0.28 \n",
      "mean = 125.10\n",
      "std = 13.57\n",
      "####### stats #########\n",
      "mean diff = 2.86\n",
      "p-value = 0.0658855\n",
      "#######################\n",
      "tot number of babies = 263 (frac=0.98)\n",
      "#######################\n",
      " \n",
      "#######################\n",
      "#### prop = MEAN_SPO2 ###\n",
      "##### TABLE 1 #########\n",
      "numbers #=187 frac=0.70 \n",
      "mean = 96.46\n",
      "std = 3.13\n",
      "##### TABLE 2 #########\n",
      "numbers #=76 frac=0.28 \n",
      "mean = 96.57\n",
      "std = 2.69\n",
      "####### stats #########\n",
      "mean diff = 0.11\n",
      "p-value = 0.7641329\n",
      "#######################\n",
      "tot number of babies = 263 (frac=0.98)\n",
      "#######################\n"
     ]
    }
   ],
   "source": [
    "table_1 = T[((T['DELIVERY']=='vaginal')|(T['DELIVERY']=='vaginal assisted')) & (T['FOOT']==True) & (T['PHN']==False)]\n",
    "table_2 = T[(T['DELIVERY']=='Csection') & (T['FOOT']==True) & (T['PHN']==False)]\n",
    "print_stats(table_1,table_2,prop='MEAN_PR')\n",
    "print(' ')\n",
    "print_stats(table_1,table_2,prop='MEAN_SPO2')"
   ]
  },
  {
   "cell_type": "markdown",
   "metadata": {},
   "source": [
    "# Sex (wrist)"
   ]
  },
  {
   "cell_type": "code",
   "execution_count": 30,
   "metadata": {},
   "outputs": [
    {
     "name": "stdout",
     "output_type": "stream",
     "text": [
      "#######################\n",
      "#### prop = MEAN_PR ###\n",
      "##### TABLE 1 #########\n",
      "numbers #=135 frac=0.50 \n",
      "mean = 121.05\n",
      "std = 9.77\n",
      "##### TABLE 2 #########\n",
      "numbers #=117 frac=0.44 \n",
      "mean = 125.43\n",
      "std = 11.37\n",
      "####### stats #########\n",
      "mean diff = 4.38\n",
      "p-value = 0.0006239\n",
      "#######################\n",
      "tot number of babies = 252 (frac=0.94)\n",
      "#######################\n",
      " \n",
      "#######################\n",
      "#### prop = MEAN_SPO2 ###\n",
      "##### TABLE 1 #########\n",
      "numbers #=135 frac=0.50 \n",
      "mean = 95.13\n",
      "std = 2.79\n",
      "##### TABLE 2 #########\n",
      "numbers #=117 frac=0.44 \n",
      "mean = 94.98\n",
      "std = 2.02\n",
      "####### stats #########\n",
      "mean diff = 0.15\n",
      "p-value = 0.6034915\n",
      "#######################\n",
      "tot number of babies = 252 (frac=0.94)\n",
      "#######################\n"
     ]
    }
   ],
   "source": [
    "table_1 = T[(T['GENDER']=='Male') & (T['WRIST']==True) & (T['PHN']==False)]\n",
    "table_2 = T[(T['GENDER']=='Female') & (T['WRIST']==True) & (T['PHN']==False)]\n",
    "print_stats(table_1,table_2,prop='MEAN_PR')\n",
    "print(' ')\n",
    "print_stats(table_1,table_2,prop='MEAN_SPO2')"
   ]
  },
  {
   "cell_type": "markdown",
   "metadata": {},
   "source": [
    "# Sex (foot)"
   ]
  },
  {
   "cell_type": "code",
   "execution_count": 31,
   "metadata": {},
   "outputs": [
    {
     "name": "stdout",
     "output_type": "stream",
     "text": [
      "#######################\n",
      "#### prop = MEAN_PR ###\n",
      "##### TABLE 1 #########\n",
      "numbers #=141 frac=0.53 \n",
      "mean = 121.60\n",
      "std = 10.48\n",
      "##### TABLE 2 #########\n",
      "numbers #=122 frac=0.46 \n",
      "mean = 125.16\n",
      "std = 14.63\n",
      "####### stats #########\n",
      "mean diff = 3.56\n",
      "p-value = 0.0162261\n",
      "#######################\n",
      "tot number of babies = 263 (frac=0.98)\n",
      "#######################\n",
      " \n",
      "#######################\n",
      "#### prop = MEAN_SPO2 ###\n",
      "##### TABLE 1 #########\n",
      "numbers #=141 frac=0.53 \n",
      "mean = 96.51\n",
      "std = 3.15\n",
      "##### TABLE 2 #########\n",
      "numbers #=122 frac=0.46 \n",
      "mean = 96.48\n",
      "std = 2.78\n",
      "####### stats #########\n",
      "mean diff = 0.03\n",
      "p-value = 0.9261141\n",
      "#######################\n",
      "tot number of babies = 263 (frac=0.98)\n",
      "#######################\n"
     ]
    }
   ],
   "source": [
    "table_1 = T[(T['GENDER']=='Male') & (T['FOOT']==True) & (T['PHN']==False)]\n",
    "table_2 = T[(T['GENDER']=='Female') & (T['FOOT']==True) & (T['PHN']==False)]\n",
    "print_stats(table_1,table_2,prop='MEAN_PR')\n",
    "print(' ')\n",
    "print_stats(table_1,table_2,prop='MEAN_SPO2')\n"
   ]
  },
  {
   "cell_type": "markdown",
   "metadata": {},
   "source": [
    "# Timing (WRIST)"
   ]
  },
  {
   "cell_type": "code",
   "execution_count": 32,
   "metadata": {},
   "outputs": [
    {
     "name": "stdout",
     "output_type": "stream",
     "text": [
      "#######################\n",
      "#### prop = MEAN_PR ###\n",
      "##### TABLE 1 #########\n",
      "numbers #=233 frac=0.87 \n",
      "mean = 122.38\n",
      "std = 10.52\n",
      "##### TABLE 2 #########\n",
      "numbers #=42 frac=0.16 \n",
      "mean = 126.58\n",
      "std = 11.31\n",
      "####### stats #########\n",
      "mean diff = 4.20\n",
      "p-value = 0.0152508\n",
      "#######################\n",
      "tot number of babies = 275 (frac=1.03)\n",
      "#######################\n",
      " \n",
      "#######################\n",
      "#### prop = MEAN_SPO2 ###\n",
      "##### TABLE 1 #########\n",
      "numbers #=233 frac=0.87 \n",
      "mean = 94.93\n",
      "std = 2.44\n",
      "##### TABLE 2 #########\n",
      "numbers #=42 frac=0.16 \n",
      "mean = 95.72\n",
      "std = 2.52\n",
      "####### stats #########\n",
      "mean diff = 0.79\n",
      "p-value = 0.0461435\n",
      "#######################\n",
      "tot number of babies = 275 (frac=1.03)\n",
      "#######################\n",
      " \n",
      "#######################\n",
      "#### prop = MEAN_PI ###\n",
      "##### TABLE 1 #########\n",
      "numbers #=233 frac=0.87 \n",
      "mean = 1.81\n",
      "std = 0.63\n",
      "##### TABLE 2 #########\n",
      "numbers #=42 frac=0.16 \n",
      "mean = 1.99\n",
      "std = 0.74\n",
      "####### stats #########\n",
      "mean diff = 0.18\n",
      "p-value = nan\n",
      "#######################\n",
      "tot number of babies = 275 (frac=1.03)\n",
      "#######################\n",
      "NOTE THAT BABIES CAN BELONG TO BOTH CATEGORIES AS THEY CAN HAVE MEASUREMENTS BEFORE AND AFTER 24 HOURS\n"
     ]
    }
   ],
   "source": [
    "table_1 = T[((T['DELTA_SEC_MEASURE']/60./60.)<24.) & (T['WRIST']==True) & (T['PHN']==False)]\n",
    "table_2 = T[((T['DELTA_SEC_MEASURE']/60./60.)>=24.) & ((T['DELTA_SEC_MEASURE']/60./60.)<72.) & (T['WRIST']==True) & (T['PHN']==False)]\n",
    "print_stats(table_1,table_2,prop='MEAN_PR')\n",
    "print(' ')\n",
    "print_stats(table_1,table_2,prop='MEAN_SPO2')\n",
    "print(' ')\n",
    "print_stats(table_1,table_2,prop='MEAN_PI')\n",
    "\n",
    "print('NOTE THAT BABIES CAN BELONG TO BOTH CATEGORIES AS THEY CAN HAVE MEASUREMENTS BEFORE AND AFTER 24 HOURS')"
   ]
  },
  {
   "cell_type": "markdown",
   "metadata": {},
   "source": [
    "# Timing (FOOT)"
   ]
  },
  {
   "cell_type": "code",
   "execution_count": 33,
   "metadata": {},
   "outputs": [
    {
     "name": "stdout",
     "output_type": "stream",
     "text": [
      "#######################\n",
      "#### prop = MEAN_PR ###\n",
      "##### TABLE 1 #########\n",
      "numbers #=245 frac=0.91 \n",
      "mean = 122.06\n",
      "std = 11.87\n",
      "##### TABLE 2 #########\n",
      "numbers #=43 frac=0.16 \n",
      "mean = 129.45\n",
      "std = 14.94\n",
      "####### stats #########\n",
      "mean diff = 7.39\n",
      "p-value = 0.0002231\n",
      "#######################\n",
      "tot number of babies = 288 (frac=1.07)\n",
      "#######################\n",
      " \n",
      "#######################\n",
      "#### prop = MEAN_SPO2 ###\n",
      "##### TABLE 1 #########\n",
      "numbers #=245 frac=0.91 \n",
      "mean = 96.48\n",
      "std = 3.04\n",
      "##### TABLE 2 #########\n",
      "numbers #=43 frac=0.16 \n",
      "mean = 96.57\n",
      "std = 2.69\n",
      "####### stats #########\n",
      "mean diff = 0.09\n",
      "p-value = 0.8528183\n",
      "#######################\n",
      "tot number of babies = 288 (frac=1.07)\n",
      "#######################\n",
      " \n",
      "#######################\n",
      "#### prop = MEAN_PI ###\n",
      "##### TABLE 1 #########\n",
      "numbers #=245 frac=0.91 \n",
      "mean = 1.32\n",
      "std = 0.71\n",
      "##### TABLE 2 #########\n",
      "numbers #=43 frac=0.16 \n",
      "mean = 1.70\n",
      "std = 0.91\n",
      "####### stats #########\n",
      "mean diff = 0.39\n",
      "p-value = nan\n",
      "#######################\n",
      "tot number of babies = 288 (frac=1.07)\n",
      "#######################\n",
      "NOTE THAT BABIES CAN BELONG TO BOTH CATEGORIES AS THEY CAN HAVE MEASUREMENTS BEFORE AND AFTER 24 HOURS\n"
     ]
    }
   ],
   "source": [
    "table_1 = T[((T['DELTA_SEC_MEASURE']/60./60.)<24.) & (T['FOOT']==True) & (T['PHN']==False)]\n",
    "table_2 = T[((T['DELTA_SEC_MEASURE']/60./60.)>=24.) & ((T['DELTA_SEC_MEASURE']/60./60.)<72.) & (T['FOOT']==True) & (T['PHN']==False)]\n",
    "print_stats(table_1,table_2,prop='MEAN_PR')\n",
    "print(' ')\n",
    "print_stats(table_1,table_2,prop='MEAN_SPO2')\n",
    "print(' ')\n",
    "print_stats(table_1,table_2,prop='MEAN_PI')\n",
    "print('NOTE THAT BABIES CAN BELONG TO BOTH CATEGORIES AS THEY CAN HAVE MEASUREMENTS BEFORE AND AFTER 24 HOURS')"
   ]
  },
  {
   "cell_type": "code",
   "execution_count": null,
   "metadata": {},
   "outputs": [],
   "source": []
  },
  {
   "cell_type": "markdown",
   "metadata": {},
   "source": [
    "# Studying percentiles of PI  for wrist and foot at different interval times:\n",
    "# t < 24h vs 24h < t < 72h\n",
    "Slightly different analysis for PIU as we want to use the Mann Whitney U test rather than the usual Student-T test (and we need to drop out the nan values)"
   ]
  },
  {
   "cell_type": "code",
   "execution_count": 102,
   "metadata": {
    "scrolled": true
   },
   "outputs": [
    {
     "name": "stdout",
     "output_type": "stream",
     "text": [
      "##### WRIST #####\n",
      "Number of objects t<24:  217\n",
      "Mean PI wrist t<24:  1.8053468626107863\n",
      "Number of objects 24<t<72:  41\n",
      "Mean PI wrist 24<t<72:  1.9893338426145981\n",
      "Mann-Whitney test 24 vs 72: p-value = 0.063\n",
      "Student T-test 24 vs 72:    p-value = 0.084\n",
      "Difference between means: 0.184\n"
     ]
    }
   ],
   "source": [
    "# NO PHN ### WRIST ###\n",
    "table_1 = T[((T['DELTA_SEC_MEASURE']/60./60.)<24.) & (T['WRIST']==True) & (T['PHN']==False)]\n",
    "table_2 = T[((T['DELTA_SEC_MEASURE']/60./60.)>=24.) & ((T['DELTA_SEC_MEASURE']/60./60.)<72.) & (T['WRIST']==True) & (T['PHN']==False)]\n",
    "\n",
    "pi24_w = table_1['MEAN_PI'].dropna()\n",
    "pi72_w = table_2['MEAN_PI'].dropna()\n",
    "\n",
    "temp_pi24_w = table_1[['MEAN_PI','BABY_IDS']].dropna() \n",
    "temp_pi72_w = table_2[['MEAN_PI','BABY_IDS']].dropna() \n",
    "\n",
    "\n",
    "print('##### WRIST #####')\n",
    "print('Number of objects t<24: ',unique_id(temp_pi24_w)[0] )\n",
    "print('Mean PI wrist t<24: ',np.mean( pi24_w ) )\n",
    "print('Number of objects 24<t<72: ',unique_id(temp_pi72_w)[0] )\n",
    "print('Mean PI wrist 24<t<72: ',np.mean(pi72_w) )\n",
    "print('Mann-Whitney test 24 vs 72: p-value = %.3f'%ss.mannwhitneyu(pi24_w,pi72_w)[1])\n",
    "print('Student T-test 24 vs 72:    p-value = %.3f'%ss.ttest_ind(pi24_w,pi72_w)[1])\n",
    "print('Difference between means: %.3f'%np.abs( np.mean( pi24_w )-np.mean( pi72_w )))"
   ]
  },
  {
   "cell_type": "code",
   "execution_count": 103,
   "metadata": {
    "scrolled": true
   },
   "outputs": [
    {
     "name": "stdout",
     "output_type": "stream",
     "text": [
      "##### FOOT #####\n",
      "Number of objects t<24:  222\n",
      "Mean PI foot t<24:  1.3154946979977236\n",
      "Number of objects t<24<72:  41\n",
      "Mean PI foot 24<t<72:  1.7012022849373705\n",
      "Mann-Whitney test 24 vs 72: p-value = 0.0013\n",
      "Student T-test 24 vs 72:    p-value = 0.0018\n",
      "Difference between means: 0.386\n"
     ]
    }
   ],
   "source": [
    "# NO PHN ### WRIST ###\n",
    "table_1 = T[((T['DELTA_SEC_MEASURE']/60./60.)<24.) & (T['FOOT']==True) & (T['PHN']==False)]\n",
    "table_2 = T[((T['DELTA_SEC_MEASURE']/60./60.)>=24.) & ((T['DELTA_SEC_MEASURE']/60./60.)<72.) & (T['FOOT']==True) & (T['PHN']==False)]\n",
    "\n",
    "pi24_f = table_1['MEAN_PI'].dropna()\n",
    "pi72_f = table_2['MEAN_PI'].dropna()\n",
    "\n",
    "temp_pi24_f = table_1[['MEAN_PI','BABY_IDS']].dropna() \n",
    "temp_pi72_f = table_2[['MEAN_PI','BABY_IDS']].dropna() \n",
    "\n",
    "# dropna() act to all the columns, so you can't use the entire table\n",
    "# but since I know the BABY_IDS is never null, this way it works\n",
    "\n",
    "print('##### FOOT #####')\n",
    "#print('Number of objects t<24: ',len(pi24_f) ) # this would count the same baby several times\n",
    "#print('Number of objects t<24: ',unique_id(table_1.dropna())[0] )\n",
    "#print('Number of objects t<24: ',unique_id(table_1)[0] ) # this would count the null values as well\n",
    "print('Number of objects t<24: ',unique_id(temp_pi24_f)[0] )\n",
    "print('Mean PI foot t<24: ',np.mean( pi24_f ))\n",
    "#print('Number of objects 24<t<72: ',len(pi72_f) )\n",
    "print('Number of objects t<24<72: ',unique_id(temp_pi72_f)[0] )\n",
    "print('Mean PI foot 24<t<72: ',np.mean( pi72_f ))\n",
    "print('Mann-Whitney test 24 vs 72: p-value = %.4f'%ss.mannwhitneyu(pi24_f,pi72_f)[1])\n",
    "print('Student T-test 24 vs 72:    p-value = %.4f'%ss.ttest_ind(pi24_f,pi72_f)[1])\n",
    "print('Difference between means: %.3f'%np.abs( np.mean( pi24_f )-np.mean( pi72_f )))"
   ]
  },
  {
   "cell_type": "code",
   "execution_count": 101,
   "metadata": {},
   "outputs": [
    {
     "name": "stdout",
     "output_type": "stream",
     "text": [
      "Number of total babies  0 < t < 24 :  249\n",
      "Number of total babies 24 < t < 72 :  43\n"
     ]
    }
   ],
   "source": [
    "table_1 = T[((T['DELTA_SEC_MEASURE']/60./60.)<24.) & (T['PHN']==False)]\n",
    "table_2 = T[((T['DELTA_SEC_MEASURE']/60./60.)>=24.) & ((T['DELTA_SEC_MEASURE']/60./60.)<72.) & (T['PHN']==False)]\n",
    "# let's not count babies with null measurements\n",
    "\n",
    "temp_pi24 = table_1[['MEAN_PI','BABY_IDS']].dropna()  \n",
    "temp_pi72 = table_2[['MEAN_PI','BABY_IDS']].dropna() \n",
    "# The dropna is not changing the number of object because apparently\n",
    "# where there is no PI measurement from the foot, there is from the wrist\n",
    "# or later on within the time limit chosen (i.e. < 24 or [24,72])\n",
    "print('Number of total babies  0 < t < 24 : ',unique_id(temp_pi24)[0])\n",
    "print('Number of total babies 24 < t < 72 : ',unique_id(temp_pi72)[0])"
   ]
  },
  {
   "cell_type": "code",
   "execution_count": 99,
   "metadata": {
    "scrolled": true
   },
   "outputs": [
    {
     "name": "stdout",
     "output_type": "stream",
     "text": [
      "#### WRIST MEAN PI PERCENTILES ####\n",
      " 5 th percentile t<24: 0.965; 24<t<72: 0.996\n",
      "25 th percentile t<24: 1.341; 24<t<72: 1.445\n",
      "50 th percentile t<24: 1.688; 24<t<72: 1.908\n",
      "75 th percentile t<24: 2.176; 24<t<72: 2.306\n",
      "90 th percentile t<24: 2.642; 24<t<72: 3.112\n",
      "95 th percentile t<24: 2.913; 24<t<72: 3.300\n"
     ]
    }
   ],
   "source": [
    "print('#### WRIST MEAN PI PERCENTILES ####')\n",
    "for q in [5,25,50,75,90,95]:\n",
    "    print('%2i th percentile t<24: %.3f; 24<t<72: %.3f'%(q,np.percentile(pi24_w,q=q),np.percentile(pi72_w,q=q)))"
   ]
  },
  {
   "cell_type": "code",
   "execution_count": 100,
   "metadata": {},
   "outputs": [
    {
     "name": "stdout",
     "output_type": "stream",
     "text": [
      "#### FOOT MEAN PI PERCENTILES ####\n",
      " 5 th percentile t<24: 0.520; 24<t<72: 0.780\n",
      "25 th percentile t<24: 0.802; 24<t<72: 1.021\n",
      "50 th percentile t<24: 1.119; 24<t<72: 1.517\n",
      "75 th percentile t<24: 1.679; 24<t<72: 2.092\n",
      "90 th percentile t<24: 2.246; 24<t<72: 2.788\n",
      "95 th percentile t<24: 2.543; 24<t<72: 2.920\n"
     ]
    }
   ],
   "source": [
    "print('#### FOOT MEAN PI PERCENTILES ####')\n",
    "for q in [5,25,50,75,90,95]:\n",
    "    print('%2i th percentile t<24: %.3f; 24<t<72: %.3f'%(q,np.percentile(pi24_f,q=q),np.percentile(pi72_f,q=q)))"
   ]
  },
  {
   "cell_type": "code",
   "execution_count": 104,
   "metadata": {},
   "outputs": [
    {
     "name": "stdout",
     "output_type": "stream",
     "text": [
      "CHECKING STATISTICAL DIFFERENCE \n",
      "WRIST vs FOOT (p-value)\n",
      "-----------------------------------\n",
      "Mann-Whitney test t<24: 0.00000000000000001\n",
      "Mann-Whitney test 24<t<72: 0.01498\n",
      "-----------------------------------\n",
      "Student T-test t<24:    0.0000000000001\n",
      "Student T-test 24<t<72:    0.10282\n",
      "-----------------------------------\n",
      "Difference between means t<24: 0.490\n",
      "Difference between means 24<t<72: 0.288\n"
     ]
    }
   ],
   "source": [
    "print('CHECKING STATISTICAL DIFFERENCE \\nWRIST vs FOOT (p-value)')\n",
    "print('-----------------------------------')\n",
    "print('Mann-Whitney test t<24: %.17f'%ss.mannwhitneyu(pi24_w,pi24_f)[1])\n",
    "print('Mann-Whitney test 24<t<72: %.5f'%ss.mannwhitneyu(pi72_w,pi72_f)[1])\n",
    "print('-----------------------------------')\n",
    "print('Student T-test t<24:    %.13f'%ss.ttest_ind(pi24_w,pi24_f)[1])\n",
    "print('Student T-test 24<t<72:    %.5f'%ss.ttest_ind(pi72_w,pi72_f)[1])\n",
    "print('-----------------------------------')\n",
    "print('Difference between means t<24: %.3f'%np.abs(np.mean(pi24_w)-np.mean(pi24_f)))\n",
    "print('Difference between means 24<t<72: %.3f'%np.abs(np.mean(pi72_w)-np.mean(pi72_f)))"
   ]
  },
  {
   "cell_type": "code",
   "execution_count": 40,
   "metadata": {},
   "outputs": [],
   "source": [
    "#  ,label=r'$0<t<24$'"
   ]
  },
  {
   "cell_type": "code",
   "execution_count": 41,
   "metadata": {},
   "outputs": [
    {
     "data": {
      "image/png": "[encoded data removed]",
      "text/plain": [
       "<Figure size 576x432 with 1 Axes>"
      ]
     },
     "metadata": {},
     "output_type": "display_data"
    }
   ],
   "source": [
    "plt.figure(figsize=(8,6))\n",
    "plt.hist(pi24_w,bins=15,histtype='step',lw=3,label='wrist')\n",
    "plt.hist(pi24_f,bins=15,histtype='step',lw=3,label='foot')\n",
    "plt.xlabel('MEAN PI')\n",
    "plt.ylabel('number of measurements')\n",
    "plt.title(r'$0<t<24$')\n",
    "plt.legend()\n",
    "plt.show()"
   ]
  },
  {
   "cell_type": "code",
   "execution_count": 42,
   "metadata": {},
   "outputs": [
    {
     "data": {
      "image/png": "[encoded data removed]",
      "text/plain": [
       "<Figure size 576x432 with 1 Axes>"
      ]
     },
     "metadata": {},
     "output_type": "display_data"
    }
   ],
   "source": [
    "plt.figure(figsize=(8,6))\n",
    "plt.hist(pi72_w,bins=15,histtype='step',lw=3,label='wrist')\n",
    "plt.hist(pi72_f,bins=15,histtype='step',lw=3,label='foot')\n",
    "plt.xlabel('MEAN PI')\n",
    "plt.ylabel('number of measurements')\n",
    "plt.title(r'$24<t<72$')\n",
    "plt.legend()\n",
    "plt.show()"
   ]
  },
  {
   "cell_type": "code",
   "execution_count": 43,
   "metadata": {},
   "outputs": [
    {
     "data": {
      "image/png": "[encoded data removed]",
      "text/plain": [
       "<Figure size 576x432 with 1 Axes>"
      ]
     },
     "metadata": {},
     "output_type": "display_data"
    }
   ],
   "source": [
    "plt.figure(figsize=(8,6))\n",
    "plt.hist(pi24_w,bins=15,histtype='step',lw=3,label=r'$0<t<24$')\n",
    "plt.hist(pi72_w,bins=15,histtype='step',lw=3,label=r'$24<t<72$')\n",
    "plt.xlabel('MEAN PI')\n",
    "plt.ylabel('number of measurements')\n",
    "plt.title(r'Wrist')\n",
    "plt.legend()\n",
    "plt.show()"
   ]
  },
  {
   "cell_type": "code",
   "execution_count": 44,
   "metadata": {},
   "outputs": [
    {
     "data": {
      "image/png": "[encoded data removed]",
      "text/plain": [
       "<Figure size 576x432 with 1 Axes>"
      ]
     },
     "metadata": {},
     "output_type": "display_data"
    }
   ],
   "source": [
    "plt.figure(figsize=(8,6))\n",
    "plt.hist(pi24_f,bins=15,histtype='step',lw=3,label=r'$0<t<24$')\n",
    "plt.hist(pi72_f,bins=15,histtype='step',lw=3,label=r'$24<t<72$')\n",
    "plt.xlabel('MEAN PI')\n",
    "plt.ylabel('number of measurements')\n",
    "plt.title(r'Foot')\n",
    "plt.legend()\n",
    "plt.show()"
   ]
  },
  {
   "cell_type": "code",
   "execution_count": null,
   "metadata": {},
   "outputs": [],
   "source": []
  },
  {
   "cell_type": "code",
   "execution_count": 45,
   "metadata": {},
   "outputs": [
    {
     "data": {
      "text/plain": [
       "<matplotlib.axes._subplots.AxesSubplot at 0x7f89b354f470>"
      ]
     },
     "execution_count": 45,
     "metadata": {},
     "output_type": "execute_result"
    },
    {
     "data": {
      "image/png": "[encoded data removed]",
      "text/plain": [
       "<Figure size 432x288 with 1 Axes>"
      ]
     },
     "metadata": {},
     "output_type": "display_data"
    }
   ],
   "source": [
    "(T['DELTA_SEC_MEASURE']/60./60.).hist(range=(0,72))"
   ]
  },
  {
   "cell_type": "code",
   "execution_count": 46,
   "metadata": {},
   "outputs": [
    {
     "data": {
      "text/plain": [
       "249"
      ]
     },
     "execution_count": 46,
     "metadata": {},
     "output_type": "execute_result"
    }
   ],
   "source": [
    "len(table_1['BABY_IDS'].unique())"
   ]
  },
  {
   "cell_type": "code",
   "execution_count": 47,
   "metadata": {},
   "outputs": [
    {
     "data": {
      "text/plain": [
       "43"
      ]
     },
     "execution_count": 47,
     "metadata": {},
     "output_type": "execute_result"
    }
   ],
   "source": [
    "len(table_2['BABY_IDS'].unique())"
   ]
  },
  {
   "cell_type": "code",
   "execution_count": 48,
   "metadata": {},
   "outputs": [
    {
     "data": {
      "text/plain": [
       "93"
      ]
     },
     "execution_count": 48,
     "metadata": {},
     "output_type": "execute_result"
    }
   ],
   "source": [
    "len(table_2)"
   ]
  },
  {
   "cell_type": "code",
   "execution_count": 49,
   "metadata": {},
   "outputs": [
    {
     "data": {
      "text/plain": [
       "478"
      ]
     },
     "execution_count": 49,
     "metadata": {},
     "output_type": "execute_result"
    }
   ],
   "source": [
    "len(table_1)"
   ]
  },
  {
   "cell_type": "code",
   "execution_count": null,
   "metadata": {
    "scrolled": true
   },
   "outputs": [],
   "source": []
  },
  {
   "cell_type": "code",
   "execution_count": null,
   "metadata": {},
   "outputs": [],
   "source": []
  },
  {
   "cell_type": "code",
   "execution_count": null,
   "metadata": {},
   "outputs": [],
   "source": []
  },
  {
   "cell_type": "code",
   "execution_count": null,
   "metadata": {},
   "outputs": [],
   "source": []
  },
  {
   "cell_type": "code",
   "execution_count": null,
   "metadata": {},
   "outputs": [],
   "source": []
  },
  {
   "cell_type": "code",
   "execution_count": null,
   "metadata": {},
   "outputs": [],
   "source": []
  },
  {
   "cell_type": "markdown",
   "metadata": {},
   "source": [
    "# Tests"
   ]
  },
  {
   "cell_type": "code",
   "execution_count": 50,
   "metadata": {},
   "outputs": [],
   "source": [
    "#sanity check (every baby have a measurement,either from the wrist or the food or both)\n",
    "all_babies = T[(T['WRIST']==True)|(T['FOOT']==True)]"
   ]
  },
  {
   "cell_type": "code",
   "execution_count": 51,
   "metadata": {},
   "outputs": [
    {
     "data": {
      "text/plain": [
       "(268, 1.0)"
      ]
     },
     "execution_count": 51,
     "metadata": {},
     "output_type": "execute_result"
    }
   ],
   "source": [
    "unique_id(all_babies)"
   ]
  },
  {
   "cell_type": "code",
   "execution_count": 52,
   "metadata": {},
   "outputs": [
    {
     "data": {
      "text/plain": [
       "(252, 0.9402985074626866)"
      ]
     },
     "execution_count": 52,
     "metadata": {},
     "output_type": "execute_result"
    }
   ],
   "source": [
    "# ALL WRIST (NO PHN)\n",
    "wrist = T[(T['WRIST']==True)& (T['PHN']==False)]\n",
    "unique_id(wrist)"
   ]
  },
  {
   "cell_type": "code",
   "execution_count": 53,
   "metadata": {},
   "outputs": [
    {
     "data": {
      "text/plain": [
       "(263, 0.9813432835820896)"
      ]
     },
     "execution_count": 53,
     "metadata": {},
     "output_type": "execute_result"
    }
   ],
   "source": [
    "# ALL FOOT (NO PHN)\n",
    "foot = T[(T['FOOT']==True)& (T['PHN']==False)]\n",
    "unique_id(foot)"
   ]
  },
  {
   "cell_type": "code",
   "execution_count": null,
   "metadata": {},
   "outputs": [],
   "source": []
  },
  {
   "cell_type": "markdown",
   "metadata": {},
   "source": [
    "# Using directly a loop on baby objects if the properties are not in the text file"
   ]
  },
  {
   "cell_type": "code",
   "execution_count": 54,
   "metadata": {},
   "outputs": [],
   "source": [
    "b = baby('FMC003')"
   ]
  },
  {
   "cell_type": "markdown",
   "metadata": {},
   "source": [
    "### Ethnicity"
   ]
  },
  {
   "cell_type": "code",
   "execution_count": 55,
   "metadata": {},
   "outputs": [
    {
     "name": "stdout",
     "output_type": "stream",
     "text": [
      "Help on built-in function id in module builtins:\n",
      "\n",
      "id(obj, /)\n",
      "    Return the identity of an object.\n",
      "    \n",
      "    This is guaranteed to be unique among simultaneously existing objects.\n",
      "    (CPython uses the object's memory address.)\n",
      "\n",
      "This is the memory address of the variable b:  140229404173424\n"
     ]
    }
   ],
   "source": [
    "# id is a builtin function, don't overwrite it!!\n",
    "help(id)\n",
    "print('This is the memory address of the variable b: ',id(b))"
   ]
  },
  {
   "cell_type": "code",
   "execution_count": 56,
   "metadata": {},
   "outputs": [],
   "source": [
    "quantity = []\n",
    "for iid in np.unique(T['BABY_IDS']):\n",
    "    b = baby(iid)\n",
    "    #print(iid, ': mean PR = ',b.measurements[0]['PR'].mean())\n",
    "    #print(iid, ': weight [grams] = ',b.weight_grams)\n",
    "    quantity.append(b.ethnicity)\n",
    "quantity = np.array(quantity)"
   ]
  },
  {
   "cell_type": "code",
   "execution_count": 57,
   "metadata": {},
   "outputs": [
    {
     "data": {
      "text/plain": [
       "array(['African-American', 'East Indian', 'Hispanic', 'Native',\n",
       "       'Oriental', 'Others', 'Unknown', 'White'], dtype='<U16')"
      ]
     },
     "execution_count": 57,
     "metadata": {},
     "output_type": "execute_result"
    }
   ],
   "source": [
    "np.unique(quantity)"
   ]
  },
  {
   "cell_type": "code",
   "execution_count": 58,
   "metadata": {},
   "outputs": [
    {
     "name": "stdout",
     "output_type": "stream",
     "text": [
      "African-American \t 12 4.48\n",
      "East Indian \t\t 31 11.57\n",
      "Hispanic \t\t 15 5.6\n",
      "Native \t\t\t 3 1.12\n",
      "Oriental \t\t 27 10.07\n",
      "Others \t\t\t 17 6.34\n",
      "Unknown \t\t 2 0.75\n",
      "White \t\t\t 161 60.07\n"
     ]
    }
   ],
   "source": [
    "print('African-American','\\t',len(np.where(quantity=='African-American')[0])  ,round(len(np.where(quantity=='African-American')[0])/268.*100.,2))\n",
    "print('East Indian'     ,'\\t\\t',len(np.where(quantity=='East Indian')[0])     ,round(len(np.where(quantity=='East Indian')[0])     /268.*100.,2))\n",
    "print('Hispanic'        ,'\\t\\t',len(np.where(quantity=='Hispanic')[0])        ,round(len(np.where(quantity=='Hispanic')[0])        /268.*100.,2))\n",
    "print('Native'          ,'\\t\\t\\t',len(np.where(quantity=='Native')[0])        ,round(len(np.where(quantity=='Native')[0])          /268.*100.,2))\n",
    "print('Oriental'        ,'\\t\\t',len(np.where(quantity=='Oriental')[0])        ,round(len(np.where(quantity=='Oriental')[0])        /268.*100.,2))\n",
    "print('Others'          ,'\\t\\t\\t',len(np.where(quantity=='Others')[0])        ,round(len(np.where(quantity=='Others')[0])          /268.*100.,2))\n",
    "print('Unknown'         ,'\\t\\t',len(np.where(quantity=='Unknown')[0])         ,round(len(np.where(quantity=='Unknown')[0])         /268.*100.,2))\n",
    "print('White'           ,'\\t\\t\\t',len(np.where(quantity=='White')[0])         ,round(len(np.where(quantity=='White')[0])           /268.*100.,2))"
   ]
  },
  {
   "cell_type": "code",
   "execution_count": null,
   "metadata": {},
   "outputs": [],
   "source": []
  },
  {
   "cell_type": "code",
   "execution_count": 59,
   "metadata": {},
   "outputs": [],
   "source": [
    "AGE = []\n",
    "ids = np.unique(T['BABY_IDS'])\n",
    "for id in ids:\n",
    "    b = baby(id)\n",
    "    AGE.append(b.age_mum)\n",
    "AGE = np.array(AGE)"
   ]
  },
  {
   "cell_type": "code",
   "execution_count": 60,
   "metadata": {},
   "outputs": [
    {
     "name": "stdout",
     "output_type": "stream",
     "text": [
      "FMC003 33.0\n",
      "FMC004 33.0\n",
      "FMC005 31.0\n",
      "FMC006 34.0\n",
      "FMC007 36.0\n",
      "FMC008 25.0\n",
      "FMC009 32.0\n",
      "FMC010 21.0\n",
      "FMC011 32.0\n",
      "FMC012 28.0\n",
      "FMC013 28.0\n",
      "FMC014 31.0\n",
      "FMC015 34.0\n",
      "FMC016 34.0\n",
      "FMC017 26.0\n",
      "FMC018 31.0\n",
      "FMC019 32.0\n",
      "FMC020 30.0\n",
      "FMC021 34.0\n",
      "FMC022 26.0\n",
      "FMC023 24.0\n",
      "FMC024 40.0\n",
      "FMC025 36.0\n",
      "FMC026 29.0\n",
      "FMC027 35.0\n",
      "FMC028 25.0\n",
      "FMC029 30.0\n",
      "FMC030 35.0\n",
      "FMC031 39.0\n",
      "FMC032 26.0\n",
      "FMC033 27.0\n",
      "FMC034 33.0\n",
      "FMC035 27.0\n",
      "FMC036 32.0\n",
      "FMC037 39.0\n",
      "FMC038 32.0\n",
      "FMC039 33.0\n",
      "FMC040 32.0\n",
      "FMC041 36.0\n",
      "FMC042 30.0\n",
      "FMC043 36.0\n",
      "FMC044 38.0\n",
      "FMC045 31.0\n",
      "FMC046 34.0\n",
      "FMC047 33.0\n",
      "FMC048 27.0\n",
      "FMC049 39.0\n",
      "FMC050 26.0\n",
      "FMC051 26.0\n",
      "FMC052 23.0\n",
      "FMC053 36.0\n",
      "FMC054 35.0\n",
      "FMC055 29.0\n",
      "FMC057 32.0\n",
      "FMC058 29.0\n",
      "FMC059 34.0\n",
      "FMC061 39.0\n",
      "FMC062 35.0\n",
      "FMC064 29.0\n",
      "FMC065 28.0\n",
      "FMC066 30.0\n",
      "FMC067 37.0\n",
      "FMC068 36.0\n",
      "FMC069 33.0\n",
      "FMC070 27.0\n",
      "FMC071 34.0\n",
      "FMC072 39.0\n",
      "FMC073 36.0\n",
      "FMC074 37.0\n",
      "FMC075 26.0\n",
      "FMC076 30.0\n",
      "FMC077 25.0\n",
      "FMC078 32.0\n",
      "FMC079 29.0\n",
      "FMC080 28.0\n",
      "FMC081 31.0\n",
      "FMC082 27.0\n",
      "FMC083 26.0\n",
      "FMC084 34.0\n",
      "FMC085 34.0\n",
      "FMC086 38.0\n",
      "FMC087 43.0\n",
      "FMC088 26.0\n",
      "FMC089 38.0\n",
      "FMC090 24.0\n",
      "FMC091 34.0\n",
      "FMC092 33.0\n",
      "FMC093 33.0\n",
      "FMC094 27.0\n",
      "FMC095 29.0\n",
      "FMC096 39.0\n",
      "FMC097 41.0\n",
      "FMC098 40.0\n",
      "FMC099 32.0\n",
      "FMC100 35.0\n",
      "FMC101 35.0\n",
      "FMC102 33.0\n",
      "FMC103 35.0\n",
      "FMC104 31.0\n",
      "FMC105 40.0\n",
      "FMC106 34.0\n",
      "FMC107 41.0\n",
      "FMC108 27.0\n",
      "FMC109 27.0\n",
      "FMC110 26.0\n",
      "FMC111 41.0\n",
      "FMC112 25.0\n",
      "FMC113 36.0\n",
      "FMC114 31.0\n",
      "FMC115 37.0\n",
      "FMC116 30.0\n",
      "FMC117 37.0\n",
      "FMC118 39.0\n",
      "FMC119 36.0\n",
      "FMC120 37.0\n",
      "FMC121 38.0\n",
      "FMC122 30.0\n",
      "FMC123 31.0\n",
      "FMC124 29.0\n",
      "FMC125 33.0\n",
      "FMC126 35.0\n",
      "FMC127 32.0\n",
      "FMC128 29.0\n",
      "FMC129 37.0\n",
      "FMC130 32.0\n",
      "FMC131 32.0\n",
      "FMC132 33.0\n",
      "FMC133 24.0\n",
      "FMC134 41.0\n",
      "FMC135 35.0\n",
      "FMCO63 29.0\n",
      "PLC 009 29.0\n",
      "PLC 010 16.0\n",
      "PLC 011 38.0\n",
      "PLC 012 23.0\n",
      "PLC 013 30.0\n",
      "PLC 014 32.0\n",
      "PLC 015 38.0\n",
      "PLC 016 37.0\n",
      "PLC 018 42.0\n",
      "PLC 019 29.0\n",
      "PLC 020 35.0\n",
      "PLC 021 27.0\n",
      "PLC 028 34.0\n",
      "PLC 029 22.0\n",
      "PLC 030 24.0\n",
      "PLC 031 41.0\n",
      "PLC 032 27.0\n",
      "PLC 033 24.0\n",
      "PLC 034 37.0\n",
      "PLC 035 33.0\n",
      "PLC 036 35.0\n",
      "PLC 037 30.0\n",
      "PLC 039 33.0\n",
      "PLC 040 29.0\n",
      "PLC 041 25.0\n",
      "PLC 042 25.0\n",
      "PLC 043 28.0\n",
      "PLC 045 37.0\n",
      "PLC 046 32.0\n",
      "PLC 047 34.0\n",
      "PLC 048 37.0\n",
      "PLC 049 27.0\n",
      "PLC 050 28.0\n",
      "PLC 051 30.0\n",
      "PLC 052 26.0\n",
      "PLC 053 26.0\n",
      "PLC 054 33.0\n",
      "PLC 055 33.0\n",
      "PLC 056 28.0\n",
      "PLC 057 32.0\n",
      "PLC 059 33.0\n",
      "PLC 060 29.0\n",
      "PLC 061 36.0\n",
      "PLC 062 37.0\n",
      "PLC 063 26.0\n",
      "PLC001 39.0\n",
      "PLC002 31.0\n",
      "PLC003 37.0\n",
      "PLC004 28.0\n",
      "PLC005 23.0\n",
      "PLC006 21.0\n",
      "PLC007 36.0\n",
      "PLC008 32.0\n",
      "PLC017 30.0\n",
      "PLC022 32.0\n",
      "PLC023 33.0\n",
      "PLC024 31.0\n",
      "PLC025 31.0\n",
      "PLC026 28.0\n",
      "PLC027 23.0\n",
      "PLC038 32.0\n",
      "PLC044 29.0\n",
      "PLC058 34.0\n",
      "RGH 025 30.0\n",
      "RGH 046 37.0\n",
      "RGH 049 34.0\n",
      "RGH 050 35.0\n",
      "RGH 052 34.0\n",
      "RGH001 32.0\n",
      "RGH002 27.0\n",
      "RGH003 29.0\n",
      "RGH004 32.0\n",
      "RGH005 33.0\n",
      "RGH006 28.0\n",
      "RGH007 35.0\n",
      "RGH008 32.0\n",
      "RGH009 29.0\n",
      "RGH010 38.0\n",
      "RGH011 33.0\n",
      "RGH012 31.0\n",
      "RGH013 35.0\n",
      "RGH014 31.0\n",
      "RGH015 30.0\n",
      "RGH016 24.0\n",
      "RGH017 29.0\n",
      "RGH018 31.0\n",
      "RGH019 25.0\n",
      "RGH020 32.0\n",
      "RGH022 40.0\n",
      "RGH023 29.0\n",
      "RGH024 27.0\n",
      "RGH026 31.0\n",
      "RGH027 29.0\n",
      "RGH028 29.0\n",
      "RGH029 34.0\n",
      "RGH030 33.0\n",
      "RGH031 34.0\n",
      "RGH032 31.0\n",
      "RGH033 33.0\n",
      "RGH034 34.0\n",
      "RGH035 30.0\n",
      "RGH036 33.0\n",
      "RGH037 36.0\n",
      "RGH038 31.0\n",
      "RGH039 33.0\n",
      "RGH040 32.0\n",
      "RGH041 29.0\n",
      "RGH042 34.0\n",
      "RGH043 31.0\n",
      "RGH044 37.0\n",
      "RGH045 39.0\n",
      "RGH047 37.0\n",
      "RGH048 33.0\n",
      "RGH051 29.0\n",
      "RGH053 34.0\n",
      "RGH054 29.0\n",
      "RGH055 34.0\n",
      "RGH056 36.0\n",
      "RGH057 35.0\n",
      "RGH058 30.0\n",
      "RGH059 29.0\n",
      "RGH060 25.0\n",
      "RGH061 31.0\n",
      "RGH062 33.0\n",
      "RGH063 33.0\n",
      "RGH064 30.0\n",
      "RGH065 33.0\n",
      "RGH066 28.0\n",
      "RGH067 29.0\n",
      "RGH068 38.0\n",
      "RGH069 34.0\n",
      "RGH071 37.0\n",
      "RGH072 28.0\n",
      "RGH073 39.0\n",
      "RGH074 27.0\n",
      "RGH21 31.0\n",
      "RGH70 37.0\n"
     ]
    }
   ],
   "source": [
    "for i in range(len(ids)):\n",
    "    print(ids[i],AGE[i])"
   ]
  },
  {
   "cell_type": "code",
   "execution_count": 61,
   "metadata": {},
   "outputs": [
    {
     "data": {
      "text/plain": [
       "31.87313432835821"
      ]
     },
     "execution_count": 61,
     "metadata": {},
     "output_type": "execute_result"
    }
   ],
   "source": [
    "AGE.mean()"
   ]
  },
  {
   "cell_type": "code",
   "execution_count": null,
   "metadata": {},
   "outputs": [],
   "source": []
  },
  {
   "cell_type": "code",
   "execution_count": 62,
   "metadata": {},
   "outputs": [],
   "source": [
    "DIABETES = []\n",
    "ids = np.unique(T['BABY_IDS'])\n",
    "for id in ids:\n",
    "    b = baby(id)\n",
    "    DIABETES.append(b.gestational_diabetes)\n",
    "DIABETES = np.array(DIABETES)"
   ]
  },
  {
   "cell_type": "code",
   "execution_count": 63,
   "metadata": {},
   "outputs": [
    {
     "data": {
      "text/plain": [
       "array(['No', 'Yes'], dtype='<U3')"
      ]
     },
     "execution_count": 63,
     "metadata": {},
     "output_type": "execute_result"
    }
   ],
   "source": [
    "np.unique(DIABETES)"
   ]
  },
  {
   "cell_type": "code",
   "execution_count": 64,
   "metadata": {},
   "outputs": [
    {
     "name": "stdout",
     "output_type": "stream",
     "text": [
      "BABIES WITH GESTATIONAL DIABETES: # = 26 perc = 9.701492537313433\n"
     ]
    }
   ],
   "source": [
    "print('BABIES WITH GESTATIONAL DIABETES: # = %s perc = %s'%(len(np.where(DIABETES=='Yes')[0]),len(np.where(DIABETES=='Yes')[0])/268.*100))"
   ]
  },
  {
   "cell_type": "code",
   "execution_count": null,
   "metadata": {},
   "outputs": [],
   "source": []
  },
  {
   "cell_type": "code",
   "execution_count": 65,
   "metadata": {},
   "outputs": [],
   "source": [
    "SMOKING = []\n",
    "ids = np.unique(T['BABY_IDS'])\n",
    "for id in ids:\n",
    "    b = baby(id)\n",
    "    SMOKING.append(b.smoking)\n",
    "SMOKING = np.array(SMOKING)"
   ]
  },
  {
   "cell_type": "code",
   "execution_count": 66,
   "metadata": {},
   "outputs": [
    {
     "data": {
      "text/plain": [
       "array(['No', 'Yes'], dtype='<U3')"
      ]
     },
     "execution_count": 66,
     "metadata": {},
     "output_type": "execute_result"
    }
   ],
   "source": [
    "np.unique(SMOKING)"
   ]
  },
  {
   "cell_type": "code",
   "execution_count": 67,
   "metadata": {},
   "outputs": [
    {
     "name": "stdout",
     "output_type": "stream",
     "text": [
      "SMOKING MUMS: # = 12 perc = 4.477611940298507\n"
     ]
    }
   ],
   "source": [
    "print('SMOKING MUMS: # = %s perc = %s'%(len(np.where(SMOKING=='Yes')[0]),len(np.where(SMOKING=='Yes')[0])/268.*100))"
   ]
  },
  {
   "cell_type": "code",
   "execution_count": null,
   "metadata": {},
   "outputs": [],
   "source": []
  },
  {
   "cell_type": "code",
   "execution_count": 68,
   "metadata": {},
   "outputs": [
    {
     "ename": "KeyboardInterrupt",
     "evalue": "",
     "output_type": "error",
     "traceback": [
      "\u001b[0;31m---------------------------------------------------------------------------\u001b[0m",
      "\u001b[0;31mKeyboardInterrupt\u001b[0m                         Traceback (most recent call last)",
      "\u001b[0;32m<ipython-input-68-d9b96ecd8a0d>\u001b[0m in \u001b[0;36m<module>\u001b[0;34m()\u001b[0m\n\u001b[1;32m      2\u001b[0m \u001b[0mids\u001b[0m \u001b[0;34m=\u001b[0m \u001b[0mnp\u001b[0m\u001b[0;34m.\u001b[0m\u001b[0munique\u001b[0m\u001b[0;34m(\u001b[0m\u001b[0mT\u001b[0m\u001b[0;34m[\u001b[0m\u001b[0;34m'BABY_IDS'\u001b[0m\u001b[0;34m]\u001b[0m\u001b[0;34m)\u001b[0m\u001b[0;34m\u001b[0m\u001b[0;34m\u001b[0m\u001b[0m\n\u001b[1;32m      3\u001b[0m \u001b[0;32mfor\u001b[0m \u001b[0mid\u001b[0m \u001b[0;32min\u001b[0m \u001b[0mids\u001b[0m\u001b[0;34m:\u001b[0m\u001b[0;34m\u001b[0m\u001b[0;34m\u001b[0m\u001b[0m\n\u001b[0;32m----> 4\u001b[0;31m     \u001b[0mb\u001b[0m \u001b[0;34m=\u001b[0m \u001b[0mbaby\u001b[0m\u001b[0;34m(\u001b[0m\u001b[0mid\u001b[0m\u001b[0;34m)\u001b[0m\u001b[0;34m\u001b[0m\u001b[0;34m\u001b[0m\u001b[0m\n\u001b[0m\u001b[1;32m      5\u001b[0m     \u001b[0mMECONIUM\u001b[0m\u001b[0;34m.\u001b[0m\u001b[0mappend\u001b[0m\u001b[0;34m(\u001b[0m\u001b[0mb\u001b[0m\u001b[0;34m.\u001b[0m\u001b[0mmeconium\u001b[0m\u001b[0;34m)\u001b[0m\u001b[0;34m\u001b[0m\u001b[0;34m\u001b[0m\u001b[0m\n\u001b[1;32m      6\u001b[0m \u001b[0mMECONIUM\u001b[0m \u001b[0;34m=\u001b[0m \u001b[0mnp\u001b[0m\u001b[0;34m.\u001b[0m\u001b[0marray\u001b[0m\u001b[0;34m(\u001b[0m\u001b[0mMECONIUM\u001b[0m\u001b[0;34m)\u001b[0m\u001b[0;34m\u001b[0m\u001b[0;34m\u001b[0m\u001b[0m\n",
      "\u001b[0;32m/home/giorgio/Desktop/NHS/code/CLASS_BABY.py\u001b[0m in \u001b[0;36m__init__\u001b[0;34m(self, baby_id, babies, additional_info, verbose, warning)\u001b[0m\n\u001b[1;32m    678\u001b[0m                 \u001b[0mbrady_episodes_m10\u001b[0m \u001b[0;34m=\u001b[0m \u001b[0mget_brady_episodes_durations\u001b[0m\u001b[0;34m(\u001b[0m\u001b[0mt\u001b[0m\u001b[0;34m=\u001b[0m\u001b[0mdt_clean_for_pr\u001b[0m\u001b[0;34m,\u001b[0m \u001b[0mPR\u001b[0m\u001b[0;34m=\u001b[0m\u001b[0mpr_clean\u001b[0m\u001b[0;34m,\u001b[0m \u001b[0mthreshold\u001b[0m\u001b[0;34m=\u001b[0m\u001b[0mself\u001b[0m\u001b[0;34m.\u001b[0m\u001b[0mpr_threshold\u001b[0m\u001b[0;34m-\u001b[0m\u001b[0;36m10\u001b[0m\u001b[0;34m,\u001b[0m \u001b[0mduration_minimum\u001b[0m\u001b[0;34m=\u001b[0m\u001b[0;36m15\u001b[0m\u001b[0;34m)\u001b[0m\u001b[0;34m\u001b[0m\u001b[0;34m\u001b[0m\u001b[0m\n\u001b[1;32m    679\u001b[0m                 \u001b[0mbrady_episodes_m20\u001b[0m \u001b[0;34m=\u001b[0m \u001b[0mget_brady_episodes_durations\u001b[0m\u001b[0;34m(\u001b[0m\u001b[0mt\u001b[0m\u001b[0;34m=\u001b[0m\u001b[0mdt_clean_for_pr\u001b[0m\u001b[0;34m,\u001b[0m \u001b[0mPR\u001b[0m\u001b[0;34m=\u001b[0m\u001b[0mpr_clean\u001b[0m\u001b[0;34m,\u001b[0m \u001b[0mthreshold\u001b[0m\u001b[0;34m=\u001b[0m\u001b[0mself\u001b[0m\u001b[0;34m.\u001b[0m\u001b[0mpr_threshold\u001b[0m\u001b[0;34m-\u001b[0m\u001b[0;36m20\u001b[0m\u001b[0;34m,\u001b[0m \u001b[0mduration_minimum\u001b[0m\u001b[0;34m=\u001b[0m\u001b[0;36m15\u001b[0m\u001b[0;34m)\u001b[0m\u001b[0;34m\u001b[0m\u001b[0;34m\u001b[0m\u001b[0m\n\u001b[0;32m--> 680\u001b[0;31m                 \u001b[0mbrady_episodes_m30\u001b[0m \u001b[0;34m=\u001b[0m \u001b[0mget_brady_episodes_durations\u001b[0m\u001b[0;34m(\u001b[0m\u001b[0mt\u001b[0m\u001b[0;34m=\u001b[0m\u001b[0mdt_clean_for_pr\u001b[0m\u001b[0;34m,\u001b[0m \u001b[0mPR\u001b[0m\u001b[0;34m=\u001b[0m\u001b[0mpr_clean\u001b[0m\u001b[0;34m,\u001b[0m \u001b[0mthreshold\u001b[0m\u001b[0;34m=\u001b[0m\u001b[0mself\u001b[0m\u001b[0;34m.\u001b[0m\u001b[0mpr_threshold\u001b[0m\u001b[0;34m-\u001b[0m\u001b[0;36m30\u001b[0m\u001b[0;34m,\u001b[0m \u001b[0mduration_minimum\u001b[0m\u001b[0;34m=\u001b[0m\u001b[0;36m15\u001b[0m\u001b[0;34m)\u001b[0m\u001b[0;34m\u001b[0m\u001b[0;34m\u001b[0m\u001b[0m\n\u001b[0m\u001b[1;32m    681\u001b[0m                 \u001b[0mbrady_episodes_m40\u001b[0m \u001b[0;34m=\u001b[0m \u001b[0mget_brady_episodes_durations\u001b[0m\u001b[0;34m(\u001b[0m\u001b[0mt\u001b[0m\u001b[0;34m=\u001b[0m\u001b[0mdt_clean_for_pr\u001b[0m\u001b[0;34m,\u001b[0m \u001b[0mPR\u001b[0m\u001b[0;34m=\u001b[0m\u001b[0mpr_clean\u001b[0m\u001b[0;34m,\u001b[0m \u001b[0mthreshold\u001b[0m\u001b[0;34m=\u001b[0m\u001b[0mself\u001b[0m\u001b[0;34m.\u001b[0m\u001b[0mpr_threshold\u001b[0m\u001b[0;34m-\u001b[0m\u001b[0;36m40\u001b[0m\u001b[0;34m,\u001b[0m \u001b[0mduration_minimum\u001b[0m\u001b[0;34m=\u001b[0m\u001b[0;36m15\u001b[0m\u001b[0;34m)\u001b[0m\u001b[0;34m\u001b[0m\u001b[0;34m\u001b[0m\u001b[0m\n\u001b[1;32m    682\u001b[0m \u001b[0;34m\u001b[0m\u001b[0m\n",
      "\u001b[0;32m/home/giorgio/Desktop/NHS/code/CLASS_BABY.py\u001b[0m in \u001b[0;36mget_brady_episodes_durations\u001b[0;34m(t, PR, threshold, duration_minimum, time_step)\u001b[0m\n\u001b[1;32m    406\u001b[0m         \u001b[0;31m# check that time bins are continuous\u001b[0m\u001b[0;34m\u001b[0m\u001b[0;34m\u001b[0m\u001b[0;34m\u001b[0m\u001b[0m\n\u001b[1;32m    407\u001b[0m         \u001b[0;31m# without any gap in time\u001b[0m\u001b[0;34m\u001b[0m\u001b[0;34m\u001b[0m\u001b[0;34m\u001b[0m\u001b[0m\n\u001b[0;32m--> 408\u001b[0;31m         \u001b[0;32mif\u001b[0m \u001b[0mt\u001b[0m\u001b[0;34m[\u001b[0m\u001b[0mi\u001b[0m \u001b[0;34m-\u001b[0m \u001b[0;36m1\u001b[0m\u001b[0;34m]\u001b[0m \u001b[0;34m==\u001b[0m \u001b[0mt\u001b[0m\u001b[0;34m[\u001b[0m\u001b[0mi\u001b[0m\u001b[0;34m]\u001b[0m \u001b[0;34m-\u001b[0m \u001b[0mtime_step\u001b[0m\u001b[0;34m:\u001b[0m\u001b[0;34m\u001b[0m\u001b[0;34m\u001b[0m\u001b[0m\n\u001b[0m\u001b[1;32m    409\u001b[0m             \u001b[0mcontiguous_time_bin\u001b[0m \u001b[0;34m=\u001b[0m \u001b[0;32mTrue\u001b[0m\u001b[0;34m\u001b[0m\u001b[0;34m\u001b[0m\u001b[0m\n\u001b[1;32m    410\u001b[0m         \u001b[0;32melse\u001b[0m\u001b[0;34m:\u001b[0m\u001b[0;34m\u001b[0m\u001b[0;34m\u001b[0m\u001b[0m\n",
      "\u001b[0;31mKeyboardInterrupt\u001b[0m: "
     ]
    }
   ],
   "source": [
    "MECONIUM = []\n",
    "ids = np.unique(T['BABY_IDS'])\n",
    "for id in ids:\n",
    "    b = baby(id)\n",
    "    MECONIUM.append(b.meconium)\n",
    "MECONIUM = np.array(MECONIUM)"
   ]
  },
  {
   "cell_type": "code",
   "execution_count": null,
   "metadata": {},
   "outputs": [],
   "source": [
    "np.unique(MECONIUM)"
   ]
  },
  {
   "cell_type": "code",
   "execution_count": null,
   "metadata": {},
   "outputs": [],
   "source": [
    "print('Babies with meconium stained liqor: # = %s perc = %s'%(len(np.where(MECONIUM=='Yes')[0]),len(np.where(MECONIUM=='Yes')[0])/268.*100))"
   ]
  },
  {
   "cell_type": "code",
   "execution_count": null,
   "metadata": {},
   "outputs": [],
   "source": []
  },
  {
   "cell_type": "code",
   "execution_count": null,
   "metadata": {},
   "outputs": [],
   "source": [
    "APGAR5 = []\n",
    "ids = np.unique(T['BABY_IDS'])\n",
    "for id in ids:\n",
    "    b = baby(id)\n",
    "    APGAR5.append(b.apgar5)\n",
    "APGAR5 = np.array(APGAR5)"
   ]
  },
  {
   "cell_type": "code",
   "execution_count": null,
   "metadata": {},
   "outputs": [],
   "source": [
    "np.mean(APGAR5),np.std(APGAR5)"
   ]
  },
  {
   "cell_type": "code",
   "execution_count": null,
   "metadata": {},
   "outputs": [],
   "source": [
    "APGAR5"
   ]
  },
  {
   "cell_type": "code",
   "execution_count": null,
   "metadata": {},
   "outputs": [],
   "source": [
    "ss.iqr(APGAR5,rng=(0,100))"
   ]
  },
  {
   "cell_type": "code",
   "execution_count": null,
   "metadata": {},
   "outputs": [],
   "source": []
  },
  {
   "cell_type": "code",
   "execution_count": null,
   "metadata": {},
   "outputs": [],
   "source": [
    "#MATERNAL PRE-ECLAMPSIA\n",
    "PRE_ECLAMPSIA = []\n",
    "ids = np.unique(T['BABY_IDS'])\n",
    "for iid in ids:\n",
    "    b = baby(iid)\n",
    "    PRE_ECLAMPSIA.append(b.preeclampsia)\n",
    "PRE_ECLAMPSIA = np.array(PRE_ECLAMPSIA)"
   ]
  },
  {
   "cell_type": "code",
   "execution_count": null,
   "metadata": {},
   "outputs": [],
   "source": [
    "np.unique(PRE_ECLAMPSIA)"
   ]
  },
  {
   "cell_type": "code",
   "execution_count": null,
   "metadata": {},
   "outputs": [],
   "source": [
    "print('Babies with maternal pre-eclampsia: # = %s perc = %s'%(len(np.where(PRE_ECLAMPSIA=='Yes')[0]),len(np.where(PRE_ECLAMPSIA=='Yes')[0])/268.*100))"
   ]
  },
  {
   "cell_type": "code",
   "execution_count": null,
   "metadata": {},
   "outputs": [],
   "source": []
  },
  {
   "cell_type": "code",
   "execution_count": null,
   "metadata": {},
   "outputs": [],
   "source": []
  },
  {
   "cell_type": "code",
   "execution_count": null,
   "metadata": {},
   "outputs": [],
   "source": []
  },
  {
   "cell_type": "code",
   "execution_count": null,
   "metadata": {},
   "outputs": [],
   "source": []
  },
  {
   "cell_type": "code",
   "execution_count": null,
   "metadata": {},
   "outputs": [],
   "source": [
    "AGE_FIRST_REC = []\n",
    "ids = np.unique(T['BABY_IDS'])\n",
    "for id in ids:\n",
    "    b = baby(id)\n",
    "    AGE_FIRST_REC.append(np.min(b.measurements_delta_sec_since_birth))\n",
    "AGE_FIRST_REC = np.array(AGE_FIRST_REC)"
   ]
  },
  {
   "cell_type": "code",
   "execution_count": null,
   "metadata": {},
   "outputs": [],
   "source": [
    "np.min(b.measurements_delta_sec_since_birth)"
   ]
  },
  {
   "cell_type": "code",
   "execution_count": null,
   "metadata": {},
   "outputs": [],
   "source": [
    "np.median(AGE_FIRST_REC)/60./60."
   ]
  },
  {
   "cell_type": "code",
   "execution_count": null,
   "metadata": {},
   "outputs": [],
   "source": [
    "ss.iqr(AGE_FIRST_REC,rng=(25,75))/60./60."
   ]
  },
  {
   "cell_type": "code",
   "execution_count": null,
   "metadata": {},
   "outputs": [],
   "source": [
    "age_sort = np.sort(AGE_FIRST_REC)"
   ]
  },
  {
   "cell_type": "code",
   "execution_count": null,
   "metadata": {},
   "outputs": [],
   "source": [
    "print(np.median(AGE_FIRST_REC))"
   ]
  },
  {
   "cell_type": "code",
   "execution_count": null,
   "metadata": {},
   "outputs": [],
   "source": []
  },
  {
   "cell_type": "code",
   "execution_count": null,
   "metadata": {},
   "outputs": [],
   "source": []
  },
  {
   "cell_type": "code",
   "execution_count": null,
   "metadata": {},
   "outputs": [],
   "source": [
    "def my_median(vector):\n",
    "    vec_sorted = np.sort(vector)\n",
    "    dispari = np.mod(len(vec_sorted),2)\n",
    "    index = int(len(vec_sorted)/2.)\n",
    "    if dispari:\n",
    "        med = vec_sorted[index]\n",
    "    else:\n",
    "        m1 = vec_sorted[index-1]\n",
    "        m2 = vec_sorted[index]\n",
    "        med = (m1 + m2)/2.\n",
    "    return med"
   ]
  },
  {
   "cell_type": "code",
   "execution_count": null,
   "metadata": {},
   "outputs": [],
   "source": [
    "def percentile(vector,perc=25):\n",
    "    vec_sorted = np.sort(vector)\n",
    "    frac = perc/100.\n",
    "    return vec_sorted[int(round(len(vec_sorted)*frac,0))]"
   ]
  },
  {
   "cell_type": "code",
   "execution_count": null,
   "metadata": {},
   "outputs": [],
   "source": [
    "my_median(AGE_FIRST_REC)"
   ]
  },
  {
   "cell_type": "code",
   "execution_count": null,
   "metadata": {},
   "outputs": [],
   "source": [
    "p1 = percentile(AGE_FIRST_REC,perc=25)"
   ]
  },
  {
   "cell_type": "code",
   "execution_count": null,
   "metadata": {},
   "outputs": [],
   "source": [
    "p2 = percentile(AGE_FIRST_REC,perc=75)"
   ]
  },
  {
   "cell_type": "code",
   "execution_count": null,
   "metadata": {},
   "outputs": [],
   "source": [
    "np.absolute(p1-p2)#/60./60."
   ]
  },
  {
   "cell_type": "code",
   "execution_count": null,
   "metadata": {},
   "outputs": [],
   "source": [
    "ss.iqr(AGE_FIRST_REC)"
   ]
  },
  {
   "cell_type": "markdown",
   "metadata": {},
   "source": [
    "# Counting the number of measurements per baby"
   ]
  },
  {
   "cell_type": "code",
   "execution_count": 76,
   "metadata": {},
   "outputs": [],
   "source": [
    "#Number of files per baby\n",
    "num_recordings = []\n",
    "num_wrist = []\n",
    "num_foot = []\n",
    "ids = np.unique(T['BABY_IDS'])\n",
    "for iid in ids:\n",
    "    b = baby(iid)\n",
    "    num_recordings.append(len(b.files))\n",
    "    num_wrist.append(len(np.where(b.measurements_wrist==True)[0]))\n",
    "    num_foot.append(len(np.where(b.measurements_foot==True)[0]))\n",
    "num_recordings = np.array(num_recordings)"
   ]
  },
  {
   "cell_type": "code",
   "execution_count": 90,
   "metadata": {},
   "outputs": [],
   "source": [
    "num_wrist = np.array(num_wrist)\n",
    "num_foot = np.array(num_foot)"
   ]
  },
  {
   "cell_type": "code",
   "execution_count": 84,
   "metadata": {},
   "outputs": [
    {
     "data": {
      "image/png": "[encoded data removed]",
      "text/plain": [
       "<Figure size 432x288 with 1 Axes>"
      ]
     },
     "metadata": {},
     "output_type": "display_data"
    }
   ],
   "source": [
    "plt.hist(num_recordings)\n",
    "plt.xlabel('Number of recordings')\n",
    "plt.ylabel('Number of babies')\n",
    "plt.show()"
   ]
  },
  {
   "cell_type": "code",
   "execution_count": 85,
   "metadata": {},
   "outputs": [
    {
     "data": {
      "image/png": "[encoded data removed]",
      "text/plain": [
       "<Figure size 432x288 with 1 Axes>"
      ]
     },
     "metadata": {},
     "output_type": "display_data"
    }
   ],
   "source": [
    "plt.hist(num_wrist)\n",
    "plt.xlabel('Number of recordings from wrist')\n",
    "plt.ylabel('Number of babies')\n",
    "plt.show()"
   ]
  },
  {
   "cell_type": "code",
   "execution_count": 86,
   "metadata": {},
   "outputs": [
    {
     "data": {
      "image/png": "[encoded data removed]",
      "text/plain": [
       "<Figure size 432x288 with 1 Axes>"
      ]
     },
     "metadata": {},
     "output_type": "display_data"
    }
   ],
   "source": [
    "plt.hist(num_foot)\n",
    "plt.xlabel('Number of recordings from foot')\n",
    "plt.ylabel('Number of babies')\n",
    "plt.show()"
   ]
  },
  {
   "cell_type": "code",
   "execution_count": 87,
   "metadata": {},
   "outputs": [
    {
     "name": "stdout",
     "output_type": "stream",
     "text": [
      "Babies with 0 recordings: 0\n",
      "Babies with 1 recording : 8\n",
      "Babies with 2 recordings: 140\n",
      "Babies with 3 recordings: 15\n",
      "Babies with 4 recordings: 99\n",
      "Babies with 5 recordings: 1\n",
      "Babies with 6 recordings: 5\n",
      "Babies with 7 recordings: 0\n"
     ]
    }
   ],
   "source": [
    "print('Babies with 0 recordings: %i'%len(np.where(num_recordings==0)[0]))\n",
    "print('Babies with 1 recording : %i'%len(np.where(num_recordings==1)[0]))\n",
    "print('Babies with 2 recordings: %i'%len(np.where(num_recordings==2)[0]))\n",
    "print('Babies with 3 recordings: %i'%len(np.where(num_recordings==3)[0]))\n",
    "print('Babies with 4 recordings: %i'%len(np.where(num_recordings==4)[0]))\n",
    "print('Babies with 5 recordings: %i'%len(np.where(num_recordings==5)[0]))\n",
    "print('Babies with 6 recordings: %i'%len(np.where(num_recordings==6)[0]))\n",
    "print('Babies with 7 recordings: %i'%len(np.where(num_recordings==7)[0]))"
   ]
  },
  {
   "cell_type": "code",
   "execution_count": 94,
   "metadata": {},
   "outputs": [
    {
     "name": "stdout",
     "output_type": "stream",
     "text": [
      "Babies with 0 recordings from wrist: 7\n",
      "Babies with 1 recording  from wrist: 151\n",
      "Babies with 2 recordings from wrist: 105\n",
      "Babies with 3 recordings from wrist: 5\n",
      "Babies with 4 recordings from wrist: 0\n"
     ]
    }
   ],
   "source": [
    "print('Babies with 0 recordings from wrist: %i'%len(np.where(num_wrist==0)[0]))\n",
    "print('Babies with 1 recording  from wrist: %i'%len(np.where(num_wrist==1)[0]))\n",
    "print('Babies with 2 recordings from wrist: %i'%len(np.where(num_wrist==2)[0]))\n",
    "print('Babies with 3 recordings from wrist: %i'%len(np.where(num_wrist==3)[0]))\n",
    "print('Babies with 4 recordings from wrist: %i'%len(np.where(num_wrist==4)[0]))\n",
    "#print('Babies with 5 recordings from wrist: %i'%len(np.where(num_wrist==5)[0]))\n",
    "#print('Babies with 6 recordings from wrist: %i'%len(np.where(num_wrist==6)[0]))\n",
    "#print('Babies with 7 recordings from wrist: %i'%len(np.where(num_wrist==7)[0]))"
   ]
  },
  {
   "cell_type": "code",
   "execution_count": 95,
   "metadata": {},
   "outputs": [
    {
     "name": "stdout",
     "output_type": "stream",
     "text": [
      "Babies with 0 recordings from foot: 1\n",
      "Babies with 1 recording  from foot: 152\n",
      "Babies with 2 recordings from foot: 109\n",
      "Babies with 3 recordings from foot: 6\n",
      "Babies with 4 recordings from foot: 0\n"
     ]
    }
   ],
   "source": [
    "print('Babies with 0 recordings from foot: %i'%len(np.where(num_foot==0)[0]))\n",
    "print('Babies with 1 recording  from foot: %i'%len(np.where(num_foot==1)[0]))\n",
    "print('Babies with 2 recordings from foot: %i'%len(np.where(num_foot==2)[0]))\n",
    "print('Babies with 3 recordings from foot: %i'%len(np.where(num_foot==3)[0]))\n",
    "print('Babies with 4 recordings from foot: %i'%len(np.where(num_foot==4)[0]))\n",
    "#print('Babies with 5 recordings from foot: %i'%len(np.where(num_foot==5)[0]))\n",
    "#print('Babies with 6 recordings from foot: %i'%len(np.where(num_foot==6)[0]))\n",
    "#print('Babies with 7 recordings from foot: %i'%len(np.where(num_foot==7)[0]))"
   ]
  },
  {
   "cell_type": "code",
   "execution_count": null,
   "metadata": {},
   "outputs": [],
   "source": []
  },
  {
   "cell_type": "code",
   "execution_count": null,
   "metadata": {},
   "outputs": [],
   "source": []
  },
  {
   "cell_type": "code",
   "execution_count": null,
   "metadata": {},
   "outputs": [],
   "source": []
  },
  {
   "cell_type": "code",
   "execution_count": 116,
   "metadata": {},
   "outputs": [
    {
     "name": "stdout",
     "output_type": "stream",
     "text": [
      "PR 5th percentile 103.5 \n",
      "PR 25th percentile 114.0 \n",
      "PR 50th percentile 122.0 (median)\n",
      "PR 75th percentile 130.0 \n",
      "PR 90th percentile 138.0 \n",
      "PR 95th percentile 143.0 \n"
     ]
    }
   ],
   "source": [
    "print('PR 5th percentile %.1f '%          np.percentile(np.array(T['MED_PR'][T['PHN']==False]),5))\n",
    "print('PR 25th percentile %.1f '%         np.percentile(np.array(T['MED_PR'][T['PHN']==False]),25))\n",
    "print('PR 50th percentile %.1f (median)'% np.percentile(np.array(T['MED_PR'][T['PHN']==False]),50))\n",
    "print('PR 75th percentile %.1f '%         np.percentile(np.array(T['MED_PR'][T['PHN']==False]),75))\n",
    "print('PR 90th percentile %.1f '%         np.percentile(np.array(T['MED_PR'][T['PHN']==False]),90))\n",
    "print('PR 95th percentile %.1f '%         np.percentile(np.array(T['MED_PR'][T['PHN']==False]),95))"
   ]
  },
  {
   "cell_type": "code",
   "execution_count": 122,
   "metadata": {},
   "outputs": [
    {
     "name": "stdout",
     "output_type": "stream",
     "text": [
      "PR WRIST 5th percentile 104.9 \n",
      "PR WRIST 25th percentile 115.0 \n",
      "PR WRIST 50th percentile 121.0 (median)\n",
      "PR WRIST 75th percentile 129.0 \n",
      "PR WRIST 90th percentile 136.2 \n",
      "PR WRIST 95th percentile 142.0 \n"
     ]
    }
   ],
   "source": [
    "print('PR WRIST 5th percentile %.1f '%          np.percentile(np.array(T['MED_PR'][(T['PHN']==False)&(T['WRIST']==True)]),5))\n",
    "print('PR WRIST 25th percentile %.1f '%         np.percentile(np.array(T['MED_PR'][(T['PHN']==False)&(T['WRIST']==True)]),25))\n",
    "print('PR WRIST 50th percentile %.1f (median)'% np.percentile(np.array(T['MED_PR'][(T['PHN']==False)&(T['WRIST']==True)]),50))\n",
    "print('PR WRIST 75th percentile %.1f '%         np.percentile(np.array(T['MED_PR'][(T['PHN']==False)&(T['WRIST']==True)]),75))\n",
    "print('PR WRIST 90th percentile %.1f '%         np.percentile(np.array(T['MED_PR'][(T['PHN']==False)&(T['WRIST']==True)]),90))\n",
    "print('PR WRIST 95th percentile %.1f '%         np.percentile(np.array(T['MED_PR'][(T['PHN']==False)&(T['WRIST']==True)]),95))"
   ]
  },
  {
   "cell_type": "code",
   "execution_count": 124,
   "metadata": {},
   "outputs": [
    {
     "name": "stdout",
     "output_type": "stream",
     "text": [
      "PR FOOT 5th percentile 103.0 \n",
      "PR FOOT 25th percentile 114.0 \n",
      "PR FOOT 50th percentile 122.0 (median)\n",
      "PR FOOT 75th percentile 131.0 \n",
      "PR FOOT 90th percentile 139.0 \n",
      "PR FOOT 95th percentile 144.2 \n"
     ]
    }
   ],
   "source": [
    "print('PR FOOT 5th percentile %.1f '%          np.percentile(np.array(T['MED_PR'][(T['PHN']==False)&(T['FOOT']==True)]),5))\n",
    "print('PR FOOT 25th percentile %.1f '%         np.percentile(np.array(T['MED_PR'][(T['PHN']==False)&(T['FOOT']==True)]),25))\n",
    "print('PR FOOT 50th percentile %.1f (median)'% np.percentile(np.array(T['MED_PR'][(T['PHN']==False)&(T['FOOT']==True)]),50))\n",
    "print('PR FOOT 75th percentile %.1f '%         np.percentile(np.array(T['MED_PR'][(T['PHN']==False)&(T['FOOT']==True)]),75))\n",
    "print('PR FOOT 90th percentile %.1f '%         np.percentile(np.array(T['MED_PR'][(T['PHN']==False)&(T['FOOT']==True)]),90))\n",
    "print('PR FOOT 95th percentile %.1f '%         np.percentile(np.array(T['MED_PR'][(T['PHN']==False)&(T['FOOT']==True)]),95))"
   ]
  },
  {
   "cell_type": "code",
   "execution_count": null,
   "metadata": {},
   "outputs": [],
   "source": []
  }
 ],
 "metadata": {
  "kernelspec": {
   "display_name": "Python 3",
   "language": "python",
   "name": "python3"
  },
  "language_info": {
   "codemirror_mode": {
    "name": "ipython",
    "version": 3
   },
   "file_extension": ".py",
   "mimetype": "text/x-python",
   "name": "python",
   "nbconvert_exporter": "python",
   "pygments_lexer": "ipython3",
   "version": "3.6.9"
  }
 },
 "nbformat": 4,
 "nbformat_minor": 2
}
