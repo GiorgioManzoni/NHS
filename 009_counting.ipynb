{
 "cells": [
  {
   "cell_type": "code",
   "execution_count": 34,
   "metadata": {},
   "outputs": [],
   "source": [
    "import sys\n",
    "sys.modules.pop('CLASS_BABY')\n",
    "sys.modules.pop('CLASS_SAMPLE')\n",
    "\n",
    "from CLASS_BABY import *\n",
    "from CLASS_SAMPLE import *\n",
    "\n",
    "import scipy.stats as ss\n",
    "\n",
    "#bigger fonts\n",
    "import matplotlib\n",
    "matplotlib.rc('xtick', labelsize=15) \n",
    "matplotlib.rc('ytick', labelsize=15)\n",
    "matplotlib.rcParams.update({'font.size': 20})"
   ]
  },
  {
   "cell_type": "code",
   "execution_count": 35,
   "metadata": {},
   "outputs": [],
   "source": [
    "b = baby('FMC003')"
   ]
  },
  {
   "cell_type": "code",
   "execution_count": 36,
   "metadata": {},
   "outputs": [],
   "source": [
    "# Not specified types are strings\n",
    "T = pd.read_csv('../TOST_data/average_properties.txt',\n",
    "            sep='\\t',index_col=0,na_values=-99,\n",
    "            dtype={'WEIGHT_GRAMS': float,\n",
    "                   'GEST_AGE_DAYS':float,\n",
    "                   'DELTA_SEC_MEASURE':float,\n",
    "                   'MED_SPO2':float,\n",
    "                   'MED_PI':float,\n",
    "                   'MED_PR':float,\n",
    "                   'BRADY_SEC_PR':float,\n",
    "                   'BRADY_RATIO_PR':float,\n",
    "                   'BRADY_RATIO_PR_m10':float,\n",
    "                   'BRADY_RATIO_PR_m20':float,\n",
    "                   'BRADY_RATIO_PR_m30':float,\n",
    "                   'BRADY_RATIO_PR_m40':float,\n",
    "                   'BRADY_SEC_SPO2':float,\n",
    "                   'BRADY_RATIO_SPO2':float,\n",
    "                   'BRADY_SEC_PR_DYN':float,\n",
    "                   'BRADY_RATIO_PR_DYN':float})"
   ]
  },
  {
   "cell_type": "code",
   "execution_count": 37,
   "metadata": {},
   "outputs": [
    {
     "data": {
      "text/plain": [
       "array(['BABY_IDS', 'GENDER', 'WEIGHT_GRAMS', 'GEST_AGE_DAYS', 'DELIVERY',\n",
       "       'BIRTH_DATE', 'FILE', 'DELTA_SEC_MEASURE', 'MED_SPO2', 'MED_PR',\n",
       "       'MED_PI', 'MEAN_SPO2', 'MEAN_PR', 'MEAN_PI', 'STD_SPO2', 'STD_PR',\n",
       "       'STD_PI', 'PHN', 'WRIST', 'FOOT', 'BRADY_SEC_PR', 'BRADY_RATIO_PR',\n",
       "       'BRADY_RATIO_PR_m10', 'BRADY_RATIO_PR_m20', 'BRADY_RATIO_PR_m30',\n",
       "       'BRADY_RATIO_PR_m40', 'BRADY_SEC_SPO2', 'BRADY_RATIO_SPO2',\n",
       "       'BRADY_SEC_PR_DYN', 'BRADY_RATIO_PR_DYN'], dtype=object)"
      ]
     },
     "execution_count": 37,
     "metadata": {},
     "output_type": "execute_result"
    }
   ],
   "source": [
    "T.columns.values"
   ]
  },
  {
   "cell_type": "code",
   "execution_count": 38,
   "metadata": {},
   "outputs": [],
   "source": [
    "single=(T['WRIST']==True)&(T['PHN']==False)"
   ]
  },
  {
   "cell_type": "code",
   "execution_count": 39,
   "metadata": {},
   "outputs": [],
   "source": [
    "v1 = (np.unique(T[single]['BABY_IDS']))"
   ]
  },
  {
   "cell_type": "code",
   "execution_count": 40,
   "metadata": {},
   "outputs": [],
   "source": [
    "v2 = (np.unique(T['BABY_IDS']))"
   ]
  },
  {
   "cell_type": "code",
   "execution_count": 41,
   "metadata": {},
   "outputs": [
    {
     "name": "stdout",
     "output_type": "stream",
     "text": [
      "252\n",
      "268\n"
     ]
    }
   ],
   "source": [
    "print(len(v1))\n",
    "print(len(v2))\n",
    "\n",
    "# if the two following numbers are different,\n",
    "# it means that selecting wrist and no phn is\n",
    "# not enough to have the number of entries equal\n",
    "# to the number of babies"
   ]
  },
  {
   "cell_type": "code",
   "execution_count": 42,
   "metadata": {},
   "outputs": [],
   "source": [
    "#for name in v1:\n",
    "#    print(name)"
   ]
  },
  {
   "cell_type": "code",
   "execution_count": 43,
   "metadata": {},
   "outputs": [
    {
     "data": {
      "text/html": [
       "<div>\n",
       "<style scoped>\n",
       "    .dataframe tbody tr th:only-of-type {\n",
       "        vertical-align: middle;\n",
       "    }\n",
       "\n",
       "    .dataframe tbody tr th {\n",
       "        vertical-align: top;\n",
       "    }\n",
       "\n",
       "    .dataframe thead th {\n",
       "        text-align: right;\n",
       "    }\n",
       "</style>\n",
       "<table border=\"1\" class=\"dataframe\">\n",
       "  <thead>\n",
       "    <tr style=\"text-align: right;\">\n",
       "      <th></th>\n",
       "      <th>BABY_IDS</th>\n",
       "      <th>GENDER</th>\n",
       "      <th>WEIGHT_GRAMS</th>\n",
       "      <th>GEST_AGE_DAYS</th>\n",
       "      <th>DELIVERY</th>\n",
       "      <th>BIRTH_DATE</th>\n",
       "      <th>FILE</th>\n",
       "      <th>DELTA_SEC_MEASURE</th>\n",
       "      <th>MED_SPO2</th>\n",
       "      <th>MED_PR</th>\n",
       "      <th>...</th>\n",
       "      <th>BRADY_SEC_PR</th>\n",
       "      <th>BRADY_RATIO_PR</th>\n",
       "      <th>BRADY_RATIO_PR_m10</th>\n",
       "      <th>BRADY_RATIO_PR_m20</th>\n",
       "      <th>BRADY_RATIO_PR_m30</th>\n",
       "      <th>BRADY_RATIO_PR_m40</th>\n",
       "      <th>BRADY_SEC_SPO2</th>\n",
       "      <th>BRADY_RATIO_SPO2</th>\n",
       "      <th>BRADY_SEC_PR_DYN</th>\n",
       "      <th>BRADY_RATIO_PR_DYN</th>\n",
       "    </tr>\n",
       "  </thead>\n",
       "  <tbody>\n",
       "    <tr>\n",
       "      <th>111</th>\n",
       "      <td>PLC006</td>\n",
       "      <td>Male</td>\n",
       "      <td>4205.0</td>\n",
       "      <td>285.0</td>\n",
       "      <td>Csection</td>\n",
       "      <td>2014-03-19 16:13:00</td>\n",
       "      <td>/home/giorgio/Desktop/NHS/TOST_data/TOST PLC D...</td>\n",
       "      <td>69044.0</td>\n",
       "      <td>97.0</td>\n",
       "      <td>111.0</td>\n",
       "      <td>...</td>\n",
       "      <td>4106.0</td>\n",
       "      <td>0.776181</td>\n",
       "      <td>0.418904</td>\n",
       "      <td>0.054064</td>\n",
       "      <td>0.016257</td>\n",
       "      <td>0.012854</td>\n",
       "      <td>2902.0</td>\n",
       "      <td>0.548582</td>\n",
       "      <td>2414.0</td>\n",
       "      <td>0.456333</td>\n",
       "    </tr>\n",
       "    <tr>\n",
       "      <th>113</th>\n",
       "      <td>PLC006</td>\n",
       "      <td>Male</td>\n",
       "      <td>4205.0</td>\n",
       "      <td>285.0</td>\n",
       "      <td>Csection</td>\n",
       "      <td>2014-03-19 16:13:00</td>\n",
       "      <td>/home/giorgio/Desktop/NHS/TOST_data/TOST PLC D...</td>\n",
       "      <td>156043.0</td>\n",
       "      <td>96.0</td>\n",
       "      <td>119.0</td>\n",
       "      <td>...</td>\n",
       "      <td>2656.0</td>\n",
       "      <td>0.556114</td>\n",
       "      <td>0.213149</td>\n",
       "      <td>0.135678</td>\n",
       "      <td>0.125628</td>\n",
       "      <td>0.115997</td>\n",
       "      <td>4078.0</td>\n",
       "      <td>0.853853</td>\n",
       "      <td>2218.0</td>\n",
       "      <td>0.464405</td>\n",
       "    </tr>\n",
       "  </tbody>\n",
       "</table>\n",
       "<p>2 rows × 30 columns</p>\n",
       "</div>"
      ],
      "text/plain": [
       "    BABY_IDS GENDER  WEIGHT_GRAMS  GEST_AGE_DAYS  DELIVERY  \\\n",
       "111   PLC006   Male        4205.0          285.0  Csection   \n",
       "113   PLC006   Male        4205.0          285.0  Csection   \n",
       "\n",
       "              BIRTH_DATE                                               FILE  \\\n",
       "111  2014-03-19 16:13:00  /home/giorgio/Desktop/NHS/TOST_data/TOST PLC D...   \n",
       "113  2014-03-19 16:13:00  /home/giorgio/Desktop/NHS/TOST_data/TOST PLC D...   \n",
       "\n",
       "     DELTA_SEC_MEASURE  MED_SPO2  MED_PR  ...  BRADY_SEC_PR  BRADY_RATIO_PR  \\\n",
       "111            69044.0      97.0   111.0  ...        4106.0        0.776181   \n",
       "113           156043.0      96.0   119.0  ...        2656.0        0.556114   \n",
       "\n",
       "     BRADY_RATIO_PR_m10  BRADY_RATIO_PR_m20  BRADY_RATIO_PR_m30  \\\n",
       "111            0.418904            0.054064            0.016257   \n",
       "113            0.213149            0.135678            0.125628   \n",
       "\n",
       "     BRADY_RATIO_PR_m40  BRADY_SEC_SPO2  BRADY_RATIO_SPO2  BRADY_SEC_PR_DYN  \\\n",
       "111            0.012854          2902.0          0.548582            2414.0   \n",
       "113            0.115997          4078.0          0.853853            2218.0   \n",
       "\n",
       "     BRADY_RATIO_PR_DYN  \n",
       "111            0.456333  \n",
       "113            0.464405  \n",
       "\n",
       "[2 rows x 30 columns]"
      ]
     },
     "execution_count": 43,
     "metadata": {},
     "output_type": "execute_result"
    }
   ],
   "source": [
    "#This baby has two measurements in the hospital\n",
    "T[(T['BABY_IDS']=='PLC006')& single ]"
   ]
  },
  {
   "cell_type": "code",
   "execution_count": 44,
   "metadata": {},
   "outputs": [
    {
     "name": "stdout",
     "output_type": "stream",
     "text": [
      "TOT NUMBER OF BABIES:  268\n"
     ]
    }
   ],
   "source": [
    "total = len(np.unique(T['BABY_IDS']))\n",
    "print('TOT NUMBER OF BABIES: ',total)\n",
    "\n",
    "def unique_id(table,tot=total):\n",
    "    '''input: table with the selection on the category you want to count\n",
    "       output: the number of baby from that table and the fraction \n",
    "       of the total number of babies'''\n",
    "    # take the same baby id just once (as we want to count babies)\n",
    "    n = len(np.unique(table['BABY_IDS']))\n",
    "    return n, n/float(tot)"
   ]
  },
  {
   "cell_type": "code",
   "execution_count": 45,
   "metadata": {},
   "outputs": [
    {
     "name": "stdout",
     "output_type": "stream",
     "text": [
      "Number of PHN measurements (more than one per baby):  192\n",
      "Number of babies that have been to PHN: # = 96; frac = 0.358\n"
     ]
    }
   ],
   "source": [
    "#BABIES THAT HAS BEEN TO NHS\n",
    "phn = T[(T['PHN']==True)]\n",
    "print('Number of PHN measurements (more than one per baby): ',len(phn))\n",
    "print('Number of babies that have been to PHN: # = %s; frac = %.3f'%unique_id(phn))"
   ]
  },
  {
   "cell_type": "code",
   "execution_count": 46,
   "metadata": {},
   "outputs": [
    {
     "name": "stdout",
     "output_type": "stream",
     "text": [
      "Number of babies with at least a measurement from the hospital: # = 267; frac = 0.996\n"
     ]
    }
   ],
   "source": [
    "# NUMBER OF BABIES WITH MEASUREMENTS IN THE HOSPITAL\n",
    "\n",
    "# remember that no phn only means that there is at least a measuerement that is not fom the phn\n",
    "# so in this case it means that only one baby has no measurements from the hospital but only from the PHN\n",
    "# for a more intuitive flag check in the class baby the property baby.has_been_phn.\n",
    "no_phn = T[(T['PHN']==False)]\n",
    "len(no_phn)\n",
    "print('Number of babies with at least a measurement from the hospital: # = %s; frac = %.3f'%unique_id(no_phn))"
   ]
  },
  {
   "cell_type": "code",
   "execution_count": 47,
   "metadata": {},
   "outputs": [
    {
     "name": "stdout",
     "output_type": "stream",
     "text": [
      "FMC054 : NO MEASUREMENTS IN THE HOSPITAL (ONLY IN PHN)\n"
     ]
    }
   ],
   "source": [
    "# This guy has no measurements in the hospital\n",
    "for h in np.unique(T['BABY_IDS']):\n",
    "    if h not in np.array(no_phn['BABY_IDS']):\n",
    "        print(h,\": NO MEASUREMENTS IN THE HOSPITAL (ONLY IN PHN)\")"
   ]
  },
  {
   "cell_type": "markdown",
   "metadata": {},
   "source": [
    "I am pretty confident that the measurements for FMC054 has been labeled as PHN even if they are not. For example in the name of the file there is \"Day3\" but the age of the baby at those measurements is just about 19 hours. See below.\n",
    "\n",
    "Actually Prakash thinks that this is actually a measurement from PHN but for some reason the measurements from the hospital have been lost."
   ]
  },
  {
   "cell_type": "code",
   "execution_count": 48,
   "metadata": {},
   "outputs": [],
   "source": [
    "FMC054 = baby('FMC054')"
   ]
  },
  {
   "cell_type": "code",
   "execution_count": 49,
   "metadata": {},
   "outputs": [
    {
     "data": {
      "text/plain": [
       "['/home/giorgio/Desktop/NHS/TOST_data/TOST FMC Data Groomed/G_FMC_PHN_054/G_PHN_FMC054_Day3_Rt Foot.csv',\n",
       " '/home/giorgio/Desktop/NHS/TOST_data/TOST FMC Data Groomed/G_FMC_PHN_054/G_PHN_FMC054_Day3_Rt Wrist.csv']"
      ]
     },
     "execution_count": 49,
     "metadata": {},
     "output_type": "execute_result"
    }
   ],
   "source": [
    "FMC054.files"
   ]
  },
  {
   "cell_type": "code",
   "execution_count": 50,
   "metadata": {},
   "outputs": [
    {
     "name": "stdout",
     "output_type": "stream",
     "text": [
      "Age of FMC054 at first measurement: 18.94 hours\n"
     ]
    }
   ],
   "source": [
    "print('Age of FMC054 at first measurement: %.2f hours'%(FMC054.measurements_delta_sec_since_birth[0]/60./60.))"
   ]
  },
  {
   "cell_type": "code",
   "execution_count": null,
   "metadata": {},
   "outputs": [],
   "source": []
  },
  {
   "cell_type": "code",
   "execution_count": 51,
   "metadata": {},
   "outputs": [
    {
     "name": "stdout",
     "output_type": "stream",
     "text": [
      "Number of girls: # = 123; frac = 0.459\n",
      "Number of boys: # = 145; frac = 0.541\n"
     ]
    }
   ],
   "source": [
    "# NUMBER OF GIRLS\n",
    "female = T[T['GENDER']=='Female']\n",
    "male = T[T['GENDER']=='Male']\n",
    "print('Number of girls: # = %s; frac = %.3f'%unique_id(female))\n",
    "print('Number of boys: # = %s; frac = %.3f'%unique_id(male))"
   ]
  },
  {
   "cell_type": "code",
   "execution_count": null,
   "metadata": {},
   "outputs": [],
   "source": []
  },
  {
   "cell_type": "code",
   "execution_count": 52,
   "metadata": {},
   "outputs": [
    {
     "name": "stdout",
     "output_type": "stream",
     "text": [
      "Number of C-Section: # = 76; frac = 0.284\n",
      "Number of vaginal: # = 161; frac = 0.601\n",
      "Number of vaginal assisted: # = 31; frac = 0.116\n"
     ]
    }
   ],
   "source": [
    "# NUMBER OF C-SECTION (DELIVERY)\n",
    "csection = T[T['DELIVERY']=='Csection']\n",
    "vaginal = T[T['DELIVERY']=='vaginal']\n",
    "vaginal_ass = T[T['DELIVERY']=='vaginal assisted']\n",
    "print('Number of C-Section: # = %s; frac = %.3f'%unique_id(csection))\n",
    "print('Number of vaginal: # = %s; frac = %.3f'%unique_id(vaginal))\n",
    "print('Number of vaginal assisted: # = %s; frac = %.3f'%unique_id(vaginal_ass))"
   ]
  },
  {
   "cell_type": "code",
   "execution_count": 53,
   "metadata": {},
   "outputs": [
    {
     "data": {
      "text/plain": [
       "array(['vaginal', 'Csection', 'vaginal assisted'], dtype=object)"
      ]
     },
     "execution_count": 53,
     "metadata": {},
     "output_type": "execute_result"
    }
   ],
   "source": [
    "T['DELIVERY'].unique()"
   ]
  },
  {
   "cell_type": "code",
   "execution_count": null,
   "metadata": {},
   "outputs": [],
   "source": []
  },
  {
   "cell_type": "code",
   "execution_count": 54,
   "metadata": {},
   "outputs": [
    {
     "data": {
      "text/plain": [
       "0       58400.0\n",
       "1       58499.0\n",
       "2      152294.0\n",
       "3      152212.0\n",
       "4       65813.0\n",
       "         ...   \n",
       "759     62047.0\n",
       "760     67963.0\n",
       "761     67976.0\n",
       "762     51427.0\n",
       "763     51451.0\n",
       "Name: DELTA_SEC_MEASURE, Length: 764, dtype: float64"
      ]
     },
     "execution_count": 54,
     "metadata": {},
     "output_type": "execute_result"
    }
   ],
   "source": [
    "T['DELTA_SEC_MEASURE']"
   ]
  },
  {
   "cell_type": "code",
   "execution_count": null,
   "metadata": {},
   "outputs": [],
   "source": []
  },
  {
   "cell_type": "code",
   "execution_count": null,
   "metadata": {},
   "outputs": [],
   "source": []
  },
  {
   "cell_type": "code",
   "execution_count": null,
   "metadata": {},
   "outputs": [],
   "source": []
  },
  {
   "cell_type": "code",
   "execution_count": null,
   "metadata": {},
   "outputs": [],
   "source": []
  },
  {
   "cell_type": "code",
   "execution_count": null,
   "metadata": {},
   "outputs": [],
   "source": []
  },
  {
   "cell_type": "code",
   "execution_count": null,
   "metadata": {},
   "outputs": [],
   "source": []
  },
  {
   "cell_type": "code",
   "execution_count": null,
   "metadata": {},
   "outputs": [],
   "source": []
  },
  {
   "cell_type": "code",
   "execution_count": null,
   "metadata": {},
   "outputs": [],
   "source": []
  },
  {
   "cell_type": "markdown",
   "metadata": {},
   "source": [
    "# Using directly a loop on baby objects if the properties are not in the text file"
   ]
  },
  {
   "cell_type": "code",
   "execution_count": 55,
   "metadata": {},
   "outputs": [],
   "source": [
    "b = baby('FMC003')"
   ]
  },
  {
   "cell_type": "markdown",
   "metadata": {},
   "source": [
    "### Ethnicity"
   ]
  },
  {
   "cell_type": "code",
   "execution_count": 56,
   "metadata": {},
   "outputs": [
    {
     "name": "stdout",
     "output_type": "stream",
     "text": [
      "Help on built-in function id in module builtins:\n",
      "\n",
      "id(obj, /)\n",
      "    Return the identity of an object.\n",
      "    \n",
      "    This is guaranteed to be unique among simultaneously existing objects.\n",
      "    (CPython uses the object's memory address.)\n",
      "\n",
      "This is the memory addresss of the variable b:  139694061943832\n"
     ]
    }
   ],
   "source": [
    "# id is a builtin function, don't overwrite it!!\n",
    "help(id)\n",
    "print('This is the memory address of the variable b: ',id(b))"
   ]
  },
  {
   "cell_type": "code",
   "execution_count": 57,
   "metadata": {},
   "outputs": [],
   "source": [
    "quantity = []\n",
    "for iid in np.unique(T['BABY_IDS']):\n",
    "    b = baby(iid)\n",
    "    #print(iid, ': mean PR = ',b.measurements[0]['PR'].mean())\n",
    "    #print(iid, ': weight [grams] = ',b.weight_grams)\n",
    "    quantity.append(b.ethnicity)\n",
    "quantity = np.array(quantity)"
   ]
  },
  {
   "cell_type": "code",
   "execution_count": 58,
   "metadata": {},
   "outputs": [
    {
     "data": {
      "text/plain": [
       "array(['African-American', 'East Indian', 'Hispanic', 'Native',\n",
       "       'Oriental', 'Others', 'Unknown', 'White'], dtype='<U16')"
      ]
     },
     "execution_count": 58,
     "metadata": {},
     "output_type": "execute_result"
    }
   ],
   "source": [
    "np.unique(quantity)"
   ]
  },
  {
   "cell_type": "code",
   "execution_count": 59,
   "metadata": {},
   "outputs": [
    {
     "name": "stdout",
     "output_type": "stream",
     "text": [
      "African-American \t 12 4.48\n",
      "East Indian \t\t 31 11.57\n",
      "Hispanic \t\t 15 5.6\n",
      "Native \t\t\t 3 1.12\n",
      "Oriental \t\t 27 10.07\n",
      "Others \t\t\t 17 6.34\n",
      "Unknown \t\t 2 0.75\n",
      "White \t\t\t 161 60.07\n"
     ]
    }
   ],
   "source": [
    "print('African-American','\\t',len(np.where(quantity=='African-American')[0])  ,round(len(np.where(quantity=='African-American')[0])/268.*100.,2))\n",
    "print('East Indian'     ,'\\t\\t',len(np.where(quantity=='East Indian')[0])     ,round(len(np.where(quantity=='East Indian')[0])     /268.*100.,2))\n",
    "print('Hispanic'        ,'\\t\\t',len(np.where(quantity=='Hispanic')[0])        ,round(len(np.where(quantity=='Hispanic')[0])        /268.*100.,2))\n",
    "print('Native'          ,'\\t\\t\\t',len(np.where(quantity=='Native')[0])        ,round(len(np.where(quantity=='Native')[0])          /268.*100.,2))\n",
    "print('Oriental'        ,'\\t\\t',len(np.where(quantity=='Oriental')[0])        ,round(len(np.where(quantity=='Oriental')[0])        /268.*100.,2))\n",
    "print('Others'          ,'\\t\\t\\t',len(np.where(quantity=='Others')[0])        ,round(len(np.where(quantity=='Others')[0])          /268.*100.,2))\n",
    "print('Unknown'         ,'\\t\\t',len(np.where(quantity=='Unknown')[0])         ,round(len(np.where(quantity=='Unknown')[0])         /268.*100.,2))\n",
    "print('White'           ,'\\t\\t\\t',len(np.where(quantity=='White')[0])         ,round(len(np.where(quantity=='White')[0])           /268.*100.,2))"
   ]
  },
  {
   "cell_type": "code",
   "execution_count": null,
   "metadata": {},
   "outputs": [],
   "source": []
  },
  {
   "cell_type": "code",
   "execution_count": 60,
   "metadata": {},
   "outputs": [],
   "source": [
    "AGE = []\n",
    "ids = np.unique(T['BABY_IDS'])\n",
    "for id in ids:\n",
    "    b = baby(id)\n",
    "    AGE.append(b.age_mum)\n",
    "AGE = np.array(AGE)"
   ]
  },
  {
   "cell_type": "code",
   "execution_count": 61,
   "metadata": {},
   "outputs": [
    {
     "name": "stdout",
     "output_type": "stream",
     "text": [
      "FMC003 33.0\n",
      "FMC004 33.0\n",
      "FMC005 31.0\n",
      "FMC006 34.0\n",
      "FMC007 36.0\n",
      "FMC008 25.0\n",
      "FMC009 32.0\n",
      "FMC010 21.0\n",
      "FMC011 32.0\n",
      "FMC012 28.0\n",
      "FMC013 28.0\n",
      "FMC014 31.0\n",
      "FMC015 34.0\n",
      "FMC016 34.0\n",
      "FMC017 26.0\n",
      "FMC018 31.0\n",
      "FMC019 32.0\n",
      "FMC020 30.0\n",
      "FMC021 34.0\n",
      "FMC022 26.0\n",
      "FMC023 24.0\n",
      "FMC024 40.0\n",
      "FMC025 36.0\n",
      "FMC026 29.0\n",
      "FMC027 35.0\n",
      "FMC028 25.0\n",
      "FMC029 30.0\n",
      "FMC030 35.0\n",
      "FMC031 39.0\n",
      "FMC032 26.0\n",
      "FMC033 27.0\n",
      "FMC034 33.0\n",
      "FMC035 27.0\n",
      "FMC036 32.0\n",
      "FMC037 39.0\n",
      "FMC038 32.0\n",
      "FMC039 33.0\n",
      "FMC040 32.0\n",
      "FMC041 36.0\n",
      "FMC042 30.0\n",
      "FMC043 36.0\n",
      "FMC044 38.0\n",
      "FMC045 31.0\n",
      "FMC046 34.0\n",
      "FMC047 33.0\n",
      "FMC048 27.0\n",
      "FMC049 39.0\n",
      "FMC050 26.0\n",
      "FMC051 26.0\n",
      "FMC052 23.0\n",
      "FMC053 36.0\n",
      "FMC054 35.0\n",
      "FMC055 29.0\n",
      "FMC057 32.0\n",
      "FMC058 29.0\n",
      "FMC059 34.0\n",
      "FMC061 39.0\n",
      "FMC062 35.0\n",
      "FMC064 29.0\n",
      "FMC065 28.0\n",
      "FMC066 30.0\n",
      "FMC067 37.0\n",
      "FMC068 36.0\n",
      "FMC069 33.0\n",
      "FMC070 27.0\n",
      "FMC071 34.0\n",
      "FMC072 39.0\n",
      "FMC073 36.0\n",
      "FMC074 37.0\n",
      "FMC075 26.0\n",
      "FMC076 30.0\n",
      "FMC077 25.0\n",
      "FMC078 32.0\n",
      "FMC079 29.0\n",
      "FMC080 28.0\n",
      "FMC081 31.0\n",
      "FMC082 27.0\n",
      "FMC083 26.0\n",
      "FMC084 34.0\n",
      "FMC085 34.0\n",
      "FMC086 38.0\n",
      "FMC087 43.0\n",
      "FMC088 26.0\n",
      "FMC089 38.0\n",
      "FMC090 24.0\n",
      "FMC091 34.0\n",
      "FMC092 33.0\n",
      "FMC093 33.0\n",
      "FMC094 27.0\n",
      "FMC095 29.0\n",
      "FMC096 39.0\n",
      "FMC097 41.0\n",
      "FMC098 40.0\n",
      "FMC099 32.0\n",
      "FMC100 35.0\n",
      "FMC101 35.0\n",
      "FMC102 33.0\n",
      "FMC103 35.0\n",
      "FMC104 31.0\n",
      "FMC105 40.0\n",
      "FMC106 34.0\n",
      "FMC107 41.0\n",
      "FMC108 27.0\n",
      "FMC109 27.0\n",
      "FMC110 26.0\n",
      "FMC111 41.0\n",
      "FMC112 25.0\n",
      "FMC113 36.0\n",
      "FMC114 31.0\n",
      "FMC115 37.0\n",
      "FMC116 30.0\n",
      "FMC117 37.0\n",
      "FMC118 39.0\n",
      "FMC119 36.0\n",
      "FMC120 37.0\n",
      "FMC121 38.0\n",
      "FMC122 30.0\n",
      "FMC123 31.0\n",
      "FMC124 29.0\n",
      "FMC125 33.0\n",
      "FMC126 35.0\n",
      "FMC127 32.0\n",
      "FMC128 29.0\n",
      "FMC129 37.0\n",
      "FMC130 32.0\n",
      "FMC131 32.0\n",
      "FMC132 33.0\n",
      "FMC133 24.0\n",
      "FMC134 41.0\n",
      "FMC135 35.0\n",
      "FMCO63 29.0\n",
      "PLC 009 29.0\n",
      "PLC 010 16.0\n",
      "PLC 011 38.0\n",
      "PLC 012 23.0\n",
      "PLC 013 30.0\n",
      "PLC 014 32.0\n",
      "PLC 015 38.0\n",
      "PLC 016 37.0\n",
      "PLC 018 42.0\n",
      "PLC 019 29.0\n",
      "PLC 020 35.0\n",
      "PLC 021 27.0\n",
      "PLC 028 34.0\n",
      "PLC 029 22.0\n",
      "PLC 030 24.0\n",
      "PLC 031 41.0\n",
      "PLC 032 27.0\n",
      "PLC 033 24.0\n",
      "PLC 034 37.0\n",
      "PLC 035 33.0\n",
      "PLC 036 35.0\n",
      "PLC 037 30.0\n",
      "PLC 039 33.0\n",
      "PLC 040 29.0\n",
      "PLC 041 25.0\n",
      "PLC 042 25.0\n",
      "PLC 043 28.0\n",
      "PLC 045 37.0\n",
      "PLC 046 32.0\n",
      "PLC 047 34.0\n",
      "PLC 048 37.0\n",
      "PLC 049 27.0\n",
      "PLC 050 28.0\n",
      "PLC 051 30.0\n",
      "PLC 052 26.0\n",
      "PLC 053 26.0\n",
      "PLC 054 33.0\n",
      "PLC 055 33.0\n",
      "PLC 056 28.0\n",
      "PLC 057 32.0\n",
      "PLC 059 33.0\n",
      "PLC 060 29.0\n",
      "PLC 061 36.0\n",
      "PLC 062 37.0\n",
      "PLC 063 26.0\n",
      "PLC001 39.0\n",
      "PLC002 31.0\n",
      "PLC003 37.0\n",
      "PLC004 28.0\n",
      "PLC005 23.0\n",
      "PLC006 21.0\n",
      "PLC007 36.0\n",
      "PLC008 32.0\n",
      "PLC017 30.0\n",
      "PLC022 32.0\n",
      "PLC023 33.0\n",
      "PLC024 31.0\n",
      "PLC025 31.0\n",
      "PLC026 28.0\n",
      "PLC027 23.0\n",
      "PLC038 32.0\n",
      "PLC044 29.0\n",
      "PLC058 34.0\n",
      "RGH 025 30.0\n",
      "RGH 046 37.0\n",
      "RGH 049 34.0\n",
      "RGH 050 35.0\n",
      "RGH 052 34.0\n",
      "RGH001 32.0\n",
      "RGH002 27.0\n",
      "RGH003 29.0\n",
      "RGH004 32.0\n",
      "RGH005 33.0\n",
      "RGH006 28.0\n",
      "RGH007 35.0\n",
      "RGH008 32.0\n",
      "RGH009 29.0\n",
      "RGH010 38.0\n",
      "RGH011 33.0\n",
      "RGH012 31.0\n",
      "RGH013 35.0\n",
      "RGH014 31.0\n",
      "RGH015 30.0\n",
      "RGH016 24.0\n",
      "RGH017 29.0\n",
      "RGH018 31.0\n",
      "RGH019 25.0\n",
      "RGH020 32.0\n",
      "RGH022 40.0\n",
      "RGH023 29.0\n",
      "RGH024 27.0\n",
      "RGH026 31.0\n",
      "RGH027 29.0\n",
      "RGH028 29.0\n",
      "RGH029 34.0\n",
      "RGH030 33.0\n",
      "RGH031 34.0\n",
      "RGH032 31.0\n",
      "RGH033 33.0\n",
      "RGH034 34.0\n",
      "RGH035 30.0\n",
      "RGH036 33.0\n",
      "RGH037 36.0\n",
      "RGH038 31.0\n",
      "RGH039 33.0\n",
      "RGH040 32.0\n",
      "RGH041 29.0\n",
      "RGH042 34.0\n",
      "RGH043 31.0\n",
      "RGH044 37.0\n",
      "RGH045 39.0\n",
      "RGH047 37.0\n",
      "RGH048 33.0\n",
      "RGH051 29.0\n",
      "RGH053 34.0\n",
      "RGH054 29.0\n",
      "RGH055 34.0\n",
      "RGH056 36.0\n",
      "RGH057 35.0\n",
      "RGH058 30.0\n",
      "RGH059 29.0\n",
      "RGH060 25.0\n",
      "RGH061 31.0\n",
      "RGH062 33.0\n",
      "RGH063 33.0\n",
      "RGH064 30.0\n",
      "RGH065 33.0\n",
      "RGH066 28.0\n",
      "RGH067 29.0\n",
      "RGH068 38.0\n",
      "RGH069 34.0\n",
      "RGH071 37.0\n",
      "RGH072 28.0\n",
      "RGH073 39.0\n",
      "RGH074 27.0\n",
      "RGH21 31.0\n",
      "RGH70 37.0\n"
     ]
    }
   ],
   "source": [
    "for i in range(len(ids)):\n",
    "    print(ids[i],AGE[i])"
   ]
  },
  {
   "cell_type": "code",
   "execution_count": 62,
   "metadata": {},
   "outputs": [
    {
     "data": {
      "text/plain": [
       "31.87313432835821"
      ]
     },
     "execution_count": 62,
     "metadata": {},
     "output_type": "execute_result"
    }
   ],
   "source": [
    "AGE.mean()"
   ]
  },
  {
   "cell_type": "code",
   "execution_count": null,
   "metadata": {},
   "outputs": [],
   "source": []
  },
  {
   "cell_type": "code",
   "execution_count": 63,
   "metadata": {},
   "outputs": [],
   "source": [
    "DIABETES = []\n",
    "ids = np.unique(T['BABY_IDS'])\n",
    "for id in ids:\n",
    "    b = baby(id)\n",
    "    DIABETES.append(b.gestational_diabetes)\n",
    "DIABETES = np.array(DIABETES)"
   ]
  },
  {
   "cell_type": "code",
   "execution_count": 64,
   "metadata": {},
   "outputs": [
    {
     "data": {
      "text/plain": [
       "array(['No', 'Yes'], dtype='<U3')"
      ]
     },
     "execution_count": 64,
     "metadata": {},
     "output_type": "execute_result"
    }
   ],
   "source": [
    "np.unique(DIABETES)"
   ]
  },
  {
   "cell_type": "code",
   "execution_count": 65,
   "metadata": {},
   "outputs": [
    {
     "name": "stdout",
     "output_type": "stream",
     "text": [
      "BABIES WITH GESTATIONAL DIABETES: # = 26 perc = 9.701492537313433\n"
     ]
    }
   ],
   "source": [
    "print('BABIES WITH GESTATIONAL DIABETES: # = %s perc = %s'%(len(np.where(DIABETES=='Yes')[0]),len(np.where(DIABETES=='Yes')[0])/268.*100))"
   ]
  },
  {
   "cell_type": "code",
   "execution_count": null,
   "metadata": {},
   "outputs": [],
   "source": []
  },
  {
   "cell_type": "code",
   "execution_count": 66,
   "metadata": {},
   "outputs": [],
   "source": [
    "SMOKING = []\n",
    "ids = np.unique(T['BABY_IDS'])\n",
    "for id in ids:\n",
    "    b = baby(id)\n",
    "    SMOKING.append(b.smoking)\n",
    "SMOKING = np.array(SMOKING)"
   ]
  },
  {
   "cell_type": "code",
   "execution_count": 67,
   "metadata": {},
   "outputs": [
    {
     "data": {
      "text/plain": [
       "array(['No', 'Yes'], dtype='<U3')"
      ]
     },
     "execution_count": 67,
     "metadata": {},
     "output_type": "execute_result"
    }
   ],
   "source": [
    "np.unique(SMOKING)"
   ]
  },
  {
   "cell_type": "code",
   "execution_count": 68,
   "metadata": {},
   "outputs": [
    {
     "name": "stdout",
     "output_type": "stream",
     "text": [
      "SMOKING MUMS: # = 12 perc = 4.477611940298507\n"
     ]
    }
   ],
   "source": [
    "print('SMOKING MUMS: # = %s perc = %s'%(len(np.where(SMOKING=='Yes')[0]),len(np.where(SMOKING=='Yes')[0])/268.*100))"
   ]
  },
  {
   "cell_type": "code",
   "execution_count": null,
   "metadata": {},
   "outputs": [],
   "source": []
  },
  {
   "cell_type": "code",
   "execution_count": 69,
   "metadata": {},
   "outputs": [],
   "source": [
    "MECONIUM = []\n",
    "ids = np.unique(T['BABY_IDS'])\n",
    "for id in ids:\n",
    "    b = baby(id)\n",
    "    MECONIUM.append(b.meconium)\n",
    "MECONIUM = np.array(MECONIUM)"
   ]
  },
  {
   "cell_type": "code",
   "execution_count": 70,
   "metadata": {},
   "outputs": [
    {
     "data": {
      "text/plain": [
       "array(['No', 'Yes'], dtype='<U3')"
      ]
     },
     "execution_count": 70,
     "metadata": {},
     "output_type": "execute_result"
    }
   ],
   "source": [
    "np.unique(MECONIUM)"
   ]
  },
  {
   "cell_type": "code",
   "execution_count": 71,
   "metadata": {},
   "outputs": [
    {
     "name": "stdout",
     "output_type": "stream",
     "text": [
      "Babies with meconium stained liqor: # = 36 perc = 13.432835820895523\n"
     ]
    }
   ],
   "source": [
    "print('Babies with meconium stained liqor: # = %s perc = %s'%(len(np.where(MECONIUM=='Yes')[0]),len(np.where(MECONIUM=='Yes')[0])/268.*100))"
   ]
  },
  {
   "cell_type": "code",
   "execution_count": null,
   "metadata": {},
   "outputs": [],
   "source": []
  },
  {
   "cell_type": "code",
   "execution_count": 72,
   "metadata": {},
   "outputs": [],
   "source": [
    "APGAR5 = []\n",
    "ids = np.unique(T['BABY_IDS'])\n",
    "for id in ids:\n",
    "    b = baby(id)\n",
    "    APGAR5.append(b.apgar5)\n",
    "APGAR5 = np.array(APGAR5)"
   ]
  },
  {
   "cell_type": "code",
   "execution_count": 73,
   "metadata": {},
   "outputs": [
    {
     "data": {
      "text/plain": [
       "(8.958955223880597, 0.32638057781857777)"
      ]
     },
     "execution_count": 73,
     "metadata": {},
     "output_type": "execute_result"
    }
   ],
   "source": [
    "np.mean(APGAR5),np.std(APGAR5)"
   ]
  },
  {
   "cell_type": "code",
   "execution_count": 74,
   "metadata": {},
   "outputs": [
    {
     "data": {
      "text/plain": [
       "array([ 9.,  9.,  9.,  9.,  9.,  9.,  9.,  9.,  9.,  9.,  9.,  7.,  9.,\n",
       "        9.,  9.,  9.,  9.,  9.,  9.,  9.,  9.,  9.,  9.,  9.,  9.,  9.,\n",
       "        9.,  9.,  9.,  9.,  9.,  9.,  9.,  9.,  9.,  8.,  9.,  9.,  9.,\n",
       "        9.,  9.,  9.,  9.,  9.,  9.,  9.,  9.,  9.,  9.,  9.,  9.,  9.,\n",
       "        9.,  9.,  9.,  9.,  9.,  9.,  9.,  9.,  9.,  9.,  9.,  9.,  9.,\n",
       "        9.,  9.,  9.,  9.,  9.,  9.,  9.,  9.,  9.,  9.,  9.,  9.,  9.,\n",
       "        9.,  9.,  9.,  9.,  9.,  9.,  9.,  9.,  9.,  9.,  9.,  9.,  9.,\n",
       "        9.,  9.,  9.,  9.,  9.,  9.,  9.,  9.,  9.,  9.,  9.,  9., 10.,\n",
       "        9.,  9.,  9.,  9.,  9.,  9.,  9.,  9.,  9.,  9.,  9.,  9.,  9.,\n",
       "        8.,  9.,  9.,  9.,  9.,  9.,  7.,  9.,  9.,  9.,  9.,  9.,  9.,\n",
       "        9.,  9.,  9.,  9.,  9.,  9.,  9.,  9.,  9.,  9.,  9.,  9.,  9.,\n",
       "        9.,  9.,  9.,  9.,  9.,  9.,  9.,  9.,  9.,  9.,  7.,  9.,  9.,\n",
       "        9.,  9., 10.,  9.,  9.,  9.,  9.,  9.,  9.,  9.,  9.,  9.,  9.,\n",
       "        8.,  9.,  9.,  9.,  9.,  9.,  9.,  9.,  9.,  9.,  9.,  9.,  9.,\n",
       "        9.,  9.,  9.,  9.,  9.,  8.,  9.,  9.,  8.,  9.,  9.,  9.,  9.,\n",
       "        9.,  9.,  9.,  9.,  9.,  9.,  9.,  9.,  9.,  9.,  9.,  9.,  9.,\n",
       "        9.,  9.,  9.,  9.,  9.,  9.,  9.,  9.,  9.,  9.,  9.,  9.,  9.,\n",
       "        9.,  9.,  9.,  9.,  9.,  9.,  9.,  9.,  7.,  9.,  9.,  9.,  9.,\n",
       "        9.,  9.,  9., 10.,  9.,  9.,  9.,  9.,  9.,  9.,  9.,  9.,  9.,\n",
       "        9.,  9.,  9.,  9.,  9.,  9.,  9.,  9.,  9.,  9.,  9.,  9.,  9.,\n",
       "        9., 10.,  9.,  9.,  9.,  9.,  7.,  9.])"
      ]
     },
     "execution_count": 74,
     "metadata": {},
     "output_type": "execute_result"
    }
   ],
   "source": [
    "APGAR5"
   ]
  },
  {
   "cell_type": "code",
   "execution_count": 75,
   "metadata": {},
   "outputs": [
    {
     "data": {
      "text/plain": [
       "3.0"
      ]
     },
     "execution_count": 75,
     "metadata": {},
     "output_type": "execute_result"
    }
   ],
   "source": [
    "ss.iqr(APGAR5,rng=(0,100))"
   ]
  },
  {
   "cell_type": "code",
   "execution_count": null,
   "metadata": {},
   "outputs": [],
   "source": []
  },
  {
   "cell_type": "code",
   "execution_count": null,
   "metadata": {},
   "outputs": [],
   "source": []
  },
  {
   "cell_type": "code",
   "execution_count": null,
   "metadata": {},
   "outputs": [],
   "source": []
  },
  {
   "cell_type": "code",
   "execution_count": 76,
   "metadata": {},
   "outputs": [],
   "source": [
    "AGE_FIRST_REC = []\n",
    "ids = np.unique(T['BABY_IDS'])\n",
    "for id in ids:\n",
    "    b = baby(id)\n",
    "    AGE_FIRST_REC.append(np.min(b.measurements_delta_sec_since_birth))\n",
    "AGE_FIRST_REC = np.array(AGE_FIRST_REC)"
   ]
  },
  {
   "cell_type": "code",
   "execution_count": 77,
   "metadata": {},
   "outputs": [
    {
     "data": {
      "text/plain": [
       "63605"
      ]
     },
     "execution_count": 77,
     "metadata": {},
     "output_type": "execute_result"
    }
   ],
   "source": [
    "np.min(b.measurements_delta_sec_since_birth)"
   ]
  },
  {
   "cell_type": "code",
   "execution_count": 78,
   "metadata": {},
   "outputs": [
    {
     "data": {
      "text/plain": [
       "16.480972222222224"
      ]
     },
     "execution_count": 78,
     "metadata": {},
     "output_type": "execute_result"
    }
   ],
   "source": [
    "np.median(AGE_FIRST_REC)/60./60."
   ]
  },
  {
   "cell_type": "code",
   "execution_count": 79,
   "metadata": {},
   "outputs": [
    {
     "data": {
      "text/plain": [
       "9.187708333333335"
      ]
     },
     "execution_count": 79,
     "metadata": {},
     "output_type": "execute_result"
    }
   ],
   "source": [
    "ss.iqr(AGE_FIRST_REC,rng=(25,75))/60./60."
   ]
  },
  {
   "cell_type": "code",
   "execution_count": 81,
   "metadata": {},
   "outputs": [],
   "source": [
    "age_sort = np.sort(AGE_FIRST_REC)"
   ]
  },
  {
   "cell_type": "code",
   "execution_count": 127,
   "metadata": {},
   "outputs": [
    {
     "name": "stdout",
     "output_type": "stream",
     "text": [
      "59331.5\n"
     ]
    }
   ],
   "source": [
    "print(np.median(AGE_FIRST_REC))"
   ]
  },
  {
   "cell_type": "code",
   "execution_count": null,
   "metadata": {},
   "outputs": [],
   "source": []
  },
  {
   "cell_type": "code",
   "execution_count": null,
   "metadata": {},
   "outputs": [],
   "source": []
  },
  {
   "cell_type": "code",
   "execution_count": 124,
   "metadata": {},
   "outputs": [],
   "source": [
    "def my_median(vector):\n",
    "    vec_sorted = np.sort(vector)\n",
    "    dispari = np.mod(len(vec_sorted),2)\n",
    "    index = int(len(vec_sorted)/2.)\n",
    "    if dispari:\n",
    "        med = vec_sorted[index]\n",
    "    else:\n",
    "        m1 = vec_sorted[index-1]\n",
    "        m2 = vec_sorted[index]\n",
    "        med = (m1 + m2)/2.\n",
    "    return med"
   ]
  },
  {
   "cell_type": "code",
   "execution_count": 128,
   "metadata": {},
   "outputs": [],
   "source": [
    "def percentile(vector,perc=25):\n",
    "    vec_sorted = np.sort(vector)\n",
    "    frac = perc/100.\n",
    "    return vec_sorted[int(round(len(vec_sorted)*frac,0))]"
   ]
  },
  {
   "cell_type": "code",
   "execution_count": 126,
   "metadata": {},
   "outputs": [
    {
     "data": {
      "text/plain": [
       "59331.5"
      ]
     },
     "execution_count": 126,
     "metadata": {},
     "output_type": "execute_result"
    }
   ],
   "source": [
    "my_median(AGE_FIRST_REC)"
   ]
  },
  {
   "cell_type": "code",
   "execution_count": 132,
   "metadata": {},
   "outputs": [],
   "source": [
    "p1 = percentile(AGE_FIRST_REC,perc=25)"
   ]
  },
  {
   "cell_type": "code",
   "execution_count": 133,
   "metadata": {},
   "outputs": [],
   "source": [
    "p2 = percentile(AGE_FIRST_REC,perc=75)"
   ]
  },
  {
   "cell_type": "code",
   "execution_count": 137,
   "metadata": {},
   "outputs": [
    {
     "data": {
      "text/plain": [
       "33085"
      ]
     },
     "execution_count": 137,
     "metadata": {},
     "output_type": "execute_result"
    }
   ],
   "source": [
    "np.absolute(p1-p2)#/60./60."
   ]
  },
  {
   "cell_type": "code",
   "execution_count": 138,
   "metadata": {},
   "outputs": [
    {
     "data": {
      "text/plain": [
       "33075.75"
      ]
     },
     "execution_count": 138,
     "metadata": {},
     "output_type": "execute_result"
    }
   ],
   "source": [
    "ss.iqr(AGE_FIRST_REC)"
   ]
  },
  {
   "cell_type": "code",
   "execution_count": null,
   "metadata": {},
   "outputs": [],
   "source": []
  }
 ],
 "metadata": {
  "kernelspec": {
   "display_name": "Python 3",
   "language": "python",
   "name": "python3"
  },
  "language_info": {
   "codemirror_mode": {
    "name": "ipython",
    "version": 3
   },
   "file_extension": ".py",
   "mimetype": "text/x-python",
   "name": "python",
   "nbconvert_exporter": "python",
   "pygments_lexer": "ipython3",
   "version": "3.6.9"
  }
 },
 "nbformat": 4,
 "nbformat_minor": 2
}
