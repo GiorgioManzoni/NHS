{
 "cells": [
  {
   "cell_type": "code",
   "execution_count": 2,
   "metadata": {},
   "outputs": [],
   "source": [
    "#import sys\n",
    "#sys.modules.pop('CLASS_BABY')\n",
    "#sys.modules.pop('CLASS_SAMPLE')\n",
    "\n",
    "from CLASS_BABY import *\n",
    "from CLASS_SAMPLE import *\n",
    "\n",
    "import scipy.stats as ss\n",
    "\n",
    "#bigger fonts\n",
    "import matplotlib\n",
    "matplotlib.rc('xtick', labelsize=15) \n",
    "matplotlib.rc('ytick', labelsize=15)\n",
    "matplotlib.rcParams.update({'font.size': 20})"
   ]
  },
  {
   "cell_type": "code",
   "execution_count": 3,
   "metadata": {},
   "outputs": [],
   "source": [
    "# Not specified types are strings\n",
    "T = pd.read_csv('../TOST_data/average_properties.txt',\n",
    "            sep='\\t',index_col=0,na_values=-99,\n",
    "            dtype={'WEIGHT_GRAMS': float,\n",
    "                   'GEST_AGE_DAYS':float,\n",
    "                   'DELTA_SEC_MEASURE':float,\n",
    "                   'MED_SPO2':float,\n",
    "                   'MED_PI':float,\n",
    "                   'MED_PR':float})"
   ]
  },
  {
   "cell_type": "code",
   "execution_count": 5,
   "metadata": {},
   "outputs": [
    {
     "data": {
      "text/plain": [
       "array(['BABY_IDS', 'GENDER', 'WEIGHT_GRAMS', 'GEST_AGE_DAYS', 'DELIVERY',\n",
       "       'BIRTH_DATE', 'FILE', 'DELTA_SEC_MEASURE', 'MED_SPO2', 'MED_PR',\n",
       "       'MED_PI', 'PHN', 'WRIST', 'FOOT'], dtype=object)"
      ]
     },
     "execution_count": 5,
     "metadata": {},
     "output_type": "execute_result"
    }
   ],
   "source": [
    "T.columns.values"
   ]
  },
  {
   "cell_type": "code",
   "execution_count": 13,
   "metadata": {},
   "outputs": [],
   "source": [
    "single=(T['WRIST']==True)&(T['PHN']==False)"
   ]
  },
  {
   "cell_type": "code",
   "execution_count": 46,
   "metadata": {},
   "outputs": [],
   "source": [
    "v1 = (np.unique(T[single]['BABY_IDS']))"
   ]
  },
  {
   "cell_type": "code",
   "execution_count": 47,
   "metadata": {},
   "outputs": [],
   "source": [
    "v2 = (np.unique(T['BABY_IDS']))"
   ]
  },
  {
   "cell_type": "code",
   "execution_count": 48,
   "metadata": {},
   "outputs": [
    {
     "name": "stdout",
     "output_type": "stream",
     "text": [
      "251\n",
      "267\n"
     ]
    }
   ],
   "source": [
    "print(len(v1))\n",
    "print(len(v2))\n"
   ]
  },
  {
   "cell_type": "code",
   "execution_count": 52,
   "metadata": {},
   "outputs": [],
   "source": [
    "#for name in v1:\n",
    "#    print(name)"
   ]
  },
  {
   "cell_type": "code",
   "execution_count": 53,
   "metadata": {},
   "outputs": [
    {
     "data": {
      "text/html": [
       "<div>\n",
       "<style scoped>\n",
       "    .dataframe tbody tr th:only-of-type {\n",
       "        vertical-align: middle;\n",
       "    }\n",
       "\n",
       "    .dataframe tbody tr th {\n",
       "        vertical-align: top;\n",
       "    }\n",
       "\n",
       "    .dataframe thead th {\n",
       "        text-align: right;\n",
       "    }\n",
       "</style>\n",
       "<table border=\"1\" class=\"dataframe\">\n",
       "  <thead>\n",
       "    <tr style=\"text-align: right;\">\n",
       "      <th></th>\n",
       "      <th>BABY_IDS</th>\n",
       "      <th>GENDER</th>\n",
       "      <th>WEIGHT_GRAMS</th>\n",
       "      <th>GEST_AGE_DAYS</th>\n",
       "      <th>DELIVERY</th>\n",
       "      <th>BIRTH_DATE</th>\n",
       "      <th>FILE</th>\n",
       "      <th>DELTA_SEC_MEASURE</th>\n",
       "      <th>MED_SPO2</th>\n",
       "      <th>MED_PR</th>\n",
       "      <th>MED_PI</th>\n",
       "      <th>PHN</th>\n",
       "      <th>WRIST</th>\n",
       "      <th>FOOT</th>\n",
       "    </tr>\n",
       "  </thead>\n",
       "  <tbody>\n",
       "    <tr>\n",
       "      <th>111</th>\n",
       "      <td>PLC006</td>\n",
       "      <td>Male</td>\n",
       "      <td>4205.0</td>\n",
       "      <td>285.0</td>\n",
       "      <td>Csection</td>\n",
       "      <td>2014-03-19 16:13:00</td>\n",
       "      <td>/home/giorgio/Desktop/NHS/TOST_data/TOST PLC D...</td>\n",
       "      <td>69044.0</td>\n",
       "      <td>97.0</td>\n",
       "      <td>111.0</td>\n",
       "      <td>1.0</td>\n",
       "      <td>False</td>\n",
       "      <td>True</td>\n",
       "      <td>False</td>\n",
       "    </tr>\n",
       "    <tr>\n",
       "      <th>113</th>\n",
       "      <td>PLC006</td>\n",
       "      <td>Male</td>\n",
       "      <td>4205.0</td>\n",
       "      <td>285.0</td>\n",
       "      <td>Csection</td>\n",
       "      <td>2014-03-19 16:13:00</td>\n",
       "      <td>/home/giorgio/Desktop/NHS/TOST_data/TOST PLC D...</td>\n",
       "      <td>156043.0</td>\n",
       "      <td>96.0</td>\n",
       "      <td>118.0</td>\n",
       "      <td>0.9</td>\n",
       "      <td>False</td>\n",
       "      <td>True</td>\n",
       "      <td>False</td>\n",
       "    </tr>\n",
       "  </tbody>\n",
       "</table>\n",
       "</div>"
      ],
      "text/plain": [
       "    BABY_IDS GENDER  WEIGHT_GRAMS  GEST_AGE_DAYS  DELIVERY  \\\n",
       "111   PLC006   Male        4205.0          285.0  Csection   \n",
       "113   PLC006   Male        4205.0          285.0  Csection   \n",
       "\n",
       "              BIRTH_DATE                                               FILE  \\\n",
       "111  2014-03-19 16:13:00  /home/giorgio/Desktop/NHS/TOST_data/TOST PLC D...   \n",
       "113  2014-03-19 16:13:00  /home/giorgio/Desktop/NHS/TOST_data/TOST PLC D...   \n",
       "\n",
       "     DELTA_SEC_MEASURE  MED_SPO2  MED_PR  MED_PI    PHN  WRIST   FOOT  \n",
       "111            69044.0      97.0   111.0     1.0  False   True  False  \n",
       "113           156043.0      96.0   118.0     0.9  False   True  False  "
      ]
     },
     "execution_count": 53,
     "metadata": {},
     "output_type": "execute_result"
    }
   ],
   "source": [
    "#This baby has two measurements in the hospital\n",
    "T[(T['BABY_IDS']=='PLC006')& single ]"
   ]
  },
  {
   "cell_type": "code",
   "execution_count": 54,
   "metadata": {},
   "outputs": [
    {
     "data": {
      "text/plain": [
       "192"
      ]
     },
     "execution_count": 54,
     "metadata": {},
     "output_type": "execute_result"
    }
   ],
   "source": [
    "len(T[(T['PHN']==True)])"
   ]
  },
  {
   "cell_type": "code",
   "execution_count": 55,
   "metadata": {},
   "outputs": [
    {
     "data": {
      "text/plain": [
       "572"
      ]
     },
     "execution_count": 55,
     "metadata": {},
     "output_type": "execute_result"
    }
   ],
   "source": [
    "len(T[(T['PHN']==False)])"
   ]
  },
  {
   "cell_type": "code",
   "execution_count": 69,
   "metadata": {},
   "outputs": [],
   "source": [
    "def unique_id(table,tot=267):\n",
    "    n = len(np.unique(table['BABY_IDS']))\n",
    "    return n, n/float(tot)"
   ]
  },
  {
   "cell_type": "code",
   "execution_count": 70,
   "metadata": {},
   "outputs": [
    {
     "data": {
      "text/plain": [
       "(96, 0.3595505617977528)"
      ]
     },
     "execution_count": 70,
     "metadata": {},
     "output_type": "execute_result"
    }
   ],
   "source": [
    "t1 =T[T['PHN']==True]\n",
    "unique_id(t1)"
   ]
  },
  {
   "cell_type": "code",
   "execution_count": 71,
   "metadata": {},
   "outputs": [
    {
     "data": {
      "text/plain": [
       "96"
      ]
     },
     "execution_count": 71,
     "metadata": {},
     "output_type": "execute_result"
    }
   ],
   "source": [
    "len(t1['BABY_IDS'].unique())"
   ]
  },
  {
   "cell_type": "code",
   "execution_count": 72,
   "metadata": {},
   "outputs": [],
   "source": [
    "female = T[T['GENDER']=='Female']"
   ]
  },
  {
   "cell_type": "code",
   "execution_count": 73,
   "metadata": {},
   "outputs": [
    {
     "data": {
      "text/plain": [
       "(123, 0.4606741573033708)"
      ]
     },
     "execution_count": 73,
     "metadata": {},
     "output_type": "execute_result"
    }
   ],
   "source": [
    "unique_id(female)"
   ]
  },
  {
   "cell_type": "code",
   "execution_count": null,
   "metadata": {},
   "outputs": [],
   "source": []
  }
 ],
 "metadata": {
  "kernelspec": {
   "display_name": "Python 3",
   "language": "python",
   "name": "python3"
  },
  "language_info": {
   "codemirror_mode": {
    "name": "ipython",
    "version": 3
   },
   "file_extension": ".py",
   "mimetype": "text/x-python",
   "name": "python",
   "nbconvert_exporter": "python",
   "pygments_lexer": "ipython3",
   "version": "3.6.9"
  }
 },
 "nbformat": 4,
 "nbformat_minor": 2
}
