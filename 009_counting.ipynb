{
 "cells": [
  {
   "cell_type": "code",
   "execution_count": 2,
   "metadata": {},
   "outputs": [],
   "source": [
    "#import sys\n",
    "#sys.modules.pop('CLASS_BABY')\n",
    "#sys.modules.pop('CLASS_SAMPLE')\n",
    "\n",
    "from CLASS_BABY import *\n",
    "from CLASS_SAMPLE import *\n",
    "\n",
    "import scipy.stats as ss\n",
    "\n",
    "#bigger fonts\n",
    "import matplotlib\n",
    "matplotlib.rc('xtick', labelsize=15) \n",
    "matplotlib.rc('ytick', labelsize=15)\n",
    "matplotlib.rcParams.update({'font.size': 20})"
   ]
  },
  {
   "cell_type": "code",
   "execution_count": 3,
   "metadata": {},
   "outputs": [],
   "source": [
    "# Not specified types are strings\n",
    "T = pd.read_csv('../TOST_data/average_properties.txt',\n",
    "            sep='\\t',index_col=0,na_values=-99,\n",
    "            dtype={'WEIGHT_GRAMS': float,\n",
    "                   'GEST_AGE_DAYS':float,\n",
    "                   'DELTA_SEC_MEASURE':float,\n",
    "                   'MED_SPO2':float,\n",
    "                   'MED_PI':float,\n",
    "                   'MED_PR':float,\n",
    "                   'BRADY_SEC_PR':float,\n",
    "                   'BRADY_RATIO_PR':float,\n",
    "                   'BRADY_RATIO_PR_m10':float,\n",
    "                   'BRADY_RATIO_PR_m20':float,\n",
    "                   'BRADY_RATIO_PR_m30':float,\n",
    "                   'BRADY_RATIO_PR_m40':float,\n",
    "                   'BRADY_SEC_SPO2':float,\n",
    "                   'BRADY_RATIO_SPO2':float,\n",
    "                   'BRADY_SEC_PR_DYN':float,\n",
    "                   'BRADY_RATIO_PR_DYN':float})"
   ]
  },
  {
   "cell_type": "code",
   "execution_count": 4,
   "metadata": {},
   "outputs": [
    {
     "data": {
      "text/plain": [
       "array(['BABY_IDS', 'GENDER', 'WEIGHT_GRAMS', 'GEST_AGE_DAYS', 'DELIVERY',\n",
       "       'BIRTH_DATE', 'FILE', 'DELTA_SEC_MEASURE', 'MED_SPO2', 'MED_PR',\n",
       "       'MED_PI', 'PHN', 'WRIST', 'FOOT', 'BRADY_SEC_PR', 'BRADY_RATIO_PR',\n",
       "       'BRADY_RATIO_PR_m10', 'BRADY_RATIO_PR_m20', 'BRADY_RATIO_PR_m30',\n",
       "       'BRADY_RATIO_PR_m40', 'BRADY_SEC_SPO2', 'BRADY_RATIO_SPO2',\n",
       "       'BRADY_SEC_PR_DYN', 'BRADY_RATIO_PR_DYN'], dtype=object)"
      ]
     },
     "execution_count": 4,
     "metadata": {},
     "output_type": "execute_result"
    }
   ],
   "source": [
    "T.columns.values"
   ]
  },
  {
   "cell_type": "code",
   "execution_count": 5,
   "metadata": {},
   "outputs": [],
   "source": [
    "single=(T['WRIST']==True)&(T['PHN']==False)"
   ]
  },
  {
   "cell_type": "code",
   "execution_count": 6,
   "metadata": {},
   "outputs": [],
   "source": [
    "v1 = (np.unique(T[single]['BABY_IDS']))"
   ]
  },
  {
   "cell_type": "code",
   "execution_count": 7,
   "metadata": {},
   "outputs": [],
   "source": [
    "v2 = (np.unique(T['BABY_IDS']))"
   ]
  },
  {
   "cell_type": "code",
   "execution_count": 8,
   "metadata": {},
   "outputs": [
    {
     "name": "stdout",
     "output_type": "stream",
     "text": [
      "251\n",
      "267\n"
     ]
    }
   ],
   "source": [
    "print(len(v1))\n",
    "print(len(v2))\n"
   ]
  },
  {
   "cell_type": "code",
   "execution_count": 9,
   "metadata": {},
   "outputs": [],
   "source": [
    "#for name in v1:\n",
    "#    print(name)"
   ]
  },
  {
   "cell_type": "code",
   "execution_count": 10,
   "metadata": {},
   "outputs": [
    {
     "data": {
      "text/html": [
       "<div>\n",
       "<style scoped>\n",
       "    .dataframe tbody tr th:only-of-type {\n",
       "        vertical-align: middle;\n",
       "    }\n",
       "\n",
       "    .dataframe tbody tr th {\n",
       "        vertical-align: top;\n",
       "    }\n",
       "\n",
       "    .dataframe thead th {\n",
       "        text-align: right;\n",
       "    }\n",
       "</style>\n",
       "<table border=\"1\" class=\"dataframe\">\n",
       "  <thead>\n",
       "    <tr style=\"text-align: right;\">\n",
       "      <th></th>\n",
       "      <th>BABY_IDS</th>\n",
       "      <th>GENDER</th>\n",
       "      <th>WEIGHT_GRAMS</th>\n",
       "      <th>GEST_AGE_DAYS</th>\n",
       "      <th>DELIVERY</th>\n",
       "      <th>BIRTH_DATE</th>\n",
       "      <th>FILE</th>\n",
       "      <th>DELTA_SEC_MEASURE</th>\n",
       "      <th>MED_SPO2</th>\n",
       "      <th>MED_PR</th>\n",
       "      <th>...</th>\n",
       "      <th>BRADY_SEC_PR</th>\n",
       "      <th>BRADY_RATIO_PR</th>\n",
       "      <th>BRADY_RATIO_PR_m10</th>\n",
       "      <th>BRADY_RATIO_PR_m20</th>\n",
       "      <th>BRADY_RATIO_PR_m30</th>\n",
       "      <th>BRADY_RATIO_PR_m40</th>\n",
       "      <th>BRADY_SEC_SPO2</th>\n",
       "      <th>BRADY_RATIO_SPO2</th>\n",
       "      <th>BRADY_SEC_PR_DYN</th>\n",
       "      <th>BRADY_RATIO_PR_DYN</th>\n",
       "    </tr>\n",
       "  </thead>\n",
       "  <tbody>\n",
       "    <tr>\n",
       "      <th>111</th>\n",
       "      <td>PLC006</td>\n",
       "      <td>Male</td>\n",
       "      <td>4205.0</td>\n",
       "      <td>285.0</td>\n",
       "      <td>Csection</td>\n",
       "      <td>2014-03-19 16:13:00</td>\n",
       "      <td>/home/giorgio/Desktop/NHS/TOST_data/TOST PLC D...</td>\n",
       "      <td>69044.0</td>\n",
       "      <td>97.0</td>\n",
       "      <td>111.0</td>\n",
       "      <td>...</td>\n",
       "      <td>4106.0</td>\n",
       "      <td>0.776181</td>\n",
       "      <td>0.418904</td>\n",
       "      <td>0.054064</td>\n",
       "      <td>0.016257</td>\n",
       "      <td>0.012854</td>\n",
       "      <td>2902.0</td>\n",
       "      <td>0.548582</td>\n",
       "      <td>2414.0</td>\n",
       "      <td>0.456333</td>\n",
       "    </tr>\n",
       "    <tr>\n",
       "      <th>113</th>\n",
       "      <td>PLC006</td>\n",
       "      <td>Male</td>\n",
       "      <td>4205.0</td>\n",
       "      <td>285.0</td>\n",
       "      <td>Csection</td>\n",
       "      <td>2014-03-19 16:13:00</td>\n",
       "      <td>/home/giorgio/Desktop/NHS/TOST_data/TOST PLC D...</td>\n",
       "      <td>156043.0</td>\n",
       "      <td>96.0</td>\n",
       "      <td>118.0</td>\n",
       "      <td>...</td>\n",
       "      <td>2656.0</td>\n",
       "      <td>0.556114</td>\n",
       "      <td>0.213149</td>\n",
       "      <td>0.135678</td>\n",
       "      <td>0.125628</td>\n",
       "      <td>0.115997</td>\n",
       "      <td>4078.0</td>\n",
       "      <td>0.853853</td>\n",
       "      <td>2218.0</td>\n",
       "      <td>0.464405</td>\n",
       "    </tr>\n",
       "  </tbody>\n",
       "</table>\n",
       "<p>2 rows × 24 columns</p>\n",
       "</div>"
      ],
      "text/plain": [
       "    BABY_IDS GENDER  WEIGHT_GRAMS  GEST_AGE_DAYS  DELIVERY  \\\n",
       "111   PLC006   Male        4205.0          285.0  Csection   \n",
       "113   PLC006   Male        4205.0          285.0  Csection   \n",
       "\n",
       "              BIRTH_DATE                                               FILE  \\\n",
       "111  2014-03-19 16:13:00  /home/giorgio/Desktop/NHS/TOST_data/TOST PLC D...   \n",
       "113  2014-03-19 16:13:00  /home/giorgio/Desktop/NHS/TOST_data/TOST PLC D...   \n",
       "\n",
       "     DELTA_SEC_MEASURE  MED_SPO2  MED_PR  ...  BRADY_SEC_PR  BRADY_RATIO_PR  \\\n",
       "111            69044.0      97.0   111.0  ...        4106.0        0.776181   \n",
       "113           156043.0      96.0   118.0  ...        2656.0        0.556114   \n",
       "\n",
       "     BRADY_RATIO_PR_m10  BRADY_RATIO_PR_m20  BRADY_RATIO_PR_m30  \\\n",
       "111            0.418904            0.054064            0.016257   \n",
       "113            0.213149            0.135678            0.125628   \n",
       "\n",
       "     BRADY_RATIO_PR_m40  BRADY_SEC_SPO2  BRADY_RATIO_SPO2  BRADY_SEC_PR_DYN  \\\n",
       "111            0.012854          2902.0          0.548582            2414.0   \n",
       "113            0.115997          4078.0          0.853853            2218.0   \n",
       "\n",
       "     BRADY_RATIO_PR_DYN  \n",
       "111            0.456333  \n",
       "113            0.464405  \n",
       "\n",
       "[2 rows x 24 columns]"
      ]
     },
     "execution_count": 10,
     "metadata": {},
     "output_type": "execute_result"
    }
   ],
   "source": [
    "#This baby has two measurements in the hospital\n",
    "T[(T['BABY_IDS']=='PLC006')& single ]"
   ]
  },
  {
   "cell_type": "code",
   "execution_count": 41,
   "metadata": {},
   "outputs": [],
   "source": [
    "def unique_id(table,tot=267):\n",
    "    '''input: table with the selection on the category you want to count\n",
    "       output: the number of baby from that table and the fraction \n",
    "       of the total number of babies'''\n",
    "    # take the same baby id just once (as we want to count babies)\n",
    "    n = len(np.unique(table['BABY_IDS']))\n",
    "    return n, n/float(tot)"
   ]
  },
  {
   "cell_type": "code",
   "execution_count": 46,
   "metadata": {},
   "outputs": [
    {
     "name": "stdout",
     "output_type": "stream",
     "text": [
      "192\n",
      "Number of babies been to PHN: # = 96; frac = 0.360\n"
     ]
    }
   ],
   "source": [
    "#BABIES THAT HAS BEEN TO NHS\n",
    "phn = T[(T['PHN']==True)]\n",
    "print(len(phn))\n",
    "print('Number of babies been to PHN: # = %s; frac = %.3f'%unique_id(phn))"
   ]
  },
  {
   "cell_type": "code",
   "execution_count": 48,
   "metadata": {},
   "outputs": [
    {
     "name": "stdout",
     "output_type": "stream",
     "text": [
      "Number of babies with at least a measurement from the hospital: # = 266; frac = 0.996\n"
     ]
    }
   ],
   "source": [
    "# NUMBER OF BABY WITH MEASUREMENTS IN THE HOSPITAL\n",
    "\n",
    "# remember that no phn only means that there is at least a measuerement that is not fom the phn\n",
    "# so in this case it means that only one baby has no measurements from the hospital but only from the PHN\n",
    "# for a more intuitive flag check in the class baby the property baby.has_been_phn.\n",
    "no_phn = T[(T['PHN']==False)]\n",
    "len(no_phn)\n",
    "print('Number of babies with at least a measurement from the hospital: # = %s; frac = %.3f'%unique_id(no_phn))\n"
   ]
  },
  {
   "cell_type": "code",
   "execution_count": 35,
   "metadata": {},
   "outputs": [
    {
     "name": "stdout",
     "output_type": "stream",
     "text": [
      "Number of girls: # = 123; frac = 0.461\n",
      "Number of boys: # = 144; frac = 0.539\n"
     ]
    }
   ],
   "source": [
    "# NUMBER OF GIRLS\n",
    "female = T[T['GENDER']=='Female']\n",
    "male = T[T['GENDER']=='Male']\n",
    "print('Number of girls: # = %s; frac = %.3f'%unique_id(female))\n",
    "print('Number of boys: # = %s; frac = %.3f'%unique_id(male))"
   ]
  },
  {
   "cell_type": "code",
   "execution_count": null,
   "metadata": {},
   "outputs": [],
   "source": []
  },
  {
   "cell_type": "code",
   "execution_count": null,
   "metadata": {},
   "outputs": [],
   "source": []
  },
  {
   "cell_type": "code",
   "execution_count": null,
   "metadata": {},
   "outputs": [],
   "source": []
  },
  {
   "cell_type": "code",
   "execution_count": null,
   "metadata": {},
   "outputs": [],
   "source": []
  },
  {
   "cell_type": "code",
   "execution_count": null,
   "metadata": {},
   "outputs": [],
   "source": []
  },
  {
   "cell_type": "code",
   "execution_count": null,
   "metadata": {},
   "outputs": [],
   "source": []
  },
  {
   "cell_type": "code",
   "execution_count": null,
   "metadata": {},
   "outputs": [],
   "source": []
  },
  {
   "cell_type": "code",
   "execution_count": null,
   "metadata": {},
   "outputs": [],
   "source": []
  },
  {
   "cell_type": "code",
   "execution_count": null,
   "metadata": {},
   "outputs": [],
   "source": []
  },
  {
   "cell_type": "code",
   "execution_count": null,
   "metadata": {},
   "outputs": [],
   "source": []
  },
  {
   "cell_type": "code",
   "execution_count": null,
   "metadata": {},
   "outputs": [],
   "source": []
  },
  {
   "cell_type": "code",
   "execution_count": null,
   "metadata": {},
   "outputs": [],
   "source": []
  },
  {
   "cell_type": "code",
   "execution_count": null,
   "metadata": {},
   "outputs": [],
   "source": []
  },
  {
   "cell_type": "markdown",
   "metadata": {},
   "source": [
    "# Using directly a loop on baby objects if the properties is not in the text file"
   ]
  },
  {
   "cell_type": "code",
   "execution_count": 18,
   "metadata": {},
   "outputs": [],
   "source": [
    "b = baby('FMC003')"
   ]
  },
  {
   "cell_type": "code",
   "execution_count": 50,
   "metadata": {},
   "outputs": [
    {
     "name": "stdout",
     "output_type": "stream",
     "text": [
      "FMC003 : mean PR =  119.42598187311178\n",
      "FMC004 : mean PR =  121.84375\n",
      "FMC005 : mean PR =  149.39312977099237\n",
      "FMC006 : mean PR =  109.25219941348973\n",
      "FMC007 : mean PR =  115.76\n",
      "FMC008 : mean PR =  102.80254777070064\n",
      "FMC009 : mean PR =  121.2984126984127\n",
      "FMC010 : mean PR =  131.96011396011397\n",
      "FMC011 : mean PR =  130.47382920110192\n",
      "FMC012 : mean PR =  114.43189368770764\n",
      "FMC013 : mean PR =  99.92330383480827\n",
      "FMC014 : mean PR =  112.48214285714286\n",
      "FMC015 : mean PR =  112.67155425219941\n",
      "FMC016 : mean PR =  101.23711340206185\n",
      "FMC017 : mean PR =  123.5672131147541\n",
      "FMC018 : mean PR =  129.0221465076661\n",
      "FMC019 : mean PR =  115.15974440894568\n",
      "FMC020 : mean PR =  114.38819875776397\n",
      "FMC021 : mean PR =  144.89096573208724\n",
      "FMC022 : mean PR =  129.83536585365854\n",
      "FMC023 : mean PR =  127.09345794392523\n",
      "FMC024 : mean PR =  111.98765432098766\n",
      "FMC025 : mean PR =  123.84887459807074\n",
      "FMC026 : mean PR =  150.80523255813952\n",
      "FMC027 : mean PR =  115.08253968253969\n",
      "FMC028 : mean PR =  124.7\n",
      "FMC029 : mean PR =  121.31460674157303\n",
      "FMC030 : mean PR =  97.23376623376623\n",
      "FMC031 : mean PR =  120.18006430868168\n",
      "FMC032 : mean PR =  117.21351351351352\n",
      "FMC033 : mean PR =  124.75308641975309\n",
      "FMC034 : mean PR =  112.59011627906976\n",
      "FMC035 : mean PR =  130.88921282798833\n",
      "FMC036 : mean PR =  117.40677408747122\n",
      "FMC037 : mean PR =  125.27586206896552\n",
      "FMC038 : mean PR =  109.77298850574712\n",
      "FMC039 : mean PR =  104.72702702702702\n",
      "FMC040 : mean PR =  134.4164133738602\n",
      "FMC041 : mean PR =  110.85875706214689\n",
      "FMC042 : mean PR =  109.15027322404372\n",
      "FMC043 : mean PR =  122.77524429967427\n",
      "FMC044 : mean PR =  106.04191616766467\n",
      "FMC045 : mean PR =  122.24033149171271\n",
      "FMC046 : mean PR =  116.9939024390244\n",
      "FMC047 : mean PR =  126.11083123425692\n",
      "FMC048 : mean PR =  127.97377049180328\n",
      "FMC049 : mean PR =  134.57988165680473\n",
      "FMC050 : mean PR =  117.64615384615385\n",
      "FMC051 : mean PR =  125.56697819314641\n",
      "FMC052 : mean PR =  104.30817610062893\n",
      "FMC053 : mean PR =  134.51258581235697\n",
      "FMC054 : mean PR =  135.8939393939394\n",
      "FMC055 : mean PR =  126.98760330578513\n",
      "FMC057 : mean PR =  119.64133456904541\n",
      "FMC058 : mean PR =  119.57954545454545\n",
      "FMC059 : mean PR =  134.5374149659864\n",
      "FMC061 : mean PR =  111.6145038167939\n",
      "FMC062 : mean PR =  127.38679245283019\n",
      "FMC064 : mean PR =  119.90736842105264\n",
      "FMC065 : mean PR =  115.18731117824774\n",
      "FMC066 : mean PR =  115.52694610778443\n",
      "FMC067 : mean PR =  111.49520766773163\n",
      "FMC068 : mean PR =  113.99658703071673\n",
      "FMC069 : mean PR =  116.65548780487805\n",
      "FMC070 : mean PR =  106.05844155844156\n",
      "FMC071 : mean PR =  135.47553816046965\n",
      "FMC072 : mean PR =  91.78899082568807\n",
      "FMC073 : mean PR =  139.12320916905443\n",
      "FMC074 : mean PR =  146.43235294117648\n",
      "FMC075 : mean PR =  120.62323651452282\n",
      "FMC076 : mean PR =  114.33333333333333\n",
      "FMC077 : mean PR =  132.74923547400613\n",
      "FMC078 : mean PR =  117.13057324840764\n",
      "FMC079 : mean PR =  121.36569579288026\n",
      "FMC080 : mean PR =  118.990625\n",
      "FMC081 : mean PR =  114.97107438016529\n",
      "FMC082 : mean PR =  105.78901734104046\n",
      "FMC083 : mean PR =  121.47738693467336\n",
      "FMC084 : mean PR =  106.76047904191617\n",
      "FMC085 : mean PR =  115.79692307692308\n",
      "FMC086 : mean PR =  112.13984168865436\n",
      "FMC087 : mean PR =  110.4294670846395\n",
      "FMC088 : mean PR =  116.14454277286136\n",
      "FMC089 : mean PR =  135.28571428571428\n",
      "FMC090 : mean PR =  120.4171974522293\n",
      "FMC091 : mean PR =  125.02958579881657\n",
      "FMC092 : mean PR =  114.5945945945946\n",
      "FMC093 : mean PR =  117.03246753246754\n",
      "FMC094 : mean PR =  126.27564102564102\n",
      "FMC095 : mean PR =  126.284375\n",
      "FMC096 : mean PR =  111.95268138801262\n",
      "FMC097 : mean PR =  108.37223974763407\n",
      "FMC098 : mean PR =  116.06359649122807\n",
      "FMC099 : mean PR =  122.44568245125348\n",
      "FMC100 : mean PR =  137.01298701298703\n",
      "FMC101 : mean PR =  145.21038251366122\n",
      "FMC102 : mean PR =  123.97213622291022\n",
      "FMC103 : mean PR =  130.20560747663552\n",
      "FMC104 : mean PR =  122.89520958083833\n",
      "FMC105 : mean PR =  111.57366771159874\n",
      "FMC106 : mean PR =  121.25787965616045\n",
      "FMC107 : mean PR =  113.7065868263473\n",
      "FMC108 : mean PR =  118.05431309904154\n",
      "FMC109 : mean PR =  106.58132530120481\n",
      "FMC110 : mean PR =  118.5\n",
      "FMC111 : mean PR =  115.40894568690096\n",
      "FMC112 : mean PR =  127.58522727272727\n",
      "FMC113 : mean PR =  133.16184971098266\n",
      "FMC114 : mean PR =  119.63400576368876\n",
      "FMC115 : mean PR =  120.28454172366621\n",
      "FMC116 : mean PR =  108.2\n",
      "FMC117 : mean PR =  127.40255591054313\n",
      "FMC118 : mean PR =  111.625\n",
      "FMC119 : mean PR =  127.33333333333333\n",
      "FMC120 : mean PR =  104.2991202346041\n",
      "FMC121 : mean PR =  127.35470941883767\n",
      "FMC122 : mean PR =  125.70541082164328\n",
      "FMC123 : mean PR =  103.15946843853821\n",
      "FMC124 : mean PR =  105.75914634146342\n",
      "FMC125 : mean PR =  105.52835820895523\n",
      "FMC126 : mean PR =  98.95645161290322\n",
      "FMC127 : mean PR =  118.4914004914005\n",
      "FMC128 : mean PR =  124.4620253164557\n",
      "FMC129 : mean PR =  122.9585798816568\n",
      "FMC130 : mean PR =  115.48196721311476\n",
      "FMC131 : mean PR =  112.38245614035088\n",
      "FMC132 : mean PR =  130.08045977011494\n",
      "FMC133 : mean PR =  105.87909319899245\n",
      "FMC134 : mean PR =  125.45192307692308\n",
      "FMC135 : mean PR =  117.14527027027027\n",
      "FMCO63 : mean PR =  136.03939393939393\n",
      "PLC 009 : mean PR =  118.89198606271778\n",
      "PLC 010 : mean PR =  144.23529411764707\n",
      "PLC 011 : mean PR =  141.00967741935483\n",
      "PLC 012 : mean PR =  144.61204013377926\n",
      "PLC 013 : mean PR =  141.36119402985074\n",
      "PLC 014 : mean PR =  138.95283018867926\n",
      "PLC 015 : mean PR =  131.43859649122808\n",
      "PLC 016 : mean PR =  136.8720238095238\n",
      "PLC 018 : mean PR =  137.4360655737705\n",
      "PLC 019 : mean PR =  129.36688311688312\n",
      "PLC 020 : mean PR =  118.98051948051948\n",
      "PLC 021 : mean PR =  151.9495268138801\n",
      "PLC 028 : mean PR =  108.86206896551724\n",
      "PLC 029 : mean PR =  127.88095238095238\n",
      "PLC 030 : mean PR =  108.81167108753316\n",
      "PLC 031 : mean PR =  130.30179028132991\n",
      "PLC 032 : mean PR =  139.86858974358975\n",
      "PLC 033 : mean PR =  125.62540716612378\n",
      "PLC 034 : mean PR =  67.24781341107872\n",
      "PLC 035 : mean PR =  143.47280334728035\n",
      "PLC 036 : mean PR =  114.15831134564644\n",
      "PLC 037 : mean PR =  89.9202657807309\n",
      "PLC 039 : mean PR =  140.87147335423197\n",
      "PLC 040 : mean PR =  135.7785016286645\n",
      "PLC 041 : mean PR =  109.98402555910543\n",
      "PLC 042 : mean PR =  113.07476635514018\n",
      "PLC 043 : mean PR =  116.02547770700637\n",
      "PLC 045 : mean PR =  105.45294117647059\n",
      "PLC 046 : mean PR =  110.2467105263158\n",
      "PLC 047 : mean PR =  111.0223642172524\n",
      "PLC 048 : mean PR =  121.45602605863192\n",
      "PLC 049 : mean PR =  97.54220779220779\n",
      "PLC 050 : mean PR =  117.48231511254019\n",
      "PLC 051 : mean PR =  110.10571428571428\n",
      "PLC 052 : mean PR =  125.78709677419354\n",
      "PLC 053 : mean PR =  119.63492063492063\n",
      "PLC 054 : mean PR =  110.43478260869566\n",
      "PLC 055 : mean PR =  144.69426751592357\n",
      "PLC 056 : mean PR =  126.7602523659306\n",
      "PLC 057 : mean PR =  122.80952380952381\n",
      "PLC 059 : mean PR =  137.52261306532662\n",
      "PLC 060 : mean PR =  104.32063492063492\n",
      "PLC 061 : mean PR =  116.92903225806451\n",
      "PLC 062 : mean PR =  107.9015873015873\n",
      "PLC 063 : mean PR =  122.06340057636888\n",
      "PLC001 : mean PR =  136.6820580474934\n",
      "PLC002 : mean PR =  93.09204647006256\n",
      "PLC003 : mean PR =  126.10736196319019\n",
      "PLC004 : mean PR =  120.21212121212122\n",
      "PLC005 : mean PR =  102.21198156682027\n",
      "PLC006 : mean PR =  83.28849270664506\n",
      "PLC007 : mean PR =  129.12012987012986\n",
      "PLC008 : mean PR =  124.71030640668523\n",
      "PLC017 : mean PR =  124.0\n",
      "PLC022 : mean PR =  123.42718446601941\n",
      "PLC023 : mean PR =  143.8409090909091\n",
      "PLC024 : mean PR =  127.5920245398773\n",
      "PLC025 : mean PR =  160.67543859649123\n",
      "PLC026 : mean PR =  119.04870624048706\n",
      "PLC027 : mean PR =  111.49305555555556\n",
      "PLC038 : mean PR =  131.7864077669903\n",
      "PLC044 : mean PR =  101.69032258064516\n",
      "PLC058 : mean PR =  142.03908794788273\n",
      "RGH 025 : mean PR =  107.87461773700306\n",
      "RGH 046 : mean PR =  109.58441558441558\n",
      "RGH 049 : mean PR =  132.2579617834395\n",
      "RGH 050 : mean PR =  121.25192802056556\n",
      "RGH 052 : mean PR =  135.89137380191693\n",
      "RGH001 : mean PR =  136.4832089552239\n",
      "RGH002 : mean PR =  113.03941908713693\n",
      "RGH003 : mean PR =  131.29284164859\n",
      "RGH004 : mean PR =  148.43148688046648\n",
      "RGH005 : mean PR =  91.44933469805527\n",
      "RGH006 : mean PR =  121.39701492537313\n",
      "RGH007 : mean PR =  116.48026315789474\n",
      "RGH008 : mean PR =  116.75471698113208\n",
      "RGH009 : mean PR =  116.5748987854251\n",
      "RGH010 : mean PR =  102.40531561461793\n",
      "RGH011 : mean PR =  130.80664652567975\n",
      "RGH012 : mean PR =  150.87936507936507\n",
      "RGH013 : mean PR =  101.32142857142857\n",
      "RGH014 : mean PR =  125.16398713826366\n",
      "RGH015 : mean PR =  128.3409090909091\n",
      "RGH016 : mean PR =  101.65975103734439\n",
      "RGH017 : mean PR =  123.40389294403893\n",
      "RGH018 : mean PR =  115.29480519480519\n"
     ]
    },
    {
     "name": "stdout",
     "output_type": "stream",
     "text": [
      "RGH019 : mean PR =  126.97523219814242\n",
      "RGH020 : mean PR =  116.24113475177305\n",
      "RGH022 : mean PR =  122.20353159851301\n",
      "RGH023 : mean PR =  127.02153846153846\n",
      "RGH024 : mean PR =  108.82940360610263\n",
      "RGH026 : mean PR =  133.03492063492064\n",
      "RGH027 : mean PR =  102.1951951951952\n",
      "RGH028 : mean PR =  131.06467065868264\n",
      "RGH029 : mean PR =  154.98254364089775\n",
      "RGH030 : mean PR =  123.4381067961165\n",
      "RGH031 : mean PR =  139.19089147286823\n",
      "RGH032 : mean PR =  109.86486486486487\n",
      "RGH033 : mean PR =  117.03880597014926\n",
      "RGH034 : mean PR =  117.20192307692308\n",
      "RGH035 : mean PR =  130.7807807807808\n",
      "RGH036 : mean PR =  124.79941002949853\n",
      "RGH037 : mean PR =  140.73529411764707\n",
      "RGH038 : mean PR =  102.94196428571429\n",
      "RGH039 : mean PR =  110.80886426592798\n",
      "RGH040 : mean PR =  121.17915309446254\n",
      "RGH041 : mean PR =  130.22327044025158\n",
      "RGH042 : mean PR =  120.13881019830028\n",
      "RGH043 : mean PR =  135.44918032786885\n",
      "RGH044 : mean PR =  104.18495297805643\n",
      "RGH045 : mean PR =  109.27622377622377\n",
      "WARNING: more than one baby for the same id!!!\n",
      "baby_id =  RGH047 with original name =  rgh047  at index =  280\n",
      "RGH047 : mean PR =  102.37421383647799\n",
      "RGH051 : mean PR =  133.24496644295303\n",
      "RGH053 : mean PR =  112.44794952681389\n",
      "RGH054 : mean PR =  108.86101694915254\n",
      "RGH055 : mean PR =  128.7967213114754\n",
      "RGH056 : mean PR =  111.0273556231003\n",
      "RGH057 : mean PR =  115.95\n",
      "RGH058 : mean PR =  128.53627760252365\n",
      "RGH059 : mean PR =  111.13418530351437\n",
      "RGH060 : mean PR =  110.90666666666667\n",
      "RGH061 : mean PR =  136.08722741433021\n",
      "RGH062 : mean PR =  133.11143695014664\n",
      "RGH063 : mean PR =  130.73006134969324\n",
      "RGH064 : mean PR =  128.1371237458194\n",
      "RGH065 : mean PR =  121.95625\n",
      "RGH066 : mean PR =  142.09748427672955\n",
      "RGH067 : mean PR =  122.88118811881188\n",
      "RGH068 : mean PR =  109.22712933753944\n",
      "RGH069 : mean PR =  103.06907894736842\n",
      "RGH071 : mean PR =  133.1862464183381\n",
      "RGH072 : mean PR =  142.30232558139534\n",
      "RGH073 : mean PR =  129.06148867313917\n",
      "RGH074 : mean PR =  124.85276073619632\n",
      "RGH21 : mean PR =  132.22814814814814\n",
      "RGH70 : mean PR =  138.45901639344262\n"
     ]
    }
   ],
   "source": [
    "for id in np.unique(T['BABY_IDS']):\n",
    "    b = baby(id)\n",
    "    print(id, ': mean PR = ',b.measurements[0]['PR'].mean())"
   ]
  },
  {
   "cell_type": "code",
   "execution_count": 52,
   "metadata": {},
   "outputs": [
    {
     "data": {
      "text/plain": [
       "array(['FMC003', 'FMC004', 'FMC005', 'FMC006', 'FMC007', 'FMC008',\n",
       "       'FMC009', 'FMC010', 'FMC011', 'FMC012', 'FMC013', 'FMC014',\n",
       "       'FMC015', 'FMC016', 'FMC017', 'FMC018', 'FMC019', 'FMC020',\n",
       "       'FMC021', 'FMC022', 'FMC023', 'FMC024', 'FMC025', 'FMC026',\n",
       "       'FMC027', 'FMC028', 'FMC029', 'FMC030', 'FMC031', 'FMC032',\n",
       "       'FMC033', 'FMC034', 'FMC035', 'FMC036', 'FMC037', 'FMC038',\n",
       "       'FMC039', 'FMC040', 'FMC041', 'FMC042', 'FMC043', 'FMC044',\n",
       "       'FMC045', 'FMC046', 'FMC047', 'FMC048', 'FMC049', 'FMC050',\n",
       "       'FMC051', 'FMC052', 'FMC053', 'FMC054', 'FMC055', 'FMC057',\n",
       "       'FMC058', 'FMC059', 'FMC061', 'FMC062', 'FMC064', 'FMC065',\n",
       "       'FMC066', 'FMC067', 'FMC068', 'FMC069', 'FMC070', 'FMC071',\n",
       "       'FMC072', 'FMC073', 'FMC074', 'FMC075', 'FMC076', 'FMC077',\n",
       "       'FMC078', 'FMC079', 'FMC080', 'FMC081', 'FMC082', 'FMC083',\n",
       "       'FMC084', 'FMC085', 'FMC086', 'FMC087', 'FMC088', 'FMC089',\n",
       "       'FMC090', 'FMC091', 'FMC092', 'FMC093', 'FMC094', 'FMC095',\n",
       "       'FMC096', 'FMC097', 'FMC098', 'FMC099', 'FMC100', 'FMC101',\n",
       "       'FMC102', 'FMC103', 'FMC104', 'FMC105', 'FMC106', 'FMC107',\n",
       "       'FMC108', 'FMC109', 'FMC110', 'FMC111', 'FMC112', 'FMC113',\n",
       "       'FMC114', 'FMC115', 'FMC116', 'FMC117', 'FMC118', 'FMC119',\n",
       "       'FMC120', 'FMC121', 'FMC122', 'FMC123', 'FMC124', 'FMC125',\n",
       "       'FMC126', 'FMC127', 'FMC128', 'FMC129', 'FMC130', 'FMC131',\n",
       "       'FMC132', 'FMC133', 'FMC134', 'FMC135', 'FMCO63', 'PLC 009',\n",
       "       'PLC 010', 'PLC 011', 'PLC 012', 'PLC 013', 'PLC 014', 'PLC 015',\n",
       "       'PLC 016', 'PLC 018', 'PLC 019', 'PLC 020', 'PLC 021', 'PLC 028',\n",
       "       'PLC 029', 'PLC 030', 'PLC 031', 'PLC 032', 'PLC 033', 'PLC 034',\n",
       "       'PLC 035', 'PLC 036', 'PLC 037', 'PLC 039', 'PLC 040', 'PLC 041',\n",
       "       'PLC 042', 'PLC 043', 'PLC 045', 'PLC 046', 'PLC 047', 'PLC 048',\n",
       "       'PLC 049', 'PLC 050', 'PLC 051', 'PLC 052', 'PLC 053', 'PLC 054',\n",
       "       'PLC 055', 'PLC 056', 'PLC 057', 'PLC 059', 'PLC 060', 'PLC 061',\n",
       "       'PLC 062', 'PLC 063', 'PLC001', 'PLC002', 'PLC003', 'PLC004',\n",
       "       'PLC005', 'PLC006', 'PLC007', 'PLC008', 'PLC017', 'PLC022',\n",
       "       'PLC023', 'PLC024', 'PLC025', 'PLC026', 'PLC027', 'PLC038',\n",
       "       'PLC044', 'PLC058', 'RGH 025', 'RGH 046', 'RGH 049', 'RGH 050',\n",
       "       'RGH 052', 'RGH001', 'RGH002', 'RGH003', 'RGH004', 'RGH005',\n",
       "       'RGH006', 'RGH007', 'RGH008', 'RGH009', 'RGH010', 'RGH011',\n",
       "       'RGH012', 'RGH013', 'RGH014', 'RGH015', 'RGH016', 'RGH017',\n",
       "       'RGH018', 'RGH019', 'RGH020', 'RGH022', 'RGH023', 'RGH024',\n",
       "       'RGH026', 'RGH027', 'RGH028', 'RGH029', 'RGH030', 'RGH031',\n",
       "       'RGH032', 'RGH033', 'RGH034', 'RGH035', 'RGH036', 'RGH037',\n",
       "       'RGH038', 'RGH039', 'RGH040', 'RGH041', 'RGH042', 'RGH043',\n",
       "       'RGH044', 'RGH045', 'RGH047', 'RGH051', 'RGH053', 'RGH054',\n",
       "       'RGH055', 'RGH056', 'RGH057', 'RGH058', 'RGH059', 'RGH060',\n",
       "       'RGH061', 'RGH062', 'RGH063', 'RGH064', 'RGH065', 'RGH066',\n",
       "       'RGH067', 'RGH068', 'RGH069', 'RGH071', 'RGH072', 'RGH073',\n",
       "       'RGH074', 'RGH21', 'RGH70'], dtype=object)"
      ]
     },
     "execution_count": 52,
     "metadata": {},
     "output_type": "execute_result"
    }
   ],
   "source": [
    "np.unique(T['BABY_IDS'])"
   ]
  },
  {
   "cell_type": "code",
   "execution_count": 55,
   "metadata": {},
   "outputs": [
    {
     "name": "stdout",
     "output_type": "stream",
     "text": [
      "WARNING: more than one baby for the same id!!!\n",
      "baby_id =  RGH047 with original name =  rgh047  at index =  280\n"
     ]
    }
   ],
   "source": [
    "# WE HAVE DOUBLE rgh047\n",
    "rgh047 = baby('RGH047')"
   ]
  },
  {
   "cell_type": "code",
   "execution_count": null,
   "metadata": {},
   "outputs": [],
   "source": []
  }
 ],
 "metadata": {
  "kernelspec": {
   "display_name": "Python 3",
   "language": "python",
   "name": "python3"
  },
  "language_info": {
   "codemirror_mode": {
    "name": "ipython",
    "version": 3
   },
   "file_extension": ".py",
   "mimetype": "text/x-python",
   "name": "python",
   "nbconvert_exporter": "python",
   "pygments_lexer": "ipython3",
   "version": "3.6.9"
  }
 },
 "nbformat": 4,
 "nbformat_minor": 2
}
