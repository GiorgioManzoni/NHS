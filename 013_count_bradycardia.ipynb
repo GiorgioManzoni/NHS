{
 "cells": [
  {
   "cell_type": "code",
   "execution_count": 796,
   "metadata": {},
   "outputs": [],
   "source": [
    "import sys\n",
    "sys.modules.pop('CLASS_BABY')\n",
    "sys.modules.pop('CLASS_SAMPLE')\n",
    "\n",
    "\n",
    "from CLASS_BABY import *\n",
    "from CLASS_SAMPLE import *\n",
    "\n",
    "import scipy.stats as ss\n",
    "\n",
    "#bigger fonts\n",
    "import matplotlib\n",
    "matplotlib.rc('xtick', labelsize=15) \n",
    "matplotlib.rc('ytick', labelsize=15)\n",
    "matplotlib.rcParams.update({'font.size': 20})"
   ]
  },
  {
   "cell_type": "code",
   "execution_count": 797,
   "metadata": {},
   "outputs": [],
   "source": [
    "T = pd.read_csv('../TOST_data/average_properties.txt',\n",
    "            sep='\\t',index_col=0,na_values=-99,\n",
    "            dtype={'WEIGHT_GRAMS': float,\n",
    "                   'GEST_AGE_DAYS':float,\n",
    "                   'DELTA_SEC_MEASURE':float,\n",
    "                   'MED_SPO2':float,\n",
    "                   'MED_PI':float,\n",
    "                   'MED_PR':float,\n",
    "                   'MEAN_SPO2':float,\n",
    "                   'MEAN_PI':float,\n",
    "                   'MEAN_PR':float,\n",
    "                   'STD_SPO2':float,\n",
    "                   'STD_PI':float,\n",
    "                   'STD_PR':float,\n",
    "                   'BRADY_SEC_PR':float,\n",
    "                   'BRADY_RATIO_PR':float,\n",
    "                   'BRADY_RATIO_PR_m10':float,\n",
    "                   'BRADY_RATIO_PR_m20':float,\n",
    "                   'BRADY_RATIO_PR_m30':float,\n",
    "                   'BRADY_RATIO_PR_m40':float,\n",
    "                   'BRADY_SEC_SPO2':float,\n",
    "                   'BRADY_RATIO_SPO2':float,\n",
    "                   'BRADY_SEC_PR_DYN':float,\n",
    "                   'BRADY_RATIO_PR_DYN':float})"
   ]
  },
  {
   "cell_type": "markdown",
   "metadata": {},
   "source": [
    "# Function to count episode of bradycardia (to be added to the class baby)"
   ]
  },
  {
   "cell_type": "code",
   "execution_count": 798,
   "metadata": {},
   "outputs": [],
   "source": [
    "def get_brady_episodes_durations(t,PR, threshold=100, duration_min=15,time_step=2):\n",
    "    '''Return a list containing the duration of the episodes of bradycardia. \n",
    "    The length of the list is the number of episodes'''\n",
    "    \n",
    "    episode_durations = []\n",
    "    contiguous_time_bin = True\n",
    "    counter_sec = 0\n",
    "\n",
    "    for i in range(1,len(t)):\n",
    "        if PR[i]< threshold and PR[i-1]< threshold and contiguous_time_bin:\n",
    "            counter_sec = counter_sec + time_step #sec\n",
    "        else:\n",
    "            if counter_sec > duration_min:\n",
    "                episode_durations.append(counter_sec)\n",
    "            counter_sec = 0\n",
    "\n",
    "        if t[i-1] == t[i]-time_step:\n",
    "            contiguous_time_bin = True\n",
    "        else:\n",
    "            contiguous_time_bin = False\n",
    "    return np.array(episode_durations)\n",
    "        "
   ]
  },
  {
   "cell_type": "markdown",
   "metadata": {},
   "source": [
    "# Let's count the episode of bradycardia in a perfect sin function"
   ]
  },
  {
   "cell_type": "code",
   "execution_count": 799,
   "metadata": {},
   "outputs": [],
   "source": [
    "x = np.arange(0,180,2)\n",
    "y = np.sin(x/10+2)"
   ]
  },
  {
   "cell_type": "code",
   "execution_count": 800,
   "metadata": {},
   "outputs": [
    {
     "data": {
      "image/png": "[encoded data removed]",
      "text/plain": [
       "<Figure size 432x288 with 1 Axes>"
      ]
     },
     "metadata": {},
     "output_type": "display_data"
    }
   ],
   "source": [
    "plt.plot(x,y,'.',markersize=10)\n",
    "plt.axhline(np.mean(y))\n",
    "plt.xlabel('x')\n",
    "plt.ylabel('y')\n",
    "plt.show()"
   ]
  },
  {
   "cell_type": "code",
   "execution_count": 801,
   "metadata": {},
   "outputs": [
    {
     "data": {
      "text/plain": [
       "array([30, 28, 30])"
      ]
     },
     "execution_count": 801,
     "metadata": {},
     "output_type": "execute_result"
    }
   ],
   "source": [
    "get_brady_episodes_durations(t=x,PR=y,duration_min=15,threshold=0.)"
   ]
  },
  {
   "cell_type": "code",
   "execution_count": 802,
   "metadata": {},
   "outputs": [
    {
     "data": {
      "text/plain": [
       "array([], dtype=float64)"
      ]
     },
     "execution_count": 802,
     "metadata": {},
     "output_type": "execute_result"
    }
   ],
   "source": [
    "#let's check instead when the episodes are less than the duration min\n",
    "# I should obtain an empty list\n",
    "get_brady_episodes_durations(t=x,PR=y,duration_min=40,threshold=0.)"
   ]
  },
  {
   "cell_type": "markdown",
   "metadata": {},
   "source": [
    "# Testing on a real baby"
   ]
  },
  {
   "cell_type": "code",
   "execution_count": 803,
   "metadata": {},
   "outputs": [
    {
     "name": "stdout",
     "output_type": "stream",
     "text": [
      "/home/giorgio/Desktop/NHS/TOST_data/TOST FMC Data Groomed/G_FMC_PHN_057/G_FMC057_Day1_Rt wrist.csv\n",
      "len(dt) before = 1081\n",
      "len(dt) after = 1081\n",
      "len(pr) =  1079\n",
      "len(spo2) =  1079\n",
      "/home/giorgio/Desktop/NHS/TOST_data/TOST FMC Data Groomed/G_FMC_PHN_057/G_PHN_FMC057_Day5_Rt Foot.csv\n",
      "len(dt) before = 414\n",
      "len(dt) after = 414\n",
      "len(pr) =  414\n",
      "len(spo2) =  414\n",
      "/home/giorgio/Desktop/NHS/TOST_data/TOST FMC Data Groomed/G_FMC_PHN_057/G_PHN_FMC057_Day5_Rt wrist.csv\n",
      "len(dt) before = 599\n",
      "len(dt) after = 599\n",
      "len(pr) =  599\n",
      "len(spo2) =  599\n"
     ]
    }
   ],
   "source": [
    "B = baby('FMC057',verbose=False)"
   ]
  },
  {
   "cell_type": "code",
   "execution_count": 804,
   "metadata": {},
   "outputs": [
    {
     "name": "stdout",
     "output_type": "stream",
     "text": [
      "G_PHN_FMC057_Day5_Rt Foot.csv\n"
     ]
    },
    {
     "data": {
      "image/png": "[encoded data removed]",
      "text/plain": [
       "<Figure size 504x360 with 1 Axes>"
      ]
     },
     "metadata": {},
     "output_type": "display_data"
    }
   ],
   "source": [
    "B.plot_baby_measurements(filenumber=1,only_PR=True,with_bad_values=False)"
   ]
  },
  {
   "cell_type": "code",
   "execution_count": 730,
   "metadata": {},
   "outputs": [
    {
     "name": "stdout",
     "output_type": "stream",
     "text": [
      "Threshold =  110\n",
      "Duration of episodes in seconds =  [24 32 16 16]\n",
      "Number of episodes =  4\n"
     ]
    }
   ],
   "source": [
    "filenumber = 1\n",
    "time  = np.array(B.measurements_delta_sec_since_birth_list[filenumber])\n",
    "pulse = np.array(B.measurements[filenumber]['PR'])\n",
    "\n",
    "sel =  np.where(pulse>10.)\n",
    "\n",
    "time = time[sel]\n",
    "pulse = pulse[sel]\n",
    "\n",
    "\n",
    "#thr = (2./3.)*np.median(pulse)\n",
    "thr = 110\n",
    "\n",
    "episodes = get_brady_episodes_durations(t=time,\n",
    "                                        PR=pulse,\n",
    "                                        duration_min=15,\n",
    "                                        threshold=thr)\n",
    "\n",
    "print('Threshold = ',thr)#,' (2/3 median)')\n",
    "print('Duration of episodes in seconds = ',episodes)#/60./60.\n",
    "print('Number of episodes = ',len(episodes))"
   ]
  },
  {
   "cell_type": "code",
   "execution_count": 512,
   "metadata": {},
   "outputs": [
    {
     "data": {
      "text/plain": [
       "array([202,  44,  18])"
      ]
     },
     "execution_count": 512,
     "metadata": {},
     "output_type": "execute_result"
    }
   ],
   "source": [
    "B.measurements_bradycardia_episodes_durations[1]"
   ]
  },
  {
   "cell_type": "code",
   "execution_count": 513,
   "metadata": {},
   "outputs": [
    {
     "data": {
      "text/plain": [
       "3"
      ]
     },
     "execution_count": 513,
     "metadata": {},
     "output_type": "execute_result"
    }
   ],
   "source": [
    "B.measurements_bradycardia_episodes_number[1]"
   ]
  },
  {
   "cell_type": "code",
   "execution_count": null,
   "metadata": {},
   "outputs": [],
   "source": []
  },
  {
   "cell_type": "code",
   "execution_count": null,
   "metadata": {},
   "outputs": [],
   "source": []
  },
  {
   "cell_type": "code",
   "execution_count": null,
   "metadata": {},
   "outputs": [],
   "source": []
  }
 ],
 "metadata": {
  "kernelspec": {
   "display_name": "Python 3",
   "language": "python",
   "name": "python3"
  },
  "language_info": {
   "codemirror_mode": {
    "name": "ipython",
    "version": 3
   },
   "file_extension": ".py",
   "mimetype": "text/x-python",
   "name": "python",
   "nbconvert_exporter": "python",
   "pygments_lexer": "ipython3",
   "version": "3.6.9"
  }
 },
 "nbformat": 4,
 "nbformat_minor": 2
}
