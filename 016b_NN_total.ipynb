{
 "cells": [
  {
   "cell_type": "code",
   "execution_count": 109,
   "metadata": {},
   "outputs": [],
   "source": [
    "# usual packages\n",
    "import pandas as pd\n",
    "import matplotlib.pyplot as plt\n",
    "import numpy as np\n",
    "%matplotlib inline\n",
    "import h5py\n",
    "\n",
    "import sys\n",
    "#sys.modules.pop('CLASS_BABY')\n",
    "#sys.modules.pop('CLASS_SAMPLE')\n",
    "\n",
    "\n",
    "from CLASS_BABY import *\n",
    "from CLASS_SAMPLE import *\n",
    "\n",
    "import scipy.stats as ss\n",
    "\n",
    "#bigger fonts\n",
    "import matplotlib\n",
    "matplotlib.rc('xtick', labelsize=15) \n",
    "matplotlib.rc('ytick', labelsize=15)\n",
    "matplotlib.rcParams.update({'font.size': 20})\n",
    "\n",
    "# machine learning packages\n",
    "from sklearn.model_selection import train_test_split\n",
    "from sklearn.preprocessing import StandardScaler#,Imputer\n",
    "\n",
    "from keras.models import Sequential\n",
    "from keras.layers import Dense\n",
    "from keras.callbacks import EarlyStopping"
   ]
  },
  {
   "cell_type": "code",
   "execution_count": 257,
   "metadata": {},
   "outputs": [],
   "source": [
    "def median_in_bins_err(x,y,x1,x2,nbins,p1=0.25,p2=0.75):\n",
    "    medians_x = np.zeros(nbins)\n",
    "    medians_y = np.zeros(nbins)\n",
    "    err_y_low = np.zeros(nbins)\n",
    "    err_y_high = np.zeros(nbins)\n",
    "    x = np.array(x)\n",
    "    y = np.array(y)\n",
    "    width = (float(x2)-float(x1))/nbins\n",
    "    for i in range(int(nbins)):\n",
    "        x_low = x1 + i*width\n",
    "        x_high = x1+ (i+1)*width\n",
    "        #print x_low, x_high\n",
    "        sel = np.where((x>x_low)&(x<x_high))\n",
    "        temp_ord = np.copy(y[sel])\n",
    "        temp_ord = np.sort(temp_ord)\n",
    "        medians_y[i] = temp_ord[int(len(temp_ord)*0.50 + 0.5)]\n",
    "        err_y_low[i]  = np.abs(temp_ord[int(len(temp_ord)*p1 + 0.5)]-medians_y[i])\n",
    "        err_y_high[i]  = np.abs(temp_ord[int(len(temp_ord)*p2 + 0.5)]-medians_y[i])\n",
    "        #err_y[i] = [err_y_low,err_y_high]\n",
    "        medians_x[i] = np.median(x[sel])\n",
    "    return np.array(medians_x),np.array(medians_y),err_y_low,err_y_high"
   ]
  },
  {
   "cell_type": "code",
   "execution_count": 190,
   "metadata": {},
   "outputs": [],
   "source": [
    "#pr,spo2,med_pr,med_spo2 = np.loadtxt('../TOST_data/total_datapoints.txt',unpack=True)\n",
    "pr, spo2, pi, med_pr, med_spo2, med_pi = np.loadtxt('../TOST_data/total_datapoints_pi.txt',unpack=True)"
   ]
  },
  {
   "cell_type": "code",
   "execution_count": 191,
   "metadata": {},
   "outputs": [],
   "source": [
    "#good_val = np.where(((~np.isnan(pr))&(~np.isnan(spo2))&(~np.isnan(med_pr))&(~np.isnan(med_spo2))))\n",
    "#good_val = np.where(((pr>10.)&(spo2>10)&(med_pr>10.)&(med_spo2>10)))\n",
    "good_val = np.where(((pr>10.)&(spo2>10)&(med_pr>10.)&(med_spo2>10)&(pi>0.000001)&(pi<100)))"
   ]
  },
  {
   "cell_type": "code",
   "execution_count": 193,
   "metadata": {},
   "outputs": [
    {
     "data": {
      "text/plain": [
       "928494"
      ]
     },
     "execution_count": 193,
     "metadata": {},
     "output_type": "execute_result"
    }
   ],
   "source": [
    "len(med_pr[good_val])"
   ]
  },
  {
   "cell_type": "code",
   "execution_count": 204,
   "metadata": {},
   "outputs": [],
   "source": [
    "INPUT = np.array([pr[good_val],med_pr[good_val],med_spo2[good_val],pi[good_val],med_pi[good_val]],dtype=float).T"
   ]
  },
  {
   "cell_type": "code",
   "execution_count": 205,
   "metadata": {},
   "outputs": [
    {
     "data": {
      "text/plain": [
       "(928494, 5)"
      ]
     },
     "execution_count": 205,
     "metadata": {},
     "output_type": "execute_result"
    }
   ],
   "source": [
    "INPUT.shape"
   ]
  },
  {
   "cell_type": "code",
   "execution_count": 206,
   "metadata": {},
   "outputs": [
    {
     "data": {
      "text/plain": [
       "array([117. , 115. ,  95. ,   0.6,   0.7])"
      ]
     },
     "execution_count": 206,
     "metadata": {},
     "output_type": "execute_result"
    }
   ],
   "source": [
    "INPUT[0]"
   ]
  },
  {
   "cell_type": "code",
   "execution_count": 207,
   "metadata": {},
   "outputs": [
    {
     "data": {
      "text/plain": [
       "array([False])"
      ]
     },
     "execution_count": 207,
     "metadata": {},
     "output_type": "execute_result"
    }
   ],
   "source": [
    "np.unique(np.isnan(INPUT))"
   ]
  },
  {
   "cell_type": "code",
   "execution_count": 208,
   "metadata": {},
   "outputs": [],
   "source": [
    "#np.where(np.isnan(INPUT))"
   ]
  },
  {
   "cell_type": "code",
   "execution_count": 209,
   "metadata": {},
   "outputs": [],
   "source": [
    "OUTPUT = np.array(spo2[good_val],dtype=float)"
   ]
  },
  {
   "cell_type": "code",
   "execution_count": 210,
   "metadata": {},
   "outputs": [
    {
     "data": {
      "text/plain": [
       "(928494,)"
      ]
     },
     "execution_count": 210,
     "metadata": {},
     "output_type": "execute_result"
    }
   ],
   "source": [
    "OUTPUT.shape"
   ]
  },
  {
   "cell_type": "code",
   "execution_count": 211,
   "metadata": {},
   "outputs": [
    {
     "data": {
      "text/plain": [
       "array([96., 96., 96., ..., 93., 94., 94.])"
      ]
     },
     "execution_count": 211,
     "metadata": {},
     "output_type": "execute_result"
    }
   ],
   "source": [
    "OUTPUT"
   ]
  },
  {
   "cell_type": "code",
   "execution_count": 212,
   "metadata": {},
   "outputs": [],
   "source": [
    "INPUT_NORM = INPUT"
   ]
  },
  {
   "cell_type": "code",
   "execution_count": 213,
   "metadata": {},
   "outputs": [],
   "source": [
    "# NORMALIZATION\n",
    "scaler = StandardScaler()\n",
    "scaler.fit(INPUT)\n",
    "INPUT_NORM = scaler.transform(INPUT)\n"
   ]
  },
  {
   "cell_type": "code",
   "execution_count": 216,
   "metadata": {},
   "outputs": [],
   "source": [
    "# SPLIT TRAIN AND TEST\n",
    "input_train,input_test, output_train, output_test = train_test_split(INPUT_NORM, OUTPUT, test_size=0.5)"
   ]
  },
  {
   "cell_type": "code",
   "execution_count": 217,
   "metadata": {},
   "outputs": [
    {
     "name": "stdout",
     "output_type": "stream",
     "text": [
      "training sample size:  464247\n",
      "test sample size:  464247\n",
      "train + test (total sample) =  928494\n",
      "train / sample = 0.5\n",
      "test / sample = 0.5\n"
     ]
    }
   ],
   "source": [
    "print (\"training sample size: \",len(input_train))\n",
    "print (\"test sample size: \",len(input_test))\n",
    "print (\"train + test (total sample) = \", len(input_train)+len(input_test))\n",
    "print (\"train / sample =\", round(float(len(input_train))/float(len(INPUT_NORM)),1))\n",
    "print (\"test / sample =\", round(float(len(input_test))/float(len(INPUT_NORM)),1))"
   ]
  },
  {
   "cell_type": "code",
   "execution_count": 243,
   "metadata": {},
   "outputs": [],
   "source": [
    "# DEFINE MODEL ARCHITECTURE\n",
    "model = Sequential()\n",
    "model.add(Dense(6,input_dim=5,activation='relu'))\n",
    "#model.add(Dense(6,activation='relu'))\n",
    "model.add(Dense(3,activation='relu'))\n",
    "model.add(Dense(1,activation='linear'))"
   ]
  },
  {
   "cell_type": "code",
   "execution_count": 244,
   "metadata": {},
   "outputs": [],
   "source": [
    "# CREATE MODEL \n",
    "model.compile(loss='mean_squared_error', # 'mean_absolute_error' \n",
    "              optimizer='adam',\n",
    "              metrics=['accuracy'] ) "
   ]
  },
  {
   "cell_type": "code",
   "execution_count": 251,
   "metadata": {
    "scrolled": false
   },
   "outputs": [
    {
     "name": "stdout",
     "output_type": "stream",
     "text": [
      "Train on 311045 samples, validate on 153202 samples\n",
      "Epoch 1/5000\n",
      "311045/311045 [==============================] - 1s 2us/step - loss: 9.8345 - acc: 0.2234 - val_loss: 9.7415 - val_acc: 0.2170\n",
      "Epoch 2/5000\n",
      "311045/311045 [==============================] - 1s 2us/step - loss: 9.8158 - acc: 0.2202 - val_loss: 9.7407 - val_acc: 0.2173\n",
      "Epoch 3/5000\n",
      "311045/311045 [==============================] - 1s 2us/step - loss: 9.8150 - acc: 0.2198 - val_loss: 9.7401 - val_acc: 0.2181\n",
      "Epoch 4/5000\n",
      "311045/311045 [==============================] - 1s 2us/step - loss: 9.8146 - acc: 0.2197 - val_loss: 9.7397 - val_acc: 0.2190\n",
      "Epoch 5/5000\n",
      "311045/311045 [==============================] - 1s 2us/step - loss: 9.8143 - acc: 0.2197 - val_loss: 9.7394 - val_acc: 0.2198\n",
      "Epoch 6/5000\n",
      "311045/311045 [==============================] - 1s 2us/step - loss: 9.8142 - acc: 0.2197 - val_loss: 9.7394 - val_acc: 0.2208\n",
      "Epoch 7/5000\n",
      "311045/311045 [==============================] - 1s 2us/step - loss: 9.8142 - acc: 0.2198 - val_loss: 9.7395 - val_acc: 0.2218\n",
      "Epoch 8/5000\n",
      "311045/311045 [==============================] - 1s 2us/step - loss: 9.8143 - acc: 0.2199 - val_loss: 9.7398 - val_acc: 0.2227\n",
      "Epoch 9/5000\n",
      "311045/311045 [==============================] - 1s 2us/step - loss: 9.8144 - acc: 0.2200 - val_loss: 9.7401 - val_acc: 0.2231\n",
      "Epoch 10/5000\n",
      "311045/311045 [==============================] - 1s 2us/step - loss: 9.8147 - acc: 0.2199 - val_loss: 9.7405 - val_acc: 0.2240\n",
      "Epoch 11/5000\n",
      "311045/311045 [==============================] - 1s 2us/step - loss: 9.8151 - acc: 0.2199 - val_loss: 9.7410 - val_acc: 0.2247\n",
      "Epoch 12/5000\n",
      "311045/311045 [==============================] - 1s 2us/step - loss: 9.8157 - acc: 0.2199 - val_loss: 9.7414 - val_acc: 0.2250\n",
      "Epoch 13/5000\n",
      "311045/311045 [==============================] - 1s 3us/step - loss: 9.8163 - acc: 0.2198 - val_loss: 9.7417 - val_acc: 0.2248\n",
      "Epoch 14/5000\n",
      "311045/311045 [==============================] - 1s 2us/step - loss: 9.8170 - acc: 0.2200 - val_loss: 9.7419 - val_acc: 0.2243\n",
      "Epoch 15/5000\n",
      "311045/311045 [==============================] - 1s 3us/step - loss: 9.8178 - acc: 0.2200 - val_loss: 9.7425 - val_acc: 0.2243\n",
      "Epoch 16/5000\n",
      "311045/311045 [==============================] - 1s 2us/step - loss: 9.8187 - acc: 0.2199 - val_loss: 9.7430 - val_acc: 0.2248\n",
      "Epoch 17/5000\n",
      "311045/311045 [==============================] - 1s 2us/step - loss: 9.8194 - acc: 0.2199 - val_loss: 9.7435 - val_acc: 0.2254\n"
     ]
    }
   ],
   "source": [
    "# TRAIN THE MODEL\n",
    "\n",
    "# stop training if after 10 iterations \n",
    "# the results has not improved\n",
    "early_stopping = EarlyStopping(monitor='loss',\n",
    "                               patience=10)\n",
    "\n",
    "N_EPOCHS = 5000\n",
    "BATCH_SIZE = 1000\n",
    "VALIDATION_FRACTION = 0.33\n",
    "hist = model.fit(input_train,\n",
    "                 output_train,\n",
    "                 epochs=N_EPOCHS,\n",
    "                 shuffle=False,\n",
    "                 batch_size=BATCH_SIZE,\n",
    "                 validation_split=VALIDATION_FRACTION,\n",
    "                 callbacks=[early_stopping])"
   ]
  },
  {
   "cell_type": "code",
   "execution_count": 252,
   "metadata": {},
   "outputs": [
    {
     "name": "stdout",
     "output_type": "stream",
     "text": [
      "464247/464247 [==============================] - 8s 17us/step\n",
      "NUMBER OF INPUT VARIABLES =  928494\n",
      "NUMBER OF EPOCHS =  5000\n",
      "VALIDATION FRACTION =  0.33\n",
      "BATCH SIZE =  1000\n",
      "Model loss function =\t9.88\n",
      "Model Accuracy =\t0.22\n"
     ]
    }
   ],
   "source": [
    "l,a = model.evaluate(input_test,output_test)#[0]\n",
    "#l = model.evaluate(input_test,output_test)#[0]\n",
    "#a=0\n",
    "#a = model.evaluate(input_test,output_test)[1]\n",
    "print('NUMBER OF INPUT VARIABLES = ',len(INPUT))\n",
    "print('NUMBER OF EPOCHS = ',N_EPOCHS)\n",
    "print('VALIDATION FRACTION = ',VALIDATION_FRACTION)\n",
    "print('BATCH SIZE = ',BATCH_SIZE)\n",
    "print('Model loss function =\\t%.2f\\nModel Accuracy =\\t%.2f'%(l,a))"
   ]
  },
  {
   "cell_type": "code",
   "execution_count": 253,
   "metadata": {},
   "outputs": [
    {
     "data": {
      "image/png": "[encoded data removed]",
      "text/plain": [
       "<Figure size 432x288 with 1 Axes>"
      ]
     },
     "metadata": {},
     "output_type": "display_data"
    },
    {
     "data": {
      "image/png": "[encoded data removed]",
      "text/plain": [
       "<Figure size 432x288 with 1 Axes>"
      ]
     },
     "metadata": {},
     "output_type": "display_data"
    }
   ],
   "source": [
    "# summarize history for accuracy\n",
    "plt.plot(hist.history['acc'])\n",
    "plt.plot(hist.history['val_acc'])\n",
    "plt.title('model accuracy')\n",
    "plt.ylabel('accuracy')\n",
    "plt.xlabel('epoch')\n",
    "plt.legend(['train', 'validation'], loc='best')\n",
    "plt.show()\n",
    "# summarize history for loss\n",
    "plt.plot(hist.history['loss'])\n",
    "plt.plot(hist.history['val_loss'])\n",
    "plt.title('model loss')\n",
    "plt.ylabel('loss')\n",
    "plt.xlabel('epoch')\n",
    "plt.legend(['train', 'validation'], loc='best')\n",
    "plt.show()"
   ]
  },
  {
   "cell_type": "code",
   "execution_count": 254,
   "metadata": {},
   "outputs": [],
   "source": [
    "# prediction on the test sample\n",
    "prediction = model.predict(input_test)"
   ]
  },
  {
   "cell_type": "code",
   "execution_count": 255,
   "metadata": {},
   "outputs": [
    {
     "data": {
      "image/png": "[encoded data removed]",
      "text/plain": [
       "<Figure size 576x432 with 1 Axes>"
      ]
     },
     "metadata": {},
     "output_type": "display_data"
    }
   ],
   "source": [
    "# distribution of prediction vs real data\n",
    "plt.figure(figsize=(8,6))\n",
    "plt.hist(prediction,bins=30,lw=3,histtype='step',label=r'prediction NN',range=(80,100)) # range=(0.,60.)\n",
    "plt.hist(output_test,bins=30,lw=3,histtype='step',label=r'NHS data',range=(80,100))\n",
    "#plt.xlabel('number of episodes of bradycardia (thr 120)',fontsize=20)\n",
    "#plt.xlabel('ratio of time in bradycardia',fontsize=20)\n",
    "plt.ylabel('counts',fontsize=20)\n",
    "plt.legend(fontsize=20,loc=2)\n",
    "plt.show()"
   ]
  },
  {
   "cell_type": "code",
   "execution_count": 261,
   "metadata": {},
   "outputs": [
    {
     "data": {
      "image/png": "[encoded data removed]",
      "text/plain": [
       "<Figure size 720x576 with 1 Axes>"
      ]
     },
     "metadata": {},
     "output_type": "display_data"
    }
   ],
   "source": [
    "# plot of prediction vs real data\n",
    "plt.figure(figsize=(10,8))\n",
    "plt.plot([60.,100.],[60.,100.])\n",
    "#plt.plot([0.,60.],[0.,60.],'k')\n",
    "#plt.plot([0.,1.2],[0.,1.2],'k')\n",
    "\n",
    "xx,yy,ey1,ey2 = median_in_bins_err(output_test,prediction,70,100,9)\n",
    "plt.errorbar(xx,yy,yerr=[ey1,ey2],fmt=\".\",markersize=30,elinewidth=3,color='green',zorder=11,label='THR 100')\n",
    "plt.plot(xx,yy,color=\"green\",lw=2,zorder=12)\n",
    "\n",
    "\n",
    "plt.plot(output_test,prediction,\".r\",markersize=8)\n",
    "#plt.xlim(-0.5,20.)\n",
    "#plt.ylim(-0.5,20.)\n",
    "#plt.xlabel(r'number of brady-episodes observed',fontsize=20)\n",
    "#plt.ylabel(r'number of brady-episodes predicted',fontsize=20)\n",
    "plt.xlabel(r'observed spo2',fontsize=20)\n",
    "plt.ylabel(r'predicted spo2',fontsize=20)\n",
    "plt.show()"
   ]
  },
  {
   "cell_type": "code",
   "execution_count": 172,
   "metadata": {},
   "outputs": [
    {
     "data": {
      "text/plain": [
       "496339"
      ]
     },
     "execution_count": 172,
     "metadata": {},
     "output_type": "execute_result"
    }
   ],
   "source": [
    "len(prediction)"
   ]
  },
  {
   "cell_type": "code",
   "execution_count": 173,
   "metadata": {},
   "outputs": [
    {
     "data": {
      "text/plain": [
       "array([[91.45266],\n",
       "       [96.08926],\n",
       "       [91.52654],\n",
       "       ...,\n",
       "       [97.56516],\n",
       "       [93.68043],\n",
       "       [94.57732]], dtype=float32)"
      ]
     },
     "execution_count": 173,
     "metadata": {},
     "output_type": "execute_result"
    }
   ],
   "source": [
    "prediction"
   ]
  },
  {
   "cell_type": "code",
   "execution_count": null,
   "metadata": {},
   "outputs": [],
   "source": []
  }
 ],
 "metadata": {
  "kernelspec": {
   "display_name": "Python 3",
   "language": "python",
   "name": "python3"
  },
  "language_info": {
   "codemirror_mode": {
    "name": "ipython",
    "version": 3
   },
   "file_extension": ".py",
   "mimetype": "text/x-python",
   "name": "python",
   "nbconvert_exporter": "python",
   "pygments_lexer": "ipython3",
   "version": "3.6.9"
  }
 },
 "nbformat": 4,
 "nbformat_minor": 2
}
