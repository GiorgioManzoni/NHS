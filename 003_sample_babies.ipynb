{
 "cells": [
  {
   "cell_type": "code",
   "execution_count": 2,
   "metadata": {},
   "outputs": [],
   "source": [
    "from CLASS_BABY import *"
   ]
  },
  {
   "cell_type": "code",
   "execution_count": 7,
   "metadata": {},
   "outputs": [
    {
     "name": "stdout",
     "output_type": "stream",
     "text": [
      "#####################################################\n",
      "The original name of the baby case is:  PLC 047\n",
      "keyword =  047\n",
      "I am loading the files for baby =  PLC047\n",
      "Loading file:  /home/giorgio/Desktop/NHS/TOST_data/TOST PLC Data Groomed/G_PLC 047/G_PLC 047_Rt Leg_Day1.csv\n",
      "Loading file:  /home/giorgio/Desktop/NHS/TOST_data/TOST PLC Data Groomed/G_PLC 047/G_PLC 047_Rt Wrist_Day1.csv\n",
      "--------------------\n",
      "Reading from file:  /home/giorgio/Desktop/NHS/TOST_data/TOST PLC Data Groomed/G_PLC 047/G_PLC 047_Rt Leg_Day1.csv\n",
      "#####\n",
      "09/16/14  is not within 8 days from the birth  2014-09-17  (whichever format you use)\n",
      "Or the measurement date is before the birth.\n",
      "#####\n",
      "#####\n",
      "No time measurement or no correct date format\n",
      "#####\n",
      "Reading from file:  /home/giorgio/Desktop/NHS/TOST_data/TOST PLC Data Groomed/G_PLC 047/G_PLC 047_Rt Wrist_Day1.csv\n",
      "Birth:  2014-09-17 12:19:00  measurement:  2014-09-18 08:12:34\n",
      "Interval time [sec]:  71614\n",
      "########################################################\n"
     ]
    }
   ],
   "source": [
    "PLC047 = baby('PLC047',verbose=True)"
   ]
  },
  {
   "cell_type": "code",
   "execution_count": 8,
   "metadata": {},
   "outputs": [
    {
     "data": {
      "text/plain": [
       "datetime.datetime(2014, 9, 17, 12, 19)"
      ]
     },
     "execution_count": 8,
     "metadata": {},
     "output_type": "execute_result"
    }
   ],
   "source": [
    "PLC047.birth"
   ]
  },
  {
   "cell_type": "code",
   "execution_count": 9,
   "metadata": {},
   "outputs": [
    {
     "data": {
      "text/plain": [
       "False"
      ]
     },
     "execution_count": 9,
     "metadata": {},
     "output_type": "execute_result"
    }
   ],
   "source": [
    "PLC047.incomplete"
   ]
  },
  {
   "cell_type": "code",
   "execution_count": null,
   "metadata": {},
   "outputs": [],
   "source": []
  }
 ],
 "metadata": {
  "kernelspec": {
   "display_name": "Python 3",
   "language": "python",
   "name": "python3"
  },
  "language_info": {
   "codemirror_mode": {
    "name": "ipython",
    "version": 3
   },
   "file_extension": ".py",
   "mimetype": "text/x-python",
   "name": "python",
   "nbconvert_exporter": "python",
   "pygments_lexer": "ipython3",
   "version": "3.6.9"
  }
 },
 "nbformat": 4,
 "nbformat_minor": 2
}
