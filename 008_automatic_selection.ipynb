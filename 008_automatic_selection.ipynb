{
 "cells": [
  {
   "cell_type": "code",
   "execution_count": 164,
   "metadata": {},
   "outputs": [],
   "source": [
    "from tkinter import *\n",
    "import matplotlib.pyplot as plt\n",
    "#bigger fonts\n",
    "import matplotlib\n",
    "matplotlib.rc('xtick', labelsize=15) \n",
    "matplotlib.rc('ytick', labelsize=15)\n",
    "matplotlib.rcParams.update({'font.size': 20})\n",
    "\n",
    "matplotlib.use(\"TkAgg\")\n",
    "\n",
    "import pandas as pd"
   ]
  },
  {
   "cell_type": "code",
   "execution_count": 153,
   "metadata": {},
   "outputs": [],
   "source": []
  },
  {
   "cell_type": "code",
   "execution_count": 171,
   "metadata": {},
   "outputs": [],
   "source": [
    "def Update_lbl():\n",
    "    #Label(window, text= str(prop.get())).grid(row=0,column=4)\n",
    "    lbl_prop.configure(text=str(prop.get()))\n",
    "    \n",
    "def clicked():\n",
    "    lbl_prop.configure(text=\"READING PROPERTIES ...\")\n",
    "    T = pd.read_csv('../TOST_data/average_properties.txt',\n",
    "            sep='\\t',index_col=0,na_values=-99,\n",
    "            dtype={'WEIGHT_GRAMS': float,\n",
    "                   'GEST_AGE_DAYS':float,\n",
    "                   'DELTA_SEC_MEASURE':float,\n",
    "                   'MED_SPO2':float,\n",
    "                   'MED_PI':float,\n",
    "                   'MED_PR':float})\n",
    "    lbl_prop.configure(text=T.columns.values)\n",
    "\n",
    "\n",
    "window = Tk()\n",
    "window.title(\"Prakash project NHS\")\n",
    "window.geometry('750x600')\n",
    "lbl = Label(window,text='Select property to be plotted:',font=(\"Arial Bold\", 15))#.grid(column=0,row=0)\n",
    "lbl.grid(row=0,column=0)\n",
    "prop = StringVar()\n",
    "prop.set('MED_PR')\n",
    "lbl_prop = Label(window, text= str(prop.get()))\n",
    "lbl_prop.grid(row=7,column=0)\n",
    "r1 = Radiobutton(window, text=\"Pulse Rate\", variable=prop, value='MED_PR',indicatoron=0,command=Update_lbl).grid(row=0,column=1)\n",
    "r2 = Radiobutton(window, text=\"Oxigen Saturation\", variable=prop, value='MED_SPO2',indicatoron=0,command=Update_lbl).grid(row=0,column=2)\n",
    "r3 = Radiobutton(window, text=\"Perfusion index\", variable=prop, value='MED_PI',indicatoron=0,command=Update_lbl).grid(row=0,column=3)\n",
    "\n",
    "btn = Button(window,text='READ DATA',bg='blue',fg='white',command=clicked)\n",
    "btn.grid(column=0,row=6)\n",
    "\n"
   ]
  },
  {
   "cell_type": "code",
   "execution_count": 172,
   "metadata": {},
   "outputs": [],
   "source": [
    "window.mainloop()"
   ]
  },
  {
   "cell_type": "code",
   "execution_count": null,
   "metadata": {},
   "outputs": [],
   "source": []
  }
 ],
 "metadata": {
  "kernelspec": {
   "display_name": "Python 3",
   "language": "python",
   "name": "python3"
  },
  "language_info": {
   "codemirror_mode": {
    "name": "ipython",
    "version": 3
   },
   "file_extension": ".py",
   "mimetype": "text/x-python",
   "name": "python",
   "nbconvert_exporter": "python",
   "pygments_lexer": "ipython3",
   "version": "3.6.9"
  }
 },
 "nbformat": 4,
 "nbformat_minor": 2
}
