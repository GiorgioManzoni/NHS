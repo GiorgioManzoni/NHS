{
 "cells": [
  {
   "cell_type": "code",
   "execution_count": 32,
   "metadata": {},
   "outputs": [],
   "source": [
    "from tkinter import *\n",
    "import matplotlib.pyplot as plt\n",
    "#bigger fonts\n",
    "import matplotlib\n",
    "matplotlib.rc('xtick', labelsize=15) \n",
    "matplotlib.rc('ytick', labelsize=15)\n",
    "matplotlib.rcParams.update({'font.size': 20})\n",
    "\n",
    "matplotlib.use(\"TkAgg\")\n",
    "\n",
    "import pandas as pd\n",
    "import numpy as np\n",
    "import scipy.stats as ss"
   ]
  },
  {
   "cell_type": "markdown",
   "metadata": {},
   "source": [
    "# Reading properties"
   ]
  },
  {
   "cell_type": "code",
   "execution_count": 11,
   "metadata": {},
   "outputs": [],
   "source": [
    "T = pd.read_csv('../TOST_data/average_properties.txt',\n",
    "            sep='\\t',index_col=0,na_values=-99,\n",
    "            dtype={'WEIGHT_GRAMS': float,\n",
    "                   'GEST_AGE_DAYS':float,\n",
    "                   'DELTA_SEC_MEASURE':float,\n",
    "                   'MED_SPO2':float,\n",
    "                   'MED_PI':float,\n",
    "                   'MED_PR':float})"
   ]
  },
  {
   "cell_type": "code",
   "execution_count": 12,
   "metadata": {},
   "outputs": [],
   "source": [
    "# GESTATIONAL AGE BINNING\n",
    "slots = [0.,38*7,39*7,40*7,41*7,500.]\n",
    "sel = []\n",
    "for i in range(len(slots)-1):\n",
    "    sel.append((T['GEST_AGE_DAYS']>= slots[i])&(T['GEST_AGE_DAYS']< slots[i+1]))"
   ]
  },
  {
   "cell_type": "code",
   "execution_count": 36,
   "metadata": {},
   "outputs": [],
   "source": [
    "# TIME SINCE BIRTH BINNING\n",
    "slots_hour = [0.,10,20,30,40,100.]\n",
    "DELTA_HOURS = np.array(T['DELTA_SEC_MEASURE'])/60./60.\n",
    "sel_delta_t = []\n",
    "for i in range(len(slots_hour)-1):\n",
    "    sel_delta_t.append((DELTA_HOURS>= slots_hour[i])&(DELTA_HOURS< slots_hour[i+1]))"
   ]
  },
  {
   "cell_type": "code",
   "execution_count": null,
   "metadata": {},
   "outputs": [],
   "source": []
  },
  {
   "cell_type": "code",
   "execution_count": 101,
   "metadata": {},
   "outputs": [
    {
     "data": {
      "text/plain": [
       "array(['Csection', 'vaginal', 'vaginal assisted'], dtype=object)"
      ]
     },
     "execution_count": 101,
     "metadata": {},
     "output_type": "execute_result"
    }
   ],
   "source": [
    "np.unique(T['DELIVERY'])"
   ]
  },
  {
   "cell_type": "markdown",
   "metadata": {},
   "source": [
    "# Functions"
   ]
  },
  {
   "cell_type": "code",
   "execution_count": 60,
   "metadata": {},
   "outputs": [],
   "source": [
    "def plot_hist_split(prop='MED_PR',select=((T['MED_PR']>10)& (T['PHN']==0) & (T['FOOT']==1)),running_sel=sel,slots=np.array(slots)/7.):\n",
    "    fig = plt.figure(figsize=(10,8))\n",
    "    for i in range(len(running_sel)):\n",
    "        data = T[prop][running_sel[i] & select]  \n",
    "        plt.hist(data,bins=20,histtype='step',color='C%i'%i,lw=3,label='[%.1f,%.1f] mean=%.1f'%(slots[i],slots[i+1],np.mean(data)))\n",
    "        plt.axvline(np.mean(data),color='C%i'%i,ls='dashed',lw=3)\n",
    "    plt.xlabel(prop)\n",
    "    plt.ylabel('counts')\n",
    "    plt.legend(fontsize='x-small')\n",
    "    #plt.title('NO PHN - ONLY FOOT')\n",
    "    return fig\n",
    "\n",
    "def plot_graph_split(prop='MED_PR',select=((T['MED_PR']>10)& (T['PHN']==0) & (T['FOOT']==1)),running_sel=sel,slots=np.array(slots)/7.,running_prop='GESTATIONAL_AGE',txt_y=100,txt_x=38,conversion=1/7.):\n",
    "    fig = plt.figure(figsize=(10,8))\n",
    "    y = []\n",
    "    x = []\n",
    "    xerr = []\n",
    "    yerr = []\n",
    "\n",
    "    for i in range(len(running_sel)):\n",
    "        tot_sel = running_sel[i] & select\n",
    "        data = T[prop][tot_sel]  \n",
    "        \n",
    "        if i==0:\n",
    "            data_first = data\n",
    "        elif i ==len(running_sel)-1:\n",
    "            data_last = data\n",
    "        \n",
    "        y.append(np.mean(data))\n",
    "        \n",
    "        \n",
    "        x.append(np.mean(T[running_prop][tot_sel])*conversion)\n",
    "        #xerr.append(np.std(T[running_prop][tot_sel]/7.)/np.sqrt(len(data)))\n",
    "        \n",
    "        \n",
    "        yerr.append(np.std(data))#/np.sqrt(len(data)) )\n",
    "        #yerr.append(ss.iqr(data) )\n",
    "\n",
    "        \n",
    "        #plt.hist(data,bins=20,histtype='step',color='C%i'%i,lw=3,label='[%.1f,%.1f] mean=%.1f'%(slots[i],slots[i+1],np.mean(data)))\n",
    "        #plt.axvline(np.mean(data),color='C%i'%i,ls='dashed',lw=3)\n",
    "        print(len(data))\n",
    "        #print(len(T[running_prop][tot_sel]))\n",
    "    x = np.array(x)\n",
    "    y = np.array(y)\n",
    "    #xerr = np.array(xerr)\n",
    "    yerr = np.array(yerr)\n",
    "    \n",
    "    #98,140\n",
    "    plt.text(txt_x,txt_y,'difference extremes = %.2f, p-value %.6f'%(np.mean(data_first)-np.mean(data_last),ss.ttest_ind(data_first,data_last)[1]))\n",
    "    \n",
    "    #plt.errorbar(x,y,xerr=xerr,yerr=yerr,color='k',lw=5)\n",
    "    plt.errorbar(x,y,yerr=yerr,color='k',lw=5)\n",
    "    plt.plot(x,y,\".\",markersize=30,color='k')\n",
    "\n",
    "    plt.xlabel(running_prop)\n",
    "    plt.ylabel(prop)\n",
    "    #plt.legend(fontsize='x-small')\n",
    "    #plt.title('NO PHN - ONLY FOOT')\n",
    "    return fig\n",
    "\n"
   ]
  },
  {
   "cell_type": "code",
   "execution_count": 118,
   "metadata": {},
   "outputs": [],
   "source": [
    "def Update_lbl():\n",
    "    lbl_prop.configure(text=str(prop.get()))\n",
    "    \n",
    "def plot_histo():\n",
    "    plot_hist_split(str(prop.get()),select=(T[str(prop.get())]>10)& (T['PHN']==0) & (T['WRIST']==1),running_sel=sel)\n",
    "    plt.xlabel(str(prop.get()))\n",
    "    plt.title('NO PHN - ONLY FOOT')\n",
    "    plt.show()\n",
    "    \n",
    "    \n",
    "def plot_graph():\n",
    "    plot_graph_split(str(prop.get()),select=(T[str(prop.get())]>10)& (T['PHN']==0) & (T['WRIST']==1),running_prop='GEST_AGE_DAYS',running_sel=sel,txt_y=136)\n",
    "    plt.xlabel('GESTATIONAL AGE WEEKS')\n",
    "    plt.title('NO PHN - ONLY WRIST')\n",
    "    plt.show()\n",
    "\n",
    "    \n",
    "def stat():\n",
    "    new_wind = Tk()\n",
    "    new_wind.title('Mean values in bins')\n",
    "    str_stat = ''\n",
    "    for i in range(len(slots_hour)-1):\n",
    "        str_stat += 'MEAN VALUES %i < delta_t <  %i [hours]'%(slots_hour[i],slots_hour[i+1])\n",
    "        str_stat += '\\n##################################\\n'\n",
    "        str_stat +=  str(T[sel_delta_t[i]].mean())+'\\n\\n'\n",
    "    lbl_stat = Label(new_wind,text=str_stat,font=(\"Arial Bold\", 9))\n",
    "    lbl_stat.grid(row=0,column=0)\n",
    "    new_wind.mainloop()\n",
    "\n",
    "def Update_data():\n",
    "    pass\n",
    "    \n",
    "window = Tk()\n",
    "window.title(\"Prakash project NHS\")\n",
    "window.geometry('950x600')\n",
    "lbl = Label(window,text='Select property to be plotted:',font=(\"Arial Bold\", 15))#.grid(column=0,row=0)\n",
    "lbl.grid(row=0,column=0)\n",
    "prop = StringVar()\n",
    "prop.set('MED_PR')\n",
    "lbl_prop = Label(window, text= str(prop.get()))\n",
    "lbl_prop.grid(row=0,column=4)\n",
    "r1 = Radiobutton(window, text=\"Pulse Rate\", variable=prop, value='MED_PR',indicatoron=0,command=Update_lbl)\n",
    "r1.grid(row=0,column=1)\n",
    "r2 = Radiobutton(window, text=\"Oxigen Saturation\", variable=prop, value='MED_SPO2',indicatoron=0,command=Update_lbl)\n",
    "r2.grid(row=0,column=2)\n",
    "r3 = Radiobutton(window, text=\"Perfusion index\", variable=prop, value='MED_PI',indicatoron=0,command=Update_lbl)\n",
    "r3.grid(row=0,column=3)\n",
    "\n",
    "# --- SELECTION ---\n",
    "\n",
    "###PHN\n",
    "phn = IntVar()\n",
    "phn.set(-99)\n",
    "rs1 = Radiobutton(window, text=\"ONLY PHN\", variable=phn, value=1,indicatoron=1)\n",
    "rs1.grid(row=1,column=0)\n",
    "rs2 = Radiobutton(window, text=\"EXCLUDE PHN\", variable=phn, value=0,indicatoron=1)\n",
    "rs2.grid(row=1,column=1)\n",
    "rs3 = Radiobutton(window, text=\"ALL\", variable=phn, value=-99,indicatoron=1)\n",
    "rs3.grid(row=1,column=2)\n",
    "\n",
    "#### WRIST/FOOT\n",
    "wrist = IntVar()\n",
    "wrist.set(-99)\n",
    "rs4 = Radiobutton(window, text=\"WRIST\", variable=wrist, value=1,indicatoron=1)\n",
    "rs4.grid(row=2,column=0)\n",
    "rs5 = Radiobutton(window, text=\"FOOT\", variable=wrist, value=0,indicatoron=1)\n",
    "rs5.grid(row=2,column=1)\n",
    "rs6 = Radiobutton(window, text=\"ALL\", variable=wrist, value=-99,indicatoron=1)\n",
    "rs6.grid(row=2,column=2)\n",
    "\n",
    "#### BOYS and GIRL\n",
    "gender = StringVar()\n",
    "gender.set('All')\n",
    "rs7 = Radiobutton(window, text=\"MALE\", variable=gender, value='Male',indicatoron=1)\n",
    "rs7.grid(row=3,column=0)\n",
    "rs8 = Radiobutton(window, text=\"FEMALE\", variable=gender, value='Female',indicatoron=1)\n",
    "rs8.grid(row=3,column=1)\n",
    "rs9 = Radiobutton(window, text=\"ALL\", variable=gender, value='All',indicatoron=1)\n",
    "rs9.grid(row=3,column=2)\n",
    "\n",
    "### DELIVERY\n",
    "delivery = StringVar()\n",
    "delivery.set('All')\n",
    "rs10 = Radiobutton(window, text=\"Vaginal delivery\", variable=gender, value='vaginal',indicatoron=1)\n",
    "rs10.grid(row=4,column=0)\n",
    "rs11 = Radiobutton(window, text=\"Vaginal assisted\", variable=gender, value='vaginal assisted',indicatoron=1)\n",
    "rs11.grid(row=4,column=1)\n",
    "rs12 = Radiobutton(window, text=\"Csection\", variable=gender, value='Csection',indicatoron=1)\n",
    "rs12.grid(row=4,column=2)\n",
    "rs13 = Radiobutton(window, text=\"All\", variable=gender, value='All',indicatoron=1)\n",
    "rs13.grid(row=4,column=3)\n",
    "\n",
    "###BUTTON TO SUBMIT SELECTION\n",
    "btn_submit_sel = Button(window,text='Submit selection',bg='violet',fg='white',command=Update_data)\n",
    "btn_submit_sel.grid(column=4,row=4)\n",
    "\n",
    "### NEED to update data with the current selection \n",
    "\n",
    "\n",
    "btn_hist = Button(window,text='Histogram in bins',bg='blue',fg='white',command=plot_histo)\n",
    "btn_hist.grid(column=0,row=10)\n",
    "\n",
    "btn_plot = Button(window,text='Plot in bins',bg='red',fg='white',command=plot_graph)\n",
    "btn_plot.grid(column=0,row=11)\n",
    "\n",
    "btn_stat = Button(window,text='stats',bg='green',fg='white',command=stat)\n",
    "btn_stat.grid(column=0,row=12)\n",
    "\n"
   ]
  },
  {
   "cell_type": "code",
   "execution_count": 119,
   "metadata": {},
   "outputs": [
    {
     "name": "stdout",
     "output_type": "stream",
     "text": [
      "24\n",
      "69\n",
      "67\n",
      "79\n",
      "40\n",
      "1\n"
     ]
    }
   ],
   "source": [
    "window.mainloop()\n",
    "print(phn.get())"
   ]
  },
  {
   "cell_type": "code",
   "execution_count": null,
   "metadata": {},
   "outputs": [],
   "source": []
  }
 ],
 "metadata": {
  "kernelspec": {
   "display_name": "Python 3",
   "language": "python",
   "name": "python3"
  },
  "language_info": {
   "codemirror_mode": {
    "name": "ipython",
    "version": 3
   },
   "file_extension": ".py",
   "mimetype": "text/x-python",
   "name": "python",
   "nbconvert_exporter": "python",
   "pygments_lexer": "ipython3",
   "version": "3.6.9"
  }
 },
 "nbformat": 4,
 "nbformat_minor": 2
}
