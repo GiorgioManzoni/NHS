{
 "cells": [
  {
   "cell_type": "code",
   "execution_count": 78,
   "metadata": {},
   "outputs": [],
   "source": [
    "import sys\n",
    "sys.modules.pop('CLASS_BABY')\n",
    "sys.modules.pop('CLASS_SAMPLE')\n",
    "\n",
    "\n",
    "from CLASS_BABY import *\n",
    "from CLASS_SAMPLE import *\n",
    "\n",
    "import scipy.stats as ss\n",
    "\n",
    "#bigger fonts\n",
    "import matplotlib\n",
    "matplotlib.rc('xtick', labelsize=15) \n",
    "matplotlib.rc('ytick', labelsize=15)\n",
    "matplotlib.rcParams.update({'font.size': 20})"
   ]
  },
  {
   "cell_type": "code",
   "execution_count": 79,
   "metadata": {},
   "outputs": [],
   "source": [
    "T = pd.read_csv('../TOST_data/average_properties.txt',sep='\\t',index_col=0,na_values=-99)"
   ]
  },
  {
   "cell_type": "code",
   "execution_count": 80,
   "metadata": {},
   "outputs": [
    {
     "data": {
      "text/plain": [
       "['BABY_IDS',\n",
       " 'GENDER',\n",
       " 'WEIGHT_GRAMS',\n",
       " 'GEST_AGE_DAYS',\n",
       " 'DELIVERY',\n",
       " 'BIRTH_DATE',\n",
       " 'FILE',\n",
       " 'DELTA_SEC_MEASURE',\n",
       " 'MED_SPO2',\n",
       " 'MED_PR',\n",
       " 'MED_PI',\n",
       " 'MEAN_SPO2',\n",
       " 'MEAN_PR',\n",
       " 'MEAN_PI',\n",
       " 'STD_SPO2',\n",
       " 'STD_PR',\n",
       " 'STD_PI',\n",
       " 'PHN',\n",
       " 'WRIST',\n",
       " 'FOOT',\n",
       " 'BRADY_SEC_PR',\n",
       " 'BRADY_RATIO_PR',\n",
       " 'BRADY_RATIO_PR_m10',\n",
       " 'BRADY_RATIO_PR_m20',\n",
       " 'BRADY_RATIO_PR_m30',\n",
       " 'BRADY_RATIO_PR_m40',\n",
       " 'BRADY_SEC_SPO2',\n",
       " 'BRADY_RATIO_SPO2',\n",
       " 'BRADY_SEC_PR_DYN',\n",
       " 'BRADY_RATIO_PR_DYN',\n",
       " 'BRADY_NUM_PER_HOUR_PR',\n",
       " 'BRADY_NUM_PER_HOUR_PR_m10',\n",
       " 'BRADY_NUM_PER_HOUR_PR_m20',\n",
       " 'BRADY_NUM_PER_HOUR_PR_m30',\n",
       " 'BRADY_NUM_PER_HOUR_PR_m40',\n",
       " 'BRADY_NUM_PER_HOUR_PR_dyn',\n",
       " 'BRADY_NUM_PER_HOUR_PR_anytime',\n",
       " 'BRADY_NUM_PER_HOUR_PR_m10_anytime',\n",
       " 'BRADY_NUM_PER_HOUR_PR_m20_anytime',\n",
       " 'BRADY_NUM_PER_HOUR_PR_m30_anytime',\n",
       " 'BRADY_NUM_PER_HOUR_PR_m40_anytime',\n",
       " 'BRADY_NUM_PER_HOUR_PR_dyn_anytime',\n",
       " 'BRADY_DURATION_MEDIAN_PR',\n",
       " 'BRADY_DURATION_MEDIAN_PR_m10',\n",
       " 'BRADY_DURATION_MEDIAN_PR_m20',\n",
       " 'BRADY_DURATION_MEDIAN_PR_m30',\n",
       " 'BRADY_DURATION_MEDIAN_PR_m40',\n",
       " 'BRADY_DURATION_MEDIAN_PR_dyn']"
      ]
     },
     "execution_count": 80,
     "metadata": {},
     "output_type": "execute_result"
    }
   ],
   "source": [
    "list(T.columns.values)"
   ]
  },
  {
   "cell_type": "code",
   "execution_count": 81,
   "metadata": {},
   "outputs": [
    {
     "name": "stdout",
     "output_type": "stream",
     "text": [
      "TOT NUMBER OF BABIES:  268\n"
     ]
    }
   ],
   "source": [
    "total = len(np.unique(T['BABY_IDS']))\n",
    "print('TOT NUMBER OF BABIES: ',total)\n",
    "\n",
    "def unique_id(table,tot=total):\n",
    "    '''input: table with the selection on the category you want to count\n",
    "       output: the number of baby from that table and the fraction \n",
    "       of the total number of babies'''\n",
    "    # take the same baby id just once (as we want to count babies)\n",
    "    n = len(np.unique(table['BABY_IDS']))\n",
    "    return n, n/float(tot)"
   ]
  },
  {
   "cell_type": "code",
   "execution_count": 82,
   "metadata": {},
   "outputs": [
    {
     "data": {
      "text/plain": [
       "34.0"
      ]
     },
     "execution_count": 82,
     "metadata": {},
     "output_type": "execute_result"
    }
   ],
   "source": [
    "np.median(T['BRADY_DURATION_MEDIAN_PR_m40'].dropna())"
   ]
  },
  {
   "cell_type": "code",
   "execution_count": 83,
   "metadata": {},
   "outputs": [
    {
     "data": {
      "text/plain": [
       "array([ nan,  22.,  28.,  26.,  16.,  69.,  74.,  78.,  36.,  38.,  30.,\n",
       "       174., 164.,  34.,  29.,  18.,  24., 136.,  94.,  20.,  27.,  31.,\n",
       "        35.,  77.,  58.,  32., 112.,  40., 104.,  42.,  43.,  47.,  66.,\n",
       "        44.,  39.,  60.,  63., 365.,  37.,  41., 124., 216.,  33.,  17.,\n",
       "        21.,  59.,  55.,  50.,  48., 258.,  92.,  23.,  70.,  46.,  25.,\n",
       "        19., 254., 101., 110., 162.,  64.,  72., 129., 634., 140.,  80.,\n",
       "        62., 123.,  68.,  52.,  51.,  54., 190., 168.,  75.,  73.,  87.,\n",
       "        53.,  76.,  89., 128., 102., 170.,  56.,  49., 147., 644., 116.,\n",
       "       103.,  61.,  45., 155.])"
      ]
     },
     "execution_count": 83,
     "metadata": {},
     "output_type": "execute_result"
    }
   ],
   "source": [
    "T['BRADY_DURATION_MEDIAN_PR_m10'].unique()"
   ]
  },
  {
   "cell_type": "code",
   "execution_count": 84,
   "metadata": {},
   "outputs": [],
   "source": [
    "wrist = T[T['WRIST']==True]\n",
    "foot = T[T['FOOT']==True]"
   ]
  },
  {
   "cell_type": "markdown",
   "metadata": {},
   "source": [
    "# Percentage of time spent in brady (column 3)"
   ]
  },
  {
   "cell_type": "code",
   "execution_count": 85,
   "metadata": {},
   "outputs": [
    {
     "name": "stdout",
     "output_type": "stream",
     "text": [
      "Standard threshold = 120 bpm\n",
      "##### wrist #####\n",
      "Mean =  0.4308914596731191\n",
      "STD =  0.30449388580567727\n",
      "##### foot #####\n",
      "Mean =  0.4263504522046887\n",
      "STD =  0.34302158544155364\n"
     ]
    }
   ],
   "source": [
    "print('Standard threshold = 120 bpm')\n",
    "print('##### wrist #####')\n",
    "print('Mean = ',np.mean(wrist['BRADY_RATIO_PR']))\n",
    "print('STD = ',np.std(wrist['BRADY_RATIO_PR']))\n",
    "print('##### foot #####')\n",
    "print('Mean = ',np.mean(foot['BRADY_RATIO_PR']))\n",
    "print('STD = ',np.std(foot['BRADY_RATIO_PR']))"
   ]
  },
  {
   "cell_type": "code",
   "execution_count": 87,
   "metadata": {},
   "outputs": [
    {
     "name": "stdout",
     "output_type": "stream",
     "text": [
      "Standard threshold minus 20 = 100 bpm\n",
      "##### wrist #####\n",
      "Mean =  0.05912717905590444\n",
      "STD =  0.12671541327888503\n",
      "##### foot #####\n",
      "Mean =  0.05070208227555947\n",
      "STD =  0.12090627692780255\n"
     ]
    }
   ],
   "source": [
    "print('Standard threshold minus 20 = 100 bpm')\n",
    "print('##### wrist #####')\n",
    "print('Mean = ',np.mean(wrist['BRADY_RATIO_PR_m20']))\n",
    "print('STD = ',np.std(wrist['BRADY_RATIO_PR_m20']))\n",
    "print('##### foot #####')\n",
    "print('Mean = ',np.mean(foot['BRADY_RATIO_PR_m20']))\n",
    "print('STD = ',np.std(foot['BRADY_RATIO_PR_m20']))"
   ]
  },
  {
   "cell_type": "code",
   "execution_count": 88,
   "metadata": {},
   "outputs": [
    {
     "name": "stdout",
     "output_type": "stream",
     "text": [
      "Standard threshold minus 40 = 80 bpm\n",
      "##### wrist #####\n",
      "Mean =  0.012191475650443684\n",
      "STD =  0.04048239263803251\n",
      "##### foot #####\n",
      "Mean =  0.008001583304676011\n",
      "STD =  0.03380835522830453\n"
     ]
    }
   ],
   "source": [
    "print('Standard threshold minus 40 = 80 bpm')\n",
    "print('##### wrist #####')\n",
    "print('Mean = ',np.mean(wrist['BRADY_RATIO_PR_m40']))\n",
    "print('STD = ',np.std(wrist['BRADY_RATIO_PR_m40']))\n",
    "print('##### foot #####')\n",
    "print('Mean = ',np.mean(foot['BRADY_RATIO_PR_m40']))\n",
    "print('STD = ',np.std(foot['BRADY_RATIO_PR_m40']))"
   ]
  },
  {
   "cell_type": "code",
   "execution_count": 89,
   "metadata": {},
   "outputs": [
    {
     "name": "stdout",
     "output_type": "stream",
     "text": [
      "dynamic threshold = 2/3 median\n",
      "##### wrist #####\n",
      "Mean =  0.011576483515629848\n",
      "STD =  0.03923522286028318\n",
      "##### foot #####\n",
      "Mean =  0.007553014755783772\n",
      "STD =  0.032676167082224504\n"
     ]
    }
   ],
   "source": [
    "print('dynamic threshold = 2/3 median')\n",
    "print('##### wrist #####')\n",
    "print('Mean = ',np.mean(wrist['BRADY_RATIO_PR_DYN']))\n",
    "print('STD = ',np.std(wrist['BRADY_RATIO_PR_DYN']))\n",
    "print('##### foot #####')\n",
    "print('Mean = ',np.mean(foot['BRADY_RATIO_PR_DYN']))\n",
    "print('STD = ',np.std(foot['BRADY_RATIO_PR_DYN']))"
   ]
  },
  {
   "cell_type": "markdown",
   "metadata": {},
   "source": [
    "# Number of episodes per hour (Column 1)"
   ]
  },
  {
   "cell_type": "code",
   "execution_count": 45,
   "metadata": {},
   "outputs": [
    {
     "name": "stdout",
     "output_type": "stream",
     "text": [
      "Standard threshold = 120 bpm\n",
      "##### wrist #####\n",
      "Mean =  17.060270641494085\n",
      "STD =  12.11744157632316\n",
      "##### foot #####\n",
      "Mean =  18.264200540951375\n",
      "STD =  16.063519109791972\n"
     ]
    }
   ],
   "source": [
    "print('Standard threshold = 120 bpm')\n",
    "print('##### wrist #####')\n",
    "print('Mean = ',np.mean(wrist['BRADY_NUM_PER_HOUR_PR']))\n",
    "print('STD = ',np.std(wrist['BRADY_NUM_PER_HOUR_PR']))\n",
    "print('##### foot #####')\n",
    "print('Mean = ',np.mean(foot['BRADY_NUM_PER_HOUR_PR']))\n",
    "print('STD = ',np.std(foot['BRADY_NUM_PER_HOUR_PR']))"
   ]
  },
  {
   "cell_type": "code",
   "execution_count": 46,
   "metadata": {},
   "outputs": [
    {
     "name": "stdout",
     "output_type": "stream",
     "text": [
      "Standard threshold minus 20 = 100 bpm\n",
      "##### wrist #####\n",
      "Mean =  3.0277489575084213\n",
      "STD =  6.83588094875586\n",
      "##### foot #####\n",
      "Mean =  2.7647930552839046\n",
      "STD =  7.1755814109014215\n"
     ]
    }
   ],
   "source": [
    "print('Standard threshold minus 20 = 100 bpm')\n",
    "print('##### wrist #####')\n",
    "print('Mean = ',np.mean(wrist['BRADY_NUM_PER_HOUR_PR_m20']))\n",
    "print('STD = ',np.std(wrist['BRADY_NUM_PER_HOUR_PR_m20']))\n",
    "print('##### foot #####')\n",
    "print('Mean = ',np.mean(foot['BRADY_NUM_PER_HOUR_PR_m20']))\n",
    "print('STD = ',np.std(foot['BRADY_NUM_PER_HOUR_PR_m20']))"
   ]
  },
  {
   "cell_type": "code",
   "execution_count": 47,
   "metadata": {},
   "outputs": [
    {
     "name": "stdout",
     "output_type": "stream",
     "text": [
      "Standard threshold minus 40 = 80 bpm\n",
      "##### wrist #####\n",
      "Mean =  0.5928525736899969\n",
      "STD =  1.8001326562817714\n",
      "##### foot #####\n",
      "Mean =  0.425330846337081\n",
      "STD =  1.4658171445604578\n"
     ]
    }
   ],
   "source": [
    "print('Standard threshold minus 40 = 80 bpm')\n",
    "print('##### wrist #####')\n",
    "print('Mean = ',np.mean(wrist['BRADY_NUM_PER_HOUR_PR_m40']))\n",
    "print('STD = ',np.std(wrist['BRADY_NUM_PER_HOUR_PR_m40']))\n",
    "print('##### foot #####')\n",
    "print('Mean = ',np.mean(foot['BRADY_NUM_PER_HOUR_PR_m40']))\n",
    "print('STD = ',np.std(foot['BRADY_NUM_PER_HOUR_PR_m40']))"
   ]
  },
  {
   "cell_type": "code",
   "execution_count": 90,
   "metadata": {},
   "outputs": [
    {
     "name": "stdout",
     "output_type": "stream",
     "text": [
      "dynamic threshold = 2/3 median\n",
      "##### wrist #####\n",
      "Mean =  0.5619049865837765\n",
      "STD =  1.7347680850999747\n",
      "##### foot #####\n",
      "Mean =  0.39409340660648295\n",
      "STD =  1.5102846809146386\n"
     ]
    }
   ],
   "source": [
    "print('dynamic threshold = 2/3 median')\n",
    "print('##### wrist #####')\n",
    "print('Mean = ',np.mean(wrist['BRADY_NUM_PER_HOUR_PR_dyn']))\n",
    "print('STD = ',np.std(wrist['BRADY_NUM_PER_HOUR_PR_dyn']))\n",
    "print('##### foot #####')\n",
    "print('Mean = ',np.mean(foot['BRADY_NUM_PER_HOUR_PR_dyn']))\n",
    "print('STD = ',np.std(foot['BRADY_NUM_PER_HOUR_PR_dyn']))"
   ]
  },
  {
   "cell_type": "markdown",
   "metadata": {},
   "source": [
    "# Number of episodes per hour of any duration (Column 4)"
   ]
  },
  {
   "cell_type": "code",
   "execution_count": 49,
   "metadata": {},
   "outputs": [
    {
     "name": "stdout",
     "output_type": "stream",
     "text": [
      "Standard threshold = 120 bpm\n",
      "##### wrist #####\n",
      "Mean =  37.105409912607115\n",
      "STD =  24.157593372516846\n",
      "##### foot #####\n",
      "Mean =  40.530650318263056\n",
      "STD =  31.844126291250287\n"
     ]
    }
   ],
   "source": [
    "print('Standard threshold = 120 bpm')\n",
    "print('##### wrist #####')\n",
    "print('Mean = ',np.mean(wrist['BRADY_NUM_PER_HOUR_PR_anytime']))\n",
    "print('STD = ',np.std(wrist['BRADY_NUM_PER_HOUR_PR_anytime']))\n",
    "print('##### foot #####')\n",
    "print('Mean = ',np.mean(foot['BRADY_NUM_PER_HOUR_PR_anytime']))\n",
    "print('STD = ',np.std(foot['BRADY_NUM_PER_HOUR_PR_anytime']))"
   ]
  },
  {
   "cell_type": "code",
   "execution_count": 50,
   "metadata": {},
   "outputs": [
    {
     "name": "stdout",
     "output_type": "stream",
     "text": [
      "Standard threshold minus 20 = 100 bpm\n",
      "##### wrist #####\n",
      "Mean =  9.576226889584651\n",
      "STD =  16.71248984868054\n",
      "##### foot #####\n",
      "Mean =  10.033601493500733\n",
      "STD =  19.339835630557445\n"
     ]
    }
   ],
   "source": [
    "print('Standard threshold minus 20 = 100 bpm')\n",
    "print('##### wrist #####')\n",
    "print('Mean = ',np.mean(wrist['BRADY_NUM_PER_HOUR_PR_m20_anytime']))\n",
    "print('STD = ',np.std(wrist['BRADY_NUM_PER_HOUR_PR_m20_anytime']))\n",
    "print('##### foot #####')\n",
    "print('Mean = ',np.mean(foot['BRADY_NUM_PER_HOUR_PR_m20_anytime']))\n",
    "print('STD = ',np.std(foot['BRADY_NUM_PER_HOUR_PR_m20_anytime']))"
   ]
  },
  {
   "cell_type": "code",
   "execution_count": 51,
   "metadata": {},
   "outputs": [
    {
     "name": "stdout",
     "output_type": "stream",
     "text": [
      "Standard threshold minus 40 = 80 bpm\n",
      "##### wrist #####\n",
      "Mean =  1.2604980221249822\n",
      "STD =  3.522025003233895\n",
      "##### foot #####\n",
      "Mean =  0.9860317601252828\n",
      "STD =  3.0464141245935292\n"
     ]
    }
   ],
   "source": [
    "print('Standard threshold minus 40 = 80 bpm')\n",
    "print('##### wrist #####')\n",
    "print('Mean = ',np.mean(wrist['BRADY_NUM_PER_HOUR_PR_m40_anytime']))\n",
    "print('STD = ',np.std(wrist['BRADY_NUM_PER_HOUR_PR_m40_anytime']))\n",
    "print('##### foot #####')\n",
    "print('Mean = ',np.mean(foot['BRADY_NUM_PER_HOUR_PR_m40_anytime']))\n",
    "print('STD = ',np.std(foot['BRADY_NUM_PER_HOUR_PR_m40_anytime']))"
   ]
  },
  {
   "cell_type": "code",
   "execution_count": 91,
   "metadata": {},
   "outputs": [
    {
     "name": "stdout",
     "output_type": "stream",
     "text": [
      "dynamic threshold = 2/3 median\n",
      "##### wrist #####\n",
      "Mean =  1.1649231847742616\n",
      "STD =  3.488929812575716\n",
      "##### foot #####\n",
      "Mean =  0.9074257717468659\n",
      "STD =  2.869700437565609\n"
     ]
    }
   ],
   "source": [
    "print('dynamic threshold = 2/3 median')\n",
    "print('##### wrist #####')\n",
    "print('Mean = ',np.mean(wrist['BRADY_NUM_PER_HOUR_PR_dyn_anytime']))\n",
    "print('STD = ',np.std(wrist['BRADY_NUM_PER_HOUR_PR_dyn_anytime']))\n",
    "print('##### foot #####')\n",
    "print('Mean = ',np.mean(foot['BRADY_NUM_PER_HOUR_PR_dyn_anytime']))\n",
    "print('STD = ',np.std(foot['BRADY_NUM_PER_HOUR_PR_dyn_anytime']))"
   ]
  },
  {
   "cell_type": "markdown",
   "metadata": {},
   "source": [
    "# Duration of episodes (column 2)"
   ]
  },
  {
   "cell_type": "code",
   "execution_count": 70,
   "metadata": {},
   "outputs": [
    {
     "name": "stdout",
     "output_type": "stream",
     "text": [
      "Standard threshold = 120 bpm\n",
      "##### wrist #####\n",
      "Median =  37.0\n",
      "p25 =  27.0\n",
      "p75 =  56.0\n",
      "##### foot #####\n",
      "Median =  39.0\n",
      "p25 =  26.0\n",
      "p75 =  74.0\n"
     ]
    }
   ],
   "source": [
    "print('Standard threshold = 120 bpm')\n",
    "print('##### wrist #####')\n",
    "print('Median = ',np.median(wrist['BRADY_DURATION_MEDIAN_PR'].dropna()))\n",
    "print('p25 = ',np.percentile(wrist['BRADY_DURATION_MEDIAN_PR'].dropna(),25))\n",
    "print('p75 = ',np.percentile(wrist['BRADY_DURATION_MEDIAN_PR'].dropna(),75))\n",
    "\n",
    "print('##### foot #####')\n",
    "print('Median = ',np.median(foot['BRADY_DURATION_MEDIAN_PR'].dropna()))\n",
    "print('p25 = ',np.percentile(foot['BRADY_DURATION_MEDIAN_PR'].dropna(),25))\n",
    "print('p75 = ',np.percentile(foot['BRADY_DURATION_MEDIAN_PR'].dropna(),75))"
   ]
  },
  {
   "cell_type": "code",
   "execution_count": 71,
   "metadata": {},
   "outputs": [
    {
     "name": "stdout",
     "output_type": "stream",
     "text": [
      "Standard threshold minus 20 = 100 bpm\n",
      "##### wrist #####\n",
      "Median =  27.0\n",
      "p25 =  22.0\n",
      "p75 =  41.5\n",
      "##### foot #####\n",
      "Median =  28.0\n",
      "p25 =  21.0\n",
      "p75 =  41.0\n"
     ]
    }
   ],
   "source": [
    "print('Standard threshold minus 20 = 100 bpm')\n",
    "print('##### wrist #####')\n",
    "print('Median = ',np.median(wrist['BRADY_DURATION_MEDIAN_PR_m20'].dropna()))\n",
    "print('p25 = ',np.percentile(wrist['BRADY_DURATION_MEDIAN_PR_m20'].dropna(),25))\n",
    "print('p75 = ',np.percentile(wrist['BRADY_DURATION_MEDIAN_PR_m20'].dropna(),75))\n",
    "\n",
    "print('##### foot #####')\n",
    "print('Median = ',np.median(foot['BRADY_DURATION_MEDIAN_PR_m20'].dropna()))\n",
    "print('p25 = ',np.percentile(foot['BRADY_DURATION_MEDIAN_PR_m20'].dropna(),25))\n",
    "print('p75 = ',np.percentile(foot['BRADY_DURATION_MEDIAN_PR_m20'].dropna(),75))"
   ]
  },
  {
   "cell_type": "code",
   "execution_count": 72,
   "metadata": {},
   "outputs": [
    {
     "name": "stdout",
     "output_type": "stream",
     "text": [
      "Standard threshold minus 40 = 80 bpm\n",
      "##### wrist #####\n",
      "Median =  36.0\n",
      "p25 =  24.0\n",
      "p75 =  60.0\n",
      "##### foot #####\n",
      "Median =  34.0\n",
      "p25 =  21.0\n",
      "p75 =  61.0\n"
     ]
    }
   ],
   "source": [
    "print('Standard threshold minus 40 = 80 bpm')\n",
    "print('##### wrist #####')\n",
    "print('Median = ',np.median(wrist['BRADY_DURATION_MEDIAN_PR_m40'].dropna()))\n",
    "print('p25 = ',np.percentile(wrist['BRADY_DURATION_MEDIAN_PR_m40'].dropna(),25))\n",
    "print('p75 = ',np.percentile(wrist['BRADY_DURATION_MEDIAN_PR_m40'].dropna(),75))\n",
    "\n",
    "print('##### foot #####')\n",
    "print('Median = ',np.median(foot['BRADY_DURATION_MEDIAN_PR_m40'].dropna()))\n",
    "print('p25 = ',np.percentile(foot['BRADY_DURATION_MEDIAN_PR_m40'].dropna(),25))\n",
    "print('p75 = ',np.percentile(foot['BRADY_DURATION_MEDIAN_PR_m40'].dropna(),75))"
   ]
  },
  {
   "cell_type": "code",
   "execution_count": 92,
   "metadata": {},
   "outputs": [
    {
     "name": "stdout",
     "output_type": "stream",
     "text": [
      "dynamic threshold = 2/3 median\n",
      "##### wrist #####\n",
      "Median =  34.0\n",
      "p25 =  24.0\n",
      "p75 =  66.0\n",
      "##### foot #####\n",
      "Median =  36.0\n",
      "p25 =  23.0\n",
      "p75 =  59.0\n"
     ]
    }
   ],
   "source": [
    "print('dynamic threshold = 2/3 median')\n",
    "print('##### wrist #####')\n",
    "print('Median = ',np.median(wrist['BRADY_DURATION_MEDIAN_PR_dyn'].dropna()))\n",
    "print('p25 = ',np.percentile(wrist['BRADY_DURATION_MEDIAN_PR_dyn'].dropna(),25))\n",
    "print('p75 = ',np.percentile(wrist['BRADY_DURATION_MEDIAN_PR_dyn'].dropna(),75))\n",
    "\n",
    "print('##### foot #####')\n",
    "print('Median = ',np.median(foot['BRADY_DURATION_MEDIAN_PR_dyn'].dropna()))\n",
    "print('p25 = ',np.percentile(foot['BRADY_DURATION_MEDIAN_PR_dyn'].dropna(),25))\n",
    "print('p75 = ',np.percentile(foot['BRADY_DURATION_MEDIAN_PR_dyn'].dropna(),75))"
   ]
  },
  {
   "cell_type": "code",
   "execution_count": null,
   "metadata": {},
   "outputs": [],
   "source": []
  },
  {
   "cell_type": "code",
   "execution_count": null,
   "metadata": {},
   "outputs": [],
   "source": []
  },
  {
   "cell_type": "code",
   "execution_count": null,
   "metadata": {},
   "outputs": [],
   "source": []
  },
  {
   "cell_type": "code",
   "execution_count": 96,
   "metadata": {},
   "outputs": [
    {
     "data": {
      "text/plain": [
       "[<matplotlib.lines.Line2D at 0x7efdf0255940>]"
      ]
     },
     "execution_count": 96,
     "metadata": {},
     "output_type": "execute_result"
    },
    {
     "data": {
      "image/png": "[encoded data removed]",
      "text/plain": [
       "<Figure size 432x288 with 1 Axes>"
      ]
     },
     "metadata": {},
     "output_type": "display_data"
    }
   ],
   "source": [
    "plt.plot(T['BRADY_DURATION_MEDIAN_PR_dyn'],T['BRADY_NUM_PER_HOUR_PR_dyn'],\".\")"
   ]
  },
  {
   "cell_type": "code",
   "execution_count": 101,
   "metadata": {},
   "outputs": [
    {
     "data": {
      "text/plain": [
       "(array([ 48., 286., 131.,  54.,  30.,  14.,  16.,  11.,   5.,   5.]),\n",
       " array([  0.,  20.,  40.,  60.,  80., 100., 120., 140., 160., 180., 200.]),\n",
       " <a list of 1 Patch objects>)"
      ]
     },
     "execution_count": 101,
     "metadata": {},
     "output_type": "execute_result"
    },
    {
     "data": {
      "image/png": "[encoded data removed]",
      "text/plain": [
       "<Figure size 432x288 with 1 Axes>"
      ]
     },
     "metadata": {},
     "output_type": "display_data"
    }
   ],
   "source": [
    "plt.hist(T['BRADY_DURATION_MEDIAN_PR'].dropna(),range=(0,200),histtype='step')"
   ]
  },
  {
   "cell_type": "code",
   "execution_count": null,
   "metadata": {},
   "outputs": [],
   "source": []
  }
 ],
 "metadata": {
  "kernelspec": {
   "display_name": "Python 3",
   "language": "python",
   "name": "python3"
  },
  "language_info": {
   "codemirror_mode": {
    "name": "ipython",
    "version": 3
   },
   "file_extension": ".py",
   "mimetype": "text/x-python",
   "name": "python",
   "nbconvert_exporter": "python",
   "pygments_lexer": "ipython3",
   "version": "3.6.9"
  }
 },
 "nbformat": 4,
 "nbformat_minor": 2
}
