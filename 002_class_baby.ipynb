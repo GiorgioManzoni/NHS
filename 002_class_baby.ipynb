{
 "cells": [
  {
   "cell_type": "code",
   "execution_count": 229,
   "metadata": {},
   "outputs": [],
   "source": [
    "import numpy as np\n",
    "import pandas as pd\n",
    "import matplotlib.pyplot as plt\n",
    "import datetime as d\n",
    "\n",
    "from datetime import date,datetime, timedelta\n",
    "\n",
    "\n",
    "#bigger fonts\n",
    "import matplotlib\n",
    "matplotlib.rc('xtick', labelsize=15) \n",
    "matplotlib.rc('ytick', labelsize=15)\n",
    "matplotlib.rcParams.update({'font.size': 20})"
   ]
  },
  {
   "cell_type": "code",
   "execution_count": 262,
   "metadata": {},
   "outputs": [
    {
     "data": {
      "text/plain": [
       "datetime.datetime(2020, 6, 24, 1, 0, 1)"
      ]
     },
     "execution_count": 262,
     "metadata": {},
     "output_type": "execute_result"
    }
   ],
   "source": [
    "\n",
    "clock = datetime(2020,6,24)+timedelta(seconds=3601)\n",
    "clock"
   ]
  },
  {
   "cell_type": "code",
   "execution_count": 263,
   "metadata": {},
   "outputs": [
    {
     "data": {
      "text/plain": [
       "1"
      ]
     },
     "execution_count": 263,
     "metadata": {},
     "output_type": "execute_result"
    }
   ],
   "source": [
    "clock.second"
   ]
  },
  {
   "cell_type": "markdown",
   "metadata": {},
   "source": [
    "# Functions"
   ]
  },
  {
   "cell_type": "code",
   "execution_count": 138,
   "metadata": {},
   "outputs": [],
   "source": [
    "def format_date(DATE='03-03-14',fmt='american'):\n",
    "    # !!! American format\n",
    "    if fmt=='american':\n",
    "        month = int(DATE[0:2])\n",
    "        day = int(DATE[3:5])\n",
    "    else:\n",
    "        day = int(DATE[0:2])\n",
    "        month = int(DATE[3:5])\n",
    "\n",
    "    year = int('20'+DATE[6:8])\n",
    "    return year, month, day\n",
    "\n",
    "def format_time(TIME='14:55:57'):\n",
    "    hours = int(TIME[0:2])\n",
    "    minutes = int(TIME[3:5])\n",
    "    seconds = int(TIME[6:8])\n",
    "    return hours, minutes, seconds\n",
    "\n",
    "\n",
    "def DELTA_TIMES_SEC(DATE1,TIME1,DATE2,TIME2,verbose=False,fmt='american'):\n",
    "    '''compute time intervals for a pair of date and time'''    \n",
    "    year_1,month_1,day_1       = format_date(DATE1,fmt=fmt)\n",
    "    hour_1,minutes_1,seconds_1 = format_time(TIME1)\n",
    "\n",
    "    year_2,month_2,day_2       = format_date(DATE2,fmt=fmt)\n",
    "    hour_2,minutes_2,seconds_2 = format_time(TIME2)\n",
    "\n",
    "    #compute day difference\n",
    "    from datetime import date\n",
    "    start = date(year_1, month_1, day_1)\n",
    "    end   = date(year_2, month_2, day_2)\n",
    "    delta_days = (end-start).days\n",
    "    if verbose:\n",
    "        print('delta_days = ',delta_days)\n",
    "\n",
    "    time_1_sec = hour_1*60*60 + minutes_1*60 + seconds_1\n",
    "    time_2_sec = hour_2*60*60 + minutes_2*60 + seconds_2\n",
    "    delta_time_sec = (time_2_sec-time_1_sec)\n",
    "    if verbose:\n",
    "        print('delta_sec = ', delta_time_sec)\n",
    "\n",
    "    delta_tot_sec = delta_days*24*60*60 + (time_2_sec-time_1_sec)\n",
    "    return delta_tot_sec\n",
    "\n",
    "def convert_dates_times_into_deltasec(dates,times,fmt='american'):\n",
    "    '''convert an array of dates and an array of times \n",
    "    into an array of interval times in seconds'''\n",
    "    delta_sec =np.zeros(len(dates))\n",
    "    for i in range(0,len(times)):\n",
    "        delta_sec[i] = DELTA_TIMES_SEC(dates[0],times[0],dates[i],times[i],fmt=fmt)\n",
    "        #print(delta_sec)\n",
    "    return delta_sec\n",
    "\n",
    "\n",
    "# Function to search for a key in the name of the files in a folder\n",
    "def find_files_in_folder(key ,folder='/home/giorgio/Desktop/NHS/TOST_data/',verbose=False):\n",
    "    '''give the key you want to find in file names contained in folder. \n",
    "    If you want to list all the files set key=\"*\"  '''\n",
    "    import subprocess\n",
    "    ls = subprocess.Popen(['ls','', folder],\n",
    "           stdout=subprocess.PIPE, \n",
    "           stderr=subprocess.STDOUT)\n",
    "    ls_out,ls_err = ls.communicate()\n",
    "    ls_out = str(ls_out)\n",
    "    ls_out = ls_out.split('\\\\n')\n",
    "    found=False\n",
    "    key_lines = []\n",
    "    if key=='*':\n",
    "        if ':' in ls_out[1]:\n",
    "            key_lines = ls_out[2:-1] #neglect parent folder\n",
    "        else:\n",
    "            key_lines = ls_out[1:-1] #neglect the first apostrophy\n",
    "\n",
    "    else:\n",
    "        for line in ls_out:\n",
    "            if key in line and ':' not in line: #the ':' appears in the parent folder\n",
    "                key_lines.append(line)\n",
    "                found=True\n",
    "        if (found and verbose):\n",
    "            for kl in key_lines:\n",
    "                print(kl)\n",
    "        elif verbose:\n",
    "                print('No file names with the key: ',key)\n",
    "    return key_lines\n",
    "\n",
    "# Find baby folder\n",
    "def get_folder_for_baby(baby_id,verbose=False,whole_path=True):\n",
    "    '''returns the path of the folder where the data of baby_id are stored'''\n",
    "    baby_id = baby_id.upper()\n",
    "    home_NHS ='/home/giorgio/Desktop/NHS/TOST_data/'\n",
    "    if 'FMC' in baby_id:\n",
    "        folder = home_NHS + 'TOST FMC Data Groomed/'\n",
    "    elif 'PLC' in baby_id:\n",
    "        folder = home_NHS + 'TOST PLC Data Groomed/'\n",
    "    elif 'RGH' in baby_id:\n",
    "        folder = home_NHS + 'TOST RGH Data Groomed/'\n",
    "    #sometimes the id is e.g. RGH033 and sometimes RGH33\n",
    "    try:\n",
    "        _ = int(baby_id[-3:])\n",
    "        # don't do str(int()) otherwise you lose the zeros\n",
    "        keyword = str(baby_id[-3:])\n",
    "    except:\n",
    "        # This should handle when you give the id forgetting the initial zero \n",
    "        if str(baby_id[-3]) not in ['0','1','2','3','4','5','6','7','8','9']:\n",
    "            keyword = '0'+str(baby_id[-2:])\n",
    "    keyword = str(keyword) \n",
    "    if verbose:\n",
    "        print('keyword = ',keyword)\n",
    "\n",
    "    \n",
    "    # even if verbose is true you don't want to print the last folder or the files here    \n",
    "    ls = find_files_in_folder(key=keyword,folder=folder,verbose=False)\n",
    "    \n",
    "    \n",
    "    if verbose:\n",
    "        if len(ls)>1:\n",
    "            print('WARNING: there are more occurrence for that baby id')\n",
    "            print(ls)\n",
    "            print('the first occurrence will be used: ',ls[0])\n",
    "        elif len(ls)==0:\n",
    "            print('It seems there are no data for ',baby_id)\n",
    "            \n",
    "    if len(ls)==0:        \n",
    "        ls=None\n",
    "            \n",
    "    \n",
    "    if whole_path and ls!=None:\n",
    "        #print('folder= ',folder)\n",
    "        #print('len(ls)= ',len(ls))\n",
    "        #print('ls=',ls)\n",
    "        folder = folder + ls[0] + '/'\n",
    "    elif ls!=None:\n",
    "        folder = ls[0]\n",
    "    \n",
    "    if ls==None:\n",
    "        return None\n",
    "    else:\n",
    "        return folder\n",
    "\n",
    "def list_files_for_baby(baby_id,whole_path=True,verbose=False):\n",
    "    '''Returns the name of the files with baby_id datas'''\n",
    "    f = get_folder_for_baby(baby_id,verbose=verbose)\n",
    "    ls = find_files_in_folder(key='*',folder=f)\n",
    "    if whole_path:\n",
    "        for i in range(len(ls)):\n",
    "            ls[i] = f + ls[i]\n",
    "    return ls\n"
   ]
  },
  {
   "cell_type": "code",
   "execution_count": 139,
   "metadata": {},
   "outputs": [
    {
     "data": {
      "text/plain": [
       "True"
      ]
     },
     "execution_count": 139,
     "metadata": {},
     "output_type": "execute_result"
    }
   ],
   "source": [
    "ls=None\n",
    "ls==None"
   ]
  },
  {
   "cell_type": "markdown",
   "metadata": {},
   "source": [
    "# CLASS BABY"
   ]
  },
  {
   "cell_type": "code",
   "execution_count": 140,
   "metadata": {},
   "outputs": [],
   "source": [
    "# I don't want to read every time this file when instantiating new objects\n",
    "# so I read it first\n",
    "master_filename = \"../TOST_data/TOST_State_Durham.xlsx\"\n",
    "master = pd.read_excel(master_filename,skip_blank_lines=True)\n",
    "master = master[:-1] # delete last row which is a fake FMC001 with no data\n"
   ]
  },
  {
   "cell_type": "code",
   "execution_count": 141,
   "metadata": {},
   "outputs": [],
   "source": [
    "def is_SameBaby(name1='FMC001',name2='FMC101',verbose=False):\n",
    "    '''check if the two id for the baby are equivalent \n",
    "    even if they are in different formats, \n",
    "    e.g. with initial zero or lower/upper characters.'''\n",
    "\n",
    "    hospital = bool(str(name1[0:3]).lower() in str(name2))or(str(name1[0:3]).upper() in str(name2))\n",
    "    last_three = bool(str(name1)[-3:]==str(name2)[-3:])\n",
    "    last_two = bool(str(name1)[-2:]==str(name2)[-2:])\n",
    "    third_last_is_zero_in_name2 = bool(str(name2)[-3]=='0')\n",
    "    third_last_is_zero_in_name1 = bool(str(name1)[-3]=='0')\n",
    "    third_last_is_character_in_name1 = bool(str(name1)[-3] not in ['0','1','2','3','4','5','6','7','8','9'])\n",
    "    third_last_is_character_in_name2 = bool(str(name2)[-3] not in ['0','1','2','3','4','5','6','7','8','9'])\n",
    "\n",
    "    numbers_right = bool(last_three or \\\n",
    "                         ((last_two and third_last_is_zero_in_name2 and third_last_is_character_in_name1) or \\\n",
    "                        (last_two and third_last_is_character_in_name2 and  third_last_is_zero_in_name1) ))\n",
    "\n",
    "    total = bool(hospital and numbers_right)\n",
    "\n",
    "    if verbose:\n",
    "        print('#################################################################')\n",
    "        print(\"Is the name of the hospital found in the original name? \",hospital)\n",
    "        print(\"Are the last three character the same? \\t\\t\\t\",last_three)\n",
    "        print(\"Are the last two character the same? \\t\\t\\t\",last_two)\n",
    "        print(\"Are the id numbers equivalent? \\t\\t\\t\\t\",numbers_right)\n",
    "        print('---------------------------------------------------------------')\n",
    "        print(\"Are the file names \",name1,' and ',name2,\" equivalent? \\t\",total)\n",
    "        print('#################################################################')\n",
    "    \n",
    "    return total"
   ]
  },
  {
   "cell_type": "code",
   "execution_count": 142,
   "metadata": {},
   "outputs": [
    {
     "data": {
      "text/plain": [
       "True"
      ]
     },
     "execution_count": 142,
     "metadata": {},
     "output_type": "execute_result"
    }
   ],
   "source": [
    "is_SameBaby('FMC010','FMC10',verbose=False)"
   ]
  },
  {
   "cell_type": "code",
   "execution_count": 217,
   "metadata": {},
   "outputs": [],
   "source": [
    "def find_baby_name_and_index_in_master(baby_id,master=master):\n",
    "    '''it scans all of the name of the babies in the master file and return the correct name and its index'''\n",
    "    baby_names = np.array(master['Study Number (Original)'])\n",
    "    found=False\n",
    "    for i in range(len(baby_names)):        \n",
    "        if is_SameBaby(baby_id,baby_names[i]):\n",
    "            name_original = baby_names[i]\n",
    "            index_original = i\n",
    "            if found: #(already)\n",
    "                print('WARNING: more than one baby for the same id!!!')\n",
    "                print('baby_id = ',baby_id, 'with original name = ',baby_names[i],' at index = ',i)\n",
    "            else:\n",
    "                found=True\n",
    "    return name_original, index_original\n",
    "    \n",
    "    \n",
    "    \n",
    "class baby:\n",
    "    def __init__(self,baby_id,babies=master,verbose=False):\n",
    "        '''Provide the study number to initialise a baby, e.g. baby_id=\"FMC003\" '''\n",
    "        self.verbose=verbose\n",
    "        self.baby_id=baby_id.upper()\n",
    "        self.data_found=True\n",
    "        try:\n",
    "            index = list(babies['Study Number (Original)']).index(baby_id)\n",
    "            original_name = baby_id\n",
    "        except:\n",
    "            original_name , index = find_baby_name_and_index_in_master(baby_id.upper())\n",
    "        if self.verbose:\n",
    "            print('The original name of the baby case is: ',original_name)\n",
    "        self.original_name = original_name\n",
    "        self.gender = babies['Gender'][index]\n",
    "        self.weight_grams = babies['Birth Weight in Grams'][index]\n",
    "        self.date_time = str(babies['Date & Time of Birth'][index]).split()\n",
    "        \n",
    "        self.date_birth = str(babies['Date & Time of Birth'][index]).split(' ')[0]\n",
    "        self.time_birth = str(babies['Date & Time of Birth'][index]).split(' ')[1]\n",
    "        self.year_birth  = int(self.date_birth.split('-')[0])\n",
    "        self.month_birth = int(self.date_birth.split('-')[1])\n",
    "        self.day_birth = int(self.date_birth.split('-')[2])\n",
    "        self.hours_birth = self.time_birth.split(':')[0]\n",
    "        self.minutes_birth = self.time_birth.split(':')[1]\n",
    "        self.seconds_birth = self.time_birth.split(':')[2]\n",
    "        \n",
    "        try:\n",
    "            self.files = list_files_for_baby(self.baby_id,verbose=verbose)\n",
    "            if verbose:\n",
    "                print('I am loading the files for baby = ',self.baby_id)\n",
    "        except :\n",
    "            print('NO MEASUREMENTS FOR BABY',self.baby_id)\n",
    "            self.data_found=False\n",
    "            #raise ValueError('FILE NOT FOUND FOR BABY: ',self.baby_id)\n",
    "        \n",
    "        \n",
    "        # array of tables with the measurements in different day or modality (wrist/foot)\n",
    "        self.measurements = []\n",
    "        \n",
    "        if self.data_found:\n",
    "            for i in range(len(self.files)):\n",
    "                if self.verbose:\n",
    "                    print('Loading file: ',self.files[i])\n",
    "                \n",
    "                data = pd.read_csv(self.files[i])\n",
    "                # if you use the following you need to be sure that you have (all of those column name)\n",
    "                #and sometimes there is no PI so it's not ideal\n",
    "                #data = pd.read_csv(self.files[i],skipinitialspace=True,usecols=['Date','Time','SpO2','PR','PI'])\n",
    "\n",
    "                self.measurements.append(data) \n",
    "\n",
    "                #if self.verbose:\n",
    "                #    print(pd.read_csv(self.files[i]))\n",
    "\n",
    "                \n",
    "            if self.verbose:\n",
    "                print('--------------------')\n",
    "            self.measurements_date = []\n",
    "            self.measurements_time = []\n",
    "            self.measurements_SpO2_median = []\n",
    "            self.measurements_PR_median = []\n",
    "            self.measurements_PI_median = []\n",
    "\n",
    "\n",
    "            for i in range(len(self.files)):\n",
    "                \n",
    "                if self.verbose:\n",
    "                    print('Reading from file: ',self.files[i])\n",
    "                    #print(self.measurements[i].columns.values)\n",
    "                \n",
    "                self.measurements_date.append(self.measurements[i]['Date'][0])\n",
    "                self.measurements_time.append(self.measurements[i]['Time'][0])\n",
    "                self.measurements_SpO2_median.append(self.measurements[i]['SpO2'].dropna().median())\n",
    "                self.measurements_PR_median.append(self.measurements[i]['PR'].dropna().median())\n",
    "                try:\n",
    "                    PI_median = self.measurements[i]['PI'].dropna().median()\n",
    "                    if PI_median!=8000:\n",
    "                        self.measurements_PI_median.append(PI_median)\n",
    "                except:\n",
    "                    self.measurements_PI_median.append(np.nan)\n"
   ]
  },
  {
   "cell_type": "markdown",
   "metadata": {},
   "source": [
    "# Tests on a single baby"
   ]
  },
  {
   "cell_type": "code",
   "execution_count": 218,
   "metadata": {},
   "outputs": [
    {
     "name": "stdout",
     "output_type": "stream",
     "text": [
      "The original name of the baby case is:  FMC003\n",
      "keyword =  003\n",
      "I am loading the files for baby =  FMC003\n",
      "Loading file:  /home/giorgio/Desktop/NHS/TOST_data/TOST FMC Data Groomed/G_FMC_PHN_003/G_FMC003_Day1_Rt Foot.csv\n",
      "Loading file:  /home/giorgio/Desktop/NHS/TOST_data/TOST FMC Data Groomed/G_FMC_PHN_003/G_FMC003_Day1_Rt wrist.csv\n",
      "Loading file:  /home/giorgio/Desktop/NHS/TOST_data/TOST FMC Data Groomed/G_FMC_PHN_003/G_PHN_FMC003_Day3_Lt Foot.csv\n",
      "Loading file:  /home/giorgio/Desktop/NHS/TOST_data/TOST FMC Data Groomed/G_FMC_PHN_003/G_PHN_FMC003_Day3_Rt wrist.csv\n",
      "--------------------\n",
      "Reading from file:  /home/giorgio/Desktop/NHS/TOST_data/TOST FMC Data Groomed/G_FMC_PHN_003/G_FMC003_Day1_Rt Foot.csv\n",
      "Reading from file:  /home/giorgio/Desktop/NHS/TOST_data/TOST FMC Data Groomed/G_FMC_PHN_003/G_FMC003_Day1_Rt wrist.csv\n",
      "Reading from file:  /home/giorgio/Desktop/NHS/TOST_data/TOST FMC Data Groomed/G_FMC_PHN_003/G_PHN_FMC003_Day3_Lt Foot.csv\n",
      "Reading from file:  /home/giorgio/Desktop/NHS/TOST_data/TOST FMC Data Groomed/G_FMC_PHN_003/G_PHN_FMC003_Day3_Rt wrist.csv\n"
     ]
    }
   ],
   "source": [
    "FMC003 = baby('FMC003',verbose=True)"
   ]
  },
  {
   "cell_type": "code",
   "execution_count": 202,
   "metadata": {},
   "outputs": [
    {
     "data": {
      "text/plain": [
       "['14+AC0-04+AC0-03', '03-04-14', '14-05-03', '14-05-03']"
      ]
     },
     "execution_count": 202,
     "metadata": {},
     "output_type": "execute_result"
    }
   ],
   "source": [
    "FMC003.measurements_date"
   ]
  },
  {
   "cell_type": "code",
   "execution_count": null,
   "metadata": {},
   "outputs": [],
   "source": [
    "FMC001 = baby('FMC001',verbose=False)"
   ]
  },
  {
   "cell_type": "code",
   "execution_count": 176,
   "metadata": {},
   "outputs": [
    {
     "data": {
      "text/plain": [
       "['/home/giorgio/Desktop/NHS/TOST_data/TOST FMC Data Groomed/G_FMC_PHN_001/G_FMC001_Day1_Rt foot.csv',\n",
       " '/home/giorgio/Desktop/NHS/TOST_data/TOST FMC Data Groomed/G_FMC_PHN_001/G_FMC001_Day1_Rt wrist.csv',\n",
       " '/home/giorgio/Desktop/NHS/TOST_data/TOST FMC Data Groomed/G_FMC_PHN_001/G_PHN_FMC001_Day4_Rt wrist.csv',\n",
       " '/home/giorgio/Desktop/NHS/TOST_data/TOST FMC Data Groomed/G_FMC_PHN_001/G_PHN_FMC001_Day5_Lt Foot.csv']"
      ]
     },
     "execution_count": 176,
     "metadata": {},
     "output_type": "execute_result"
    }
   ],
   "source": [
    "FMC001.files\n"
   ]
  },
  {
   "cell_type": "code",
   "execution_count": 149,
   "metadata": {},
   "outputs": [
    {
     "data": {
      "text/plain": [
       "97.0"
      ]
     },
     "execution_count": 149,
     "metadata": {},
     "output_type": "execute_result"
    }
   ],
   "source": [
    "FMC001.measurements[1]['SpO2'].median()"
   ]
  },
  {
   "cell_type": "code",
   "execution_count": 150,
   "metadata": {},
   "outputs": [],
   "source": [
    "#FMC001.__dict__"
   ]
  },
  {
   "cell_type": "code",
   "execution_count": 151,
   "metadata": {},
   "outputs": [
    {
     "data": {
      "image/png": "[encoded data removed]",
      "text/plain": [
       "<Figure size 720x576 with 1 Axes>"
      ]
     },
     "metadata": {},
     "output_type": "display_data"
    }
   ],
   "source": [
    "plt.figure(figsize=(10,8))\n",
    "#plt.hist(FMC001.measurements[0]['SpO2'],bins=15,range=(87.5,100),lw=4,histtype='step',density=True,label=FMC001.measurements[0]['Date'][0])\n",
    "#plt.axvline(FMC001.measurements[0]['SpO2'].median(),color='C0',lw=3,ls='dashed')\n",
    "plt.hist(FMC001.measurements[1]['PI'],bins=15,color='C1',range=(0,4),lw=4,histtype='step',density=True,label=FMC001.measurements[1]['Date'][0])\n",
    "plt.axvline(FMC001.measurements[1]['PI'].median(),color='C1',lw=3,ls='dashed')\n",
    "plt.hist(FMC001.measurements[2]['PI'],bins=15,color='C2',lw=4,range=(0,4),histtype='step',density=True,label=FMC001.measurements[2]['Date'][0])\n",
    "plt.axvline(FMC001.measurements[2]['PI'].median(),color='C2',lw=3,ls='dashed')\n",
    "#plt.hist(FMC001.measurements[3]['SpO2'],bins=15,range=(87.5,100),lw=4,histtype='step',density=True,label=FMC001.measurements[3]['Date'][0])\n",
    "#plt.axvline(FMC001.measurements[3]['SpO2'].median(),color='C3',lw=3,ls='dashed')\n",
    "plt.xlabel('PI ')\n",
    "plt.legend(loc=2)\n",
    "plt.title(FMC001.baby_id+'(wrist)')\n",
    "#plt.savefig('../plots/FMC001_histo_SpO2.png')\n",
    "plt.show()\n"
   ]
  },
  {
   "cell_type": "code",
   "execution_count": 152,
   "metadata": {},
   "outputs": [
    {
     "name": "stdout",
     "output_type": "stream",
     "text": [
      "/home/giorgio/Desktop/NHS/TOST_data/TOST FMC Data Groomed/G_FMC_PHN_001/G_FMC001_Day1_Rt foot.csv\n",
      "/home/giorgio/Desktop/NHS/TOST_data/TOST FMC Data Groomed/G_FMC_PHN_001/G_FMC001_Day1_Rt wrist.csv\n",
      "/home/giorgio/Desktop/NHS/TOST_data/TOST FMC Data Groomed/G_FMC_PHN_001/G_PHN_FMC001_Day4_Rt wrist.csv\n",
      "/home/giorgio/Desktop/NHS/TOST_data/TOST FMC Data Groomed/G_FMC_PHN_001/G_PHN_FMC001_Day5_Lt Foot.csv\n"
     ]
    },
    {
     "data": {
      "image/png": "[encoded data removed]",
      "text/plain": [
       "<Figure size 720x576 with 1 Axes>"
      ]
     },
     "metadata": {},
     "output_type": "display_data"
    }
   ],
   "source": [
    "plt.figure(figsize=(10,8))\n",
    "\n",
    "prop = 'PI'\n",
    "\n",
    "width_SpO2=(87.5,100)\n",
    "\n",
    "width_PI=(0,3.)\n",
    "width=width_PI\n",
    "#width=None\n",
    "\n",
    "\n",
    "for i in range(len(FMC001.measurements)):\n",
    "    print(FMC001.files[i])\n",
    "    plt.hist(   FMC001.measurements[i][prop],bins=15,color='C'+str(i),range=width,lw=4,histtype='step',density=True,label=FMC001.measurements[i]['Date'][0]+' '+FMC001.files[i][-9:-4])\n",
    "    plt.axvline(FMC001.measurements[i][prop].median(),color='C'+str(i),lw=3,ls='dashed')\n",
    "\n",
    "    #+np.random.uniform(-0.3,+0.3)\n",
    "    \n",
    "plt.xlabel(prop)\n",
    "plt.ylabel('normalised counts')\n",
    "plt.legend(loc='best')\n",
    "plt.title(FMC001.baby_id)\n",
    "#plt.savefig('../plots/FMC001_histo_'+prop+'.png')\n",
    "plt.show()\n"
   ]
  },
  {
   "cell_type": "code",
   "execution_count": 153,
   "metadata": {},
   "outputs": [
    {
     "data": {
      "text/plain": [
       "0.2112927463961667"
      ]
     },
     "execution_count": 153,
     "metadata": {},
     "output_type": "execute_result"
    }
   ],
   "source": [
    "np.random.uniform(0,0.5)"
   ]
  },
  {
   "cell_type": "code",
   "execution_count": 154,
   "metadata": {},
   "outputs": [
    {
     "data": {
      "image/png": "[encoded data removed]",
      "text/plain": [
       "<Figure size 720x576 with 1 Axes>"
      ]
     },
     "metadata": {},
     "output_type": "display_data"
    }
   ],
   "source": [
    "plt.figure(figsize=(10,8))\n",
    "plt.hist(FMC001.measurements[0]['SpO2'],bins=15,range=(87.5,100),color='C0',lw=4,histtype='step',density=True,label=FMC001.measurements[0]['Date'][0])\n",
    "plt.axvline(FMC001.measurements[0]['SpO2'].median(),color='C0',lw=3,ls='dashed')\n",
    "plt.hist(FMC001.measurements[3]['SpO2'],bins=15,range=(87.5,100),color='C3',lw=4,histtype='step',density=True,label=FMC001.measurements[3]['Date'][0])\n",
    "plt.axvline(FMC001.measurements[3]['SpO2'].median(),color='C3',lw=3,ls='dashed')\n",
    "plt.xlabel('SpO2')\n",
    "plt.legend(loc=2)\n",
    "plt.title(FMC001.baby_id+' (foot)')\n",
    "#plt.savefig('../plots/FMC001_histo_SpO2_foot.png')\n",
    "plt.show()\n"
   ]
  },
  {
   "cell_type": "code",
   "execution_count": 155,
   "metadata": {},
   "outputs": [
    {
     "data": {
      "image/png": "[encoded data removed]",
      "text/plain": [
       "<Figure size 720x576 with 1 Axes>"
      ]
     },
     "metadata": {},
     "output_type": "display_data"
    }
   ],
   "source": [
    "plt.figure(figsize=(10,8))\n",
    "plt.hist(FMC001.measurements[1]['SpO2'],bins=15,range=(87.5,100),color='C1',lw=4,histtype='step',density=True,label=FMC001.measurements[1]['Date'][0])\n",
    "plt.axvline(FMC001.measurements[1]['SpO2'].median(),color='C1',lw=3,ls='dashed')\n",
    "plt.hist(FMC001.measurements[2]['SpO2'],bins=15,range=(87.5,100),color='C2',lw=4,histtype='step',density=True,label=FMC001.measurements[2]['Date'][0])\n",
    "plt.axvline(FMC001.measurements[2]['SpO2'].median(),color='C2',lw=3,ls='dashed')\n",
    "plt.xlabel('SpO2')\n",
    "plt.legend(loc=2)\n",
    "plt.title(FMC001.baby_id+' (wrist)')\n",
    "#plt.savefig('../plots/FMC001_histo_SpO2_wrist.png')\n",
    "plt.show()\n"
   ]
  },
  {
   "cell_type": "code",
   "execution_count": 156,
   "metadata": {},
   "outputs": [
    {
     "data": {
      "text/plain": [
       "['/home/giorgio/Desktop/NHS/TOST_data/TOST FMC Data Groomed/G_FMC_PHN_007/G_FMC007_Day1_Lt Foot.csv',\n",
       " '/home/giorgio/Desktop/NHS/TOST_data/TOST FMC Data Groomed/G_FMC_PHN_007/G_FMC007_Day1_Rt Wrist.csv',\n",
       " '/home/giorgio/Desktop/NHS/TOST_data/TOST FMC Data Groomed/G_FMC_PHN_007/G_PHN_FMC007_Day3_Rt Foot.csv',\n",
       " '/home/giorgio/Desktop/NHS/TOST_data/TOST FMC Data Groomed/G_FMC_PHN_007/G_PHN_FMC007_Day3_Rt Wrist.csv']"
      ]
     },
     "execution_count": 156,
     "metadata": {},
     "output_type": "execute_result"
    }
   ],
   "source": [
    "list_files_for_baby('FMC007')"
   ]
  },
  {
   "cell_type": "code",
   "execution_count": 157,
   "metadata": {},
   "outputs": [],
   "source": [
    "FMC005 = baby('FMC005')"
   ]
  },
  {
   "cell_type": "code",
   "execution_count": 158,
   "metadata": {},
   "outputs": [],
   "source": [
    "FMC007 = baby('FMC007',verbose=False)"
   ]
  },
  {
   "cell_type": "code",
   "execution_count": 159,
   "metadata": {},
   "outputs": [
    {
     "data": {
      "text/plain": [
       "'03-05-14'"
      ]
     },
     "execution_count": 159,
     "metadata": {},
     "output_type": "execute_result"
    }
   ],
   "source": [
    "FMC007.measurements[1]['Date'][0]"
   ]
  },
  {
   "cell_type": "markdown",
   "metadata": {},
   "source": [
    "# Trying to read all of the babies from the master file (and counting the success/failure)"
   ]
  },
  {
   "cell_type": "code",
   "execution_count": 265,
   "metadata": {
    "scrolled": false
   },
   "outputs": [
    {
     "name": "stdout",
     "output_type": "stream",
     "text": [
      "FMC003 \t 2014-03-03 \t ['14+AC0-04+AC0-03', '03-04-14', '14-05-03', '14-05-03']\n",
      "FMC004 \t 2014-03-03 \t ['14-04-03']\n",
      "FMC005 \t 2014-03-03 \t ['03-05-14', '03-05-14', '14-07-03', '14-07-03']\n",
      "FMC006 \t 2014-03-04 \t ['03-04-14', '03-04-14', '14-06-03', '14-06-03']\n",
      "FMC007 \t 2014-03-05 \t ['14+AC0-05+AC0-03', '03-05-14', '14+AC0-07+AC0-03', '14+AC0-07+AC0-03']\n",
      "FMC008 \t 2014-03-05 \t ['14+AC0-05+AC0-03', '03-05-14', '14-09-03', '14-09-03']\n",
      "RGH001 \t 2014-03-05 \t ['14-09-03', '14-09-03', '14-06-03']\n",
      "RGH002 \t 2014-03-05 \t ['14-08-03', '14-08-03', '14-06-03', '14-06-03']\n",
      "RGH003 \t 2014-03-05 \t ['14-09-03', '14-09-03', '03-06-14', '03-06-14']\n",
      "PLC001 \t 2014-03-06 \t ['14-10-03', '03-07-14', '03-07-14']\n",
      "PLC002 \t 2014-03-06 \t ['14-08-03', '03-07-14', '03-07-14']\n",
      "FMC009 \t 2014-03-08 \t ['03-09-14', '03-09-14', '14+AC0-10+AC0-03', '14+AC0-10+AC0-03']\n",
      "FMC010 \t 2014-03-09 \t ['14-10-03', '14-10-03']\n",
      "FMC011 \t 2014-03-09 \t ['14-10-03']\n",
      "FMC012 \t 2014-03-10 \t ['14-10-03', '14-10-03', '03/13/14', '03/13/14']\n",
      "FMC013 \t 2014-03-09 \t ['14-10-03']\n",
      "PLC003 \t 2014-03-10 \t ['14-11-03', '14-11-03']\n",
      "PLC004 \t 2014-03-11 \t ['03/13/14', '03/13/14', '03-11-14', '03-11-14']\n",
      "PLC005 \t 2014-03-11 \t ['03/13/14', '03/13/14', '14-11-03', '14-11-03']\n",
      "RGH004 \t 2014-03-11 \t ['03/14/14', '03/14/14', '03-12-14', '03-12-14']\n",
      "RGH005 \t 2014-03-12 \t ['03/13/14', '03/13/14', '03-12-14', '03-12-14']\n",
      "FMC014 \t 2014-03-12 \t ['03/13/14', '03/13/14', '03/16/14', '03/16/14']\n",
      "FMC015 \t 2014-03-12 \t ['03/13/14', '03/13/14', '03/14/14', '03/14/14']\n",
      "FMC016 \t 2014-03-13 \t ['03/14/14', '03/14/14', '03/16/14', '03/16/14']\n",
      "FMC017 \t 2014-03-13 \t ['03/14/14', '03/14/14']\n",
      "FMC018 \t 2014-03-17 \t ['03/18/14', '03/18/14']\n",
      "FMC019 \t 2014-03-17 \t ['03/18/14', '03/18/14', '03/22/14', '03/22/14']\n",
      "FMC020 \t 2014-03-17 \t ['03/18/14', '03/18/14', '03/19/14', '03/19/14']\n",
      "FMC021 \t 2014-03-17 \t ['03/18/14', '03/18/14', '03/19/14', '03/19/14']\n",
      "FMC022 \t 2014-03-18 \t ['03/19/14', '03/19/14']\n",
      "FMC023 \t 2014-03-18 \t ['03/19/14', '03/19/14']\n",
      "FMC024 \t 2014-03-19 \t ['03/19/14', '03/19/14', '03/22/14', '03/22/14']\n",
      "FMC025 \t 2014-03-19 \t ['03/19/14', '03/19/14', '03/20/14', '03/20/14']\n",
      "PLC006 \t 2014-03-19 \t ['03/23/14', '03/23/14', '03/20/14', '03/20/14', '03/21/14', '03/21/14']\n",
      "PLC007 \t 2014-03-20 \t ['03/21/14', '03/21/14', '03/22/14', '03/22/14']\n",
      "PLC008 \t 2014-03-21 \t ['03/22/14', '03/22/14']\n",
      "FMC026 \t 2014-03-22 \t ['03/23/14', '03/23/14']\n",
      "FMC027 \t 2014-03-22 \t ['03/23/14', '03/23/14', '03/24/14']\n",
      "FMC028 \t 2014-03-23 \t ['03/23/14', '03/23/14', '03/26/14', '03/26/14']\n",
      "FMC029 \t 2014-03-23 \t ['03/24/14', '03/24/14', '03/26/14', '03/26/14']\n",
      "FMC030 \t 2014-03-23 \t ['03/24/14']\n",
      "FMC031 \t 2014-03-24 \t ['03/24/14', '03/24/14', '03/26/14', '03/26/14']\n",
      "FMC032 \t 2014-03-23 \t ['03/24/14', '03/25/14', '03/25/14']\n",
      "FMC033 \t 2014-03-24 \t ['03/24/14', '03/24/14', '03/26/14', '03/26/14']\n",
      "FMC034 \t 2014-03-26 \t ['03/26/14', '03/26/14', '03/28/14', '03/28/14']\n",
      "FMC035 \t 2014-03-25 \t ['03/26/14', '03/29/14', '03/29/14']\n",
      "FMC036 \t 2014-03-26 \t ['03/26/14', '03/27/14', '03/27/14']\n",
      "FMC037 \t 2014-03-26 \t ['03/26/14', '03/26/14', '03/30/14', '03/30/14']\n",
      "FMC038 \t 2014-03-25 \t ['03/26/14', '03/26/14', '03/28/14', '03/28/14']\n",
      "PLC 009 \t 2014-03-25 \t ['03/26/14', '03/26/14', '03/27/14', '03/27/14']\n",
      "FMC039 \t 2014-03-26 \t ['03/26/14', '03/26/14', '03/27/14', '03/27/14']\n",
      "FMC040 \t 2014-03-26 \t ['03/27/14', '03/27/14', '03/29/14', '03/29/14']\n",
      "PLC 010 \t 2014-03-26 \t ['03/27/14', '03/27/14']\n",
      "FMC041 \t 2014-03-27 \t ['03/27/14', '03/27/14', '03/29/14', '03/29/14']\n",
      "FMC042 \t 2014-03-27 \t ['03/27/14', '03/27/14', '03/31/14', '03/31/14']\n",
      "PLC 011 \t 2014-03-27 \t ['03/27/14', '03/27/14', '03/28/14', '03/28/14']\n",
      "PLC 012 \t 2014-03-27 \t ['03/28/14', '03/28/14']\n",
      "FMC043 \t 2014-03-27 \t ['03/28/14', '03/28/14', '03/30/14', '03/30/14']\n",
      "FMC044 \t 2014-03-27 \t ['03/28/14', '03/28/14']\n",
      "FMC045 \t 2014-03-28 \t ['03/28/14', '03/28/14']\n",
      "PLC 013 \t 2014-03-30 \t ['03/31/14', '03/31/14']\n",
      "FMC046 \t 2014-03-31 \t ['03/31/14', '03/31/14']\n",
      "FMC047 \t 2014-03-30 \t ['03/31/14', '03/31/14', '14-01-04', '14-01-04', '14-04-04', '14-04-04']\n",
      "FMC048 \t 2014-03-31 \t ['03/31/14', '03/31/14']\n",
      "FMC049 \t 2014-03-31 \t ['03/31/14', '03/31/14']\n",
      "PLC 014 \t 2014-03-31 \t ['14-01-04', '14-01-04', '14-02-04', '14-02-04']\n",
      "PLC 015 \t 2014-03-31 \t ['14-01-04', '14-01-04', '14-02-04', '14-02-04']\n",
      "PLC 016 \t 2014-03-31 \t ['14-01-04', '14-01-04', '14-02-04', '14-02-04']\n",
      "FMC050 \t 2014-03-31 \t ['14-01-04', '14-01-04', '04-02-14', '14-02-04']\n",
      "FMC051 \t 2014-03-31 \t ['14-01-04', '14-01-04', '14-02-04', '14-02-04']\n",
      "FMC052 \t 2014-03-31 \t ['14-01-04', '14-03-04', '14-03-04']\n",
      "PLC017 \t 2014-04-01 \t ['14-03-04', '14-03-04']\n",
      "PLC 018 \t 2014-04-03 \t ['14-03-04', '14-03-04']\n",
      "PLC 019 \t 2014-04-03 \t ['14-03-04', '14-03-04', '14-04-04', '14-04-04']\n",
      "RGH006 \t 2014-04-02 \t ['14-03-04', '14-03-04']\n",
      "RGH007 \t 2014-04-03 \t ['14-03-04', '14-03-04']\n",
      "RGH008 \t 2014-04-02 \t ['14-03-04', '14-03-04']\n",
      "RGH009 \t 2014-04-03 \t ['14-05-04', '14-05-04', '14-03-04', '14-03-04']\n",
      "PLC 020 \t 2014-04-03 \t ['14-04-04', '14-04-04']\n",
      "PLC 021 \t 2014-04-03 \t ['14-04-04', '14-04-04', '14-05-04', '04-05-14']\n",
      "FMC053 \t 2014-04-03 \t ['04-04-14', '14-04-04']\n",
      "FMC054 \t 2014-04-07 \t ['14-08-04', '14-08-04']\n",
      "NO MEASUREMENTS FOR BABY FMC056\n",
      "FMC058 \t 2014-04-07 \t ['14-08-04', '14-09-04', '14-09-04']\n",
      "FMC059 \t 2014-04-07 \t ['14+AC0-08+AC0-04']\n",
      "NO MEASUREMENTS FOR BABY FMC060\n",
      "FMC061 \t 2014-04-07 \t ['14-08-04', '04-09-14', '04-09-14', '14-11-04', '14-11-04']\n",
      "FMC062 \t 2014-04-07 \t ['14-04-07', '14-11-04', '14-11-04']\n",
      "RGH010 \t 2014-04-07 \t ['14-08-04', '14-08-04']\n",
      "FMCO63 \t 2014-04-08 \t ['04-09-14', '04-09-14']\n",
      "RGH012 \t 2014-04-09 \t ['14-09-04', '14-09-04']\n",
      "PLC022 \t 2014-04-10 \t ['14-10-04', '14-10-04']\n",
      "PLC023 \t 2014-04-10 \t ['04/14/14', '04/14/14', '14-10-04', '14-10-04', '14-11-04', '14-11-04']\n",
      "FMC064 \t 2014-04-11 \t ['04-11-14', '04-11-14', '04/13/14', '04/13/14']\n",
      "RGH013 \t 2014-04-11 \t ['14-11-04', '14-11-04']\n",
      "RGH014 \t 2014-04-11 \t ['14-12-04', '14-12-04']\n",
      "FMC065 \t 2014-04-15 \t ['04/16/14', '04/16/14']\n",
      "RGH011 \t 2014-04-08 \t ['14-09-04', '14-09-04']\n",
      "FMC066 \t 2014-04-15 \t ['04/16/14', '04/16/14', '04/19/14', '04/19/14']\n",
      "RGH015 \t 2014-04-15 \t ['04/16/14', '04/16/14']\n",
      "RGH016 \t 2014-04-16 \t ['04/19/14', '04/19/14', '04/16/14', '04/16/14']\n",
      "RGH017 \t 2014-04-16 \t ['04/17/14', '04/17/14']\n",
      "RGH018 \t 2014-04-16 \t ['04/19/14', '04/19/14', '04/17/14', '04/17/14']\n",
      "FMC067 \t 2014-04-16 \t ['04/17/14', '04/17/14', '04/18/14', '04/18/14']\n",
      "FMC068 \t 2014-04-16 \t ['04/17/14', '14-09-04', '14-09-04']\n",
      "FMC069 \t 2014-04-16 \t ['04/17/14', '04/17/14']\n",
      "FMC070 \t 2014-04-16 \t ['04/17/14', '04/19/14', '04/19/14']\n",
      "FMC071 \t 2014-04-16 \t ['04/17/14', '04/17/14', '04/20/14', '04/20/14']\n",
      "PLC024 \t 2014-04-17 \t ['04/18/14', '04/18/14']\n",
      "PLC025 \t 2014-04-17 \t ['04/18/14', '04/18/14']\n",
      "PLC026 \t 2014-04-17 \t ['04/20/14', '04/20/14', '04/18/14', '04/18/14']\n",
      "PLC027 \t 2014-04-19 \t ['04/19/14', '04/19/14']\n",
      "RGH019 \t 2014-04-20 \t ['04/21/14', '04/21/14']\n",
      "FMC072 \t 2014-04-21 \t ['04/22/14', '04/22/14']\n",
      "FMC073 \t 2014-04-21 \t ['04/22/14', '04/22/14', '04/23/14', '04/23/14']\n",
      "FMC074 \t 2014-04-21 \t ['04/22/14', '04/22/14', '04/25/14', '04/25/14']\n",
      "FMC075 \t 2014-04-22 \t ['04/22/14', '04/22/14', '04/24/14', '04/24/14']\n",
      "FMC076 \t 2014-04-22 \t ['04/22/14', '04/22/14', '04/25/14', '04/25/14']\n",
      "FMC077 \t 2014-04-22 \t ['04/22/14', '04/22/14', '04/25/14', '04/25/14']\n",
      "FMC078 \t 2014-04-22 \t ['04/23/14', '04/23/14', '04/24/14', '04/24/14']\n",
      "FMC079 \t 2014-04-22 \t ['04/23/14', '04/23/14']\n",
      "FMC080 \t 2014-04-22 \t ['04/23/14']\n",
      "FMC081 \t 2014-04-22 \t ['04/23/14', '04/23/14']\n",
      "FMC082 \t 2014-04-23 \t ['04/24/14', '04/24/14', '04/26/14', '04/26/14', '04/27/14', '04/27/14']\n",
      "FMC083 \t 2014-04-26 \t ['04/27/14', '04/27/14']\n",
      "FMC084 \t 2014-04-26 \t ['04/27/14', '04/27/14']\n",
      "FMC085 \t 2014-04-27 \t ['04/27/14', '04/27/14', '14-01-05', '14-01-05']\n",
      "FMC086 \t 2014-04-27 \t ['04/27/14', '04/27/14', '04/29/14', '04/29/14']\n",
      "FMC087 \t 2014-04-26 \t ['04/27/14', '04/27/14']\n",
      "FMC088 \t 2014-04-29 \t ['04/30/14', '04/30/14', '14-04-05', '14-04-05']\n",
      "FMC089 \t 2014-04-29 \t ['04/30/14', '04/30/14']\n",
      "FMC090 \t 2014-04-29 \t ['04/30/14', '04/30/14', '14-02-05', '14-02-05']\n",
      "RGH020 \t 2014-04-29 \t ['14-02-05', '14-02-05', '04/30/14', '04/30/14']\n",
      "FMC091 \t 2014-04-30 \t ['14-01-05', '14-01-05', '14-04-05', '14-04-05']\n",
      "FMC092 \t 2014-04-30 \t ['14-01-05', '14-01-05', '14-02-05', '14-02-05']\n"
     ]
    },
    {
     "name": "stdout",
     "output_type": "stream",
     "text": [
      "FMC093 \t 2014-04-01 \t ['14-01-05', '14-01-05']\n",
      "FMC094 \t 2014-04-30 \t ['14-01-05', '14-01-05']\n",
      "FMC095 \t 2014-05-01 \t ['14-02-05']\n",
      "FMC096 \t 2014-05-01 \t ['14-02-05', '05-02-14', '14-04-05', '14-04-05']\n",
      "PLC 028 \t 2014-05-06 \t ['14-07-05', '14-07-05', '14-08-05', '14-08-05']\n",
      "PLC 029 \t 2014-05-07 \t ['14-07-05', '14-07-05', '14-08-05', '14-08-05']\n",
      "PLC 030 \t 2014-05-06 \t ['14-08-05', '14-08-05']\n",
      "PLC 031 \t 2014-05-08 \t ['14-09-05', '14-09-05']\n",
      "PLC 032 \t 2014-05-10 \t ['14-12-05', '14-12-05']\n",
      "FMC097 \t 2014-05-12 \t ['05/13/14', '05/13/14', '05/14/14', '05/14/14']\n",
      "FMC098 \t 2014-05-12 \t ['05/13/14', '05/13/14']\n",
      "FMC099 \t 2014-05-12 \t ['05/13/14', '05/13/14']\n",
      "PLC 033 \t 2014-05-12 \t ['05/13/14', '05/13/14']\n",
      "FMC100 \t 2014-05-13 \t ['05/13/14', '05/13/14', '05/15/14', '05/15/14']\n",
      "RGH21 \t 2014-05-12 \t ['05/15/14', '05/15/14', '05/13/14', '05/13/14']\n",
      "PLC 034 \t 2014-05-13 \t ['05/17/14', '05/17/14', '05/14/14', '05/14/14', '05/15/14', '05/15/14']\n",
      "FMC101 \t 2014-05-13 \t ['05/14/14', '05/14/14', '05/16/14', '05/16/14']\n",
      "FMC102 \t 2014-05-13 \t ['05/14/14', '05/14/14', '05/15/14', '05/15/14']\n",
      "FMC103 \t 2014-05-13 \t ['05/14/14', '05/14/14']\n",
      "RGH022 \t 2014-05-13 \t ['05/16/14', '05/16/14', '05/14/14', '05/14/14']\n",
      "RGH023 \t 2014-05-14 \t ['05/15/14', '05/15/14']\n",
      "FMC104 \t 2014-05-14 \t ['05/15/14', '05/15/14', '05/17/14', '05/17/14']\n",
      "FMC105 \t 2014-05-14 \t ['05/15/14', '05/15/14']\n",
      "PLC 035 \t 2014-05-14 \t ['05/15/14', '05/15/14']\n",
      "FMC106 \t 2014-05-14 \t ['05/15/14', '05/15/14']\n",
      "PLC 036 \t 2014-05-15 \t ['05/16/14', '05/16/14', '05/18/14']\n",
      "PLC 037 \t 2014-05-15 \t ['05/16/14', '05/16/14']\n",
      "RGH024 \t 2014-05-15 \t ['05/17/14', '05/17/14', '05/16/14', '05/16/14']\n",
      "FMC107 \t 2014-05-15 \t ['05/16/14', '05/16/14', '05/19/14', '05/19/14']\n",
      "FMC108 \t 2014-05-16 \t ['05/16/14', '05/16/14']\n",
      "FMC109 \t 2014-05-16 \t ['05/16/14', '05/16/14']\n",
      "FMC110 \t 2014-05-15 \t ['05/16/14', '05/16/14']\n",
      "RGH 025 \t 2014-05-19 \t ['05/20/14', '05/20/14']\n",
      "FMC111 \t 2014-05-19 \t ['05/20/14', '05/20/14']\n",
      "FMC112 \t 2014-05-20 \t ['05/20/14', '05/20/14', '05/23/14', '05/23/14']\n",
      "FMC113 \t 2014-05-19 \t ['05/20/14', '05/20/14']\n",
      "RGH026 \t 2014-05-20 \t ['05/20/14', '05/20/14']\n",
      "RGH027 \t 2014-05-21 \t ['05/21/14', '05/21/14']\n",
      "FMC114 \t 2014-05-20 \t ['05/21/14', '05/21/14', '05/22/14', '05/22/14']\n",
      "RGH028 \t 2014-05-20 \t ['05/23/14', '05/23/14', '05/21/14', '05/21/14']\n",
      "FMC115 \t 2014-05-21 \t ['05/22/14', '05/22/14']\n",
      "PLC038 \t 2014-05-21 \t ['05/22/14', '05/22/14']\n",
      "RGH029 \t 2014-05-21 \t ['05/22/14', '05/22/14']\n",
      "RGH030 \t 2014-05-22 \t ['05/24/14', '05/24/14', '05/22/14', '05/22/14']\n",
      "RGH031 \t 2014-05-22 \t ['05/24/14', '05/24/14', '05/23/14', '05/23/14']\n",
      "RGH032 \t 2014-05-22 \t ['05/26/14', '05/26/14', '05/23/14', '05/23/14']\n",
      "FMC116 \t 2014-05-26 \t ['05/26/14', '05/26/14', '05/27/14', '05/27/14']\n",
      "PLC 039 \t 2014-05-26 \t ['05/27/14', '05/27/14']\n",
      "RGH033 \t 2014-05-28 \t ['05/28/14', '05/28/14']\n",
      "PLC 040 \t 2014-05-28 \t ['05/29/14', '05/29/14']\n",
      "INCOM FMC014 \t 2014-05-28 \t ['03/13/14', '03/13/14', '03/16/14', '03/16/14']\n",
      "INCOMP FMC015 \t 2014-05-28 \t ['03/13/14', '03/13/14', '03/14/14', '03/14/14']\n",
      "FMC117 \t 2014-05-28 \t ['05/29/14', '05/29/14', '14-02-06', '14-02-06']\n",
      "INCOMP FMC016 \t 2014-05-28 \t ['03/14/14', '03/14/14', '03/16/14', '03/16/14']\n",
      "PLC 041 \t 2014-05-29 \t ['05/30/14', '05/30/14']\n",
      "RGH034 \t 2014-05-29 \t ['05/30/14', '05/30/14']\n",
      "FMC118 \t 2014-05-29 \t ['05/30/14', '14-02-06', '14-02-06']\n",
      "FMC119 \t 2014-05-29 \t ['05/30/14', '05/30/14', '14-02-06', '14-02-06']\n",
      "FMC120 \t 2014-05-29 \t ['05/30/14', '05/30/14']\n",
      "INCOM FMC017 \t 2014-05-29 \t ['03/14/14', '03/14/14']\n",
      "INCOM FMC018 \t 2014-05-29 \t ['03/18/14', '03/18/14']\n",
      "RGH035 \t 2014-06-01 \t ['14-02-06', '14-02-06']\n",
      "PLC 042 \t 2014-06-01 \t ['14-02-06', '14-02-06']\n",
      "FMC121 \t 2014-06-01 \t ['14-02-06', '14-02-06']\n",
      "FMC122 \t 2014-06-01 \t ['14-02-06', '14-02-06', '14-08-06', '14-08-06']\n",
      "FMC123 \t 2014-06-02 \t ['14-02-06', '14-02-06']\n",
      "INCOMP FMC019 \t 2014-06-01 \t ['03/18/14', '03/18/14', '03/22/14', '03/22/14']\n",
      "RGH036 \t 2014-06-03 \t ['14-03-06', '14-03-06']\n",
      "RGH037 \t 2014-06-03 \t ['14-04-06', '14-04-06']\n",
      "FMC124 \t 2014-06-03 \t ['14-04-06', '14-04-06', '14-08-06', '14-08-06']\n",
      "FMC125 \t 2014-06-03 \t ['14-04-06', '14-04-06', '14-07-06', '14-07-06']\n",
      "INCOMP FMC020 \t 2014-06-03 \t ['03/18/14', '03/18/14', '03/19/14', '03/19/14']\n",
      "RGH038 \t 2014-06-03 \t ['14-06-06', '14-06-06', '14-04-06', '14-04-06']\n",
      "RGH039 \t 2014-06-05 \t ['14-06-06', '14-06-06', '14-05-06', '14-05-06']\n",
      "RGH040 \t 2014-06-04 \t ['14-05-06', '14-05-06']\n",
      "NO MEASUREMENTS FOR BABY INCOM FMC009+++\n",
      "INCOM FMC001 \t 2014-03-03 \t ['03-03-14', '03-03-14', '14-06-03', '14-06-03']\n",
      "INCOMP FMC 005 \t 2014-03-13 \t ['03-05-14', '03-05-14', '14-07-03', '14-07-03']\n",
      "INCOMP FMC 003 \t 2014-03-10 \t ['14+AC0-04+AC0-03', '03-04-14', '14-05-03', '14-05-03']\n",
      "INCOMP FMC 008 \t 2014-03-26 \t ['14+AC0-05+AC0-03', '03-05-14', '14-09-03', '14-09-03']\n",
      "INCOMP FMC 004 \t 2014-03-10 \t ['14-04-03']\n",
      "INCOMP FMC 010 \t 2014-04-07 \t ['14-10-03', '14-10-03']\n",
      "INCOMP FMC 006 \t 2014-03-17 \t ['03-04-14', '03-04-14', '14-06-03', '14-06-03']\n",
      "INCOMP FMC 011 \t 2014-04-15 \t ['14-10-03']\n",
      "INCOMP FMC 002 \t 2014-03-08 \t ['03-03-14']\n",
      "INCOMP FMC 013 \t 2014-05-15 \t ['14-10-03']\n",
      "INCOMP FMC 012 \t 2014-05-15 \t ['14-10-03', '14-10-03', '03/13/14', '03/13/14']\n",
      "RGH041 \t 2014-06-08 \t ['14-09-06', '14-09-06']\n",
      "FMC126 \t 2014-06-09 \t ['14-10-06', '14-10-06']\n",
      "INCOMP FMC021 \t 2014-06-09 \t ['03/18/14', '03/18/14', '03/19/14', '03/19/14']\n",
      "INCOMP FMC022 \t 2014-06-09 \t ['03/19/14', '03/19/14']\n",
      "INCOMP FMC23 \t 2014-06-09 \t ['03/19/14', '03/19/14']\n",
      "FMC127 \t 2014-06-09 \t ['14-10-06', '14-10-06']\n",
      "FMC128 \t 2014-06-10 \t ['14-10-06', '14-10-06', '14-11-06', '14-11-06']\n",
      "FMC129 \t 2014-06-10 \t ['14-10-06', '14-10-06', '14-11-06', '14-11-06']\n",
      "FMC130 \t 2014-06-10 \t ['14-11-06', '14-11-06']\n",
      "FMC131 \t 2014-06-10 \t ['14-11-06', '14-11-06']\n",
      "FMC132 \t 2014-06-11 \t ['14-11-06', '14-11-06', '14-12-06', '14-12-06']\n",
      "FMC133 \t 2014-06-15 \t ['06/16/14', '06/16/14', '06/17/14', '06/17/14']\n",
      "FMC134 \t 2014-06-15 \t ['06/16/14', '06/16/14']\n",
      "FMC135 \t 2014-06-15 \t ['06/16/14', '06/16/14']\n",
      "INCOMP FMC024 \t 2014-06-15 \t ['03/19/14', '03/19/14', '03/22/14', '03/22/14']\n",
      "RGH042 \t 2014-06-23 \t ['06/24/14', '06/24/14']\n",
      "RGH043 \t 2014-06-24 \t ['06/24/14', '06/24/14']\n",
      "RGH044 \t 2014-07-03 \t ['07-03-14', '07-03-14']\n",
      "RGH045 \t 2014-07-08 \t ['07-09-14', '07-09-14']\n",
      "RGH 046 \t 2014-07-29 \t ['07/30/14', '07/30/14']\n",
      "RGH047 \t 2014-08-05 \t ['08-06-14', '08-06-14']\n",
      "RGH047 \t 2014-08-05 \t ['08-06-14', '08-06-14']\n",
      "RGH 049 \t 2014-08-06 \t ['08-07-14', '08-07-14']\n",
      "RGH 050 \t 2014-08-07 \t ['08-07-14', '08-07-14']\n",
      "RGH051 \t 2014-08-11 \t ['08-12-14', '08-12-14']\n",
      "RGH 052 \t 2014-08-12 \t ['08/13/14', '08/13/14']\n",
      "RGH053 \t 2014-08-14 \t ['08/14/14', '08/14/14']\n",
      "RGH054 \t 2014-08-25 \t ['08/25/14', '08/25/14']\n",
      "RGH055 \t 2014-08-27 \t ['08/28/14', '08/28/14']\n",
      "PLC 043 \t 2014-09-07 \t ['09-08-14', '09-09-14', '09-08-14', '09-09-14']\n",
      "PLC044 \t 2014-09-09 \t ['09-09-14', '09-09-14']\n",
      "PLC 045 \t 2014-09-15 \t ['09/15/14', '09/16/14', '09/15/14', '09/16/14']\n",
      "PLC 046 \t 2014-09-15 \t ['09/16/14', '09/16/14']\n",
      "PLC 047 \t 2014-09-17 \t ['09/16/14', '09/18/14']\n",
      "PLC 048 \t 2014-09-17 \t ['09/18/14', '09/18/14']\n",
      "PLC 049 \t 2014-09-18 \t ['09/18/14', '09/19/14', '09/18/14', '09/19/14']\n",
      "PLC 050 \t 2014-09-18 \t ['09/19/14', '09/19/14']\n",
      "RGH056 \t 2014-09-30 \t ['09/30/14', '09/30/14']\n",
      "PLC 051 \t 2014-09-29 \t ['09/30/14', '09/30/14']\n",
      "RGH057 \t 2014-09-29 \t ['09/30/14', '09/30/14']\n",
      "PLC 052 \t 2014-10-01 \t ['10-01-14', '10-01-14']\n",
      "PLC 053 \t 2014-10-02 \t ['10-03-14', '10-03-14']\n",
      "RGH058 \t 2014-10-05 \t ['10-06-14', '10-06-14']\n",
      "PLC 054 \t 2014-10-06 \t ['10-07-14', '10-07-14']\n",
      "PLC 055 \t 2014-10-06 \t ['10-07-14', '10-08-14', '10-07-14', '10-08-14']\n",
      "RGH059 \t 2014-10-07 \t ['10-07-14', '10-07-14']\n",
      "PLC 056 \t 2014-10-07 \t ['10-08-14', '10-08-14']\n",
      "PLC 057 \t 2014-10-08 \t ['10-09-14', '10-09-14']\n",
      "RGH060 \t 2014-10-09 \t ['10-09-14', '10-09-14']\n",
      "RGH061 \t 2014-10-08 \t ['10-09-14', '10-09-14']\n",
      "RGH062 \t 2014-10-10 \t ['10-10-14', '10-10-14']\n",
      "RGH063 \t 2014-10-14 \t ['10/14/14', '10/14/14']\n",
      "RGH064 \t 2014-10-14 \t ['10/14/14', '10/14/14']\n",
      "PLC058 \t 2014-10-21 \t ['10/22/14', '10/23/14', '10/22/14', '10/23/14']\n",
      "PLC 059 \t 2014-10-22 \t ['10/23/14', '10/23/14']\n",
      "PLC 060 \t 2014-10-23 \t ['10/23/14', '10/23/14']\n",
      "PLC 061 \t 2014-10-23 \t ['10/24/14', '10/24/14']\n",
      "PLC 062 \t 2014-10-23 \t ['10/24/14', '10/24/14']\n",
      "RGH065 \t 2014-10-28 \t ['10/28/14', '10/28/14']\n",
      "RGH066 \t 2014-10-29 \t ['10/30/14', '10/30/14']\n",
      "RGH067 \t 2014-11-17 \t ['11/17/14', '11/17/14']\n",
      "RGH068 \t 2014-11-18 \t ['11/19/14', '11/19/14']\n"
     ]
    },
    {
     "name": "stdout",
     "output_type": "stream",
     "text": [
      "PLC 063 \t 2014-11-23 \t ['11/24/14', '11/24/14']\n",
      "RGH069 \t 2014-12-01 \t ['12-02-14', '12-02-14']\n",
      "RGH70 \t 2015-01-13 \t ['01/14/15', '01/14/15']\n",
      "RGH071 \t 2015-01-21 \t ['01/22/15', '01/22/15']\n",
      "RGH072 \t 2015-01-22 \t ['01/23/15', '01/23/15']\n",
      "RGH073 \t 2015-01-25 \t ['01/26/15', '01/26/15']\n"
     ]
    }
   ],
   "source": [
    "list_objects = []\n",
    "index_good = []\n",
    "index_bad = []\n",
    "for i in range(len(master)):\n",
    "    try:\n",
    "        b = baby(master['Study Number (Original)'][i],verbose=False)\n",
    "        list_objects.append(b)\n",
    "        index_good.append(i)\n",
    "        print(b.baby_id,\"\\t\",b.date_birth,\"\\t\",b.measurements_date)#,\"\\t\",b.measurements_time)\n",
    "    except:\n",
    "        index_bad.append(i)"
   ]
  },
  {
   "cell_type": "code",
   "execution_count": null,
   "metadata": {},
   "outputs": [],
   "source": []
  },
  {
   "cell_type": "code",
   "execution_count": 212,
   "metadata": {},
   "outputs": [
    {
     "name": "stdout",
     "output_type": "stream",
     "text": [
      "NO MEASUREMENTS FOR BABY FMC056\n",
      "NO MEASUREMENTS FOR BABY FMC060\n",
      "NO MEASUREMENTS FOR BABY INCOM FMC009+++\n"
     ]
    }
   ],
   "source": [
    "list_objects_fairly_good = []\n",
    "index_bad_format = []\n",
    "import math\n",
    "for i in range(len(master)):\n",
    "    try:\n",
    "        ###### EMPTY LINE #####\n",
    "        # nan is a float object in this data, so when he reads a string this \n",
    "        # command will fail and will go into the exception\n",
    "        if math.isnan(master['Study Number (Original)'][i]):\n",
    "            pass\n",
    "            #print(i, master['Study Number (Original)'][i])\n",
    "    except:\n",
    "        #### BABY ID VALID ####\n",
    "        try:\n",
    "            # fairly good means that at least it is not trying to use \"nan\" as baby_id\n",
    "            list_objects_fairly_good.append(baby(master['Study Number (Original)'][i]))\n",
    "        except:\n",
    "            ##### PROBLEM IN READING THE FILE ####\n",
    "            index_bad_format.append(i)\n",
    "        \n"
   ]
  },
  {
   "cell_type": "code",
   "execution_count": 213,
   "metadata": {},
   "outputs": [
    {
     "name": "stdout",
     "output_type": "stream",
     "text": [
      "Excel file num lines: \t\t\t\t\t\t 332\n",
      "Automatically readable: \t\t\t\t 290\n",
      "Empty lines + bad formatted data: \t\t\t 42\n",
      "Just badly formatted data: \t\t\t\t 2\n",
      "Readable objects + badly formatted (number of babies): \t 292\n"
     ]
    }
   ],
   "source": [
    "print('Excel file num lines: \\t\\t\\t\\t\\t\\t',len(master))\n",
    "#print(len(list_objects_fairly_good)) # with a proper baby_id\n",
    "print('Automatically readable: \\t\\t\\t\\t',len(index_good)) # it can create an objecy with the attributes that I am asking for\n",
    "print('Empty lines + bad formatted data: \\t\\t\\t',len(index_bad)) # nan + bad_format\\\n",
    "#print(len(index_good)+len(index_bad))\n",
    "print('Just badly formatted data: \\t\\t\\t\\t',len(index_bad_format)) # just bad format\n",
    "print('Readable objects + badly formatted (number of babies): \\t',len(index_good)+len(index_bad_format))"
   ]
  },
  {
   "cell_type": "code",
   "execution_count": 214,
   "metadata": {},
   "outputs": [
    {
     "name": "stdout",
     "output_type": "stream",
     "text": [
      "#####################\n",
      "BADLY FORMATTED FILES\n",
      "#####################\n",
      "FMC055\n",
      "FMC057\n"
     ]
    }
   ],
   "source": [
    "# name of object with bad format\n",
    "print('#####################')\n",
    "print('BADLY FORMATTED FILES')\n",
    "print('#####################')\n",
    "\n",
    "for i in index_bad_format:\n",
    "    print(master['Study Number (Original)'][i])"
   ]
  },
  {
   "cell_type": "code",
   "execution_count": 207,
   "metadata": {},
   "outputs": [
    {
     "name": "stdout",
     "output_type": "stream",
     "text": [
      "The original name of the baby case is:  FMC008\n",
      "keyword =  008\n",
      "I am loading the files for baby =  FMC008\n",
      "Reading file:  /home/giorgio/Desktop/NHS/TOST_data/TOST FMC Data Groomed/G_FMC_PHN_008/G_FMC008_Day1_Lt Foot.csv\n",
      "Reading file:  /home/giorgio/Desktop/NHS/TOST_data/TOST FMC Data Groomed/G_FMC_PHN_008/G_FMC008_Day1_Rt Wrist.csv\n",
      "Reading file:  /home/giorgio/Desktop/NHS/TOST_data/TOST FMC Data Groomed/G_FMC_PHN_008/G_PHN_FMC008_Day5_Lt Foot.csv\n",
      "Reading file:  /home/giorgio/Desktop/NHS/TOST_data/TOST FMC Data Groomed/G_FMC_PHN_008/G_PHN_FMC008_Day5_Rt wrist.csv\n",
      "Reading columns from:  /home/giorgio/Desktop/NHS/TOST_data/TOST FMC Data Groomed/G_FMC_PHN_008/G_FMC008_Day1_Lt Foot.csv\n",
      "['Date' 'Time' 'SpO2' 'PR' 'PI' 'Exceptions' 'Exception Labels'\n",
      " 'Unnamed: 7']\n",
      "Reading columns from:  /home/giorgio/Desktop/NHS/TOST_data/TOST FMC Data Groomed/G_FMC_PHN_008/G_FMC008_Day1_Rt Wrist.csv\n",
      "['Date' 'Time' 'SpO2' 'PR' 'PI' 'SpCO' 'SpMet' 'PVI' 'SpHb' 'SpOC' 'RESVD'\n",
      " 'RRa' 'Exceptions' 'Exception Labels' 'Unnamed: 14' 'Unnamed: 15']\n",
      "Reading columns from:  /home/giorgio/Desktop/NHS/TOST_data/TOST FMC Data Groomed/G_FMC_PHN_008/G_PHN_FMC008_Day5_Lt Foot.csv\n",
      "['Date' 'Time' 'SpO2' 'PR' 'PI' ' Exceptions' 'Exception Labels'\n",
      " 'Unnamed: 7' 'Unnamed: 8' 'Unnamed: 9' 'Unnamed: 10' 'Unnamed: 11'\n",
      " 'Unnamed: 12' 'Unnamed: 13']\n",
      "Reading columns from:  /home/giorgio/Desktop/NHS/TOST_data/TOST FMC Data Groomed/G_FMC_PHN_008/G_PHN_FMC008_Day5_Rt wrist.csv\n",
      "['Date' 'Time' 'SpO2' 'PR' 'PI' ' Exceptions' 'Exception Labels'\n",
      " 'Unnamed: 7' 'Unnamed: 8' 'Unnamed: 9' 'Unnamed: 10' 'Unnamed: 11'\n",
      " 'Unnamed: 12' 'Unnamed: 13' 'Unnamed: 14']\n"
     ]
    }
   ],
   "source": [
    "FMC008 = baby('FMC008',verbose=True)"
   ]
  },
  {
   "cell_type": "code",
   "execution_count": 210,
   "metadata": {},
   "outputs": [
    {
     "name": "stdout",
     "output_type": "stream",
     "text": [
      "2014-03-05\n",
      "['14+AC0-05+AC0-03', '03-05-14', '14-09-03', '14-09-03']\n"
     ]
    }
   ],
   "source": [
    "print(FMC008.date_birth)\n",
    "print(FMC008.measurements_date)"
   ]
  },
  {
   "cell_type": "markdown",
   "metadata": {},
   "source": [
    "\n",
    "\n",
    "# Same plots for the entire population of automatically readable babies"
   ]
  },
  {
   "cell_type": "code",
   "execution_count": null,
   "metadata": {},
   "outputs": [],
   "source": [
    "SpO2 = []\n",
    "PR = []\n",
    "PI = []\n",
    "\n",
    "f_SpO2 = []\n",
    "f_PR = []\n",
    "f_PI = []\n",
    "\n",
    "m_SpO2 = []\n",
    "m_PR = []\n",
    "m_PI = []\n",
    "\n",
    "\n",
    "for obj in list_objects:\n",
    "    for j in range(len(obj.files)):\n",
    "        SpO2.append(obj.measurements_SpO2_median[j])\n",
    "        PR.append(obj.measurements_PR_median[j])\n",
    "        PI.append(obj.measurements_PI_median[j])\n",
    "        \n",
    "        if obj.gender=='Female':\n",
    "            f_SpO2.append(obj.measurements_SpO2_median[j])\n",
    "            f_PR.append(obj.measurements_PR_median[j])\n",
    "            f_PI.append(obj.measurements_PI_median[j])\n",
    "        elif obj.gender=='Male':\n",
    "            m_SpO2.append(obj.measurements_SpO2_median[j])\n",
    "            m_PR.append(obj.measurements_PR_median[j])\n",
    "            m_PI.append(obj.measurements_PI_median[j])\n",
    "        else:\n",
    "            print('Gender not identified: ',obj.gender, 'for baby: ',obj.baby_id)"
   ]
  },
  {
   "cell_type": "code",
   "execution_count": 225,
   "metadata": {},
   "outputs": [
    {
     "name": "stdout",
     "output_type": "stream",
     "text": [
      "Gender not identified:  nan for baby:  Incomp FMC 012\n",
      "Gender not identified:  nan for baby:  Incomp FMC 012\n",
      "Gender not identified:  nan for baby:  Incomp FMC 012\n",
      "Gender not identified:  nan for baby:  Incomp FMC 012\n"
     ]
    }
   ],
   "source": [
    "SpO2 = []\n",
    "PR = []\n",
    "PI = []\n",
    "\n",
    "f_SpO2 = []\n",
    "f_PR = []\n",
    "f_PI = []\n",
    "\n",
    "m_SpO2 = []\n",
    "m_PR = []\n",
    "m_PI = []\n",
    "\n",
    "\n",
    "for obj in list_objects:\n",
    "    for j in range(len(obj.files)):\n",
    "        SpO2.append(obj.measurements_SpO2_median[j])\n",
    "        PR.append(obj.measurements_PR_median[j])\n",
    "        PI.append(obj.measurements_PI_median[j])\n",
    "        \n",
    "        if obj.gender=='Female':\n",
    "            f_SpO2.append(obj.measurements_SpO2_median[j])\n",
    "            f_PR.append(obj.measurements_PR_median[j])\n",
    "            f_PI.append(obj.measurements_PI_median[j])\n",
    "        elif obj.gender=='Male':\n",
    "            m_SpO2.append(obj.measurements_SpO2_median[j])\n",
    "            m_PR.append(obj.measurements_PR_median[j])\n",
    "            m_PI.append(obj.measurements_PI_median[j])\n",
    "        else:\n",
    "            print('Gender not identified: ',obj.gender, 'for baby: ',obj.baby_id)"
   ]
  },
  {
   "cell_type": "code",
   "execution_count": 226,
   "metadata": {},
   "outputs": [
    {
     "data": {
      "image/png": "[encoded data removed]",
      "text/plain": [
       "<Figure size 720x576 with 1 Axes>"
      ]
     },
     "metadata": {},
     "output_type": "display_data"
    }
   ],
   "source": [
    "plt.figure(figsize=(10,8))\n",
    "plt.hist(SpO2,bins=16,range=(85,100)  ,label='All'   ,histtype='step',lw=3,color='C0')\n",
    "plt.axvline(np.mean(SpO2),color='C0',lw=2,ls='dashed')\n",
    "plt.hist(f_SpO2,bins=16,range=(85,100),label='Female',histtype='step',lw=3,color='C1')\n",
    "plt.axvline(np.mean(f_SpO2),color='C1',lw=2,ls='dashed')\n",
    "plt.hist(m_SpO2,bins=16,range=(85,100),label='Male'  ,histtype='step',lw=3,color='C2')\n",
    "plt.axvline(np.mean(m_SpO2),color='C2',lw=2,ls='dashed')\n",
    "plt.title(str(len(SpO2))+' successful measurements')\n",
    "plt.xlabel('median SpO2')\n",
    "plt.ylabel('counts')\n",
    "plt.legend(loc=2)\n",
    "plt.show()"
   ]
  },
  {
   "cell_type": "code",
   "execution_count": 227,
   "metadata": {},
   "outputs": [
    {
     "data": {
      "image/png": "[encoded data removed]",
      "text/plain": [
       "<Figure size 720x576 with 1 Axes>"
      ]
     },
     "metadata": {},
     "output_type": "display_data"
    }
   ],
   "source": [
    "plt.figure(figsize=(10,8))\n",
    "plt.hist(PR,bins=16  ,range=(80,175),label='All'   ,histtype='step',lw=3,color='C0')\n",
    "plt.axvline(np.median(PR),color='C0',lw=2,ls='dashed')\n",
    "plt.hist(f_PR,bins=16,range=(80,175),label='Female',histtype='step',lw=3,color='C1')\n",
    "plt.axvline(np.median(f_PR),color='C1',lw=2,ls='dashed')\n",
    "plt.hist(m_PR,bins=16,range=(80,175),label='Male'  ,histtype='step',lw=3,color='C2')\n",
    "plt.axvline(np.median(m_PR),color='C2',lw=2,ls='dashed')\n",
    "plt.title(str(len(PR))+' successful measurements')\n",
    "plt.xlabel('median PR')\n",
    "plt.ylabel('counts')\n",
    "plt.legend()\n",
    "plt.show()"
   ]
  },
  {
   "cell_type": "code",
   "execution_count": 536,
   "metadata": {},
   "outputs": [
    {
     "name": "stderr",
     "output_type": "stream",
     "text": [
      "/home/giorgio/.local/lib/python3.6/site-packages/numpy/lib/histograms.py:839: RuntimeWarning: invalid value encountered in greater_equal\n",
      "  keep = (tmp_a >= first_edge)\n",
      "/home/giorgio/.local/lib/python3.6/site-packages/numpy/lib/histograms.py:840: RuntimeWarning: invalid value encountered in less_equal\n",
      "  keep &= (tmp_a <= last_edge)\n",
      "/usr/lib/python3/dist-packages/ipykernel_launcher.py:7: RuntimeWarning: invalid value encountered in greater\n",
      "  import sys\n",
      "/home/giorgio/.local/lib/python3.6/site-packages/numpy/lib/histograms.py:839: RuntimeWarning: invalid value encountered in greater_equal\n",
      "  keep = (tmp_a >= first_edge)\n",
      "/home/giorgio/.local/lib/python3.6/site-packages/numpy/lib/histograms.py:840: RuntimeWarning: invalid value encountered in less_equal\n",
      "  keep &= (tmp_a <= last_edge)\n",
      "/usr/lib/python3/dist-packages/ipykernel_launcher.py:9: RuntimeWarning: invalid value encountered in greater\n",
      "  if __name__ == '__main__':\n",
      "/home/giorgio/.local/lib/python3.6/site-packages/numpy/lib/histograms.py:839: RuntimeWarning: invalid value encountered in greater_equal\n",
      "  keep = (tmp_a >= first_edge)\n",
      "/home/giorgio/.local/lib/python3.6/site-packages/numpy/lib/histograms.py:840: RuntimeWarning: invalid value encountered in less_equal\n",
      "  keep &= (tmp_a <= last_edge)\n",
      "/usr/lib/python3/dist-packages/ipykernel_launcher.py:11: RuntimeWarning: invalid value encountered in greater\n",
      "  # This is added back by InteractiveShellApp.init_path()\n"
     ]
    },
    {
     "data": {
      "image/png": "[encoded data removed]",
      "text/plain": [
       "<Figure size 720x576 with 1 Axes>"
      ]
     },
     "metadata": {},
     "output_type": "display_data"
    },
    {
     "name": "stdout",
     "output_type": "stream",
     "text": [
      "1.1\n"
     ]
    },
    {
     "name": "stderr",
     "output_type": "stream",
     "text": [
      "/usr/lib/python3/dist-packages/ipykernel_launcher.py:17: RuntimeWarning: invalid value encountered in greater\n"
     ]
    }
   ],
   "source": [
    "PI = np.array(PI)\n",
    "f_PI = np.array(f_PI)\n",
    "m_PI = np.array(m_PI)\n",
    "\n",
    "plt.figure(figsize=(10,8))\n",
    "plt.hist(PI,bins=16  ,range=(0,2.5),label='All'   ,histtype='step',lw=3,color='C0')\n",
    "plt.axvline(np.median(PI[PI>0.]),color='C0',lw=2,ls='dashed')\n",
    "plt.hist(f_PI,bins=16,range=(0,2.5),label='Female',histtype='step',lw=3,color='C1')\n",
    "plt.axvline(np.median(f_PI[f_PI>0.]),color='C1',lw=2,ls='dashed')\n",
    "plt.hist(m_PI,bins=16,range=(0,2.5),label='Male'  ,histtype='step',lw=3,color='C2')\n",
    "plt.axvline(np.median(m_PI[m_PI>0.]),color='C2',lw=2,ls='dashed')\n",
    "plt.title(str(len(PI))+' successful measurements')\n",
    "plt.xlabel('median PI')\n",
    "plt.ylabel('counts')\n",
    "plt.legend()\n",
    "plt.show()\n",
    "print(np.median(PI[PI>0]))"
   ]
  },
  {
   "cell_type": "code",
   "execution_count": null,
   "metadata": {},
   "outputs": [],
   "source": []
  },
  {
   "cell_type": "markdown",
   "metadata": {},
   "source": [
    "# Split babies in Days according to the file name"
   ]
  },
  {
   "cell_type": "code",
   "execution_count": 537,
   "metadata": {},
   "outputs": [
    {
     "name": "stdout",
     "output_type": "stream",
     "text": [
      "325\n",
      "325\n"
     ]
    }
   ],
   "source": [
    "#FMC001.measurements[0]['SpO2'].notna()[FMC001.measurements[0]['SpO2'].notna()]\n",
    "print(len(FMC007.measurements[0]['SpO2'].dropna()))\n",
    "print(len(FMC007.measurements[0]['SpO2']))"
   ]
  },
  {
   "cell_type": "code",
   "execution_count": 538,
   "metadata": {},
   "outputs": [],
   "source": [
    "ALL_BABIES = []\n",
    "for i in range(len(master)):\n",
    "    try:\n",
    "        ALL_BABIES.append(baby(master['Study Number (Original)'][i]))\n",
    "    except:\n",
    "        pass\n",
    "# Or, if you have already list_objects, it's the same\n",
    "#ALL_BABIES = list_objects"
   ]
  },
  {
   "cell_type": "code",
   "execution_count": 539,
   "metadata": {},
   "outputs": [
    {
     "name": "stdout",
     "output_type": "stream",
     "text": [
      "260\n"
     ]
    }
   ],
   "source": [
    "print(len(ALL_BABIES))"
   ]
  },
  {
   "cell_type": "code",
   "execution_count": 540,
   "metadata": {},
   "outputs": [
    {
     "name": "stdout",
     "output_type": "stream",
     "text": [
      "Number of recordings in Day1:  492    492\n",
      "Number of recordings in Day2:  65    65\n",
      "Number of recordings in Day3:  75    75\n",
      "Number of recordings in Day4:  63    63\n",
      "Number of recordings in Day5:  50    50\n",
      "Number of recordings in Day6:  6    6\n",
      "Number of recordings in Day7:  0    0\n",
      "Number of recordings in Day8:  2    2\n",
      "Total number of recordings:    753\n"
     ]
    }
   ],
   "source": [
    "DAY1 = 0\n",
    "DAY2 = 0\n",
    "DAY3 = 0\n",
    "DAY4 = 0\n",
    "DAY5 = 0\n",
    "DAY6 = 0\n",
    "DAY7 = 0\n",
    "DAY8 = 0\n",
    "\n",
    "#I shouldn't append the baby but just the measurements\n",
    "REC_DAY1 = []\n",
    "REC_DAY2 = []\n",
    "REC_DAY3 = []\n",
    "REC_DAY4 = []\n",
    "REC_DAY5 = []\n",
    "REC_DAY6 = []\n",
    "REC_DAY7 = []\n",
    "REC_DAY8 = []\n",
    "\n",
    "for i in range(len(ALL_BABIES)):\n",
    "    for j in range(len(ALL_BABIES[i].files)):\n",
    "        filename = ALL_BABIES[i].files[j].split('/')[-1]\n",
    "        if \"Day1\" in filename:\n",
    "            DAY1 = DAY1+1\n",
    "            REC_DAY1.append((ALL_BABIES[i].measurements[j],ALL_BABIES[i].gender,ALL_BABIES[i].baby_id))\n",
    "        elif \"Day2\" in filename:\n",
    "            DAY2 = DAY2+1\n",
    "            REC_DAY2.append((ALL_BABIES[i].measurements[j],ALL_BABIES[i].gender,ALL_BABIES[i].baby_id))\n",
    "        elif \"Day3\" in filename:\n",
    "            DAY3 = DAY3+1\n",
    "            REC_DAY3.append((ALL_BABIES[i].measurements[j],ALL_BABIES[i].gender,ALL_BABIES[i].baby_id))\n",
    "        elif \"Day4\" in filename:\n",
    "            DAY4 = DAY4+1\n",
    "            REC_DAY4.append((ALL_BABIES[i].measurements[j],ALL_BABIES[i].gender,ALL_BABIES[i].baby_id))\n",
    "        elif \"Day5\" in filename:\n",
    "            DAY5 = DAY5+1\n",
    "            REC_DAY5.append((ALL_BABIES[i].measurements[j],ALL_BABIES[i].gender,ALL_BABIES[i].baby_id))\n",
    "        elif \"Day6\" in filename:\n",
    "            DAY6 = DAY6+1\n",
    "            REC_DAY6.append((ALL_BABIES[i].measurements[j],ALL_BABIES[i].gender,ALL_BABIES[i].baby_id))\n",
    "        elif \"Day7\" in filename:\n",
    "            DAY7 = DAY7+1\n",
    "            REC_DAY7.append((ALL_BABIES[i].measurements[j],ALL_BABIES[i].gender,ALL_BABIES[i].baby_id))\n",
    "        elif \"Day8\" in filename:\n",
    "            DAY8 = DAY8+1\n",
    "            REC_DAY8.append((ALL_BABIES[i].measurements[j],ALL_BABIES[i].gender,ALL_BABIES[i].baby_id))\n",
    "            \n",
    "            \n",
    "print('Number of recordings in Day1: ',DAY1, '  ' , len(REC_DAY1))\n",
    "print('Number of recordings in Day2: ',DAY2, '  ' , len(REC_DAY2))\n",
    "print('Number of recordings in Day3: ',DAY3, '  ' , len(REC_DAY3))\n",
    "print('Number of recordings in Day4: ',DAY4, '  ' , len(REC_DAY4))\n",
    "print('Number of recordings in Day5: ',DAY5, '  ' , len(REC_DAY5))\n",
    "print('Number of recordings in Day6: ',DAY6, '  ' , len(REC_DAY6))\n",
    "print('Number of recordings in Day7: ',DAY7, '  ' , len(REC_DAY7))\n",
    "print('Number of recordings in Day8: ',DAY8, '  ' , len(REC_DAY8))\n",
    "TOT = DAY1+DAY2+DAY3+DAY4+DAY5+DAY6+DAY7+DAY8\n",
    "print('Total number of recordings:   ',TOT)"
   ]
  },
  {
   "cell_type": "code",
   "execution_count": 560,
   "metadata": {},
   "outputs": [],
   "source": [
    "d1_spo2=[]\n",
    "d1_f_spo2=[]\n",
    "d1_m_spo2=[]\n",
    "\n",
    "d1_PR=[]\n",
    "d1_f_PR=[]\n",
    "d1_m_PR=[]\n",
    "\n",
    "d1_PI=[]\n",
    "d1_f_PI=[]\n",
    "d1_m_PI=[]\n",
    "\n",
    "\n",
    "for rec in REC_DAY3:\n",
    "    d1_spo2.append(np.median(rec[0]['SpO2'].dropna()))\n",
    "    d1_PR.append(np.median(rec[0]['PR'].dropna()))\n",
    "    try:\n",
    "        d1_PI.append(np.median(rec[0]['PI'].dropna()))\n",
    "    except:\n",
    "        d1_PI.append(np.nan)\n",
    "    \n",
    "    if rec[1] == 'Female':\n",
    "        d1_f_spo2.append(np.median(rec[0]['SpO2'].dropna()))\n",
    "        d1_f_PR.append(np.median(rec[0]['PR'].dropna()))\n",
    "        try:\n",
    "            d1_f_PI.append(np.median(rec[0]['PI'].dropna()))\n",
    "        except:\n",
    "            d1_PI.append(np.nan)\n",
    "        \n",
    "    elif rec[1] == 'Male':\n",
    "        d1_m_spo2.append(np.median(rec[0]['SpO2'].dropna()))\n",
    "        d1_m_PR.append(np.median(rec[0]['PR'].dropna()))\n",
    "        try:\n",
    "            d1_m_PI.append(np.median(rec[0]['PI'].dropna()))\n",
    "        except:\n",
    "            d1_m_PI.append(np.nan)\n",
    "    else:\n",
    "        print(\"Not specified gender for baby:\", rec[2])\n"
   ]
  },
  {
   "cell_type": "code",
   "execution_count": 542,
   "metadata": {},
   "outputs": [
    {
     "data": {
      "image/png": "[encoded data removed]",
      "text/plain": [
       "<Figure size 720x576 with 1 Axes>"
      ]
     },
     "metadata": {},
     "output_type": "display_data"
    },
    {
     "name": "stdout",
     "output_type": "stream",
     "text": [
      "490\n"
     ]
    }
   ],
   "source": [
    "plt.figure(figsize=(10,8))\n",
    "plt.hist(d1_spo2,range=(79,100),  bins=20  ,histtype='step',lw=3,density=False,color='C0',label='all')\n",
    "plt.hist(d1_f_spo2,range=(79,100),bins=20,histtype='step',lw=3,density=False,color='C1',label='female')\n",
    "plt.hist(d1_m_spo2,range=(79,100),bins=20,histtype='step',lw=3,density=False,color='C2',label='male')\n",
    "plt.axvline(np.median(d1_spo2),color='C0')\n",
    "plt.axvline(np.median(d1_f_spo2),color='C1')\n",
    "plt.axvline(np.median(d1_m_spo2),color='C2')\n",
    "plt.xlabel('SpO2')\n",
    "plt.ylabel('counts')\n",
    "plt.title('Day1: number of measurements: '+str(len(d1_spo2)))\n",
    "plt.legend()\n",
    "plt.show()\n",
    "print(len(d1_f_spo2)+len(d1_m_spo2))"
   ]
  },
  {
   "cell_type": "code",
   "execution_count": 543,
   "metadata": {},
   "outputs": [
    {
     "data": {
      "image/png": "[encoded data removed]",
      "text/plain": [
       "<Figure size 720x576 with 1 Axes>"
      ]
     },
     "metadata": {},
     "output_type": "display_data"
    },
    {
     "name": "stdout",
     "output_type": "stream",
     "text": [
      "490\n"
     ]
    }
   ],
   "source": [
    "plt.figure(figsize=(10,8))\n",
    "plt.hist(d1_PR,  bins=20  ,range=(75,175),histtype='step',lw=3,density=False,color='C0',label='all')\n",
    "plt.hist(d1_f_PR,bins=20  ,range=(75,175),histtype='step',lw=3,density=False,color='C1',label='female')\n",
    "plt.hist(d1_m_PR,bins=20  ,range=(75,175),histtype='step',lw=3,density=False,color='C2',label='male')\n",
    "plt.axvline(np.median(d1_PR),color='C0')\n",
    "plt.axvline(np.median(d1_f_PR),color='C1')\n",
    "plt.axvline(np.median(d1_m_PR),color='C2')\n",
    "plt.xlabel('PR')\n",
    "plt.ylabel('counts')\n",
    "plt.title('Day1: number of measurements: '+str(len(d1_PR)))\n",
    "plt.legend()\n",
    "plt.show()\n",
    "print(len(d1_f_PR)+len(d1_m_PR))"
   ]
  },
  {
   "cell_type": "code",
   "execution_count": 561,
   "metadata": {},
   "outputs": [
    {
     "data": {
      "image/png": "[encoded data removed]",
      "text/plain": [
       "<Figure size 720x576 with 1 Axes>"
      ]
     },
     "metadata": {},
     "output_type": "display_data"
    },
    {
     "name": "stdout",
     "output_type": "stream",
     "text": [
      "75\n"
     ]
    }
   ],
   "source": [
    "d1_PI   = np.array(d1_PI)\n",
    "d1_f_PI = np.array(d1_f_PI)\n",
    "d1_m_PI = np.array(d1_m_PI)\n",
    "\n",
    "d1_PI   = d1_PI  [np.where((d1_PI   >0.)&(d1_PI   <7000.))]\n",
    "d1_f_PI = d1_f_PI[np.where((d1_f_PI >0.)&(d1_f_PI <7000.))]\n",
    "d1_m_PI = d1_m_PI[np.where((d1_m_PI >0.)&(d1_m_PI <7000.))]\n",
    "\n",
    "\n",
    "plt.figure(figsize=(10,8))\n",
    "plt.hist(d1_PI,  bins=20  ,histtype='step',lw=3,density=False,color='C0',label='all')\n",
    "plt.hist(d1_f_PI,bins=20  ,histtype='step',lw=3,density=False,color='C1',label='female')\n",
    "plt.hist(d1_m_PI,bins=20  ,histtype='step',lw=3,density=False,color='C2',label='male')\n",
    "plt.axvline(np.median(d1_PI),color='C0')\n",
    "plt.axvline(np.median(d1_f_PI),color='C1')\n",
    "plt.axvline(np.median(d1_m_PI),color='C2')\n",
    "plt.xlabel('PI')\n",
    "plt.ylabel('counts')\n",
    "plt.title('Day3: number of measurements: '+str(len(d1_PI)))\n",
    "plt.legend()\n",
    "plt.show()\n",
    "print(len(d1_f_PI)+len(d1_m_PI))"
   ]
  },
  {
   "cell_type": "code",
   "execution_count": 478,
   "metadata": {},
   "outputs": [
    {
     "data": {
      "text/plain": [
       "str"
      ]
     },
     "execution_count": 478,
     "metadata": {},
     "output_type": "execute_result"
    }
   ],
   "source": [
    "type('ciao')"
   ]
  },
  {
   "cell_type": "code",
   "execution_count": 479,
   "metadata": {},
   "outputs": [],
   "source": [
    "for baby in ALL_BABIES:\n",
    "    for j in range(len(baby.files)):\n",
    "        if np.median((baby.measurements[j]['PR']).dropna()) >300.:\n",
    "            #np.median(rec[0]['SpO2'].dropna())\n",
    "            print(baby.baby_id)"
   ]
  },
  {
   "cell_type": "code",
   "execution_count": 480,
   "metadata": {},
   "outputs": [
    {
     "name": "stderr",
     "output_type": "stream",
     "text": [
      "/home/giorgio/.local/lib/python3.6/site-packages/numpy/core/fromnumeric.py:3335: RuntimeWarning: Mean of empty slice.\n",
      "  out=out, **kwargs)\n",
      "/home/giorgio/.local/lib/python3.6/site-packages/numpy/core/_methods.py:161: RuntimeWarning: invalid value encountered in double_scalars\n",
      "  ret = ret.dtype.type(ret / rcount)\n"
     ]
    }
   ],
   "source": [
    "for r in REC_DAY1:\n",
    "    try: \n",
    "        if np.median(r[0]['PI'].dropna())>300:\n",
    "            print(r[2],np.median(r[0]['PI'].dropna()))\n",
    "    except:\n",
    "        print(r[2],r[0]['PI'][0])"
   ]
  },
  {
   "cell_type": "markdown",
   "metadata": {},
   "source": [
    "# Some correlations"
   ]
  },
  {
   "cell_type": "code",
   "execution_count": 297,
   "metadata": {},
   "outputs": [
    {
     "name": "stderr",
     "output_type": "stream",
     "text": [
      "/usr/lib/python3/dist-packages/ipykernel_launcher.py:4: RuntimeWarning: invalid value encountered in less\n",
      "  after removing the cwd from sys.path.\n"
     ]
    },
    {
     "data": {
      "image/png": "[encoded data removed]",
      "text/plain": [
       "<Figure size 432x288 with 1 Axes>"
      ]
     },
     "metadata": {},
     "output_type": "display_data"
    }
   ],
   "source": [
    "SpO2 = np.array(SpO2)\n",
    "PI = np.array(PI)\n",
    "PR = np.array(PR)\n",
    "sel = np.where((SpO2>60)&(PI<100))\n",
    "plt.plot(SpO2[sel],PI[sel],\".\")\n",
    "plt.xlim(85,100)\n",
    "plt.ylim(0,3)\n",
    "plt.xlabel('SpO2')\n",
    "plt.ylabel('PI')\n",
    "plt.show()"
   ]
  },
  {
   "cell_type": "code",
   "execution_count": 298,
   "metadata": {},
   "outputs": [
    {
     "data": {
      "image/png": "[encoded data removed]",
      "text/plain": [
       "<Figure size 432x288 with 1 Axes>"
      ]
     },
     "metadata": {},
     "output_type": "display_data"
    }
   ],
   "source": [
    "plt.plot(SpO2[sel],PR[sel],\".\")\n",
    "plt.xlim(85,100)\n",
    "#plt.ylim(0,3)\n",
    "plt.xlabel('SpO2')\n",
    "plt.ylabel('PR')\n",
    "plt.show()"
   ]
  },
  {
   "cell_type": "code",
   "execution_count": 299,
   "metadata": {},
   "outputs": [
    {
     "data": {
      "image/png": "[encoded data removed]",
      "text/plain": [
       "<Figure size 432x288 with 1 Axes>"
      ]
     },
     "metadata": {},
     "output_type": "display_data"
    }
   ],
   "source": [
    "plt.plot(PI[sel],PR[sel],\".\")\n",
    "plt.xlim(0,2.5)\n",
    "#plt.ylim(0,3)\n",
    "plt.xlabel('PI')\n",
    "plt.ylabel('PR')\n",
    "plt.show()"
   ]
  },
  {
   "cell_type": "markdown",
   "metadata": {},
   "source": [
    "# Testing the day format (and change it to the most likely)"
   ]
  },
  {
   "cell_type": "code",
   "execution_count": 272,
   "metadata": {},
   "outputs": [
    {
     "data": {
      "text/plain": [
       "'14-07-03'"
      ]
     },
     "execution_count": 272,
     "metadata": {},
     "output_type": "execute_result"
    }
   ],
   "source": [
    "FMC005.measurements[3]['Date'][0]"
   ]
  },
  {
   "cell_type": "code",
   "execution_count": 273,
   "metadata": {},
   "outputs": [
    {
     "data": {
      "text/plain": [
       "'FMC005'"
      ]
     },
     "execution_count": 273,
     "metadata": {},
     "output_type": "execute_result"
    }
   ],
   "source": [
    "FMC005.baby_id"
   ]
  },
  {
   "cell_type": "code",
   "execution_count": 313,
   "metadata": {},
   "outputs": [
    {
     "data": {
      "text/plain": [
       "'03-05-14'"
      ]
     },
     "execution_count": 313,
     "metadata": {},
     "output_type": "execute_result"
    }
   ],
   "source": [
    "baby5 = baby('FMC005')\n",
    "\n",
    "baby5.measurements[0]['Date'][0]"
   ]
  },
  {
   "cell_type": "code",
   "execution_count": 325,
   "metadata": {},
   "outputs": [
    {
     "data": {
      "text/plain": [
       "'14'"
      ]
     },
     "execution_count": 325,
     "metadata": {},
     "output_type": "execute_result"
    }
   ],
   "source": [
    "str(baby5.measurements[0]['Date'][0][-2:]).split('-')[0]"
   ]
  },
  {
   "cell_type": "code",
   "execution_count": 353,
   "metadata": {},
   "outputs": [],
   "source": [
    "y = []\n",
    "i = 0\n",
    "counts_US = 0\n",
    "counts_UK = 0\n",
    "\n",
    "for o in list_objects_fairly_good:\n",
    "    y1 = int(str(o.measurements[0]['Date'][0])[-2:])\n",
    "    y2 = int(str(o.measurements[0]['Date'][0])[0:2])\n",
    "    if y1 != 14:\n",
    "        counts_US = counts_US+1\n",
    "        y.append(y2)\n",
    "    else:\n",
    "        counts_UK = counts_UK +1\n",
    "        y.append(y1)\n",
    "    \n",
    "    #y.append(y2)\n",
    "    \n",
    "    "
   ]
  },
  {
   "cell_type": "code",
   "execution_count": 354,
   "metadata": {},
   "outputs": [
    {
     "name": "stdout",
     "output_type": "stream",
     "text": [
      "183\n",
      "63\n"
     ]
    }
   ],
   "source": [
    "print(counts_UK)\n",
    "print(counts_US)"
   ]
  },
  {
   "cell_type": "code",
   "execution_count": 350,
   "metadata": {},
   "outputs": [
    {
     "data": {
      "text/plain": [
       "(array([  0.,   2.,   0.,   0.,   0.,   0.,   0.,   0.,   0.,   0.,   0.,\n",
       "          0.,   0.,   0., 244.]),\n",
       " array([ 0.        ,  0.93333333,  1.86666667,  2.8       ,  3.73333333,\n",
       "         4.66666667,  5.6       ,  6.53333333,  7.46666667,  8.4       ,\n",
       "         9.33333333, 10.26666667, 11.2       , 12.13333333, 13.06666667,\n",
       "        14.        ]),\n",
       " <a list of 15 Patch objects>)"
      ]
     },
     "execution_count": 350,
     "metadata": {},
     "output_type": "execute_result"
    },
    {
     "data": {
      "image/png": "[encoded data removed]",
      "text/plain": [
       "<Figure size 432x288 with 1 Axes>"
      ]
     },
     "metadata": {},
     "output_type": "display_data"
    }
   ],
   "source": [
    "plt.hist(y,range=(0,14),bins=15)"
   ]
  },
  {
   "cell_type": "code",
   "execution_count": 290,
   "metadata": {},
   "outputs": [
    {
     "name": "stderr",
     "output_type": "stream",
     "text": [
      "/home/giorgio/.local/lib/python3.6/site-packages/numpy/core/fromnumeric.py:3335: RuntimeWarning: Mean of empty slice.\n",
      "  out=out, **kwargs)\n",
      "/home/giorgio/.local/lib/python3.6/site-packages/numpy/core/_methods.py:161: RuntimeWarning: invalid value encountered in double_scalars\n",
      "  ret = ret.dtype.type(ret / rcount)\n"
     ]
    },
    {
     "data": {
      "text/plain": [
       "nan"
      ]
     },
     "execution_count": 290,
     "metadata": {},
     "output_type": "execute_result"
    }
   ],
   "source": [
    "np.median([])"
   ]
  },
  {
   "cell_type": "code",
   "execution_count": 27,
   "metadata": {},
   "outputs": [
    {
     "name": "stdout",
     "output_type": "stream",
     "text": [
      "The original name of the baby case is:  FMC058\n",
      "Reading file:  /home/giorgio/Desktop/NHS/TOST_data/TOST FMC Data Groomed/G_FMC_PHN_058/G_FMC058_Day1_Rt Foot.csv\n",
      "Reading file:  /home/giorgio/Desktop/NHS/TOST_data/TOST FMC Data Groomed/G_FMC_PHN_058/G_PHN_FMC058_Day4_Lt Foot.csv\n",
      "Reading file:  /home/giorgio/Desktop/NHS/TOST_data/TOST FMC Data Groomed/G_FMC_PHN_058/G_PHN_FMC058_Day4_Rt wrist.csv\n",
      "['Date' 'Time' 'SpO2' 'PR' 'PI' ' Exceptions' 'Exception Labels'\n",
      " 'Unnamed: 7']\n",
      "['Date' 'Time' 'SpO2' 'PR' 'PI' ' Exceptions' 'Exception Labels'\n",
      " 'Unnamed: 7' 'Unnamed: 8' 'Unnamed: 9' 'Unnamed: 10' 'Unnamed: 11'\n",
      " 'Unnamed: 12' 'Unnamed: 13' 'Unnamed: 14']\n",
      "['Date' 'Time' 'SpO2' 'PR' 'PI' ' Exceptions' 'Exception Labels'\n",
      " 'Unnamed: 7' 'Unnamed: 8' 'Unnamed: 9' 'Unnamed: 10' 'Unnamed: 11'\n",
      " 'Unnamed: 12' 'Unnamed: 13' 'Unnamed: 14']\n"
     ]
    }
   ],
   "source": [
    "b = baby('fmc058',verbose=True)"
   ]
  },
  {
   "cell_type": "code",
   "execution_count": 689,
   "metadata": {},
   "outputs": [
    {
     "data": {
      "text/plain": [
       "'/home/giorgio/Desktop/NHS/TOST_data/TOST RGH Data Groomed/G_RGH 041/'"
      ]
     },
     "execution_count": 689,
     "metadata": {},
     "output_type": "execute_result"
    }
   ],
   "source": [
    "get_folder_for_baby('rgh041',whole_path=True)"
   ]
  },
  {
   "cell_type": "code",
   "execution_count": 653,
   "metadata": {},
   "outputs": [
    {
     "data": {
      "text/plain": [
       "'RGH041'"
      ]
     },
     "execution_count": 653,
     "metadata": {},
     "output_type": "execute_result"
    }
   ],
   "source": [
    "'rgh041'.upper()"
   ]
  },
  {
   "cell_type": "code",
   "execution_count": 724,
   "metadata": {},
   "outputs": [
    {
     "data": {
      "text/plain": [
       "array(['Date', 'Time', 'SpO2', 'PR', 'PI'], dtype=object)"
      ]
     },
     "execution_count": 724,
     "metadata": {},
     "output_type": "execute_result"
    }
   ],
   "source": [
    "FMC001.measurements[0].columns.values"
   ]
  },
  {
   "cell_type": "code",
   "execution_count": null,
   "metadata": {},
   "outputs": [],
   "source": []
  },
  {
   "cell_type": "code",
   "execution_count": 734,
   "metadata": {},
   "outputs": [
    {
     "data": {
      "text/plain": [
       "93.0"
      ]
     },
     "execution_count": 734,
     "metadata": {},
     "output_type": "execute_result"
    }
   ],
   "source": [
    "d = pd.read_csv('/home/giorgio/Desktop/NHS/TOST_data/TOST FMC Data Groomed/G_FMC_PHN_057/G_PHN_FMC057_Day5_Rt wrist.csv')\n",
    "d.columns.values\n",
    "\n",
    "np.median(d['SpO2'].dropna())"
   ]
  },
  {
   "cell_type": "code",
   "execution_count": null,
   "metadata": {},
   "outputs": [],
   "source": []
  }
 ],
 "metadata": {
  "kernelspec": {
   "display_name": "Python 3",
   "language": "python",
   "name": "python3"
  },
  "language_info": {
   "codemirror_mode": {
    "name": "ipython",
    "version": 3
   },
   "file_extension": ".py",
   "mimetype": "text/x-python",
   "name": "python",
   "nbconvert_exporter": "python",
   "pygments_lexer": "ipython3",
   "version": "3.6.9"
  }
 },
 "nbformat": 4,
 "nbformat_minor": 2
}
