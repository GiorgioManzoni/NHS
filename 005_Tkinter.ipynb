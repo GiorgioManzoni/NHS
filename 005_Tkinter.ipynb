{
 "cells": [
  {
   "cell_type": "code",
   "execution_count": 55,
   "metadata": {},
   "outputs": [],
   "source": [
    "from tkinter import *\n",
    "import matplotlib.pyplot as plt\n",
    "#bigger fonts\n",
    "import matplotlib\n",
    "matplotlib.rc('xtick', labelsize=15) \n",
    "matplotlib.rc('ytick', labelsize=15)\n",
    "matplotlib.rcParams.update({'font.size': 20})\n",
    "\n",
    "matplotlib.use(\"TkAgg\")\n",
    "\n",
    "import sys\n",
    "sys.modules.pop('CLASS_BABY')\n",
    "from CLASS_BABY import *"
   ]
  },
  {
   "cell_type": "code",
   "execution_count": 56,
   "metadata": {},
   "outputs": [],
   "source": [
    "b = baby('FMC003')"
   ]
  },
  {
   "cell_type": "code",
   "execution_count": 57,
   "metadata": {},
   "outputs": [
    {
     "name": "stdout",
     "output_type": "stream",
     "text": [
      "454.0\n",
      "286.0\n"
     ]
    }
   ],
   "source": [
    "# Example \n",
    "# static bradycardia\n",
    "print(b.measurements_bradycardia_sec_pr[0][0]) # [i][j] i= select the measurements j= select the threshold\n",
    "# dynamic bradycardia has only one index \n",
    "print(b.measurements_bradycardia_sec_pr_dynamic[0])"
   ]
  },
  {
   "cell_type": "code",
   "execution_count": 64,
   "metadata": {},
   "outputs": [],
   "source": [
    "def clicked():\n",
    "    \n",
    "    if txt.get()=='':\n",
    "        messagebox.showinfo(\"WARNING!!!\",'First insert the name of the baby!')\n",
    "    else:\n",
    "        b = baby(txt.get())\n",
    "        if \"INCOM\" in (b.original_name).upper():\n",
    "            messagebox.showinfo('INCOMPLETE DATA','We discorage to use this case study as data are incomplete!')\n",
    "\n",
    "        info_string = 'Info for the baby: '+str(b.original_name)+'\\n'\n",
    "        info_string += '#################################\\n'\n",
    "        info_string += 'Birth: '+str(b.birth)+'\\n'\n",
    "        info_string += 'Gender: '+str(b.gender)+'\\n'\n",
    "        info_string += 'Weight: '+str(b.weight_grams)+' [grams]\\n'\n",
    "        info_string += 'Gestational age: '+str(b.gestational_age_days)+' [days] ('+str(round(b.gestational_age_days/7.,2))+' weeks)\\n'\n",
    "        info_string += 'Delivery: '+str(b.delivery)+'\\n'\n",
    "        info_string += 'Mean PR: '+str(round(b.measurements_PR_mean[0],2))+' +- '+str(round(b.measurements_PR_std[0],2))+'\\n'\n",
    "        info_string += 'Median PR: '+str(round(b.measurements_PR_median[0],2))+' +- '+str(round(b.measurements_PR_std[0],2))+'\\n'\n",
    "        info_string += 'Bradycadia time ( < %i ): '%b.pr_threshold +str(round(b.measurements_bradycardia_sec_pr[0][0],2))+'\\n'\n",
    "        info_string += 'Bradycadia time ratio( < %i ): '%b.pr_threshold +str(round(b.measurements_bradycardia_ratio_pr[0][0],2))+'\\n'\n",
    "        info_string += 'Bradycadia time ratio dynamic: '+str(round(b.measurements_bradycardia_ratio_pr_dynamic[0],4))+'\\n'\n",
    "\n",
    "        \n",
    "        lbl_1 = Label(window,text=info_string,font=(\"Arial\", 12))\n",
    "        lbl_1.grid(column=0,row=5)\n",
    "\n",
    "\n",
    "def clicked_pr():    \n",
    "    if txt.get()=='':\n",
    "        messagebox.showinfo(\"WARNING!!!\",'First insert the name of the baby!')\n",
    "    else:\n",
    "        b = baby(txt.get())\n",
    "        if \"INCOM\" in (b.original_name).upper():\n",
    "            messagebox.showinfo('INCOMPLETE DATA','We discorage to use this case study as data are incomplete!')\n",
    "   \n",
    "        b.measurements_delta_sec_since_birth[0]\n",
    "        t_sec = np.zeros(len(b.measurements[0]['PR']))\n",
    "        t_sec[0] = b.measurements_delta_sec_since_birth[0]\n",
    "        #measurements are every 2 seconds\n",
    "        for i in range(1,len(t_sec)):\n",
    "            t_sec[i] = t_sec[i-1]+2\n",
    "        \n",
    "            \n",
    "        plt.figure(figsize=(10,8))\n",
    "        plt.plot(t_sec/60./60.,b.measurements[0]['PR'])\n",
    "        #plt.axhline(b.pr_threshold,ls='dashed')\n",
    "        plt.axhline(b.measurements_PR_median[0],color='k',label='median %.2f'%b.measurements_PR_median[0])\n",
    "        plt.axhline(b.measurements_PR_mean[0],color='k',ls='dashed',label='mean %.2f'%b.measurements_PR_mean[0])\n",
    "\n",
    "        plt.xlabel('time since birth [hours]')\n",
    "        plt.ylabel('PR')\n",
    "        plt.title('Baby = '+str(b.baby_id))\n",
    "        plt.legend()\n",
    "        plt.show()\n",
    "        \n",
    "def clicked_spo2():    \n",
    "    if txt.get()=='':\n",
    "        messagebox.showinfo(\"WARNING!!!\",'First insert the name of the baby!')\n",
    "    else:\n",
    "        b = baby(txt.get())\n",
    "        if \"INCOM\" in (b.original_name).upper():\n",
    "            messagebox.showinfo('INCOMPLETE DATA','We discorage to use this case study as data are incomplete!')\n",
    "   \n",
    "        b.measurements_delta_sec_since_birth[0]\n",
    "        t_sec = np.zeros(len(b.measurements[0]['SpO2']))\n",
    "        t_sec[0] = b.measurements_delta_sec_since_birth[0]\n",
    "        #measurements are every 2 seconds\n",
    "        for i in range(1,len(t_sec)):\n",
    "            t_sec[i] = t_sec[i-1]+2\n",
    "        \n",
    "            \n",
    "        plt.figure(figsize=(10,8))\n",
    "        plt.plot(t_sec/60./60.,b.measurements[0]['SpO2'])\n",
    "        #plt.axhline(b.pr_threshold,ls='dashed')\n",
    "        plt.axhline(b.measurements_SpO2_median[0],color='k',label='median %.2f'%b.measurements_SpO2_median[0])\n",
    "        plt.axhline(b.measurements_SpO2_mean[0],color='k',ls='dashed',label='mean %.2f'%b.measurements_SpO2_mean[0])        \n",
    "        plt.xlabel('time since birth [hours]')\n",
    "        plt.ylabel('SpO2')\n",
    "        plt.title('Baby = '+str(b.baby_id))\n",
    "        plt.legend()\n",
    "        plt.show()\n",
    "        \n",
    "def clicked_pi():    \n",
    "    if txt.get()=='':\n",
    "        messagebox.showinfo(\"WARNING!!!\",'First insert the name of the baby!')\n",
    "    else:\n",
    "        b = baby(txt.get())\n",
    "        if \"INCOM\" in (b.original_name).upper():\n",
    "            messagebox.showinfo('INCOMPLETE DATA','We discorage to use this case study as data are incomplete!')\n",
    "   \n",
    "        b.measurements_delta_sec_since_birth[0]\n",
    "        t_sec = np.zeros(len(b.measurements[0]['PI']))\n",
    "        t_sec[0] = b.measurements_delta_sec_since_birth[0]\n",
    "        #measurements are every 2 seconds\n",
    "        for i in range(1,len(t_sec)):\n",
    "            t_sec[i] = t_sec[i-1]+2\n",
    "        \n",
    "            \n",
    "        plt.figure(figsize=(10,8))\n",
    "        plt.plot(t_sec/60./60.,b.measurements[0]['PI'])\n",
    "        #plt.axhline(b.pr_threshold,ls='dashed')\n",
    "        plt.axhline(b.measurements_PI_median[0],color='k',label='median %.2f'%b.measurements_PI_median[0])\n",
    "        plt.axhline(b.measurements_PI_mean[0],color='k',ls='dashed',label='mean %.2f'%b.measurements_PI_mean[0])\n",
    "        plt.xlabel('time since birth [hours]')\n",
    "        plt.ylabel('PI')\n",
    "        plt.title('Baby = '+str(b.baby_id))\n",
    "        plt.legend()\n",
    "        plt.show()\n",
    "        \n",
    "        \n",
    "def clicked_2():\n",
    "    if txt.get()=='':\n",
    "        messagebox.showinfo(\"WARNING!!!\",'First insert the name of the baby!')\n",
    "    else:\n",
    "        b = baby(txt.get())\n",
    "        if \"INCOM\" in (b.original_name).upper():\n",
    "            messagebox.showinfo('INCOMPLETE DATA','We discorage to use this case study as data are incomplete!')\n",
    "        if b.has_been_PHN:\n",
    "            prw = []\n",
    "            dtw = []\n",
    "            prf = []\n",
    "            dtf = []\n",
    "            for i in range(len(b.files)):\n",
    "                if b.measurements_wrist[i]:\n",
    "                    prw.append(b.measurements_PR_median[i])\n",
    "                    dtw.append(b.measurements_delta_sec_since_birth[i]/60./60.)\n",
    "                    \n",
    "                    #plt.plot(b.measurements_delta_sec_since_birth[i]/60./60.,b.measurements_PR_median[i],\"r.\",markersize=10)\n",
    "                    #plt.plot(b.measurements_delta_sec_since_birth[i]/60/60.,b.measurements_PR_median[i],color=\"r\",label='wrist')\n",
    "                else:\n",
    "                    prf.append(b.measurements_PR_median[i])\n",
    "                    dtf.append(b.measurements_delta_sec_since_birth[i]/60./60.)\n",
    "                    \n",
    "                    #plt.plot(b.measurements_delta_sec_since_birth[i]/60./60.,b.measurements_PR_median[i],\"b.\",markersize=10)\n",
    "                    #plt.plot(b.measurements_delta_sec_since_birth[i]/60/60.,b.measurements_PR_median[i],color=\"b\",label='foot')\n",
    "            \n",
    "            plt.figure(figsize=(10,8))\n",
    "            plt.title(b.baby_id)\n",
    "            plt.plot(dtw,prw,\"r.\",markersize=10,label='wrist')\n",
    "            plt.plot(dtw,prw,color=\"r\")                \n",
    "            plt.plot(dtf,prf,\"b.\",markersize=10,label='foot')\n",
    "            plt.plot(dtf,prf,color=\"b\")\n",
    "\n",
    "            plt.xlabel('Hours since birth')\n",
    "            plt.ylabel('PR')\n",
    "            plt.legend()\n",
    "            plt.tight_layout()\n",
    "            plt.show()\n",
    "        else:\n",
    "            messagebox.showinfo('WARNING!!!','Baby has not been to PHN! ==> NO EVOLUTION!')\n",
    "    "
   ]
  },
  {
   "cell_type": "code",
   "execution_count": null,
   "metadata": {},
   "outputs": [
    {
     "name": "stderr",
     "output_type": "stream",
     "text": [
      "/home/giorgio/.local/lib/python3.6/site-packages/numpy/core/fromnumeric.py:3257: RuntimeWarning: Mean of empty slice.\n",
      "  out=out, **kwargs)\n",
      "/home/giorgio/.local/lib/python3.6/site-packages/numpy/core/_methods.py:161: RuntimeWarning: invalid value encountered in double_scalars\n",
      "  ret = ret.dtype.type(ret / rcount)\n"
     ]
    }
   ],
   "source": [
    "window = Tk()\n",
    "window.title(\"Prakash project NHS\")\n",
    "window.geometry('750x600')\n",
    "lbl = Label(window,text='Insert the baby id (e.g. FMC001):',font=(\"Arial Bold\", 15))\n",
    "lbl.grid(column=0,row=0)\n",
    "txt = Entry(window,width=10)\n",
    "txt.grid(column=1,row=0)\n",
    "btn = Button(window,text='Baby Info',bg='blue',fg='white',command=clicked)\n",
    "btn.grid(column=2,row=0)\n",
    "btn_pr = Button(window,text='Plot PR',bg='red',fg='white',command=clicked_pr)\n",
    "btn_pr.grid(column=2,row=1)\n",
    "\n",
    "btn_spo2 = Button(window,text='Plot SpO2',bg='red',fg='white',command=clicked_spo2)\n",
    "btn_spo2.grid(column=2,row=2)\n",
    "\n",
    "btn_pi = Button(window,text='Plot PI',bg='red',fg='white',command=clicked_pi)\n",
    "btn_pi.grid(column=2,row=3)\n",
    "\n",
    "\n",
    "btn_2 = Button(window,text='Evolution PR',bg='green',fg='white',command=clicked_2)\n",
    "btn_2.grid(column=2,row=4)\n",
    "\n",
    "\n",
    "window.mainloop()"
   ]
  },
  {
   "cell_type": "code",
   "execution_count": 31,
   "metadata": {},
   "outputs": [],
   "source": []
  },
  {
   "cell_type": "code",
   "execution_count": 4,
   "metadata": {},
   "outputs": [],
   "source": []
  },
  {
   "cell_type": "code",
   "execution_count": null,
   "metadata": {},
   "outputs": [],
   "source": []
  },
  {
   "cell_type": "code",
   "execution_count": 46,
   "metadata": {},
   "outputs": [
    {
     "data": {
      "text/plain": [
       "454"
      ]
     },
     "execution_count": 46,
     "metadata": {},
     "output_type": "execute_result"
    }
   ],
   "source": [
    "2*len(np.where(b.measurements[0]['PR'].dropna() <120.)[0])"
   ]
  },
  {
   "cell_type": "code",
   "execution_count": null,
   "metadata": {},
   "outputs": [],
   "source": []
  }
 ],
 "metadata": {
  "kernelspec": {
   "display_name": "Python 3",
   "language": "python",
   "name": "python3"
  },
  "language_info": {
   "codemirror_mode": {
    "name": "ipython",
    "version": 3
   },
   "file_extension": ".py",
   "mimetype": "text/x-python",
   "name": "python",
   "nbconvert_exporter": "python",
   "pygments_lexer": "ipython3",
   "version": "3.6.9"
  }
 },
 "nbformat": 4,
 "nbformat_minor": 2
}
