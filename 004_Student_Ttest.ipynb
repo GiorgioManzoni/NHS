{
 "cells": [
  {
   "cell_type": "markdown",
   "metadata": {},
   "source": [
    "# Implementing Student T-test"
   ]
  },
  {
   "cell_type": "code",
   "execution_count": 43,
   "metadata": {},
   "outputs": [],
   "source": [
    "import matplotlib.pyplot as plt\n",
    "import numpy as np\n",
    "import scipy.stats as ss\n",
    "import numpy.random as r\n",
    "\n",
    "#bigger fonts\n",
    "import matplotlib\n",
    "matplotlib.rc('xtick', labelsize=15) \n",
    "matplotlib.rc('ytick', labelsize=15)\n",
    "matplotlib.rcParams.update({'font.size': 20})"
   ]
  },
  {
   "cell_type": "markdown",
   "metadata": {},
   "source": [
    "# Create data\n"
   ]
  },
  {
   "cell_type": "code",
   "execution_count": 44,
   "metadata": {},
   "outputs": [],
   "source": [
    "# seed the random number generator\n",
    "r.seed(1)\n",
    "# generate two independent samples\n",
    "data1 = 5 * r.randn(100) + 50\n",
    "data2 = 5 * r.randn(100) + 51"
   ]
  },
  {
   "cell_type": "code",
   "execution_count": 46,
   "metadata": {},
   "outputs": [],
   "source": [
    "#help(r.randn)"
   ]
  },
  {
   "cell_type": "markdown",
   "metadata": {},
   "source": [
    "# Visualize data"
   ]
  },
  {
   "cell_type": "code",
   "execution_count": 29,
   "metadata": {},
   "outputs": [
    {
     "data": {
      "image/png": "[encoded data removed]",
      "text/plain": [
       "<Figure size 720x576 with 1 Axes>"
      ]
     },
     "metadata": {},
     "output_type": "display_data"
    }
   ],
   "source": [
    "plt.figure(figsize=(10,8))\n",
    "plt.hist(data1,bins=20,histtype='step',lw=3,label='data1',color='C0')\n",
    "plt.axvline(np.mean(data1),color='C0',ls='dashed',lw=3,label='mean data1')\n",
    "plt.hist(data2,bins=20,histtype='step',lw=3,label='data2',color='C1')\n",
    "plt.axvline(np.mean(data2),color='C1',ls='dashed',lw=3,label='mean data2')\n",
    "plt.xlabel('data')\n",
    "plt.ylabel('counts')\n",
    "plt.legend()\n",
    "plt.show()"
   ]
  },
  {
   "cell_type": "markdown",
   "metadata": {},
   "source": [
    "# Using Scipy T-test"
   ]
  },
  {
   "cell_type": "code",
   "execution_count": 38,
   "metadata": {},
   "outputs": [
    {
     "name": "stdout",
     "output_type": "stream",
     "text": [
      "t=-2.262, p=0.025\n"
     ]
    }
   ],
   "source": [
    "# scipy T-test\n",
    "stat, p = ss.ttest_ind(data1, data2)\n",
    "print('t=%.3f, p=%.3f' % (stat, p))"
   ]
  },
  {
   "cell_type": "markdown",
   "metadata": {},
   "source": [
    "# Implementing manually the T-test"
   ]
  },
  {
   "cell_type": "code",
   "execution_count": 32,
   "metadata": {},
   "outputs": [],
   "source": [
    "# function for calculating the t-test for two independent samples\n",
    "def independent_ttest(data1, data2, alpha):\n",
    "    # calculate means\n",
    "    mean1, mean2 = np.mean(data1), np.mean(data2)\n",
    "    # calculate standard errors\n",
    "    se1, se2 = ss.sem(data1), ss.sem(data2)\n",
    "    # standard error on the difference between the samples\n",
    "    sed = np.sqrt(se1**2.0 + se2**2.0)\n",
    "    # calculate the t statistic\n",
    "    t_stat = (mean1 - mean2) / sed\n",
    "    # degrees of freedom\n",
    "    df = len(data1) + len(data2) - 2\n",
    "    # calculate the critical value\n",
    "    cv = ss.t.ppf(1.0 - alpha, df)\n",
    "    # calculate the p-value\n",
    "    p = (1.0 - ss.t.cdf(abs(t_stat), df)) * 2.0\n",
    "    # return everything\n",
    "    return t_stat, df, cv, p"
   ]
  },
  {
   "cell_type": "code",
   "execution_count": 41,
   "metadata": {},
   "outputs": [
    {
     "name": "stdout",
     "output_type": "stream",
     "text": [
      "t value =  -2.262\n",
      "degree of freedom =  198\n",
      " critical t value associated \n",
      " to an alpha pvalue of  0.05 :  1.653\n",
      "alpha =  0.05\n",
      "pvalue =  0.025\n"
     ]
    }
   ],
   "source": [
    "alpha = 0.05\n",
    "t_value, dof, critical_tvalue, p_value = independent_ttest(data1,data2,alpha)\n",
    "\n",
    "\n",
    "print('t value = ',round(t_value,3))\n",
    "print('degree of freedom = ',dof)\n",
    "print(' critical t value associated \\n to an alpha pvalue of ',alpha,': ',round(critical_tvalue,3))\n",
    "print('alpha = ',alpha)\n",
    "print('pvalue = ',round(p_value,3))"
   ]
  },
  {
   "cell_type": "markdown",
   "metadata": {},
   "source": [
    "Null hypothesis = the two sample are not statistically different\n",
    "\n",
    "\n",
    "Alternative hypothesis = the two samples are statistically different\n",
    "\n",
    "\n",
    "The alternative hypothesis is valid if the absolute value of the t_value is bigger than the critical t_value.\n",
    "The critical t_value is computed based on the critical p value (alpha) which is often set to 0.05 and based on the degree of freedom. To compute this you need the ppf (percent point function) which is the inverse of cumulative distribution function (cdf). Alternatively you can just look at the p_value and compare it with alpha: if p_value is smaller than alpha than the alternative hypothesis is valid.\n",
    "\n",
    "\n",
    "As a consequence the null hypotheis is valid if: p_value is greater than alpha or equivalently if the absolute value of t_value is smaller than the critical t-value."
   ]
  },
  {
   "cell_type": "code",
   "execution_count": null,
   "metadata": {},
   "outputs": [],
   "source": []
  }
 ],
 "metadata": {
  "kernelspec": {
   "display_name": "Python 3",
   "language": "python",
   "name": "python3"
  },
  "language_info": {
   "codemirror_mode": {
    "name": "ipython",
    "version": 3
   },
   "file_extension": ".py",
   "mimetype": "text/x-python",
   "name": "python",
   "nbconvert_exporter": "python",
   "pygments_lexer": "ipython3",
   "version": "3.6.9"
  }
 },
 "nbformat": 4,
 "nbformat_minor": 2
}
