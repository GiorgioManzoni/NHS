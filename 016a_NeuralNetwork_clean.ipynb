{
 "cells": [
  {
   "cell_type": "code",
   "execution_count": 21,
   "metadata": {},
   "outputs": [],
   "source": [
    "# usual packages\n",
    "import pandas as pd\n",
    "import matplotlib.pyplot as plt\n",
    "import numpy as np\n",
    "%matplotlib inline\n",
    "import h5py\n",
    "\n",
    "import sys\n",
    "#sys.modules.pop('CLASS_BABY')\n",
    "#sys.modules.pop('CLASS_SAMPLE')\n",
    "\n",
    "\n",
    "from CLASS_BABY import *\n",
    "from CLASS_SAMPLE import *\n",
    "\n",
    "import scipy.stats as ss\n",
    "\n",
    "#bigger fonts\n",
    "import matplotlib\n",
    "matplotlib.rc('xtick', labelsize=15) \n",
    "matplotlib.rc('ytick', labelsize=15)\n",
    "matplotlib.rcParams.update({'font.size': 20})\n",
    "\n",
    "# machine learning packages\n",
    "from sklearn.model_selection import train_test_split\n",
    "from sklearn.preprocessing import StandardScaler#,Imputer\n",
    "\n",
    "from keras.models import Sequential\n",
    "from keras.layers import Dense\n",
    "from keras.callbacks import EarlyStopping"
   ]
  },
  {
   "cell_type": "markdown",
   "metadata": {},
   "source": [
    "# NEURAL NETWORK"
   ]
  },
  {
   "cell_type": "code",
   "execution_count": 4,
   "metadata": {},
   "outputs": [
    {
     "data": {
      "text/plain": [
       "array(['BABY_IDS', 'GENDER', 'WEIGHT_GRAMS', 'GEST_AGE_DAYS', 'DELIVERY',\n",
       "       'BIRTH_DATE', 'FILE', 'DELTA_SEC_MEASURE', 'MED_SPO2', 'MED_PR',\n",
       "       'MED_PI', 'MEAN_SPO2', 'MEAN_PR', 'MEAN_PI', 'STD_SPO2', 'STD_PR',\n",
       "       'STD_PI', 'PHN', 'WRIST', 'FOOT', 'BRADY_SEC_PR', 'BRADY_RATIO_PR',\n",
       "       'BRADY_RATIO_PR_m10', 'BRADY_RATIO_PR_m20', 'BRADY_RATIO_PR_m30',\n",
       "       'BRADY_RATIO_PR_m40', 'BRADY_SEC_SPO2', 'BRADY_RATIO_SPO2',\n",
       "       'BRADY_SEC_PR_DYN', 'BRADY_RATIO_PR_DYN', 'BRADY_NUM_PER_HOUR_PR',\n",
       "       'BRADY_NUM_PER_HOUR_PR_m10', 'BRADY_NUM_PER_HOUR_PR_m20',\n",
       "       'BRADY_NUM_PER_HOUR_PR_m30', 'BRADY_NUM_PER_HOUR_PR_m40',\n",
       "       'BRADY_NUM_PER_HOUR_PR_dyn', 'BRADY_NUM_PER_HOUR_PR_anytime',\n",
       "       'BRADY_NUM_PER_HOUR_PR_m10_anytime',\n",
       "       'BRADY_NUM_PER_HOUR_PR_m20_anytime',\n",
       "       'BRADY_NUM_PER_HOUR_PR_m30_anytime',\n",
       "       'BRADY_NUM_PER_HOUR_PR_m40_anytime',\n",
       "       'BRADY_NUM_PER_HOUR_PR_dyn_anytime', 'BRADY_DURATION_MEDIAN_PR',\n",
       "       'BRADY_DURATION_MEDIAN_PR_m10', 'BRADY_DURATION_MEDIAN_PR_m20',\n",
       "       'BRADY_DURATION_MEDIAN_PR_m30', 'BRADY_DURATION_MEDIAN_PR_m40',\n",
       "       'BRADY_DURATION_MEDIAN_PR_dyn'], dtype=object)"
      ]
     },
     "execution_count": 4,
     "metadata": {},
     "output_type": "execute_result"
    }
   ],
   "source": [
    "## Read NHS data from table \"average_properties.txt\"\n",
    "T = pd.read_csv('../TOST_data/average_properties.txt',sep='\\t',index_col=0,na_values=-99)\n",
    "T.columns.values"
   ]
  },
  {
   "cell_type": "code",
   "execution_count": 9,
   "metadata": {},
   "outputs": [
    {
     "name": "stdout",
     "output_type": "stream",
     "text": [
      "['MED_PR', 'MEAN_PR', 'GEST_AGE_DAYS'] \n",
      "\n",
      "Number of features:  3\n"
     ]
    }
   ],
   "source": [
    "INPUT_COLUMNS = ['MED_PR',\n",
    "                 'MEAN_PR',\n",
    "                 'GEST_AGE_DAYS']\n",
    "print(INPUT_COLUMNS,\"\\n\")\n",
    "print('Number of features: ',len(INPUT_COLUMNS))"
   ]
  },
  {
   "cell_type": "code",
   "execution_count": 23,
   "metadata": {},
   "outputs": [],
   "source": [
    "INPUT = []\n",
    "for i in range(len(INPUT_COLUMNS)):\n",
    "    INPUT.append(np.array(T[INPUT_COLUMNS[i]]))\n",
    "INPUT = np.array(INPUT).T"
   ]
  },
  {
   "cell_type": "code",
   "execution_count": 11,
   "metadata": {},
   "outputs": [
    {
     "data": {
      "text/plain": [
       "(764, 3)"
      ]
     },
     "execution_count": 11,
     "metadata": {},
     "output_type": "execute_result"
    }
   ],
   "source": [
    "INPUT.shape"
   ]
  },
  {
   "cell_type": "code",
   "execution_count": 12,
   "metadata": {},
   "outputs": [],
   "source": [
    "#OUTPUT = np.array(T['BRADY_RATIO_PR'])\n",
    "OUTPUT = np.array(T['BRADY_NUM_PER_HOUR_PR'])"
   ]
  },
  {
   "cell_type": "code",
   "execution_count": 13,
   "metadata": {},
   "outputs": [
    {
     "data": {
      "text/plain": [
       "(764,)"
      ]
     },
     "execution_count": 13,
     "metadata": {},
     "output_type": "execute_result"
    }
   ],
   "source": [
    "OUTPUT.shape"
   ]
  },
  {
   "cell_type": "code",
   "execution_count": 14,
   "metadata": {},
   "outputs": [],
   "source": [
    "# NORMALISATION\n",
    "scaler = StandardScaler()\n",
    "scaler.fit(INPUT)\n",
    "INPUT_NORM = scaler.transform(INPUT)"
   ]
  },
  {
   "cell_type": "code",
   "execution_count": 15,
   "metadata": {},
   "outputs": [],
   "source": [
    "# SPLIT TRAIN AND TEST\n",
    "input_train,input_test, output_train, output_test = train_test_split(INPUT_NORM, OUTPUT, test_size=0.2)"
   ]
  },
  {
   "cell_type": "code",
   "execution_count": 17,
   "metadata": {},
   "outputs": [
    {
     "name": "stdout",
     "output_type": "stream",
     "text": [
      "training sample size:  611\n",
      "test sample size:  153\n",
      "train + test (total sample) =  764\n",
      "train / sample = 0.8\n",
      "test / sample = 0.2\n"
     ]
    }
   ],
   "source": [
    "print (\"training sample size: \",len(input_train))\n",
    "print (\"test sample size: \",len(input_test))\n",
    "print (\"train + test (total sample) = \", len(input_train)+len(input_test))\n",
    "print (\"train / sample =\", round(float(len(input_train))/float(len(INPUT_NORM)),1))\n",
    "print (\"test / sample =\", round(float(len(input_test))/float(len(INPUT_NORM)),1))"
   ]
  },
  {
   "cell_type": "code",
   "execution_count": 19,
   "metadata": {},
   "outputs": [],
   "source": [
    "# DEFINE MODEL ARCHITECTURE\n",
    "model = Sequential()\n",
    "model.add(Dense(12,input_dim=3,activation='relu'))\n",
    "model.add(Dense(8,activation='relu'))\n",
    "model.add(Dense(1,activation='linear'))"
   ]
  },
  {
   "cell_type": "code",
   "execution_count": 20,
   "metadata": {},
   "outputs": [],
   "source": [
    "# CREATE MODEL \n",
    "model.compile(loss='mean_absolute_error', \n",
    "              optimizer='adam',\n",
    "              metrics=['accuracy'] )"
   ]
  },
  {
   "cell_type": "code",
   "execution_count": 22,
   "metadata": {
    "scrolled": true
   },
   "outputs": [
    {
     "name": "stdout",
     "output_type": "stream",
     "text": [
      "Epoch 1/100\n",
      "611/611 [==============================] - 0s 642us/step - loss: 15.8356 - acc: 0.0065\n",
      "Epoch 2/100\n",
      "611/611 [==============================] - 0s 382us/step - loss: 12.5335 - acc: 0.0000e+00\n",
      "Epoch 3/100\n",
      "611/611 [==============================] - 0s 417us/step - loss: 10.5739 - acc: 0.0000e+00\n",
      "Epoch 4/100\n",
      "611/611 [==============================] - 0s 479us/step - loss: 9.8867 - acc: 0.0000e+00\n",
      "Epoch 5/100\n",
      "611/611 [==============================] - 0s 391us/step - loss: 9.5174 - acc: 0.0000e+00\n",
      "Epoch 6/100\n",
      "611/611 [==============================] - 0s 353us/step - loss: 9.2112 - acc: 0.0082\n",
      "Epoch 7/100\n",
      "611/611 [==============================] - 0s 442us/step - loss: 8.9674 - acc: 0.0295\n",
      "Epoch 8/100\n",
      "611/611 [==============================] - 0s 377us/step - loss: 8.8421 - acc: 0.0213\n",
      "Epoch 9/100\n",
      "611/611 [==============================] - 0s 353us/step - loss: 8.7241 - acc: 0.0278\n",
      "Epoch 10/100\n",
      "611/611 [==============================] - 0s 370us/step - loss: 8.6345 - acc: 0.0245\n",
      "Epoch 11/100\n",
      "611/611 [==============================] - 0s 462us/step - loss: 8.5605 - acc: 0.0245\n",
      "Epoch 12/100\n",
      "611/611 [==============================] - 1s 852us/step - loss: 8.4911 - acc: 0.0180\n",
      "Epoch 13/100\n",
      "611/611 [==============================] - 0s 506us/step - loss: 8.4223 - acc: 0.0245\n",
      "Epoch 14/100\n",
      "611/611 [==============================] - 0s 407us/step - loss: 8.3670 - acc: 0.0262\n",
      "Epoch 15/100\n",
      "611/611 [==============================] - 0s 482us/step - loss: 8.3142 - acc: 0.0229\n",
      "Epoch 16/100\n",
      "611/611 [==============================] - 0s 484us/step - loss: 8.2518 - acc: 0.0295\n",
      "Epoch 17/100\n",
      "611/611 [==============================] - 0s 496us/step - loss: 8.1917 - acc: 0.0278\n",
      "Epoch 18/100\n",
      "611/611 [==============================] - 0s 366us/step - loss: 8.1225 - acc: 0.0180\n",
      "Epoch 19/100\n",
      "611/611 [==============================] - 0s 513us/step - loss: 8.0625 - acc: 0.0295\n",
      "Epoch 20/100\n",
      "611/611 [==============================] - 0s 678us/step - loss: 7.9741 - acc: 0.0262\n",
      "Epoch 21/100\n",
      "611/611 [==============================] - 0s 702us/step - loss: 7.9076 - acc: 0.0262\n",
      "Epoch 22/100\n",
      "611/611 [==============================] - 0s 397us/step - loss: 7.8198 - acc: 0.0196\n",
      "Epoch 23/100\n",
      "611/611 [==============================] - 0s 395us/step - loss: 7.7493 - acc: 0.0245\n",
      "Epoch 24/100\n",
      "611/611 [==============================] - 0s 665us/step - loss: 7.6629 - acc: 0.0213\n",
      "Epoch 25/100\n",
      "611/611 [==============================] - 0s 458us/step - loss: 7.6081 - acc: 0.0262\n",
      "Epoch 26/100\n",
      "611/611 [==============================] - 0s 430us/step - loss: 7.5221 - acc: 0.0245\n",
      "Epoch 27/100\n",
      "611/611 [==============================] - 0s 699us/step - loss: 7.4484 - acc: 0.0295\n",
      "Epoch 28/100\n",
      "611/611 [==============================] - 0s 442us/step - loss: 7.3937 - acc: 0.0229\n",
      "Epoch 29/100\n",
      "611/611 [==============================] - 0s 348us/step - loss: 7.2986 - acc: 0.0311\n",
      "Epoch 30/100\n",
      "611/611 [==============================] - 0s 660us/step - loss: 7.2370 - acc: 0.0196\n",
      "Epoch 31/100\n",
      "611/611 [==============================] - 0s 381us/step - loss: 7.1807 - acc: 0.0327\n",
      "Epoch 32/100\n",
      "611/611 [==============================] - 0s 385us/step - loss: 7.0953 - acc: 0.0278\n",
      "Epoch 33/100\n",
      "611/611 [==============================] - 0s 359us/step - loss: 7.0210 - acc: 0.0278\n",
      "Epoch 34/100\n",
      "611/611 [==============================] - 0s 469us/step - loss: 6.9984 - acc: 0.0262\n",
      "Epoch 35/100\n",
      "611/611 [==============================] - 0s 497us/step - loss: 6.9656 - acc: 0.0409\n",
      "Epoch 36/100\n",
      "611/611 [==============================] - 0s 609us/step - loss: 6.8908 - acc: 0.0327\n",
      "Epoch 37/100\n",
      "611/611 [==============================] - 0s 662us/step - loss: 6.8569 - acc: 0.0426\n",
      "Epoch 38/100\n",
      "611/611 [==============================] - 0s 598us/step - loss: 6.8048 - acc: 0.0409\n",
      "Epoch 39/100\n",
      "611/611 [==============================] - 0s 698us/step - loss: 6.7741 - acc: 0.0475\n",
      "Epoch 40/100\n",
      "611/611 [==============================] - 0s 701us/step - loss: 6.7338 - acc: 0.0344\n",
      "Epoch 41/100\n",
      "611/611 [==============================] - 0s 653us/step - loss: 6.7085 - acc: 0.0311\n",
      "Epoch 42/100\n",
      "611/611 [==============================] - 0s 608us/step - loss: 6.6862 - acc: 0.0295\n",
      "Epoch 43/100\n",
      "611/611 [==============================] - 0s 624us/step - loss: 6.6641 - acc: 0.0458\n",
      "Epoch 44/100\n",
      "611/611 [==============================] - 0s 667us/step - loss: 6.6354 - acc: 0.0376\n",
      "Epoch 45/100\n",
      "611/611 [==============================] - 0s 685us/step - loss: 6.6266 - acc: 0.0393\n",
      "Epoch 46/100\n",
      "611/611 [==============================] - 0s 486us/step - loss: 6.6225 - acc: 0.0409\n",
      "Epoch 47/100\n",
      "611/611 [==============================] - 0s 411us/step - loss: 6.5972 - acc: 0.0344\n",
      "Epoch 48/100\n",
      "611/611 [==============================] - 0s 442us/step - loss: 6.5429 - acc: 0.0344\n",
      "Epoch 49/100\n",
      "611/611 [==============================] - 0s 405us/step - loss: 6.5764 - acc: 0.0393\n",
      "Epoch 50/100\n",
      "611/611 [==============================] - 0s 346us/step - loss: 6.5658 - acc: 0.0507\n",
      "Epoch 51/100\n",
      "611/611 [==============================] - 0s 465us/step - loss: 6.5599 - acc: 0.0442\n",
      "Epoch 52/100\n",
      "611/611 [==============================] - 0s 434us/step - loss: 6.5278 - acc: 0.0311\n",
      "Epoch 53/100\n",
      "611/611 [==============================] - 0s 421us/step - loss: 6.5600 - acc: 0.0360\n",
      "Epoch 54/100\n",
      "611/611 [==============================] - 0s 486us/step - loss: 6.5218 - acc: 0.0507\n",
      "Epoch 55/100\n",
      "611/611 [==============================] - 0s 469us/step - loss: 6.5449 - acc: 0.0229\n",
      "Epoch 56/100\n",
      "611/611 [==============================] - 0s 393us/step - loss: 6.5357 - acc: 0.0262\n",
      "Epoch 57/100\n",
      "611/611 [==============================] - 0s 360us/step - loss: 6.4942 - acc: 0.0344\n",
      "Epoch 58/100\n",
      "611/611 [==============================] - 0s 492us/step - loss: 6.5144 - acc: 0.0344\n",
      "Epoch 59/100\n",
      "611/611 [==============================] - 0s 413us/step - loss: 6.5085 - acc: 0.0393\n",
      "Epoch 60/100\n",
      "611/611 [==============================] - 0s 404us/step - loss: 6.4825 - acc: 0.0262\n",
      "Epoch 61/100\n",
      "611/611 [==============================] - 0s 353us/step - loss: 6.5190 - acc: 0.0295\n",
      "Epoch 62/100\n",
      "611/611 [==============================] - 0s 408us/step - loss: 6.4951 - acc: 0.0393\n",
      "Epoch 63/100\n",
      "611/611 [==============================] - 0s 347us/step - loss: 6.4930 - acc: 0.0327\n",
      "Epoch 64/100\n",
      "611/611 [==============================] - 0s 413us/step - loss: 6.4839 - acc: 0.0376\n",
      "Epoch 65/100\n",
      "611/611 [==============================] - 0s 404us/step - loss: 6.5052 - acc: 0.0278\n",
      "Epoch 66/100\n",
      "611/611 [==============================] - 0s 377us/step - loss: 6.4770 - acc: 0.0426\n",
      "Epoch 67/100\n",
      "611/611 [==============================] - 0s 368us/step - loss: 6.4530 - acc: 0.0278\n",
      "Epoch 68/100\n",
      "611/611 [==============================] - 0s 431us/step - loss: 6.4852 - acc: 0.0245\n",
      "Epoch 69/100\n",
      "611/611 [==============================] - 0s 471us/step - loss: 6.4954 - acc: 0.0311\n",
      "Epoch 70/100\n",
      "611/611 [==============================] - 0s 515us/step - loss: 6.4669 - acc: 0.0278\n",
      "Epoch 71/100\n",
      "611/611 [==============================] - 0s 464us/step - loss: 6.4713 - acc: 0.0262\n",
      "Epoch 72/100\n",
      "611/611 [==============================] - 0s 433us/step - loss: 6.4610 - acc: 0.0409\n",
      "Epoch 73/100\n",
      "611/611 [==============================] - 0s 413us/step - loss: 6.4416 - acc: 0.0442\n",
      "Epoch 74/100\n",
      "611/611 [==============================] - 0s 482us/step - loss: 6.4664 - acc: 0.0409\n",
      "Epoch 75/100\n",
      "611/611 [==============================] - 0s 406us/step - loss: 6.4478 - acc: 0.0507\n",
      "Epoch 76/100\n",
      "611/611 [==============================] - 0s 361us/step - loss: 6.4564 - acc: 0.0295\n",
      "Epoch 77/100\n",
      "611/611 [==============================] - 0s 434us/step - loss: 6.4574 - acc: 0.0376\n",
      "Epoch 78/100\n",
      "611/611 [==============================] - 0s 402us/step - loss: 6.4568 - acc: 0.0229\n",
      "Epoch 79/100\n",
      "611/611 [==============================] - 0s 430us/step - loss: 6.4480 - acc: 0.0442\n",
      "Epoch 80/100\n",
      "611/611 [==============================] - 0s 490us/step - loss: 6.4401 - acc: 0.0442\n",
      "Epoch 81/100\n",
      "611/611 [==============================] - 0s 361us/step - loss: 6.4487 - acc: 0.0393\n",
      "Epoch 82/100\n",
      "611/611 [==============================] - 0s 378us/step - loss: 6.4547 - acc: 0.0344\n",
      "Epoch 83/100\n",
      "611/611 [==============================] - 0s 407us/step - loss: 6.4544 - acc: 0.0327\n",
      "Epoch 84/100\n",
      "611/611 [==============================] - 0s 324us/step - loss: 6.4428 - acc: 0.0295\n",
      "Epoch 85/100\n",
      "611/611 [==============================] - 0s 318us/step - loss: 6.4355 - acc: 0.0278\n",
      "Epoch 86/100\n",
      "611/611 [==============================] - 0s 323us/step - loss: 6.4535 - acc: 0.0426\n",
      "Epoch 87/100\n",
      "611/611 [==============================] - 0s 364us/step - loss: 6.4479 - acc: 0.0295\n",
      "Epoch 88/100\n",
      "611/611 [==============================] - 0s 391us/step - loss: 6.4366 - acc: 0.0311\n",
      "Epoch 89/100\n",
      "611/611 [==============================] - 0s 325us/step - loss: 6.4248 - acc: 0.0426\n",
      "Epoch 90/100\n",
      "611/611 [==============================] - 0s 352us/step - loss: 6.4210 - acc: 0.0426\n",
      "Epoch 91/100\n",
      "611/611 [==============================] - 0s 392us/step - loss: 6.4134 - acc: 0.0295\n",
      "Epoch 92/100\n",
      "611/611 [==============================] - 0s 368us/step - loss: 6.4313 - acc: 0.0278\n",
      "Epoch 93/100\n",
      "611/611 [==============================] - 0s 368us/step - loss: 6.4095 - acc: 0.0360\n",
      "Epoch 94/100\n",
      "611/611 [==============================] - 0s 327us/step - loss: 6.4391 - acc: 0.0393\n",
      "Epoch 95/100\n",
      "611/611 [==============================] - 0s 383us/step - loss: 6.4271 - acc: 0.0491\n",
      "Epoch 96/100\n",
      "611/611 [==============================] - 0s 553us/step - loss: 6.4229 - acc: 0.0360\n",
      "Epoch 97/100\n",
      "611/611 [==============================] - 0s 417us/step - loss: 6.4169 - acc: 0.0262\n",
      "Epoch 98/100\n",
      "611/611 [==============================] - 0s 402us/step - loss: 6.4388 - acc: 0.0344\n",
      "Epoch 99/100\n",
      "611/611 [==============================] - 0s 327us/step - loss: 6.4197 - acc: 0.0393\n",
      "Epoch 100/100\n",
      "611/611 [==============================] - 0s 400us/step - loss: 6.4303 - acc: 0.0376\n"
     ]
    }
   ],
   "source": [
    "# TRAIN THE MODEL\n",
    "\n",
    "# stop training if after 10 iterations \n",
    "# the results has not improved\n",
    "early_stopping = EarlyStopping(monitor='loss',\n",
    "                               patience=10)\n",
    "\n",
    "hist = model.fit(input_train,\n",
    "                 output_train,\n",
    "                 epochs=100,\n",
    "                 shuffle=True,\n",
    "                 batch_size=3,\n",
    "                 callbacks=[early_stopping])"
   ]
  },
  {
   "cell_type": "code",
   "execution_count": 25,
   "metadata": {},
   "outputs": [
    {
     "data": {
      "image/png": "[encoded data removed]",
      "text/plain": [
       "<Figure size 432x288 with 1 Axes>"
      ]
     },
     "metadata": {},
     "output_type": "display_data"
    }
   ],
   "source": [
    "plt.plot(hist.history['loss'])\n",
    "plt.title('Model loss')\n",
    "plt.ylabel('Loss')\n",
    "plt.xlabel('Epoch')\n",
    "plt.legend(['Train', 'Val'], loc='upper right')\n",
    "plt.show()"
   ]
  },
  {
   "cell_type": "code",
   "execution_count": 27,
   "metadata": {},
   "outputs": [
    {
     "name": "stdout",
     "output_type": "stream",
     "text": [
      "153/153 [==============================] - 0s 310us/step\n"
     ]
    },
    {
     "data": {
      "text/plain": [
       "0.045751633694748474"
      ]
     },
     "execution_count": 27,
     "metadata": {},
     "output_type": "execute_result"
    }
   ],
   "source": [
    "model.evaluate(input_test,output_test)[1]"
   ]
  },
  {
   "cell_type": "code",
   "execution_count": null,
   "metadata": {},
   "outputs": [],
   "source": []
  }
 ],
 "metadata": {
  "kernelspec": {
   "display_name": "Python 3",
   "language": "python",
   "name": "python3"
  },
  "language_info": {
   "codemirror_mode": {
    "name": "ipython",
    "version": 3
   },
   "file_extension": ".py",
   "mimetype": "text/x-python",
   "name": "python",
   "nbconvert_exporter": "python",
   "pygments_lexer": "ipython3",
   "version": "3.6.9"
  }
 },
 "nbformat": 4,
 "nbformat_minor": 2
}
